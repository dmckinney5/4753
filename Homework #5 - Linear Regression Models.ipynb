{
 "cells": [
  {
   "cell_type": "markdown",
   "metadata": {},
   "source": [
    "# Hmwk #5 - Regression Analysis"
   ]
  },
  {
   "cell_type": "markdown",
   "metadata": {},
   "source": [
    "## Problem #1 - Trees"
   ]
  },
  {
   "cell_type": "markdown",
   "metadata": {},
   "source": [
    "Foresters want to measure the volume of a tree in order to estimate how much lumber they would get for that tree. Knowing the girth and height of the tree, one could apply a cylinder approximation, but the tree does not have a uniform girth along its entire length -- the tree gets much smaller at the top. The UsingR library has a data set \"trees\", that contains a set of measurements of the girth and height of a tree. Use the library to assess a linear model. For example, you might try:"
   ]
  },
  {
   "cell_type": "code",
   "execution_count": 108,
   "metadata": {
    "collapsed": false
   },
   "outputs": [
    {
     "data": {
      "text/plain": [
       "     Girth           Height       Volume     \n",
       " Min.   : 8.30   Min.   :63   Min.   :10.20  \n",
       " 1st Qu.:11.05   1st Qu.:72   1st Qu.:19.40  \n",
       " Median :12.90   Median :76   Median :24.20  \n",
       " Mean   :13.25   Mean   :76   Mean   :30.17  \n",
       " 3rd Qu.:15.25   3rd Qu.:80   3rd Qu.:37.30  \n",
       " Max.   :20.60   Max.   :87   Max.   :77.00  "
      ]
     },
     "execution_count": 108,
     "metadata": {},
     "output_type": "execute_result"
    }
   ],
   "source": [
    "library(UsingR)\n",
    "\n",
    "summary(trees)"
   ]
  },
  {
   "cell_type": "markdown",
   "metadata": {},
   "source": [
    "** If we look at the regression model **"
   ]
  },
  {
   "cell_type": "code",
   "execution_count": 109,
   "metadata": {
    "collapsed": false
   },
   "outputs": [
    {
     "data": {
      "text/plain": [
       "\n",
       "Call:\n",
       "lm(formula = Volume ~ Height + Girth, data = trees)\n",
       "\n",
       "Residuals:\n",
       "    Min      1Q  Median      3Q     Max \n",
       "-6.4065 -2.6493 -0.2876  2.2003  8.4847 \n",
       "\n",
       "Coefficients:\n",
       "            Estimate Std. Error t value Pr(>|t|)    \n",
       "(Intercept) -57.9877     8.6382  -6.713 2.75e-07 ***\n",
       "Height        0.3393     0.1302   2.607   0.0145 *  \n",
       "Girth         4.7082     0.2643  17.816  < 2e-16 ***\n",
       "---\n",
       "Signif. codes:  0 ‘***’ 0.001 ‘**’ 0.01 ‘*’ 0.05 ‘.’ 0.1 ‘ ’ 1\n",
       "\n",
       "Residual standard error: 3.882 on 28 degrees of freedom\n",
       "Multiple R-squared:  0.948,\tAdjusted R-squared:  0.9442 \n",
       "F-statistic:   255 on 2 and 28 DF,  p-value: < 2.2e-16\n"
      ]
     },
     "execution_count": 109,
     "metadata": {},
     "output_type": "execute_result"
    }
   ],
   "source": [
    "m = lm(Volume ~ Height + Girth, data=trees)\n",
    "summary(m)"
   ]
  },
  {
   "cell_type": "markdown",
   "metadata": {},
   "source": [
    "This provides a model, but doesn't say if it's any good. Do the following using R -- i.e. use the output of the 'lm' linear model where possible. Show your work."
   ]
  },
  {
   "cell_type": "markdown",
   "metadata": {},
   "source": [
    "### What is the R^2 for this model"
   ]
  },
  {
   "cell_type": "code",
   "execution_count": 110,
   "metadata": {
    "collapsed": false
   },
   "outputs": [
    {
     "data": {
      "text/html": [
       "0.947950037781675"
      ],
      "text/latex": [
       "0.947950037781675"
      ],
      "text/markdown": [
       "0.947950037781675"
      ],
      "text/plain": [
       "[1] 0.94795"
      ]
     },
     "execution_count": 110,
     "metadata": {},
     "output_type": "execute_result"
    }
   ],
   "source": [
    "#Coefficient of determination\n",
    "volume = trees$Volume\n",
    "sse = sum((predict(m)- volume)^2)\n",
    "sst = sum((volume-mean(volume))^2)\n",
    "Ssr = sst - sse\n",
    "Ssr/sst\n",
    "#this will output our r^2"
   ]
  },
  {
   "cell_type": "markdown",
   "metadata": {},
   "source": [
    "### Compute the 95% confidence interval for the Height parameter \n",
    "(**nb:** you're being asked to calculate the CI of the parameter from the multi-linear model, not the CI of the Height data itself). To do this, you would use the standard error (shown in the summary of the linear model -- e.g. 0.1302 for parameter Height) for each parameter -- this is the standard error for that parameter derived from the MSE as described in the slides concerning multi-linear regression. You would then conduct the T-distribution using that standard error with n-k-1 degrees of freedom. See the slides on linear regression."
   ]
  },
  {
   "cell_type": "code",
   "execution_count": 111,
   "metadata": {
    "collapsed": false
   },
   "outputs": [
    {
     "data": {
      "text/html": [
       "<ol class=list-inline>\n",
       "\t<li>0.0725973901382591</li>\n",
       "\t<li>0.606002609861741</li>\n",
       "</ol>\n"
      ],
      "text/latex": [
       "\\begin{enumerate*}\n",
       "\\item 0.0725973901382591\n",
       "\\item 0.606002609861741\n",
       "\\end{enumerate*}\n"
      ],
      "text/markdown": [
       "1. 0.0725973901382591\n",
       "2. 0.606002609861741\n",
       "\n",
       "\n"
      ],
      "text/plain": [
       "[1] 0.07259739 0.60600261"
      ]
     },
     "execution_count": 111,
     "metadata": {},
     "output_type": "execute_result"
    },
    {
     "data": {
      "text/html": [
       "<table>\n",
       "<thead><tr><th></th><th scope=col>2.5 %</th><th scope=col>97.5 %</th></tr></thead>\n",
       "<tbody>\n",
       "\t<tr><th scope=row>Height</th><td>0.07264863</td><td>0.60585384</td></tr>\n",
       "</tbody>\n",
       "</table>\n"
      ],
      "text/latex": [
       "\\begin{tabular}{r|ll}\n",
       "  & 2.5 % & 97.5 %\\\\\n",
       "\\hline\n",
       "\tHeight & 0.07264863 & 0.60585384\\\\\n",
       "\\end{tabular}\n"
      ],
      "text/markdown": [
       "1. 0.0726486261853793\n",
       "2. 0.605853842304022\n",
       "\n",
       "\n"
      ],
      "text/plain": [
       "            2.5 %    97.5 %\n",
       "Height 0.07264863 0.6058538"
      ]
     },
     "execution_count": 111,
     "metadata": {},
     "output_type": "execute_result"
    }
   ],
   "source": [
    "se = .1302\n",
    "height = 0.3393 \n",
    "critVal = qt(1-.05/2, df=28)\n",
    "c(height - critVal*se, height + critVal*se)\n",
    "confint(m,\"Height\")"
   ]
  },
  {
   "cell_type": "markdown",
   "metadata": {},
   "source": [
    "### Compute the 95% confidence interval for the Girth parameter \n",
    "(**nb:** as above). Verify your value using the **confint** function in R."
   ]
  },
  {
   "cell_type": "code",
   "execution_count": 112,
   "metadata": {
    "collapsed": false
   },
   "outputs": [
    {
     "data": {
      "text/html": [
       "<ol class=list-inline>\n",
       "\t<li>4.16680599242352</li>\n",
       "\t<li>5.24959400757648</li>\n",
       "</ol>\n"
      ],
      "text/latex": [
       "\\begin{enumerate*}\n",
       "\\item 4.16680599242352\n",
       "\\item 5.24959400757648\n",
       "\\end{enumerate*}\n"
      ],
      "text/markdown": [
       "1. 4.16680599242352\n",
       "2. 5.24959400757648\n",
       "\n",
       "\n"
      ],
      "text/plain": [
       "[1] 4.166806 5.249594"
      ]
     },
     "execution_count": 112,
     "metadata": {},
     "output_type": "execute_result"
    },
    {
     "data": {
      "text/html": [
       "<table>\n",
       "<thead><tr><th></th><th scope=col>2.5 %</th><th scope=col>97.5 %</th></tr></thead>\n",
       "<tbody>\n",
       "\t<tr><th scope=row>Girth</th><td>4.166839</td><td>5.249482</td></tr>\n",
       "</tbody>\n",
       "</table>\n"
      ],
      "text/latex": [
       "\\begin{tabular}{r|ll}\n",
       "  & 2.5 % & 97.5 %\\\\\n",
       "\\hline\n",
       "\tGirth & 4.166839 & 5.249482\\\\\n",
       "\\end{tabular}\n"
      ],
      "text/markdown": [
       "1. 4.16683898975583\n",
       "2. 5.24948201627919\n",
       "\n",
       "\n"
      ],
      "text/plain": [
       "         2.5 %   97.5 %\n",
       "Girth 4.166839 5.249482"
      ]
     },
     "execution_count": 112,
     "metadata": {},
     "output_type": "execute_result"
    }
   ],
   "source": [
    "se = 0.2643 \n",
    "height = 4.7082 \n",
    "critVal = qt(1-.05/2, df=28)\n",
    "c(height - critVal*se, height + critVal*se)\n",
    "confint(m,\"Girth\")\n",
    "#both of these intervals are close to the point that I believe the slight\n",
    "#variation is due to the std error values being rounded in the summary\n",
    "#that I took them from."
   ]
  },
  {
   "cell_type": "markdown",
   "metadata": {},
   "source": [
    "### Does the Height parameter statistically equal zero? Does the Girth?"
   ]
  },
  {
   "cell_type": "code",
   "execution_count": 113,
   "metadata": {
    "collapsed": false
   },
   "outputs": [
    {
     "data": {
      "text/html": [
       "0.0072386052252027"
      ],
      "text/latex": [
       "0.0072386052252027"
      ],
      "text/markdown": [
       "0.0072386052252027"
      ],
      "text/plain": [
       "[1] 0.007238605"
      ]
     },
     "execution_count": 113,
     "metadata": {},
     "output_type": "execute_result"
    },
    {
     "data": {
      "text/html": [
       "0"
      ],
      "text/latex": [
       "0"
      ],
      "text/markdown": [
       "0"
      ],
      "text/plain": [
       "[1] 0"
      ]
     },
     "execution_count": 113,
     "metadata": {},
     "output_type": "execute_result"
    }
   ],
   "source": [
    "#We have our T-values for height and girth in the above summary. we can use those to generate p-values\n",
    "#p-values tell us if our parameters are statistically equal to 0. low p-values indicate that they are not\n",
    "# More accurately, low p values tell us we can throw out our null hypothesis. default null is always\n",
    "#that the parameter is statistically equal to 0\n",
    "#p = 1 - cdf \n",
    "1- pt(2.607,28)\n",
    "1- pt(17.816,28)\n",
    "#these P values are low enough to rule out the parameters statistically being equal to 0"
   ]
  },
  {
   "cell_type": "markdown",
   "metadata": {},
   "source": [
    "### Complete this sentence:\n",
    "\"For every unit increase in Girth, the Volume increases by ______ and for every unit increase in Height, the Volume increases by ______\""
   ]
  },
  {
   "cell_type": "code",
   "execution_count": 114,
   "metadata": {
    "collapsed": true
   },
   "outputs": [],
   "source": [
    "#\"For every unit increase in Girth, the Volume increases by 4.7082 unit \n",
    "#and for every unit increase in Height, the Volume increases by 0.3393 unit\""
   ]
  },
  {
   "cell_type": "markdown",
   "metadata": {},
   "source": [
    "## Problem #2 - Body Fat"
   ]
  },
  {
   "cell_type": "code",
   "execution_count": 115,
   "metadata": {
    "collapsed": false
   },
   "outputs": [],
   "source": [
    "data(fat)"
   ]
  },
  {
   "cell_type": "markdown",
   "metadata": {},
   "source": [
    "The Body Mass Index (BMI) is a model to predict the percentage of body fat based on your weight and height. The VMI is defined as the ratio of weight (in kilograms) to the square of height (in metres). A BMI of 18.5 to 25 is considered \"healthy\", a BMI of 25 to 30 is \"overweight\" and a BMI over 30 is \"obese\". The dataset 'fat' from UsingR contains 19 factors. The true body fat is body.fat and BMI field is the BMI.\n",
    "\n"
   ]
  },
  {
   "cell_type": "markdown",
   "metadata": {},
   "source": [
    "### Using the 'fat' data set, build a linear model\n",
    "of the body.fat predicted by BMI.\n",
    "Describe the linear model -- what are the intercept and slope.\n",
    "What is the $r^2$ of that model?\n"
   ]
  },
  {
   "cell_type": "code",
   "execution_count": 117,
   "metadata": {
    "collapsed": false
   },
   "outputs": [
    {
     "data": {
      "text/plain": [
       "\n",
       "Call:\n",
       "lm(formula = body.fat ~ BMI, data = fat)\n",
       "\n",
       "Residuals:\n",
       "     Min       1Q   Median       3Q      Max \n",
       "-21.4292  -3.4478   0.2113   3.8663  11.7826 \n",
       "\n",
       "Coefficients:\n",
       "             Estimate Std. Error t value Pr(>|t|)    \n",
       "(Intercept) -20.40508    2.36723   -8.62 7.78e-16 ***\n",
       "BMI           1.54671    0.09212   16.79  < 2e-16 ***\n",
       "---\n",
       "Signif. codes:  0 ‘***’ 0.001 ‘**’ 0.01 ‘*’ 0.05 ‘.’ 0.1 ‘ ’ 1\n",
       "\n",
       "Residual standard error: 5.324 on 250 degrees of freedom\n",
       "Multiple R-squared:   0.53,\tAdjusted R-squared:  0.5281 \n",
       "F-statistic: 281.9 on 1 and 250 DF,  p-value: < 2.2e-16\n"
      ]
     },
     "execution_count": 117,
     "metadata": {},
     "output_type": "execute_result"
    }
   ],
   "source": [
    "fatLM = lm(body.fat ~ BMI, data = fat)\n",
    "summary(fatLM)\n",
    "#the intercept is about -20, and the slope is about 1.54. The r-squared is .53. This is not a very high r-squared\n",
    "#which indicates that BMI is probably not the best predictor of body fat , perhaps not surprisingly,\n",
    "#as it is BMI is a farly simplistic formula, which at one point told \n",
    "#Dwayne \"The Rock\" Johnson that he was obese"
   ]
  },
  {
   "cell_type": "markdown",
   "metadata": {},
   "source": [
    "### Come up with a minimal model that predicts body.fat using the other factors with an R2 of at least 0.72\n",
    "We will use these different factors to come up with a minimal model that predicts body.fat using the other factors with an R2 of at least 0.72. Each factor in the final model should be significant at the 95% level -- this means that the confidence interval of the parameter at the 95% confidence level should not include zero. \n",
    "\n",
    "Include your description showing both your final result and the process by which you achieve that result. Your model shouldn't use the \"density\" or \"body.fat.siri\" factors, as those are the \"gold standard\" measurements used to calculate body fat (using a dunk tank). I'm not certain what \"ffweight\" is, but don't use that either.\n",
    "\n",
    "You may want to understand the \"p-value\" for problem - basically, the p-value is the probability of observing a value at least as large as the \"t-value\" (which is the estimate / std. error). Effectively, this is providing a way to determine if that value is statistically equal to zero.\n",
    "\n",
    "You should describe the process you use, not just the end result. You should also insure that the linear model is valid, meaning that the predictors are not correlated, etc. Wikipedia has a good article on such \"stepwise refinement\" mechanisms [ http://en.wikipedia.org/wiki/Stepwise_regression ]. See also the discussion on page 125 of the book by Faraway on Practical Regression Analysis using R (on the couse web page or http://cran.r-project.org/doc/contrib/Faraway-PRA.pdf). They describe a \"backward\" and \"forward\" mechanism where you either start with all terms & toss some away or start adding terms to a null model."
   ]
  },
  {
   "cell_type": "code",
   "execution_count": 118,
   "metadata": {
    "collapsed": false
   },
   "outputs": [
    {
     "data": {
      "text/plain": [
       "\n",
       "Call:\n",
       "lm(formula = body.fat ~ height + abdomen + hip, data = fat)\n",
       "\n",
       "Residuals:\n",
       "     Min       1Q   Median       3Q      Max \n",
       "-12.2921  -3.0503  -0.1652   2.8428  10.4638 \n",
       "\n",
       "Coefficients:\n",
       "            Estimate Std. Error t value Pr(>|t|)    \n",
       "(Intercept) -0.82094    6.00588  -0.137  0.89139    \n",
       "height      -0.28053    0.07405  -3.788  0.00019 ***\n",
       "abdomen      0.78791    0.05102  15.442  < 2e-16 ***\n",
       "hip         -0.33519    0.07764  -4.318 2.28e-05 ***\n",
       "---\n",
       "Signif. codes:  0 ‘***’ 0.001 ‘**’ 0.01 ‘*’ 0.05 ‘.’ 0.1 ‘ ’ 1\n",
       "\n",
       "Residual standard error: 4.2 on 248 degrees of freedom\n",
       "Multiple R-squared:  0.7099,\tAdjusted R-squared:  0.7064 \n",
       "F-statistic: 202.3 on 3 and 248 DF,  p-value: < 2.2e-16\n"
      ]
     },
     "execution_count": 118,
     "metadata": {},
     "output_type": "execute_result"
    },
    {
     "data": {
      "text/plain": [
       "\n",
       "Call:\n",
       "lm(formula = body.fat ~ height + abdomen + hip + wrist, data = fat)\n",
       "\n",
       "Residuals:\n",
       "     Min       1Q   Median       3Q      Max \n",
       "-12.8854  -2.6881  -0.3888   3.1326   9.4414 \n",
       "\n",
       "Coefficients:\n",
       "            Estimate Std. Error t value Pr(>|t|)    \n",
       "(Intercept) 10.16512    6.48719   1.567 0.118406    \n",
       "height      -0.18851    0.07580  -2.487 0.013548 *  \n",
       "abdomen      0.83358    0.05099  16.347  < 2e-16 ***\n",
       "hip         -0.28157    0.07676  -3.668 0.000299 ***\n",
       "wrist       -1.48249    0.38075  -3.894 0.000127 ***\n",
       "---\n",
       "Signif. codes:  0 ‘***’ 0.001 ‘**’ 0.01 ‘*’ 0.05 ‘.’ 0.1 ‘ ’ 1\n",
       "\n",
       "Residual standard error: 4.085 on 247 degrees of freedom\n",
       "Multiple R-squared:  0.7267,\tAdjusted R-squared:  0.7223 \n",
       "F-statistic: 164.2 on 4 and 247 DF,  p-value: < 2.2e-16\n"
      ]
     },
     "execution_count": 118,
     "metadata": {},
     "output_type": "execute_result"
    }
   ],
   "source": [
    "#I actually have some experience with fitness, and have calculated my own body fat multiple times.\n",
    "#Because of this, I have some preconceived notions about which of these measurements will be useful.\n",
    "#My go to when I measured myself was height, abdomen, and hip. SO I will start there\n",
    "betterFat = lm(body.fat ~ height + abdomen + hip, data = fat)\n",
    "summary(betterFat)\n",
    "#so betterFat was in fact, better. Not quite there yet though. I am going to also throw wrist in.\n",
    "#I have seen wrist used, but always thought it was kind of a dumb indicator. \n",
    "#That said, the person I lifted with who was a fan of the wrist measurement is now a personal trainer.\n",
    "#So that is what I am going to tack on next\n",
    "bestFat = lm(body.fat ~ height + abdomen + hip + wrist, data = fat)\n",
    "summary(bestFat)"
   ]
  },
  {
   "cell_type": "code",
   "execution_count": 119,
   "metadata": {
    "collapsed": false
   },
   "outputs": [
    {
     "data": {
      "text/html": [
       "<table>\n",
       "<thead><tr><th></th><th scope=col>2.5 %</th><th scope=col>97.5 %</th></tr></thead>\n",
       "<tbody>\n",
       "\t<tr><th scope=row>height</th><td>-0.3378178</td><td>-0.0392107</td></tr>\n",
       "</tbody>\n",
       "</table>\n"
      ],
      "text/latex": [
       "\\begin{tabular}{r|ll}\n",
       "  & 2.5 % & 97.5 %\\\\\n",
       "\\hline\n",
       "\theight & -0.3378178 & -0.0392107\\\\\n",
       "\\end{tabular}\n"
      ],
      "text/markdown": [
       "1. -0.337817793824751\n",
       "2. -0.0392107008318453\n",
       "\n",
       "\n"
      ],
      "text/plain": [
       "            2.5 %     97.5 %\n",
       "height -0.3378178 -0.0392107"
      ]
     },
     "execution_count": 119,
     "metadata": {},
     "output_type": "execute_result"
    },
    {
     "data": {
      "text/html": [
       "<table>\n",
       "<thead><tr><th></th><th scope=col>2.5 %</th><th scope=col>97.5 %</th></tr></thead>\n",
       "<tbody>\n",
       "\t<tr><th scope=row>wrist</th><td>-2.2324293</td><td>-0.7325588</td></tr>\n",
       "</tbody>\n",
       "</table>\n"
      ],
      "text/latex": [
       "\\begin{tabular}{r|ll}\n",
       "  & 2.5 % & 97.5 %\\\\\n",
       "\\hline\n",
       "\twrist & -2.2324293 & -0.7325588\\\\\n",
       "\\end{tabular}\n"
      ],
      "text/markdown": [
       "1. -2.23242934061017\n",
       "2. -0.732558780225648\n",
       "\n",
       "\n"
      ],
      "text/plain": [
       "          2.5 %     97.5 %\n",
       "wrist -2.232429 -0.7325588"
      ]
     },
     "execution_count": 119,
     "metadata": {},
     "output_type": "execute_result"
    },
    {
     "data": {
      "text/html": [
       "<table>\n",
       "<thead><tr><th></th><th scope=col>2.5 %</th><th scope=col>97.5 %</th></tr></thead>\n",
       "<tbody>\n",
       "\t<tr><th scope=row>abdomen</th><td>0.7331440</td><td>0.9340151</td></tr>\n",
       "</tbody>\n",
       "</table>\n"
      ],
      "text/latex": [
       "\\begin{tabular}{r|ll}\n",
       "  & 2.5 % & 97.5 %\\\\\n",
       "\\hline\n",
       "\tabdomen & 0.7331440 & 0.9340151\\\\\n",
       "\\end{tabular}\n"
      ],
      "text/markdown": [
       "1. 0.73314401013562\n",
       "2. 0.934015072282938\n",
       "\n",
       "\n"
      ],
      "text/plain": [
       "           2.5 %    97.5 %\n",
       "abdomen 0.733144 0.9340151"
      ]
     },
     "execution_count": 119,
     "metadata": {},
     "output_type": "execute_result"
    },
    {
     "data": {
      "text/html": [
       "<table>\n",
       "<thead><tr><th></th><th scope=col>2.5 %</th><th scope=col>97.5 %</th></tr></thead>\n",
       "<tbody>\n",
       "\t<tr><th scope=row>hip</th><td>-0.4327447</td><td>-0.1303878</td></tr>\n",
       "</tbody>\n",
       "</table>\n"
      ],
      "text/latex": [
       "\\begin{tabular}{r|ll}\n",
       "  & 2.5 % & 97.5 %\\\\\n",
       "\\hline\n",
       "\thip & -0.4327447 & -0.1303878\\\\\n",
       "\\end{tabular}\n"
      ],
      "text/markdown": [
       "1. -0.432744732007276\n",
       "2. -0.130387790868215\n",
       "\n",
       "\n"
      ],
      "text/plain": [
       "         2.5 %     97.5 %\n",
       "hip -0.4327447 -0.1303878"
      ]
     },
     "execution_count": 119,
     "metadata": {},
     "output_type": "execute_result"
    },
    {
     "data": {
      "text/html": [
       "0.322065327038613"
      ],
      "text/latex": [
       "0.322065327038613"
      ],
      "text/markdown": [
       "0.322065327038613"
      ],
      "text/plain": [
       "[1] 0.3220653"
      ]
     },
     "execution_count": 119,
     "metadata": {},
     "output_type": "execute_result"
    },
    {
     "data": {
      "text/html": [
       "0.0878129102642324"
      ],
      "text/latex": [
       "0.0878129102642324"
      ],
      "text/markdown": [
       "0.0878129102642324"
      ],
      "text/plain": [
       "[1] 0.08781291"
      ]
     },
     "execution_count": 119,
     "metadata": {},
     "output_type": "execute_result"
    },
    {
     "data": {
      "text/html": [
       "0.170394262134822"
      ],
      "text/latex": [
       "0.170394262134822"
      ],
      "text/markdown": [
       "0.170394262134822"
      ],
      "text/plain": [
       "[1] 0.1703943"
      ]
     },
     "execution_count": 119,
     "metadata": {},
     "output_type": "execute_result"
    },
    {
     "data": {
      "text/html": [
       "0.619832427973975"
      ],
      "text/latex": [
       "0.619832427973975"
      ],
      "text/markdown": [
       "0.619832427973975"
      ],
      "text/plain": [
       "[1] 0.6198324"
      ]
     },
     "execution_count": 119,
     "metadata": {},
     "output_type": "execute_result"
    },
    {
     "data": {
      "text/html": [
       "0.6300895439193"
      ],
      "text/latex": [
       "0.6300895439193"
      ],
      "text/markdown": [
       "0.6300895439193"
      ],
      "text/plain": [
       "[1] 0.6300895"
      ]
     },
     "execution_count": 119,
     "metadata": {},
     "output_type": "execute_result"
    },
    {
     "data": {
      "text/html": [
       "0.874066180647272"
      ],
      "text/latex": [
       "0.874066180647272"
      ],
      "text/markdown": [
       "0.874066180647272"
      ],
      "text/plain": [
       "[1] 0.8740662"
      ]
     },
     "execution_count": 119,
     "metadata": {},
     "output_type": "execute_result"
    }
   ],
   "source": [
    "confint(bestFat,\"height\")\n",
    "confint(bestFat,\"wrist\")\n",
    "confint(bestFat,\"abdomen\")\n",
    "confint(bestFat,\"hip\")\n",
    "# we see that all have significnace at 95% level.\n",
    "#lets check correlation\n",
    "cor(fat$height,fat$wrist)\n",
    "cor(fat$height,fat$abdomen)\n",
    "cor(fat$height,fat$hip)\n",
    "cor(fat$wrist, fat$abdomen)\n",
    "cor(fat$wrist, fat$hip)\n",
    "cor(fat$abdomen, fat$hip)\n",
    "#these correlations show a variety of weak to strong correlation.\n",
    "#none are perfect correlations however, and the strongest is hip to abdomen\n",
    "#not even hip to abdomen is a perfect correlation\n",
    "#further, some of the best predictors are absolutely going to show some levels of correlation\n",
    "#if you have less body fat, your hips are likely to be smaller, as is your abdomen.\n",
    "#same with vice versa.\n",
    "#in the summary we see a p-value of less that 2.2810^-16, this strongly indicates that our parameters are \n",
    "#not statistically equal to 0"
   ]
  },
  {
   "cell_type": "markdown",
   "metadata": {},
   "source": [
    "## Problem #3 - Wireless networks\n",
    "\n",
    "This data contains measurements from 3 wireless network devices. One is an 802.11 \"Wifi\" interface running at 1Mbs/s. The second is that same interface running at 11Mb/s. Lastly, the same interface running at 54Mb/s. The data is stored as R vectors named x1, y1, x11, y11 and x54, y54. The X value is the packet size for the time measurement recorded at the corresponding Y value. The units are milliseconds. For example, x11[1] is 350 bytes and y11[1] is 1.436782 millseconds. It took 1.436782 milliseconds to transmit a 350 byte packet."
   ]
  },
  {
   "cell_type": "code",
   "execution_count": 120,
   "metadata": {
    "collapsed": true
   },
   "outputs": [],
   "source": [
    "x11 = c(350, 350, 350, 350, 350, 450, 450, 450, 450, 450, 550, 550, 550,\n",
    "550, 550, 650, 650, 650, 650, 650, 750, 750, 750, 750, 750, 850, 850,\n",
    "850, 850, 850, 950, 950, 950, 950, 950, 1050, 1050, 1050, 1050, 1050,\n",
    "1150, 1150, 1150, 1150, 1150, 1250, 1250, 1250, 1250, 1250, 1350,\n",
    "1350, 1350, 1350, 1350, 1450, 1450, 1450, 1450, 1450 )\n",
    "\n",
    "y11 = c(\n",
    "1.436782, 1.407063, 1.436782, 1.426737, 1.416832, 1.50015, 1.533978,\n",
    "1.50015, 1.522533, 1.511259, 1.619433, 1.619433, 1.576541, 1.576541,\n",
    "1.587050, 1.682935, 1.662787, 1.693193, 1.682935, 1.693193, 1.745505,\n",
    "1.755310, 1.765225, 1.755310, 1.755002, 1.833853, 1.805054, 1.824152,\n",
    "1.853568, 1.853568, 1.915342, 1.915342, 1.915342, 1.904762, 1.915342,\n",
    "1.992429, 1.982161, 1.992429, 1.961169, 1.971998, 2.072539, 2.052124,\n",
    "2.062281, 2.062281, 2.082466, 2.15378, 2.143623, 2.133561, 2.113718,\n",
    "2.103934, 2.182453, 2.182453, 2.182453, 2.154244, 2.182453, 2.241147,\n",
    "2.26142, 2.241147, 2.301496, 2.282063)\n",
    "\n",
    "x1 = c( 350, 350, 350, 350, 350, 450, 450, 450, 450, 450, 550, 550,\n",
    "550, 550, 550, 650, 650, 650, 650, 650, 750, 750, 750, 750, 750, 850,\n",
    "850, 850, 850, 850, 950, 950, 950, 950, 950, 1050, 1050, 1050, 1050,\n",
    "1050, 1150, 1150, 1150, 1150, 1150, 1250, 1250, 1250, 1250, 1250,\n",
    "1350, 1350, 1350, 1350, 1350, 1450, 1450, 1450, 1450, 1450)\n",
    "\n",
    "y1 = c( 4.161465, 4.078303, 4.078303, 4.078303, 4.078303, 4.741584,\n",
    "4.741584, 4.741584, 4.741584, 4.741584, 5.534034, 5.534034, 5.534034,\n",
    "5.534034, 5.534034, 6.30517, 6.30517, 6.30517, 6.30517, 6.30517,\n",
    "7.097232, 7.097232, 7.097232, 6.939625, 7.097232, 7.830854, 7.830854,\n",
    "7.830854, 7.830854, 7.830854, 8.403361, 8.403361, 8.403361, 8.403361,\n",
    "8.403361, 9.14913, 9.14913, 9.14913, 9.14913, 9.14913, 9.910803,\n",
    "9.910803, 9.910803, 9.910803, 9.910803, 10.81081, 10.81081, 10.55966,\n",
    "10.81081, 10.81081, 11.60093, 11.60093, 11.33787, 11.33787, 11.33787,\n",
    "12.16545, 12.16545, 12.16545, 12.16545, 12.16545)\n",
    "\n",
    "x54 = c( 350, 350, 350, 350, 450, 450, 450, 450, 550, 550, 550, 550,\n",
    "650, 650, 650, 650, 750, 750, 750, 750, 850, 850, 850, 850, 950, 950,\n",
    "950, 950, 1050, 1050, 1050, 1050, 1150, 1150, 1150, 1150, 1250, 1250,\n",
    "1250, 1250, 1350, 1350, 1350, 1350, 1450, 1450, 1450, 1450)\n",
    "\n",
    "y54 = c( 0.2812386, 0.2804341, 0.2798769, 0.2815553, 0.2995088,\n",
    "0.2986679, 0.3006705, 0.298454, 0.311886, 0.3199386, 0.3163556,\n",
    "0.3186439, 0.3333333, 0.3369953, 0.3340236, 0.3311258, 0.3412969,\n",
    "0.3373933, 0.341006, 0.3411456, 0.3531198, 0.3563284, 0.3578714,\n",
    "0.3521871, 0.3733154, 0.3752768, 0.3761803, 0.3780432, 0.3957888,\n",
    "0.3914660, 0.3928656, 0.3961651, 0.4116921, 0.4088307, 0.4083966,\n",
    "0.4038935, 0.4210704, 0.4251339, 0.4259488, 0.4252243, 0.4428698,\n",
    "0.4405869, 0.4386157, 0.4402959, 0.4577287, 0.4561211, 0.4573938,\n",
    "0.4607658)"
   ]
  },
  {
   "cell_type": "markdown",
   "metadata": {},
   "source": [
    "### Answer the following questions:\n",
    "\n",
    "To answer these questions, you should use the lecture slides on linear regression and section 13 from the SimpleR.pdf book from the course website (page 77). You can also refer to the material by Boudec, but his write-up is, as per normal, complex.\n",
    "\n",
    "* Using R as a calculator, but not using the built-in regression functions, calculate using the equations in the Linear Regression slides:\n",
    "* The slope (b) and intercept (a) of the regression model for the 1Mb/s network (using x1, y1)\n",
    "* The coefficient of determination for the model for the 1Mb/s network (using x1,y1)\n",
    "* The standard deviation for slope & intercept and the 95% confidence interval for the 1Mb/s network (using x1,y1)\n",
    "* The predicted time, standard deviation and 95% confidence interval for the predicted time to transmit a 40 byte Wifi packet for the 1Mb/s network (using x1,y1)\n",
    "* The predicted time, standard deviation and 95% confidence interval to transmit a 750 byte packet for the 1Mb/s network (using x1,y1)"
   ]
  },
  {
   "cell_type": "code",
   "execution_count": 121,
   "metadata": {
    "collapsed": false
   },
   "outputs": [
    {
     "data": {
      "text/html": [
       "0.00736104904895105"
      ],
      "text/latex": [
       "0.00736104904895105"
      ],
      "text/markdown": [
       "0.00736104904895105"
      ],
      "text/plain": [
       "[1] 0.007361049"
      ]
     },
     "execution_count": 121,
     "metadata": {},
     "output_type": "execute_result"
    },
    {
     "data": {
      "text/html": [
       "1.49211468927739"
      ],
      "text/latex": [
       "1.49211468927739"
      ],
      "text/markdown": [
       "1.49211468927739"
      ],
      "text/plain": [
       "[1] 1.492115"
      ]
     },
     "execution_count": 121,
     "metadata": {},
     "output_type": "execute_result"
    },
    {
     "data": {
      "text/html": [
       "0.999155065938873"
      ],
      "text/latex": [
       "0.999155065938873"
      ],
      "text/markdown": [
       "0.999155065938873"
      ],
      "text/plain": [
       "[1] 0.9991551"
      ]
     },
     "execution_count": 121,
     "metadata": {},
     "output_type": "execute_result"
    },
    {
     "data": {
      "text/html": [
       "2.81074001391496e-05"
      ],
      "text/latex": [
       "2.81074001391496e-05"
      ],
      "text/markdown": [
       "2.81074001391496e-05"
      ],
      "text/plain": [
       "[1] 2.81074e-05"
      ]
     },
     "execution_count": 121,
     "metadata": {},
     "output_type": "execute_result"
    },
    {
     "data": {
      "text/html": [
       "0.0270936481790356"
      ],
      "text/latex": [
       "0.0270936481790356"
      ],
      "text/markdown": [
       "0.0270936481790356"
      ],
      "text/plain": [
       "[1] 0.02709365"
      ]
     },
     "execution_count": 121,
     "metadata": {},
     "output_type": "execute_result"
    },
    {
     "data": {
      "text/html": [
       "1.78655665123543"
      ],
      "text/latex": [
       "1.78655665123543"
      ],
      "text/markdown": [
       "1.78655665123543"
      ],
      "text/plain": [
       "[1] 1.786557"
      ]
     },
     "execution_count": 121,
     "metadata": {},
     "output_type": "execute_result"
    },
    {
     "data": {
      "text/html": [
       "<ol class=list-inline>\n",
       "\t<li>1.73007229899448</li>\n",
       "\t<li>1.84304100347638</li>\n",
       "</ol>\n"
      ],
      "text/latex": [
       "\\begin{enumerate*}\n",
       "\\item 1.73007229899448\n",
       "\\item 1.84304100347638\n",
       "\\end{enumerate*}\n"
      ],
      "text/markdown": [
       "1. 1.73007229899448\n",
       "2. 1.84304100347638\n",
       "\n",
       "\n"
      ],
      "text/plain": [
       "[1] 1.730072 1.843041"
      ]
     },
     "execution_count": 121,
     "metadata": {},
     "output_type": "execute_result"
    },
    {
     "data": {
      "text/html": [
       "<ol class=list-inline>\n",
       "\t<li>0.0564843522409515</li>\n",
       "\t<li>-0.0564843522409513</li>\n",
       "</ol>\n"
      ],
      "text/latex": [
       "\\begin{enumerate*}\n",
       "\\item 0.0564843522409515\n",
       "\\item -0.0564843522409513\n",
       "\\end{enumerate*}\n"
      ],
      "text/markdown": [
       "1. 0.0564843522409515\n",
       "2. -0.0564843522409513\n",
       "\n",
       "\n"
      ],
      "text/plain": [
       "[1]  0.05648435 -0.05648435"
      ]
     },
     "execution_count": 121,
     "metadata": {},
     "output_type": "execute_result"
    },
    {
     "data": {
      "text/html": [
       "7.01290147599068"
      ],
      "text/latex": [
       "7.01290147599068"
      ],
      "text/markdown": [
       "7.01290147599068"
      ],
      "text/plain": [
       "[1] 7.012901"
      ]
     },
     "execution_count": 121,
     "metadata": {},
     "output_type": "execute_result"
    },
    {
     "data": {
      "text/html": [
       "<ol class=list-inline>\n",
       "\t<li>6.91647034100212</li>\n",
       "\t<li>7.10933261097923</li>\n",
       "</ol>\n"
      ],
      "text/latex": [
       "\\begin{enumerate*}\n",
       "\\item 6.91647034100212\n",
       "\\item 7.10933261097923\n",
       "\\end{enumerate*}\n"
      ],
      "text/markdown": [
       "1. 6.91647034100212\n",
       "2. 7.10933261097923\n",
       "\n",
       "\n"
      ],
      "text/plain": [
       "[1] 6.916470 7.109333"
      ]
     },
     "execution_count": 121,
     "metadata": {},
     "output_type": "execute_result"
    },
    {
     "data": {
      "text/html": [
       "<ol class=list-inline>\n",
       "\t<li>0.0564843522409515</li>\n",
       "\t<li>-0.0564843522409513</li>\n",
       "</ol>\n"
      ],
      "text/latex": [
       "\\begin{enumerate*}\n",
       "\\item 0.0564843522409515\n",
       "\\item -0.0564843522409513\n",
       "\\end{enumerate*}\n"
      ],
      "text/markdown": [
       "1. 0.0564843522409515\n",
       "2. -0.0564843522409513\n",
       "\n",
       "\n"
      ],
      "text/plain": [
       "[1]  0.05648435 -0.05648435"
      ]
     },
     "execution_count": 121,
     "metadata": {},
     "output_type": "execute_result"
    }
   ],
   "source": [
    "#linear regression of time predicted by packet size on 1mb/s\n",
    "xbar = mean(x1)\n",
    "ybar = mean(y1)\n",
    "Sxx = sum((xbar-x1)^2)\n",
    "Syy = sum((ybar-y1)^2)\n",
    "Sxy = sum((y1-ybar)*(x1-xbar))\n",
    "b = Sxy/Sxx\n",
    "b\n",
    "a = ybar - b*xbar\n",
    "a\n",
    "# b = .0073610\n",
    "# a = 1.492114\n",
    "Sst = sum((y1-ybar)^2)\n",
    "l = lm(y1~x1)\n",
    "Sse = sum(((predict(l)-y1)^2))\n",
    "Ssr = Sst - Sse\n",
    "r2 = Ssr/Sst\n",
    "r2\n",
    "#r-squared (coefficient of determination) = .99915\n",
    "stdRegErr = sqrt(Sse/58)\n",
    "stdDevSlope = (stdRegErr/sqrt(Sxx))\n",
    "stdDevSlope\n",
    "stdDevInt = stdRegErr*sqrt((sum(x1^2))/(60*Sxx))\n",
    "stdDevInt\n",
    "Tcrits = qt(c(.025, .975), df=58) \n",
    "aInt = a + Tcrits*stdDevInt\n",
    "slopeInt = b + Tcrits*stdDevSlope\n",
    "#Our 95% confidence linear regression is y = aInt + slopeInt*x !\n",
    "#We will use this to estimate 40 byte packet\n",
    "timePredict = a + b*40\n",
    "timePredict\n",
    "confIntervalTime = aInt + slopeInt*40\n",
    "confIntervalTime \n",
    "sdPredict = timePredict - confIntervalTime\n",
    "sdPredict\n",
    "#So our prediction is about 1.78 with 95% confidence that \n",
    "#this value would fall in the interval (1.73,1.84)\n",
    "#SdPredict shows us the standard deviation of this prediction is plus/minus .05648435\n",
    "\n",
    "#Now, lets predict 750\n",
    "timePredict2 = a + b*750\n",
    "timePredict2\n",
    "confIntervalTime2 = aInt + slopeInt*750\n",
    "confIntervalTime2 \n",
    "sdPredict2 = timePredict - confIntervalTime\n",
    "sdPredict2\n",
    "#So our prediction is about 7.0129 with 95% confidence that \n",
    "#this value would fall in the interval (6.9164,7.10933)\n",
    "#SdPredict shows us the standard deviation of this prediction is plus/minus .05648435"
   ]
  },
  {
   "cell_type": "markdown",
   "metadata": {},
   "source": [
    "### Settle a law suit\n",
    "\n",
    "Using the 'lm' functions in R or the simple.lm functions from the UsingR package (documented in the Simple R guide, section 13 page 77), answer the following questions\n",
    "* Prepare a plot of the data, the regression model and the 95% confidence interval for each of the data sets. Label the plot with the parameters of the regression model. If you plot all the data on a single plot, you can put the parameters in the legend rather than the title.\n",
    "* Larry the Lawyer wants to sue because the 11Mb/s network is not 11 times \"faster\" than the 1Mb/s network. Compare the slope (time per byte) and intercept (overhead per packet). Is the 11Mb/s network 11 times faster at a 95% confidence level? Is the overhead different?\n",
    "* Using your models, predict the time to transmit a 40 byte packet using each network (using a 95% confidence interval). What's Larry doing now (i.e. crying or filiing a suit?)\n",
    "* Repeat that for a 750 and 1500 byte packet. Does Larry still have a case? What if you compare the time to transmit a 40 byte packet to a 1500 byte packet, which is 37 times bigger?\n",
    "* For the 54Mb/s data, argue that the regression model is or is not appropriate for the data. Use the full range of techniques described in Jain and in class. Are there specific measurement samples which seem to be more problematic than others? Which ones?"
   ]
  },
  {
   "cell_type": "code",
   "execution_count": 122,
   "metadata": {
    "collapsed": false
   },
   "outputs": [
    {
     "data": {
      "image/png": "[encoded data removed]",
      "image/svg+xml": [
       "<?xml version=\"1.0\" encoding=\"UTF-8\"?>\n",
       "<svg xmlns=\"http://www.w3.org/2000/svg\" xmlns:xlink=\"http://www.w3.org/1999/xlink\" width=\"504pt\" height=\"504pt\" viewBox=\"0 0 504 504\" version=\"1.1\">\n",
       "<defs>\n",
       "<g>\n",
       "<symbol overflow=\"visible\" id=\"glyph0-0\">\n",
       "<path style=\"stroke:none;\" d=\"\"/>\n",
       "</symbol>\n",
       "<symbol overflow=\"visible\" id=\"glyph0-1\">\n",
       "<path style=\"stroke:none;\" d=\"M 6.234375 -2.046875 L 6.234375 -2.984375 L 4.984375 -2.984375 L 4.984375 -8.515625 L 4.203125 -8.515625 L 0.34375 -3.15625 L 0.34375 -2.046875 L 3.921875 -2.046875 L 3.921875 0 L 4.984375 0 L 4.984375 -2.046875 Z M 3.921875 -2.984375 L 1.265625 -2.984375 L 3.921875 -6.703125 Z \"/>\n",
       "</symbol>\n",
       "<symbol overflow=\"visible\" id=\"glyph0-2\">\n",
       "<path style=\"stroke:none;\" d=\"M 6.078125 -4.09375 C 6.078125 -7.046875 5.140625 -8.515625 3.296875 -8.515625 C 1.46875 -8.515625 0.515625 -7.015625 0.515625 -4.15625 C 0.515625 -1.296875 1.46875 0.1875 3.296875 0.1875 C 5.09375 0.1875 6.078125 -1.296875 6.078125 -4.09375 Z M 5 -4.1875 C 5 -1.78125 4.453125 -0.703125 3.28125 -0.703125 C 2.15625 -0.703125 1.59375 -1.828125 1.59375 -4.15625 C 1.59375 -6.484375 2.15625 -7.578125 3.296875 -7.578125 C 4.4375 -7.578125 5 -6.46875 5 -4.1875 Z \"/>\n",
       "</symbol>\n",
       "<symbol overflow=\"visible\" id=\"glyph0-3\">\n",
       "<path style=\"stroke:none;\" d=\"M 6.15625 -2.640625 C 6.15625 -4.21875 5.078125 -5.296875 3.546875 -5.296875 C 2.71875 -5.296875 2.046875 -4.96875 1.59375 -4.34375 C 1.609375 -6.421875 2.28125 -7.578125 3.484375 -7.578125 C 4.234375 -7.578125 4.75 -7.109375 4.921875 -6.28125 L 5.96875 -6.28125 C 5.765625 -7.6875 4.859375 -8.515625 3.5625 -8.515625 C 1.578125 -8.515625 0.515625 -6.84375 0.515625 -3.875 C 0.515625 -1.21875 1.421875 0.1875 3.375 0.1875 C 4.984375 0.1875 6.15625 -0.96875 6.15625 -2.640625 Z M 5.078125 -2.5625 C 5.078125 -1.484375 4.359375 -0.75 3.390625 -0.75 C 2.40625 -0.75 1.65625 -1.53125 1.65625 -2.609375 C 1.65625 -3.671875 2.375 -4.359375 3.421875 -4.359375 C 4.4375 -4.359375 5.078125 -3.703125 5.078125 -2.5625 Z \"/>\n",
       "</symbol>\n",
       "<symbol overflow=\"visible\" id=\"glyph0-4\">\n",
       "<path style=\"stroke:none;\" d=\"M 6.15625 -2.40625 C 6.15625 -3.34375 5.671875 -4.015625 4.6875 -4.46875 C 5.5625 -5 5.859375 -5.4375 5.859375 -6.234375 C 5.859375 -7.578125 4.8125 -8.515625 3.296875 -8.515625 C 1.796875 -8.515625 0.75 -7.578125 0.75 -6.234375 C 0.75 -5.453125 1.03125 -5.015625 1.890625 -4.46875 C 0.921875 -4.015625 0.4375 -3.34375 0.4375 -2.40625 C 0.4375 -0.859375 1.625 0.1875 3.296875 0.1875 C 4.984375 0.1875 6.15625 -0.859375 6.15625 -2.40625 Z M 4.78125 -6.21875 C 4.78125 -5.421875 4.1875 -4.890625 3.296875 -4.890625 C 2.40625 -4.890625 1.828125 -5.421875 1.828125 -6.234375 C 1.828125 -7.046875 2.40625 -7.578125 3.296875 -7.578125 C 4.203125 -7.578125 4.78125 -7.046875 4.78125 -6.21875 Z M 5.078125 -2.390625 C 5.078125 -1.375 4.359375 -0.75 3.28125 -0.75 C 2.25 -0.75 1.53125 -1.390625 1.53125 -2.390625 C 1.53125 -3.390625 2.25 -4.015625 3.296875 -4.015625 C 4.359375 -4.015625 5.078125 -3.390625 5.078125 -2.390625 Z \"/>\n",
       "</symbol>\n",
       "<symbol overflow=\"visible\" id=\"glyph0-5\">\n",
       "<path style=\"stroke:none;\" d=\"M 4.15625 0 L 4.15625 -8.515625 L 3.46875 -8.515625 C 3.09375 -7.203125 2.859375 -7.015625 1.21875 -6.8125 L 1.21875 -6.0625 L 3.109375 -6.0625 L 3.109375 0 Z \"/>\n",
       "</symbol>\n",
       "<symbol overflow=\"visible\" id=\"glyph0-6\">\n",
       "<path style=\"stroke:none;\" d=\"M 6.125 -6.015625 C 6.125 -7.453125 5.015625 -8.515625 3.40625 -8.515625 C 1.671875 -8.515625 0.65625 -7.625 0.59375 -5.5625 L 1.65625 -5.5625 C 1.734375 -6.984375 2.328125 -7.578125 3.375 -7.578125 C 4.328125 -7.578125 5.046875 -6.90625 5.046875 -5.984375 C 5.046875 -5.3125 4.65625 -4.734375 3.90625 -4.3125 L 2.796875 -3.6875 C 1.015625 -2.671875 0.5 -1.875 0.40625 0 L 6.078125 0 L 6.078125 -1.046875 L 1.59375 -1.046875 C 1.703125 -1.734375 2.09375 -2.1875 3.125 -2.796875 L 4.328125 -3.4375 C 5.515625 -4.078125 6.125 -4.96875 6.125 -6.015625 Z \"/>\n",
       "</symbol>\n",
       "<symbol overflow=\"visible\" id=\"glyph0-7\">\n",
       "<path style=\"stroke:none;\" d=\"M 7.40625 -6.1875 C 7.40625 -7.828125 6.4375 -8.75 4.703125 -8.75 L 1.09375 -8.75 L 1.09375 0 L 2.203125 0 L 2.203125 -3.703125 L 4.953125 -3.703125 C 6.390625 -3.703125 7.40625 -4.734375 7.40625 -6.1875 Z M 6.234375 -6.234375 C 6.234375 -5.265625 5.609375 -4.6875 4.53125 -4.6875 L 2.203125 -4.6875 L 2.203125 -7.765625 L 4.53125 -7.765625 C 5.609375 -7.765625 6.234375 -7.1875 6.234375 -6.234375 Z \"/>\n",
       "</symbol>\n",
       "<symbol overflow=\"visible\" id=\"glyph0-8\">\n",
       "<path style=\"stroke:none;\" d=\"M 6.421875 -0.03125 L 6.421875 -0.78125 C 6.3125 -0.75 6.265625 -0.75 6.203125 -0.75 C 5.859375 -0.75 5.65625 -0.9375 5.65625 -1.25 L 5.65625 -4.75 C 5.65625 -5.875 4.84375 -6.46875 3.296875 -6.46875 C 1.78125 -6.46875 0.84375 -5.875 0.78125 -4.421875 L 1.78125 -4.421875 C 1.875 -5.203125 2.328125 -5.546875 3.265625 -5.546875 C 4.15625 -5.546875 4.671875 -5.203125 4.671875 -4.609375 L 4.671875 -4.34375 C 4.671875 -3.921875 4.421875 -3.75 3.625 -3.640625 C 2.203125 -3.46875 1.984375 -3.421875 1.609375 -3.265625 C 0.875 -2.96875 0.5 -2.40625 0.5 -1.625 C 0.5 -0.484375 1.296875 0.1875 2.5625 0.1875 C 3.375 0.1875 4.15625 -0.15625 4.703125 -0.75 C 4.8125 -0.265625 5.25 0.078125 5.734375 0.078125 C 5.9375 0.078125 6.09375 0.0625 6.421875 -0.03125 Z M 4.671875 -2.171875 C 4.671875 -1.265625 3.75 -0.703125 2.78125 -0.703125 C 2 -0.703125 1.546875 -0.96875 1.546875 -1.65625 C 1.546875 -2.3125 1.984375 -2.609375 3.0625 -2.765625 C 4.109375 -2.90625 4.328125 -2.953125 4.671875 -3.109375 Z \"/>\n",
       "</symbol>\n",
       "<symbol overflow=\"visible\" id=\"glyph0-9\">\n",
       "<path style=\"stroke:none;\" d=\"M 5.71875 -2.15625 L 4.71875 -2.15625 C 4.546875 -1.15625 4.03125 -0.75 3.1875 -0.75 C 2.078125 -0.75 1.421875 -1.59375 1.421875 -3.078125 C 1.421875 -4.65625 2.0625 -5.546875 3.15625 -5.546875 C 4 -5.546875 4.53125 -5.046875 4.640625 -4.171875 L 5.65625 -4.171875 C 5.53125 -5.71875 4.578125 -6.46875 3.171875 -6.46875 C 1.46875 -6.46875 0.375 -5.171875 0.375 -3.078125 C 0.375 -1.0625 1.453125 0.1875 3.15625 0.1875 C 4.65625 0.1875 5.609375 -0.71875 5.71875 -2.15625 Z \"/>\n",
       "</symbol>\n",
       "<symbol overflow=\"visible\" id=\"glyph0-10\">\n",
       "<path style=\"stroke:none;\" d=\"M 6.03125 0 L 3.453125 -4.109375 L 5.640625 -6.28125 L 4.359375 -6.28125 L 1.6875 -3.625 L 1.6875 -8.75 L 0.703125 -8.75 L 0.703125 0 L 1.6875 0 L 1.6875 -2.453125 L 2.65625 -3.40625 L 4.78125 0 Z \"/>\n",
       "</symbol>\n",
       "<symbol overflow=\"visible\" id=\"glyph0-11\">\n",
       "<path style=\"stroke:none;\" d=\"M 6.15625 -2.859375 C 6.15625 -3.765625 6.078125 -4.34375 5.90625 -4.8125 C 5.5 -5.84375 4.53125 -6.46875 3.359375 -6.46875 C 1.609375 -6.46875 0.484375 -5.171875 0.484375 -3.109375 C 0.484375 -1.046875 1.578125 0.1875 3.34375 0.1875 C 4.78125 0.1875 5.765625 -0.640625 6.03125 -1.90625 L 5.015625 -1.90625 C 4.734375 -1.078125 4.171875 -0.75 3.375 -0.75 C 2.328125 -0.75 1.546875 -1.421875 1.53125 -2.859375 Z M 5.09375 -3.75 C 5.09375 -3.75 5.09375 -3.703125 5.078125 -3.671875 L 1.546875 -3.671875 C 1.625 -4.78125 2.34375 -5.546875 3.34375 -5.546875 C 4.328125 -5.546875 5.09375 -4.734375 5.09375 -3.75 Z \"/>\n",
       "</symbol>\n",
       "<symbol overflow=\"visible\" id=\"glyph0-12\">\n",
       "<path style=\"stroke:none;\" d=\"M 3.046875 0 L 3.046875 -0.84375 C 2.921875 -0.796875 2.765625 -0.796875 2.5625 -0.796875 C 2.140625 -0.796875 2.015625 -0.90625 2.015625 -1.359375 L 2.015625 -5.46875 L 3.046875 -5.46875 L 3.046875 -6.28125 L 2.015625 -6.28125 L 2.015625 -8.015625 L 1.015625 -8.015625 L 1.015625 -6.28125 L 0.171875 -6.28125 L 0.171875 -5.46875 L 1.015625 -5.46875 L 1.015625 -0.90625 C 1.015625 -0.28125 1.453125 0.078125 2.234375 0.078125 C 2.46875 0.078125 2.71875 0.0625 3.046875 0 Z \"/>\n",
       "</symbol>\n",
       "<symbol overflow=\"visible\" id=\"glyph0-13\">\n",
       "<path style=\"stroke:none;\" d=\"\"/>\n",
       "</symbol>\n",
       "<symbol overflow=\"visible\" id=\"glyph0-14\">\n",
       "<path style=\"stroke:none;\" d=\"M 7.453125 -2.40625 C 7.453125 -3.484375 6.78125 -4.265625 5.59375 -4.59375 L 3.390625 -5.1875 C 2.34375 -5.453125 1.953125 -5.8125 1.953125 -6.484375 C 1.953125 -7.375 2.734375 -8.03125 3.90625 -8.03125 C 5.296875 -8.03125 6.09375 -7.390625 6.09375 -6.25 L 7.15625 -6.25 C 7.15625 -7.96875 5.96875 -8.96875 3.953125 -8.96875 C 2.03125 -8.96875 0.84375 -7.90625 0.84375 -6.328125 C 0.84375 -5.25 1.40625 -4.578125 2.5625 -4.28125 L 4.734375 -3.703125 C 5.828125 -3.421875 6.34375 -2.96875 6.34375 -2.296875 C 6.34375 -1.328125 5.609375 -0.765625 4.109375 -0.765625 C 2.453125 -0.765625 1.625 -1.59375 1.625 -2.84375 L 0.578125 -2.84375 C 0.578125 -0.78125 1.96875 0.21875 4.03125 0.21875 C 6.25 0.21875 7.453125 -0.84375 7.453125 -2.40625 Z \"/>\n",
       "</symbol>\n",
       "<symbol overflow=\"visible\" id=\"glyph0-15\">\n",
       "<path style=\"stroke:none;\" d=\"M 1.84375 0 L 1.84375 -6.28125 L 0.84375 -6.28125 L 0.84375 0 Z M 1.96875 -7.234375 L 1.96875 -8.484375 L 0.71875 -8.484375 L 0.71875 -7.234375 Z \"/>\n",
       "</symbol>\n",
       "<symbol overflow=\"visible\" id=\"glyph0-16\">\n",
       "<path style=\"stroke:none;\" d=\"M 5.484375 0 L 5.484375 -0.875 L 1.578125 -0.875 L 5.3125 -5.40625 L 5.3125 -6.28125 L 0.625 -6.28125 L 0.625 -5.40625 L 4.125 -5.40625 L 0.375 -0.90625 L 0.375 0 Z \"/>\n",
       "</symbol>\n",
       "<symbol overflow=\"visible\" id=\"glyph1-0\">\n",
       "<path style=\"stroke:none;\" d=\"\"/>\n",
       "</symbol>\n",
       "<symbol overflow=\"visible\" id=\"glyph1-1\">\n",
       "<path style=\"stroke:none;\" d=\"M -2.046875 -6.234375 L -2.984375 -6.234375 L -2.984375 -4.984375 L -8.515625 -4.984375 L -8.515625 -4.203125 L -3.15625 -0.34375 L -2.046875 -0.34375 L -2.046875 -3.921875 L 0 -3.921875 L 0 -4.984375 L -2.046875 -4.984375 Z M -2.984375 -3.921875 L -2.984375 -1.265625 L -6.703125 -3.921875 Z \"/>\n",
       "</symbol>\n",
       "<symbol overflow=\"visible\" id=\"glyph1-2\">\n",
       "<path style=\"stroke:none;\" d=\"M -2.640625 -6.15625 C -4.21875 -6.15625 -5.296875 -5.078125 -5.296875 -3.546875 C -5.296875 -2.71875 -4.96875 -2.046875 -4.34375 -1.59375 C -6.421875 -1.609375 -7.578125 -2.28125 -7.578125 -3.484375 C -7.578125 -4.234375 -7.109375 -4.75 -6.28125 -4.921875 L -6.28125 -5.96875 C -7.6875 -5.765625 -8.515625 -4.859375 -8.515625 -3.5625 C -8.515625 -1.578125 -6.84375 -0.515625 -3.875 -0.515625 C -1.21875 -0.515625 0.1875 -1.421875 0.1875 -3.375 C 0.1875 -4.984375 -0.96875 -6.15625 -2.640625 -6.15625 Z M -2.5625 -5.078125 C -1.484375 -5.078125 -0.75 -4.359375 -0.75 -3.390625 C -0.75 -2.40625 -1.53125 -1.65625 -2.609375 -1.65625 C -3.671875 -1.65625 -4.359375 -2.375 -4.359375 -3.421875 C -4.359375 -4.4375 -3.703125 -5.078125 -2.5625 -5.078125 Z \"/>\n",
       "</symbol>\n",
       "<symbol overflow=\"visible\" id=\"glyph1-3\">\n",
       "<path style=\"stroke:none;\" d=\"M -2.40625 -6.15625 C -3.34375 -6.15625 -4.015625 -5.671875 -4.46875 -4.6875 C -5 -5.5625 -5.4375 -5.859375 -6.234375 -5.859375 C -7.578125 -5.859375 -8.515625 -4.8125 -8.515625 -3.296875 C -8.515625 -1.796875 -7.578125 -0.75 -6.234375 -0.75 C -5.453125 -0.75 -5.015625 -1.03125 -4.46875 -1.890625 C -4.015625 -0.921875 -3.34375 -0.4375 -2.40625 -0.4375 C -0.859375 -0.4375 0.1875 -1.625 0.1875 -3.296875 C 0.1875 -4.984375 -0.859375 -6.15625 -2.40625 -6.15625 Z M -6.21875 -4.78125 C -5.421875 -4.78125 -4.890625 -4.1875 -4.890625 -3.296875 C -4.890625 -2.40625 -5.421875 -1.828125 -6.234375 -1.828125 C -7.046875 -1.828125 -7.578125 -2.40625 -7.578125 -3.296875 C -7.578125 -4.203125 -7.046875 -4.78125 -6.21875 -4.78125 Z M -2.390625 -5.078125 C -1.375 -5.078125 -0.75 -4.359375 -0.75 -3.28125 C -0.75 -2.25 -1.390625 -1.53125 -2.390625 -1.53125 C -3.390625 -1.53125 -4.015625 -2.25 -4.015625 -3.296875 C -4.015625 -4.359375 -3.390625 -5.078125 -2.390625 -5.078125 Z \"/>\n",
       "</symbol>\n",
       "<symbol overflow=\"visible\" id=\"glyph1-4\">\n",
       "<path style=\"stroke:none;\" d=\"M 0 -4.15625 L -8.515625 -4.15625 L -8.515625 -3.46875 C -7.203125 -3.09375 -7.015625 -2.859375 -6.8125 -1.21875 L -6.0625 -1.21875 L -6.0625 -3.109375 L 0 -3.109375 Z \"/>\n",
       "</symbol>\n",
       "<symbol overflow=\"visible\" id=\"glyph1-5\">\n",
       "<path style=\"stroke:none;\" d=\"M -4.09375 -6.078125 C -7.046875 -6.078125 -8.515625 -5.140625 -8.515625 -3.296875 C -8.515625 -1.46875 -7.015625 -0.515625 -4.15625 -0.515625 C -1.296875 -0.515625 0.1875 -1.46875 0.1875 -3.296875 C 0.1875 -5.09375 -1.296875 -6.078125 -4.09375 -6.078125 Z M -4.1875 -5 C -1.78125 -5 -0.703125 -4.453125 -0.703125 -3.28125 C -0.703125 -2.15625 -1.828125 -1.59375 -4.15625 -1.59375 C -6.484375 -1.59375 -7.578125 -2.15625 -7.578125 -3.296875 C -7.578125 -4.4375 -6.46875 -5 -4.1875 -5 Z \"/>\n",
       "</symbol>\n",
       "<symbol overflow=\"visible\" id=\"glyph1-6\">\n",
       "<path style=\"stroke:none;\" d=\"M -6.015625 -6.125 C -7.453125 -6.125 -8.515625 -5.015625 -8.515625 -3.40625 C -8.515625 -1.671875 -7.625 -0.65625 -5.5625 -0.59375 L -5.5625 -1.65625 C -6.984375 -1.734375 -7.578125 -2.328125 -7.578125 -3.375 C -7.578125 -4.328125 -6.90625 -5.046875 -5.984375 -5.046875 C -5.3125 -5.046875 -4.734375 -4.65625 -4.3125 -3.90625 L -3.6875 -2.796875 C -2.671875 -1.015625 -1.875 -0.5 0 -0.40625 L 0 -6.078125 L -1.046875 -6.078125 L -1.046875 -1.59375 C -1.734375 -1.703125 -2.1875 -2.09375 -2.796875 -3.125 L -3.4375 -4.328125 C -4.078125 -5.515625 -4.96875 -6.125 -6.015625 -6.125 Z \"/>\n",
       "</symbol>\n",
       "<symbol overflow=\"visible\" id=\"glyph1-7\">\n",
       "<path style=\"stroke:none;\" d=\"M -7.765625 -7.109375 L -8.75 -7.109375 L -8.75 -0.25 L -7.765625 -0.25 L -7.765625 -3.125 L 0 -3.125 L 0 -4.25 L -7.765625 -4.25 Z \"/>\n",
       "</symbol>\n",
       "<symbol overflow=\"visible\" id=\"glyph1-8\">\n",
       "<path style=\"stroke:none;\" d=\"M 0 -1.84375 L -6.28125 -1.84375 L -6.28125 -0.84375 L 0 -0.84375 Z M -7.234375 -1.96875 L -8.484375 -1.96875 L -8.484375 -0.71875 L -7.234375 -0.71875 Z \"/>\n",
       "</symbol>\n",
       "<symbol overflow=\"visible\" id=\"glyph1-9\">\n",
       "<path style=\"stroke:none;\" d=\"M 0 -9.125 L -4.71875 -9.125 C -5.84375 -9.125 -6.46875 -8.5 -6.46875 -7.3125 C -6.46875 -6.484375 -6.21875 -5.96875 -5.515625 -5.390625 C -6.1875 -5.015625 -6.46875 -4.515625 -6.46875 -3.703125 C -6.46875 -2.859375 -6.15625 -2.296875 -5.40625 -1.765625 L -6.28125 -1.765625 L -6.28125 -0.859375 L 0 -0.859375 L 0 -1.84375 L -3.953125 -1.84375 C -4.859375 -1.84375 -5.59375 -2.515625 -5.59375 -3.328125 C -5.59375 -4.0625 -5.140625 -4.484375 -4.328125 -4.484375 L 0 -4.484375 L 0 -5.484375 L -3.953125 -5.484375 C -4.859375 -5.484375 -5.59375 -6.15625 -5.59375 -6.96875 C -5.59375 -7.703125 -5.125 -8.125 -4.328125 -8.125 L 0 -8.125 Z \"/>\n",
       "</symbol>\n",
       "<symbol overflow=\"visible\" id=\"glyph1-10\">\n",
       "<path style=\"stroke:none;\" d=\"M -2.859375 -6.15625 C -3.765625 -6.15625 -4.34375 -6.078125 -4.8125 -5.90625 C -5.84375 -5.5 -6.46875 -4.53125 -6.46875 -3.359375 C -6.46875 -1.609375 -5.171875 -0.484375 -3.109375 -0.484375 C -1.046875 -0.484375 0.1875 -1.578125 0.1875 -3.34375 C 0.1875 -4.78125 -0.640625 -5.765625 -1.90625 -6.03125 L -1.90625 -5.015625 C -1.078125 -4.734375 -0.75 -4.171875 -0.75 -3.375 C -0.75 -2.328125 -1.421875 -1.546875 -2.859375 -1.53125 Z M -3.75 -5.09375 C -3.75 -5.09375 -3.703125 -5.09375 -3.671875 -5.078125 L -3.671875 -1.546875 C -4.78125 -1.625 -5.546875 -2.34375 -5.546875 -3.34375 C -5.546875 -4.328125 -4.734375 -5.09375 -3.75 -5.09375 Z \"/>\n",
       "</symbol>\n",
       "<symbol overflow=\"visible\" id=\"glyph2-0\">\n",
       "<path style=\"stroke:none;\" d=\"\"/>\n",
       "</symbol>\n",
       "<symbol overflow=\"visible\" id=\"glyph2-1\">\n",
       "<path style=\"stroke:none;\" d=\"M 9.125 -7.25 C 9.125 -9.34375 7.921875 -10.5 5.734375 -10.5 L 1.09375 -10.5 L 1.09375 0 L 3.25 0 L 3.25 -3.75 L 5.953125 -3.75 C 7.875 -3.75 9.125 -5.109375 9.125 -7.25 Z M 6.953125 -7.109375 C 6.953125 -6.046875 6.421875 -5.546875 5.265625 -5.546875 L 3.25 -5.546875 L 3.25 -8.703125 L 5.265625 -8.703125 C 6.421875 -8.703125 6.953125 -8.203125 6.953125 -7.109375 Z \"/>\n",
       "</symbol>\n",
       "<symbol overflow=\"visible\" id=\"glyph2-2\">\n",
       "<path style=\"stroke:none;\" d=\"M 7.546875 0 L 7.546875 -0.25 C 7.1875 -0.578125 7.09375 -0.796875 7.09375 -1.203125 L 7.09375 -5.515625 C 7.09375 -7.109375 6 -7.90625 3.90625 -7.90625 C 1.796875 -7.90625 0.703125 -7.015625 0.578125 -5.21875 L 2.515625 -5.21875 C 2.625 -6.015625 2.953125 -6.28125 3.953125 -6.28125 C 4.71875 -6.28125 5.109375 -6.015625 5.109375 -5.5 C 5.109375 -4.6875 4.515625 -4.765625 3.5 -4.59375 L 2.6875 -4.453125 C 1.15625 -4.171875 0.40625 -3.515625 0.40625 -2.109375 C 0.40625 -0.59375 1.46875 0.125 2.765625 0.125 C 3.625 0.125 4.421875 -0.25 5.125 -0.984375 C 5.125 -0.578125 5.171875 -0.234375 5.359375 0 Z M 5.109375 -3.328125 C 5.109375 -2.15625 4.53125 -1.5 3.515625 -1.5 C 2.84375 -1.5 2.421875 -1.75 2.421875 -2.328125 C 2.421875 -2.921875 2.734375 -3.140625 3.578125 -3.296875 L 4.265625 -3.421875 C 4.796875 -3.53125 4.890625 -3.5625 5.109375 -3.671875 Z \"/>\n",
       "</symbol>\n",
       "<symbol overflow=\"visible\" id=\"glyph2-3\">\n",
       "<path style=\"stroke:none;\" d=\"M 7.515625 -2.6875 L 5.59375 -2.6875 C 5.328125 -1.890625 4.921875 -1.5 4.15625 -1.5 C 3.125 -1.5 2.5 -2.3125 2.5 -3.828125 C 2.5 -5.265625 2.875 -6.28125 4.15625 -6.28125 C 4.96875 -6.28125 5.359375 -5.890625 5.59375 -4.875 L 7.515625 -4.875 C 7.375 -6.765625 6.109375 -7.90625 4.15625 -7.90625 C 1.84375 -7.90625 0.484375 -6.484375 0.484375 -3.828125 C 0.484375 -1.265625 1.828125 0.125 4.140625 0.125 C 6.015625 0.125 7.328125 -1.03125 7.515625 -2.6875 Z \"/>\n",
       "</symbol>\n",
       "<symbol overflow=\"visible\" id=\"glyph2-4\">\n",
       "<path style=\"stroke:none;\" d=\"M 7.890625 0 L 5.0625 -4.84375 L 7.703125 -7.78125 L 5.421875 -7.78125 L 2.859375 -4.75 L 2.859375 -10.5 L 0.84375 -10.5 L 0.84375 0 L 2.859375 0 L 2.859375 -2.546875 L 3.671875 -3.421875 L 5.53125 0 Z \"/>\n",
       "</symbol>\n",
       "<symbol overflow=\"visible\" id=\"glyph2-5\">\n",
       "<path style=\"stroke:none;\" d=\"M 7.5625 -3.59375 C 7.5625 -6.28125 6.203125 -7.90625 3.921875 -7.90625 C 1.6875 -7.90625 0.3125 -6.390625 0.3125 -3.78125 C 0.3125 -1.296875 1.671875 0.125 3.875 0.125 C 5.625 0.125 7.03125 -0.65625 7.484375 -2.1875 L 5.484375 -2.1875 C 5.3125 -1.625 4.6875 -1.40625 3.953125 -1.40625 C 3 -1.40625 2.390625 -1.84375 2.328125 -3.359375 L 7.546875 -3.359375 Z M 5.453125 -4.703125 L 2.359375 -4.703125 C 2.5 -5.78125 3 -6.375 3.890625 -6.375 C 4.75 -6.375 5.359375 -5.8125 5.453125 -4.703125 Z \"/>\n",
       "</symbol>\n",
       "<symbol overflow=\"visible\" id=\"glyph2-6\">\n",
       "<path style=\"stroke:none;\" d=\"M 4.34375 0 L 4.34375 -1.40625 C 4.140625 -1.390625 4.015625 -1.375 3.875 -1.375 C 3.34375 -1.375 3.21875 -1.53125 3.21875 -2.21875 L 3.21875 -6.28125 L 4.34375 -6.28125 L 4.34375 -7.625 L 3.21875 -7.625 L 3.21875 -9.703125 L 1.203125 -9.703125 L 1.203125 -7.625 L 0.203125 -7.625 L 0.203125 -6.28125 L 1.203125 -6.28125 L 1.203125 -1.671875 C 1.203125 -0.453125 1.84375 0.0625 3.171875 0.0625 C 3.609375 0.0625 3.96875 0.015625 4.34375 0 Z \"/>\n",
       "</symbol>\n",
       "<symbol overflow=\"visible\" id=\"glyph2-7\">\n",
       "<path style=\"stroke:none;\" d=\"\"/>\n",
       "</symbol>\n",
       "<symbol overflow=\"visible\" id=\"glyph2-8\">\n",
       "<path style=\"stroke:none;\" d=\"M 7.484375 -2.3125 L 7.484375 -2.40625 C 7.484375 -3.296875 6.984375 -3.96875 5.96875 -4.265625 L 3.421875 -5 C 2.859375 -5.15625 2.703125 -5.28125 2.703125 -5.609375 C 2.703125 -6.03125 3.171875 -6.328125 3.875 -6.328125 C 4.84375 -6.328125 5.3125 -5.984375 5.328125 -5.265625 L 7.28125 -5.265625 C 7.25 -6.921875 5.984375 -7.90625 3.890625 -7.90625 C 1.921875 -7.90625 0.6875 -6.921875 0.6875 -5.3125 C 0.6875 -4.359375 0.953125 -3.84375 2.390625 -3.40625 L 4.796875 -2.65625 C 5.296875 -2.5 5.46875 -2.328125 5.46875 -2.125 C 5.46875 -1.640625 4.90625 -1.453125 3.96875 -1.453125 C 3.046875 -1.453125 2.5625 -1.625 2.390625 -2.46875 L 0.421875 -2.46875 C 0.46875 -0.765625 1.734375 0.125 4.09375 0.125 C 6.28125 0.125 7.484375 -0.734375 7.484375 -2.3125 Z \"/>\n",
       "</symbol>\n",
       "<symbol overflow=\"visible\" id=\"glyph2-9\">\n",
       "<path style=\"stroke:none;\" d=\"M 2.984375 0 L 2.984375 -7.78125 L 0.96875 -7.78125 L 0.96875 0 Z M 3.015625 -8.71875 L 3.015625 -10.734375 L 1 -10.734375 L 1 -8.71875 Z \"/>\n",
       "</symbol>\n",
       "<symbol overflow=\"visible\" id=\"glyph2-10\">\n",
       "<path style=\"stroke:none;\" d=\"M 6.734375 0 L 6.734375 -1.625 L 2.796875 -1.625 L 6.609375 -6.15625 L 6.609375 -7.78125 L 0.5625 -7.78125 L 0.5625 -6.15625 L 4.15625 -6.15625 L 0.296875 -1.625 L 0.296875 0 Z \"/>\n",
       "</symbol>\n",
       "<symbol overflow=\"visible\" id=\"glyph2-11\">\n",
       "<path style=\"stroke:none;\" d=\"M 9.328125 -10.5 L 7.140625 -10.5 L 4.859375 -2.59375 L 2.515625 -10.5 L 0.34375 -10.5 L 3.890625 0 L 5.71875 0 Z \"/>\n",
       "</symbol>\n",
       "<symbol overflow=\"visible\" id=\"glyph2-12\">\n",
       "<path style=\"stroke:none;\" d=\"M 8.609375 -8.703125 L 8.609375 -10.5 L 0.203125 -10.5 L 0.203125 -8.703125 L 3.390625 -8.703125 L 3.390625 0 L 5.546875 0 L 5.546875 -8.703125 Z \"/>\n",
       "</symbol>\n",
       "<symbol overflow=\"visible\" id=\"glyph2-13\">\n",
       "<path style=\"stroke:none;\" d=\"M 11.875 0 L 11.875 -5.5 C 11.875 -7.015625 10.953125 -7.90625 9.390625 -7.90625 C 8.40625 -7.90625 7.71875 -7.5625 7.109375 -6.75 C 6.734375 -7.484375 5.96875 -7.90625 5 -7.90625 C 4.109375 -7.90625 3.53125 -7.609375 2.859375 -6.8125 L 2.859375 -7.78125 L 0.859375 -7.78125 L 0.859375 0 L 2.875 0 L 2.875 -4.671875 C 2.875 -5.625 3.40625 -6.1875 4.265625 -6.1875 C 4.9375 -6.1875 5.359375 -5.8125 5.359375 -5.1875 L 5.359375 0 L 7.375 0 L 7.375 -4.671875 C 7.375 -5.625 7.890625 -6.1875 8.765625 -6.1875 C 9.4375 -6.1875 9.859375 -5.8125 9.859375 -5.1875 L 9.859375 0 Z \"/>\n",
       "</symbol>\n",
       "<symbol overflow=\"visible\" id=\"glyph2-14\">\n",
       "<path style=\"stroke:none;\" d=\"M 4.359375 2.875 C 2.84375 -0.09375 2.34375 -1.703125 2.34375 -3.8125 C 2.34375 -5.921875 2.84375 -7.5625 4.359375 -10.5 L 2.921875 -10.5 C 1.265625 -8.015625 0.578125 -6.015625 0.578125 -3.8125 C 0.578125 -1.59375 1.265625 0.390625 2.921875 2.875 Z \"/>\n",
       "</symbol>\n",
       "<symbol overflow=\"visible\" id=\"glyph2-15\">\n",
       "<path style=\"stroke:none;\" d=\"M 5.453125 0 L 5.453125 -10.21875 L 4.109375 -10.21875 C 3.78125 -9 2.734375 -8.390625 0.984375 -8.390625 L 0.984375 -7.046875 L 3.421875 -7.046875 L 3.421875 0 Z \"/>\n",
       "</symbol>\n",
       "<symbol overflow=\"visible\" id=\"glyph2-16\">\n",
       "<path style=\"stroke:none;\" d=\"M 8.28125 -3.78125 C 8.28125 -6 7.0625 -7.90625 5.015625 -7.90625 C 4.046875 -7.90625 3.359375 -7.546875 2.859375 -6.765625 L 2.859375 -10.5 L 0.84375 -10.5 L 0.84375 0 L 2.859375 0 L 2.859375 -0.890625 C 3.359375 -0.234375 4.03125 0.125 5.015625 0.125 C 6.875 0.125 8.28125 -1.4375 8.28125 -3.78125 Z M 6.265625 -3.875 C 6.265625 -2.46875 5.5625 -1.5625 4.5625 -1.5625 C 3.546875 -1.5625 2.859375 -2.4375 2.859375 -3.921875 C 2.859375 -5.328125 3.5625 -6.21875 4.5625 -6.21875 C 5.5625 -6.21875 6.265625 -5.3125 6.265625 -3.875 Z \"/>\n",
       "</symbol>\n",
       "<symbol overflow=\"visible\" id=\"glyph2-17\">\n",
       "<path style=\"stroke:none;\" d=\"M 4.1875 -10.28125 L 2.796875 -10.28125 L -0.171875 0.203125 L 1.21875 0.203125 Z \"/>\n",
       "</symbol>\n",
       "<symbol overflow=\"visible\" id=\"glyph2-18\">\n",
       "<path style=\"stroke:none;\" d=\"M 4.109375 -3.796875 C 4.109375 -6.015625 3.421875 -8.015625 1.75 -10.5 L 0.3125 -10.5 C 1.84375 -7.53125 2.328125 -5.921875 2.328125 -3.796875 C 2.328125 -1.703125 1.84375 -0.0625 0.3125 2.875 L 1.75 2.875 C 3.421875 0.390625 4.109375 -1.59375 4.109375 -3.796875 Z \"/>\n",
       "</symbol>\n",
       "</g>\n",
       "<clipPath id=\"clip1\">\n",
       "  <path d=\"M 59.039062 59.039062 L 474.757812 59.039062 L 474.757812 431.558594 L 59.039062 431.558594 Z \"/>\n",
       "</clipPath>\n",
       "<clipPath id=\"clip2\">\n",
       "  <path d=\"M 59.039062 64 L 474.757812 64 L 474.757812 431.558594 L 59.039062 431.558594 Z \"/>\n",
       "</clipPath>\n",
       "<clipPath id=\"clip3\">\n",
       "  <path d=\"M 59.039062 59.039062 L 474.757812 59.039062 L 474.757812 429 L 59.039062 429 Z \"/>\n",
       "</clipPath>\n",
       "</defs>\n",
       "<g id=\"surface1374\">\n",
       "<rect x=\"0\" y=\"0\" width=\"504\" height=\"504\" style=\"fill:rgb(100%,100%,100%);fill-opacity:1;stroke:none;\"/>\n",
       "<path style=\"fill:none;stroke-width:0.75;stroke-linecap:round;stroke-linejoin:round;stroke:rgb(0%,0%,0%);stroke-opacity:1;stroke-miterlimit:10;\" d=\"M 77.101562 413.261719 C 77.101562 416.863281 71.699219 416.863281 71.699219 413.261719 C 71.699219 409.664062 77.101562 409.664062 77.101562 413.261719 \"/>\n",
       "<path style=\"fill:none;stroke-width:0.75;stroke-linecap:round;stroke-linejoin:round;stroke:rgb(0%,0%,0%);stroke-opacity:1;stroke-miterlimit:10;\" d=\"M 77.101562 416.800781 C 77.101562 420.398438 71.699219 420.398438 71.699219 416.800781 C 71.699219 413.199219 77.101562 413.199219 77.101562 416.800781 \"/>\n",
       "<path style=\"fill:none;stroke-width:0.75;stroke-linecap:round;stroke-linejoin:round;stroke:rgb(0%,0%,0%);stroke-opacity:1;stroke-miterlimit:10;\" d=\"M 77.101562 416.800781 C 77.101562 420.398438 71.699219 420.398438 71.699219 416.800781 C 71.699219 413.199219 77.101562 413.199219 77.101562 416.800781 \"/>\n",
       "<path style=\"fill:none;stroke-width:0.75;stroke-linecap:round;stroke-linejoin:round;stroke:rgb(0%,0%,0%);stroke-opacity:1;stroke-miterlimit:10;\" d=\"M 77.101562 416.800781 C 77.101562 420.398438 71.699219 420.398438 71.699219 416.800781 C 71.699219 413.199219 77.101562 413.199219 77.101562 416.800781 \"/>\n",
       "<path style=\"fill:none;stroke-width:0.75;stroke-linecap:round;stroke-linejoin:round;stroke:rgb(0%,0%,0%);stroke-opacity:1;stroke-miterlimit:10;\" d=\"M 77.101562 416.800781 C 77.101562 420.398438 71.699219 420.398438 71.699219 416.800781 C 71.699219 413.199219 77.101562 413.199219 77.101562 416.800781 \"/>\n",
       "<path style=\"fill:none;stroke-width:0.75;stroke-linecap:round;stroke-linejoin:round;stroke:rgb(0%,0%,0%);stroke-opacity:1;stroke-miterlimit:10;\" d=\"M 112.007812 388.585938 C 112.007812 392.1875 106.609375 392.1875 106.609375 388.585938 C 106.609375 384.984375 112.007812 384.984375 112.007812 388.585938 \"/>\n",
       "<path style=\"fill:none;stroke-width:0.75;stroke-linecap:round;stroke-linejoin:round;stroke:rgb(0%,0%,0%);stroke-opacity:1;stroke-miterlimit:10;\" d=\"M 112.007812 388.585938 C 112.007812 392.1875 106.609375 392.1875 106.609375 388.585938 C 106.609375 384.984375 112.007812 384.984375 112.007812 388.585938 \"/>\n",
       "<path style=\"fill:none;stroke-width:0.75;stroke-linecap:round;stroke-linejoin:round;stroke:rgb(0%,0%,0%);stroke-opacity:1;stroke-miterlimit:10;\" d=\"M 112.007812 388.585938 C 112.007812 392.1875 106.609375 392.1875 106.609375 388.585938 C 106.609375 384.984375 112.007812 384.984375 112.007812 388.585938 \"/>\n",
       "<path style=\"fill:none;stroke-width:0.75;stroke-linecap:round;stroke-linejoin:round;stroke:rgb(0%,0%,0%);stroke-opacity:1;stroke-miterlimit:10;\" d=\"M 112.007812 388.585938 C 112.007812 392.1875 106.609375 392.1875 106.609375 388.585938 C 106.609375 384.984375 112.007812 384.984375 112.007812 388.585938 \"/>\n",
       "<path style=\"fill:none;stroke-width:0.75;stroke-linecap:round;stroke-linejoin:round;stroke:rgb(0%,0%,0%);stroke-opacity:1;stroke-miterlimit:10;\" d=\"M 112.007812 388.585938 C 112.007812 392.1875 106.609375 392.1875 106.609375 388.585938 C 106.609375 384.984375 112.007812 384.984375 112.007812 388.585938 \"/>\n",
       "<path style=\"fill:none;stroke-width:0.75;stroke-linecap:round;stroke-linejoin:round;stroke:rgb(0%,0%,0%);stroke-opacity:1;stroke-miterlimit:10;\" d=\"M 146.917969 354.878906 C 146.917969 358.476562 141.519531 358.476562 141.519531 354.878906 C 141.519531 351.277344 146.917969 351.277344 146.917969 354.878906 \"/>\n",
       "<path style=\"fill:none;stroke-width:0.75;stroke-linecap:round;stroke-linejoin:round;stroke:rgb(0%,0%,0%);stroke-opacity:1;stroke-miterlimit:10;\" d=\"M 146.917969 354.878906 C 146.917969 358.476562 141.519531 358.476562 141.519531 354.878906 C 141.519531 351.277344 146.917969 351.277344 146.917969 354.878906 \"/>\n",
       "<path style=\"fill:none;stroke-width:0.75;stroke-linecap:round;stroke-linejoin:round;stroke:rgb(0%,0%,0%);stroke-opacity:1;stroke-miterlimit:10;\" d=\"M 146.917969 354.878906 C 146.917969 358.476562 141.519531 358.476562 141.519531 354.878906 C 141.519531 351.277344 146.917969 351.277344 146.917969 354.878906 \"/>\n",
       "<path style=\"fill:none;stroke-width:0.75;stroke-linecap:round;stroke-linejoin:round;stroke:rgb(0%,0%,0%);stroke-opacity:1;stroke-miterlimit:10;\" d=\"M 146.917969 354.878906 C 146.917969 358.476562 141.519531 358.476562 141.519531 354.878906 C 141.519531 351.277344 146.917969 351.277344 146.917969 354.878906 \"/>\n",
       "<path style=\"fill:none;stroke-width:0.75;stroke-linecap:round;stroke-linejoin:round;stroke:rgb(0%,0%,0%);stroke-opacity:1;stroke-miterlimit:10;\" d=\"M 146.917969 354.878906 C 146.917969 358.476562 141.519531 358.476562 141.519531 354.878906 C 141.519531 351.277344 146.917969 351.277344 146.917969 354.878906 \"/>\n",
       "<path style=\"fill:none;stroke-width:0.75;stroke-linecap:round;stroke-linejoin:round;stroke:rgb(0%,0%,0%);stroke-opacity:1;stroke-miterlimit:10;\" d=\"M 181.828125 322.078125 C 181.828125 325.675781 176.425781 325.675781 176.425781 322.078125 C 176.425781 318.476562 181.828125 318.476562 181.828125 322.078125 \"/>\n",
       "<path style=\"fill:none;stroke-width:0.75;stroke-linecap:round;stroke-linejoin:round;stroke:rgb(0%,0%,0%);stroke-opacity:1;stroke-miterlimit:10;\" d=\"M 181.828125 322.078125 C 181.828125 325.675781 176.425781 325.675781 176.425781 322.078125 C 176.425781 318.476562 181.828125 318.476562 181.828125 322.078125 \"/>\n",
       "<path style=\"fill:none;stroke-width:0.75;stroke-linecap:round;stroke-linejoin:round;stroke:rgb(0%,0%,0%);stroke-opacity:1;stroke-miterlimit:10;\" d=\"M 181.828125 322.078125 C 181.828125 325.675781 176.425781 325.675781 176.425781 322.078125 C 176.425781 318.476562 181.828125 318.476562 181.828125 322.078125 \"/>\n",
       "<path style=\"fill:none;stroke-width:0.75;stroke-linecap:round;stroke-linejoin:round;stroke:rgb(0%,0%,0%);stroke-opacity:1;stroke-miterlimit:10;\" d=\"M 181.828125 322.078125 C 181.828125 325.675781 176.425781 325.675781 176.425781 322.078125 C 176.425781 318.476562 181.828125 318.476562 181.828125 322.078125 \"/>\n",
       "<path style=\"fill:none;stroke-width:0.75;stroke-linecap:round;stroke-linejoin:round;stroke:rgb(0%,0%,0%);stroke-opacity:1;stroke-miterlimit:10;\" d=\"M 181.828125 322.078125 C 181.828125 325.675781 176.425781 325.675781 176.425781 322.078125 C 176.425781 318.476562 181.828125 318.476562 181.828125 322.078125 \"/>\n",
       "<path style=\"fill:none;stroke-width:0.75;stroke-linecap:round;stroke-linejoin:round;stroke:rgb(0%,0%,0%);stroke-opacity:1;stroke-miterlimit:10;\" d=\"M 216.738281 288.386719 C 216.738281 291.984375 211.335938 291.984375 211.335938 288.386719 C 211.335938 284.785156 216.738281 284.785156 216.738281 288.386719 \"/>\n",
       "<path style=\"fill:none;stroke-width:0.75;stroke-linecap:round;stroke-linejoin:round;stroke:rgb(0%,0%,0%);stroke-opacity:1;stroke-miterlimit:10;\" d=\"M 216.738281 288.386719 C 216.738281 291.984375 211.335938 291.984375 211.335938 288.386719 C 211.335938 284.785156 216.738281 284.785156 216.738281 288.386719 \"/>\n",
       "<path style=\"fill:none;stroke-width:0.75;stroke-linecap:round;stroke-linejoin:round;stroke:rgb(0%,0%,0%);stroke-opacity:1;stroke-miterlimit:10;\" d=\"M 216.738281 288.386719 C 216.738281 291.984375 211.335938 291.984375 211.335938 288.386719 C 211.335938 284.785156 216.738281 284.785156 216.738281 288.386719 \"/>\n",
       "<path style=\"fill:none;stroke-width:0.75;stroke-linecap:round;stroke-linejoin:round;stroke:rgb(0%,0%,0%);stroke-opacity:1;stroke-miterlimit:10;\" d=\"M 216.738281 295.089844 C 216.738281 298.6875 211.335938 298.6875 211.335938 295.089844 C 211.335938 291.488281 216.738281 291.488281 216.738281 295.089844 \"/>\n",
       "<path style=\"fill:none;stroke-width:0.75;stroke-linecap:round;stroke-linejoin:round;stroke:rgb(0%,0%,0%);stroke-opacity:1;stroke-miterlimit:10;\" d=\"M 216.738281 288.386719 C 216.738281 291.984375 211.335938 291.984375 211.335938 288.386719 C 211.335938 284.785156 216.738281 284.785156 216.738281 288.386719 \"/>\n",
       "<path style=\"fill:none;stroke-width:0.75;stroke-linecap:round;stroke-linejoin:round;stroke:rgb(0%,0%,0%);stroke-opacity:1;stroke-miterlimit:10;\" d=\"M 251.644531 257.179688 C 251.644531 260.777344 246.246094 260.777344 246.246094 257.179688 C 246.246094 253.578125 251.644531 253.578125 251.644531 257.179688 \"/>\n",
       "<path style=\"fill:none;stroke-width:0.75;stroke-linecap:round;stroke-linejoin:round;stroke:rgb(0%,0%,0%);stroke-opacity:1;stroke-miterlimit:10;\" d=\"M 251.644531 257.179688 C 251.644531 260.777344 246.246094 260.777344 246.246094 257.179688 C 246.246094 253.578125 251.644531 253.578125 251.644531 257.179688 \"/>\n",
       "<path style=\"fill:none;stroke-width:0.75;stroke-linecap:round;stroke-linejoin:round;stroke:rgb(0%,0%,0%);stroke-opacity:1;stroke-miterlimit:10;\" d=\"M 251.644531 257.179688 C 251.644531 260.777344 246.246094 260.777344 246.246094 257.179688 C 246.246094 253.578125 251.644531 253.578125 251.644531 257.179688 \"/>\n",
       "<path style=\"fill:none;stroke-width:0.75;stroke-linecap:round;stroke-linejoin:round;stroke:rgb(0%,0%,0%);stroke-opacity:1;stroke-miterlimit:10;\" d=\"M 251.644531 257.179688 C 251.644531 260.777344 246.246094 260.777344 246.246094 257.179688 C 246.246094 253.578125 251.644531 253.578125 251.644531 257.179688 \"/>\n",
       "<path style=\"fill:none;stroke-width:0.75;stroke-linecap:round;stroke-linejoin:round;stroke:rgb(0%,0%,0%);stroke-opacity:1;stroke-miterlimit:10;\" d=\"M 251.644531 257.179688 C 251.644531 260.777344 246.246094 260.777344 246.246094 257.179688 C 246.246094 253.578125 251.644531 253.578125 251.644531 257.179688 \"/>\n",
       "<path style=\"fill:none;stroke-width:0.75;stroke-linecap:round;stroke-linejoin:round;stroke:rgb(0%,0%,0%);stroke-opacity:1;stroke-miterlimit:10;\" d=\"M 286.554688 232.828125 C 286.554688 236.425781 281.15625 236.425781 281.15625 232.828125 C 281.15625 229.226562 286.554688 229.226562 286.554688 232.828125 \"/>\n",
       "<path style=\"fill:none;stroke-width:0.75;stroke-linecap:round;stroke-linejoin:round;stroke:rgb(0%,0%,0%);stroke-opacity:1;stroke-miterlimit:10;\" d=\"M 286.554688 232.828125 C 286.554688 236.425781 281.15625 236.425781 281.15625 232.828125 C 281.15625 229.226562 286.554688 229.226562 286.554688 232.828125 \"/>\n",
       "<path style=\"fill:none;stroke-width:0.75;stroke-linecap:round;stroke-linejoin:round;stroke:rgb(0%,0%,0%);stroke-opacity:1;stroke-miterlimit:10;\" d=\"M 286.554688 232.828125 C 286.554688 236.425781 281.15625 236.425781 281.15625 232.828125 C 281.15625 229.226562 286.554688 229.226562 286.554688 232.828125 \"/>\n",
       "<path style=\"fill:none;stroke-width:0.75;stroke-linecap:round;stroke-linejoin:round;stroke:rgb(0%,0%,0%);stroke-opacity:1;stroke-miterlimit:10;\" d=\"M 286.554688 232.828125 C 286.554688 236.425781 281.15625 236.425781 281.15625 232.828125 C 281.15625 229.226562 286.554688 229.226562 286.554688 232.828125 \"/>\n",
       "<path style=\"fill:none;stroke-width:0.75;stroke-linecap:round;stroke-linejoin:round;stroke:rgb(0%,0%,0%);stroke-opacity:1;stroke-miterlimit:10;\" d=\"M 286.554688 232.828125 C 286.554688 236.425781 281.15625 236.425781 281.15625 232.828125 C 281.15625 229.226562 286.554688 229.226562 286.554688 232.828125 \"/>\n",
       "<path style=\"fill:none;stroke-width:0.75;stroke-linecap:round;stroke-linejoin:round;stroke:rgb(0%,0%,0%);stroke-opacity:1;stroke-miterlimit:10;\" d=\"M 321.464844 201.105469 C 321.464844 204.703125 316.0625 204.703125 316.0625 201.105469 C 316.0625 197.503906 321.464844 197.503906 321.464844 201.105469 \"/>\n",
       "<path style=\"fill:none;stroke-width:0.75;stroke-linecap:round;stroke-linejoin:round;stroke:rgb(0%,0%,0%);stroke-opacity:1;stroke-miterlimit:10;\" d=\"M 321.464844 201.105469 C 321.464844 204.703125 316.0625 204.703125 316.0625 201.105469 C 316.0625 197.503906 321.464844 197.503906 321.464844 201.105469 \"/>\n",
       "<path style=\"fill:none;stroke-width:0.75;stroke-linecap:round;stroke-linejoin:round;stroke:rgb(0%,0%,0%);stroke-opacity:1;stroke-miterlimit:10;\" d=\"M 321.464844 201.105469 C 321.464844 204.703125 316.0625 204.703125 316.0625 201.105469 C 316.0625 197.503906 321.464844 197.503906 321.464844 201.105469 \"/>\n",
       "<path style=\"fill:none;stroke-width:0.75;stroke-linecap:round;stroke-linejoin:round;stroke:rgb(0%,0%,0%);stroke-opacity:1;stroke-miterlimit:10;\" d=\"M 321.464844 201.105469 C 321.464844 204.703125 316.0625 204.703125 316.0625 201.105469 C 316.0625 197.503906 321.464844 197.503906 321.464844 201.105469 \"/>\n",
       "<path style=\"fill:none;stroke-width:0.75;stroke-linecap:round;stroke-linejoin:round;stroke:rgb(0%,0%,0%);stroke-opacity:1;stroke-miterlimit:10;\" d=\"M 321.464844 201.105469 C 321.464844 204.703125 316.0625 204.703125 316.0625 201.105469 C 316.0625 197.503906 321.464844 197.503906 321.464844 201.105469 \"/>\n",
       "<path style=\"fill:none;stroke-width:0.75;stroke-linecap:round;stroke-linejoin:round;stroke:rgb(0%,0%,0%);stroke-opacity:1;stroke-miterlimit:10;\" d=\"M 356.371094 168.707031 C 356.371094 172.304688 350.972656 172.304688 350.972656 168.707031 C 350.972656 165.105469 356.371094 165.105469 356.371094 168.707031 \"/>\n",
       "<path style=\"fill:none;stroke-width:0.75;stroke-linecap:round;stroke-linejoin:round;stroke:rgb(0%,0%,0%);stroke-opacity:1;stroke-miterlimit:10;\" d=\"M 356.371094 168.707031 C 356.371094 172.304688 350.972656 172.304688 350.972656 168.707031 C 350.972656 165.105469 356.371094 165.105469 356.371094 168.707031 \"/>\n",
       "<path style=\"fill:none;stroke-width:0.75;stroke-linecap:round;stroke-linejoin:round;stroke:rgb(0%,0%,0%);stroke-opacity:1;stroke-miterlimit:10;\" d=\"M 356.371094 168.707031 C 356.371094 172.304688 350.972656 172.304688 350.972656 168.707031 C 350.972656 165.105469 356.371094 165.105469 356.371094 168.707031 \"/>\n",
       "<path style=\"fill:none;stroke-width:0.75;stroke-linecap:round;stroke-linejoin:round;stroke:rgb(0%,0%,0%);stroke-opacity:1;stroke-miterlimit:10;\" d=\"M 356.371094 168.707031 C 356.371094 172.304688 350.972656 172.304688 350.972656 168.707031 C 350.972656 165.105469 356.371094 165.105469 356.371094 168.707031 \"/>\n",
       "<path style=\"fill:none;stroke-width:0.75;stroke-linecap:round;stroke-linejoin:round;stroke:rgb(0%,0%,0%);stroke-opacity:1;stroke-miterlimit:10;\" d=\"M 356.371094 168.707031 C 356.371094 172.304688 350.972656 172.304688 350.972656 168.707031 C 350.972656 165.105469 356.371094 165.105469 356.371094 168.707031 \"/>\n",
       "<path style=\"fill:none;stroke-width:0.75;stroke-linecap:round;stroke-linejoin:round;stroke:rgb(0%,0%,0%);stroke-opacity:1;stroke-miterlimit:10;\" d=\"M 391.28125 130.421875 C 391.28125 134.023438 385.882812 134.023438 385.882812 130.421875 C 385.882812 126.820312 391.28125 126.820312 391.28125 130.421875 \"/>\n",
       "<path style=\"fill:none;stroke-width:0.75;stroke-linecap:round;stroke-linejoin:round;stroke:rgb(0%,0%,0%);stroke-opacity:1;stroke-miterlimit:10;\" d=\"M 391.28125 130.421875 C 391.28125 134.023438 385.882812 134.023438 385.882812 130.421875 C 385.882812 126.820312 391.28125 126.820312 391.28125 130.421875 \"/>\n",
       "<path style=\"fill:none;stroke-width:0.75;stroke-linecap:round;stroke-linejoin:round;stroke:rgb(0%,0%,0%);stroke-opacity:1;stroke-miterlimit:10;\" d=\"M 391.28125 141.105469 C 391.28125 144.703125 385.882812 144.703125 385.882812 141.105469 C 385.882812 137.503906 391.28125 137.503906 391.28125 141.105469 \"/>\n",
       "<path style=\"fill:none;stroke-width:0.75;stroke-linecap:round;stroke-linejoin:round;stroke:rgb(0%,0%,0%);stroke-opacity:1;stroke-miterlimit:10;\" d=\"M 391.28125 130.421875 C 391.28125 134.023438 385.882812 134.023438 385.882812 130.421875 C 385.882812 126.820312 391.28125 126.820312 391.28125 130.421875 \"/>\n",
       "<path style=\"fill:none;stroke-width:0.75;stroke-linecap:round;stroke-linejoin:round;stroke:rgb(0%,0%,0%);stroke-opacity:1;stroke-miterlimit:10;\" d=\"M 391.28125 130.421875 C 391.28125 134.023438 385.882812 134.023438 385.882812 130.421875 C 385.882812 126.820312 391.28125 126.820312 391.28125 130.421875 \"/>\n",
       "<path style=\"fill:none;stroke-width:0.75;stroke-linecap:round;stroke-linejoin:round;stroke:rgb(0%,0%,0%);stroke-opacity:1;stroke-miterlimit:10;\" d=\"M 426.191406 96.8125 C 426.191406 100.414062 420.789062 100.414062 420.789062 96.8125 C 420.789062 93.210938 426.191406 93.210938 426.191406 96.8125 \"/>\n",
       "<path style=\"fill:none;stroke-width:0.75;stroke-linecap:round;stroke-linejoin:round;stroke:rgb(0%,0%,0%);stroke-opacity:1;stroke-miterlimit:10;\" d=\"M 426.191406 96.8125 C 426.191406 100.414062 420.789062 100.414062 420.789062 96.8125 C 420.789062 93.210938 426.191406 93.210938 426.191406 96.8125 \"/>\n",
       "<path style=\"fill:none;stroke-width:0.75;stroke-linecap:round;stroke-linejoin:round;stroke:rgb(0%,0%,0%);stroke-opacity:1;stroke-miterlimit:10;\" d=\"M 426.191406 108.003906 C 426.191406 111.601562 420.789062 111.601562 420.789062 108.003906 C 420.789062 104.402344 426.191406 104.402344 426.191406 108.003906 \"/>\n",
       "<path style=\"fill:none;stroke-width:0.75;stroke-linecap:round;stroke-linejoin:round;stroke:rgb(0%,0%,0%);stroke-opacity:1;stroke-miterlimit:10;\" d=\"M 426.191406 108.003906 C 426.191406 111.601562 420.789062 111.601562 420.789062 108.003906 C 420.789062 104.402344 426.191406 104.402344 426.191406 108.003906 \"/>\n",
       "<path style=\"fill:none;stroke-width:0.75;stroke-linecap:round;stroke-linejoin:round;stroke:rgb(0%,0%,0%);stroke-opacity:1;stroke-miterlimit:10;\" d=\"M 426.191406 108.003906 C 426.191406 111.601562 420.789062 111.601562 420.789062 108.003906 C 420.789062 104.402344 426.191406 104.402344 426.191406 108.003906 \"/>\n",
       "<path style=\"fill:none;stroke-width:0.75;stroke-linecap:round;stroke-linejoin:round;stroke:rgb(0%,0%,0%);stroke-opacity:1;stroke-miterlimit:10;\" d=\"M 461.101562 72.800781 C 461.101562 76.398438 455.699219 76.398438 455.699219 72.800781 C 455.699219 69.199219 461.101562 69.199219 461.101562 72.800781 \"/>\n",
       "<path style=\"fill:none;stroke-width:0.75;stroke-linecap:round;stroke-linejoin:round;stroke:rgb(0%,0%,0%);stroke-opacity:1;stroke-miterlimit:10;\" d=\"M 461.101562 72.800781 C 461.101562 76.398438 455.699219 76.398438 455.699219 72.800781 C 455.699219 69.199219 461.101562 69.199219 461.101562 72.800781 \"/>\n",
       "<path style=\"fill:none;stroke-width:0.75;stroke-linecap:round;stroke-linejoin:round;stroke:rgb(0%,0%,0%);stroke-opacity:1;stroke-miterlimit:10;\" d=\"M 461.101562 72.800781 C 461.101562 76.398438 455.699219 76.398438 455.699219 72.800781 C 455.699219 69.199219 461.101562 69.199219 461.101562 72.800781 \"/>\n",
       "<path style=\"fill:none;stroke-width:0.75;stroke-linecap:round;stroke-linejoin:round;stroke:rgb(0%,0%,0%);stroke-opacity:1;stroke-miterlimit:10;\" d=\"M 461.101562 72.800781 C 461.101562 76.398438 455.699219 76.398438 455.699219 72.800781 C 455.699219 69.199219 461.101562 69.199219 461.101562 72.800781 \"/>\n",
       "<path style=\"fill:none;stroke-width:0.75;stroke-linecap:round;stroke-linejoin:round;stroke:rgb(0%,0%,0%);stroke-opacity:1;stroke-miterlimit:10;\" d=\"M 461.101562 72.800781 C 461.101562 76.398438 455.699219 76.398438 455.699219 72.800781 C 455.699219 69.199219 461.101562 69.199219 461.101562 72.800781 \"/>\n",
       "<path style=\"fill:none;stroke-width:0.75;stroke-linecap:round;stroke-linejoin:round;stroke:rgb(0%,0%,0%);stroke-opacity:1;stroke-miterlimit:10;\" d=\"M 91.855469 430.558594 L 440.945312 430.558594 \"/>\n",
       "<path style=\"fill:none;stroke-width:0.75;stroke-linecap:round;stroke-linejoin:round;stroke:rgb(0%,0%,0%);stroke-opacity:1;stroke-miterlimit:10;\" d=\"M 91.855469 430.558594 L 91.855469 437.761719 \"/>\n",
       "<path style=\"fill:none;stroke-width:0.75;stroke-linecap:round;stroke-linejoin:round;stroke:rgb(0%,0%,0%);stroke-opacity:1;stroke-miterlimit:10;\" d=\"M 161.671875 430.558594 L 161.671875 437.761719 \"/>\n",
       "<path style=\"fill:none;stroke-width:0.75;stroke-linecap:round;stroke-linejoin:round;stroke:rgb(0%,0%,0%);stroke-opacity:1;stroke-miterlimit:10;\" d=\"M 231.492188 430.558594 L 231.492188 437.761719 \"/>\n",
       "<path style=\"fill:none;stroke-width:0.75;stroke-linecap:round;stroke-linejoin:round;stroke:rgb(0%,0%,0%);stroke-opacity:1;stroke-miterlimit:10;\" d=\"M 301.308594 430.558594 L 301.308594 437.761719 \"/>\n",
       "<path style=\"fill:none;stroke-width:0.75;stroke-linecap:round;stroke-linejoin:round;stroke:rgb(0%,0%,0%);stroke-opacity:1;stroke-miterlimit:10;\" d=\"M 371.128906 430.558594 L 371.128906 437.761719 \"/>\n",
       "<path style=\"fill:none;stroke-width:0.75;stroke-linecap:round;stroke-linejoin:round;stroke:rgb(0%,0%,0%);stroke-opacity:1;stroke-miterlimit:10;\" d=\"M 440.945312 430.558594 L 440.945312 437.761719 \"/>\n",
       "<g style=\"fill:rgb(0%,0%,0%);fill-opacity:1;\">\n",
       "  <use xlink:href=\"#glyph0-1\" x=\"81.355469\" y=\"456.256836\"/>\n",
       "  <use xlink:href=\"#glyph0-2\" x=\"88.027344\" y=\"456.256836\"/>\n",
       "  <use xlink:href=\"#glyph0-2\" x=\"94.699219\" y=\"456.256836\"/>\n",
       "</g>\n",
       "<g style=\"fill:rgb(0%,0%,0%);fill-opacity:1;\">\n",
       "  <use xlink:href=\"#glyph0-3\" x=\"151.171875\" y=\"456.256836\"/>\n",
       "  <use xlink:href=\"#glyph0-2\" x=\"157.84375\" y=\"456.256836\"/>\n",
       "  <use xlink:href=\"#glyph0-2\" x=\"164.515625\" y=\"456.256836\"/>\n",
       "</g>\n",
       "<g style=\"fill:rgb(0%,0%,0%);fill-opacity:1;\">\n",
       "  <use xlink:href=\"#glyph0-4\" x=\"220.992188\" y=\"456.256836\"/>\n",
       "  <use xlink:href=\"#glyph0-2\" x=\"227.664062\" y=\"456.256836\"/>\n",
       "  <use xlink:href=\"#glyph0-2\" x=\"234.335938\" y=\"456.256836\"/>\n",
       "</g>\n",
       "<g style=\"fill:rgb(0%,0%,0%);fill-opacity:1;\">\n",
       "  <use xlink:href=\"#glyph0-5\" x=\"287.808594\" y=\"456.256836\"/>\n",
       "  <use xlink:href=\"#glyph0-2\" x=\"294.480469\" y=\"456.256836\"/>\n",
       "  <use xlink:href=\"#glyph0-2\" x=\"301.152344\" y=\"456.256836\"/>\n",
       "  <use xlink:href=\"#glyph0-2\" x=\"307.824219\" y=\"456.256836\"/>\n",
       "</g>\n",
       "<g style=\"fill:rgb(0%,0%,0%);fill-opacity:1;\">\n",
       "  <use xlink:href=\"#glyph0-5\" x=\"357.628906\" y=\"456.256836\"/>\n",
       "  <use xlink:href=\"#glyph0-6\" x=\"364.300781\" y=\"456.256836\"/>\n",
       "  <use xlink:href=\"#glyph0-2\" x=\"370.972656\" y=\"456.256836\"/>\n",
       "  <use xlink:href=\"#glyph0-2\" x=\"377.644531\" y=\"456.256836\"/>\n",
       "</g>\n",
       "<g style=\"fill:rgb(0%,0%,0%);fill-opacity:1;\">\n",
       "  <use xlink:href=\"#glyph0-5\" x=\"427.445312\" y=\"456.256836\"/>\n",
       "  <use xlink:href=\"#glyph0-1\" x=\"434.117188\" y=\"456.256836\"/>\n",
       "  <use xlink:href=\"#glyph0-2\" x=\"440.789062\" y=\"456.256836\"/>\n",
       "  <use xlink:href=\"#glyph0-2\" x=\"447.460938\" y=\"456.256836\"/>\n",
       "</g>\n",
       "<path style=\"fill:none;stroke-width:0.75;stroke-linecap:round;stroke-linejoin:round;stroke:rgb(0%,0%,0%);stroke-opacity:1;stroke-miterlimit:10;\" d=\"M 59.039062 420.128906 L 59.039062 79.835938 \"/>\n",
       "<path style=\"fill:none;stroke-width:0.75;stroke-linecap:round;stroke-linejoin:round;stroke:rgb(0%,0%,0%);stroke-opacity:1;stroke-miterlimit:10;\" d=\"M 59.039062 420.128906 L 51.839844 420.128906 \"/>\n",
       "<path style=\"fill:none;stroke-width:0.75;stroke-linecap:round;stroke-linejoin:round;stroke:rgb(0%,0%,0%);stroke-opacity:1;stroke-miterlimit:10;\" d=\"M 59.039062 335.058594 L 51.839844 335.058594 \"/>\n",
       "<path style=\"fill:none;stroke-width:0.75;stroke-linecap:round;stroke-linejoin:round;stroke:rgb(0%,0%,0%);stroke-opacity:1;stroke-miterlimit:10;\" d=\"M 59.039062 249.984375 L 51.839844 249.984375 \"/>\n",
       "<path style=\"fill:none;stroke-width:0.75;stroke-linecap:round;stroke-linejoin:round;stroke:rgb(0%,0%,0%);stroke-opacity:1;stroke-miterlimit:10;\" d=\"M 59.039062 164.910156 L 51.839844 164.910156 \"/>\n",
       "<path style=\"fill:none;stroke-width:0.75;stroke-linecap:round;stroke-linejoin:round;stroke:rgb(0%,0%,0%);stroke-opacity:1;stroke-miterlimit:10;\" d=\"M 59.039062 79.835938 L 51.839844 79.835938 \"/>\n",
       "<g style=\"fill:rgb(0%,0%,0%);fill-opacity:1;\">\n",
       "  <use xlink:href=\"#glyph1-1\" x=\"41.538086\" y=\"423.628906\"/>\n",
       "</g>\n",
       "<g style=\"fill:rgb(0%,0%,0%);fill-opacity:1;\">\n",
       "  <use xlink:href=\"#glyph1-2\" x=\"41.538086\" y=\"338.558594\"/>\n",
       "</g>\n",
       "<g style=\"fill:rgb(0%,0%,0%);fill-opacity:1;\">\n",
       "  <use xlink:href=\"#glyph1-3\" x=\"41.538086\" y=\"253.484375\"/>\n",
       "</g>\n",
       "<g style=\"fill:rgb(0%,0%,0%);fill-opacity:1;\">\n",
       "  <use xlink:href=\"#glyph1-4\" x=\"41.538086\" y=\"171.910156\"/>\n",
       "  <use xlink:href=\"#glyph1-5\" x=\"41.538086\" y=\"165.238281\"/>\n",
       "</g>\n",
       "<g style=\"fill:rgb(0%,0%,0%);fill-opacity:1;\">\n",
       "  <use xlink:href=\"#glyph1-4\" x=\"41.538086\" y=\"86.835938\"/>\n",
       "  <use xlink:href=\"#glyph1-6\" x=\"41.538086\" y=\"80.164062\"/>\n",
       "</g>\n",
       "<path style=\"fill:none;stroke-width:0.75;stroke-linecap:round;stroke-linejoin:round;stroke:rgb(0%,0%,0%);stroke-opacity:1;stroke-miterlimit:10;\" d=\"M 59.039062 430.558594 L 473.761719 430.558594 L 473.761719 59.039062 L 59.039062 59.039062 L 59.039062 430.558594 \"/>\n",
       "<g style=\"fill:rgb(0%,0%,0%);fill-opacity:1;\">\n",
       "  <use xlink:href=\"#glyph2-1\" x=\"169.898438\" y=\"34.21875\"/>\n",
       "  <use xlink:href=\"#glyph2-2\" x=\"179.507812\" y=\"34.21875\"/>\n",
       "  <use xlink:href=\"#glyph2-3\" x=\"187.517578\" y=\"34.21875\"/>\n",
       "  <use xlink:href=\"#glyph2-4\" x=\"195.527344\" y=\"34.21875\"/>\n",
       "  <use xlink:href=\"#glyph2-5\" x=\"203.537109\" y=\"34.21875\"/>\n",
       "  <use xlink:href=\"#glyph2-6\" x=\"211.546875\" y=\"34.21875\"/>\n",
       "  <use xlink:href=\"#glyph2-7\" x=\"216.34375\" y=\"34.21875\"/>\n",
       "  <use xlink:href=\"#glyph2-8\" x=\"220.348633\" y=\"34.21875\"/>\n",
       "  <use xlink:href=\"#glyph2-9\" x=\"228.358398\" y=\"34.21875\"/>\n",
       "  <use xlink:href=\"#glyph2-10\" x=\"232.363281\" y=\"34.21875\"/>\n",
       "  <use xlink:href=\"#glyph2-5\" x=\"239.566406\" y=\"34.21875\"/>\n",
       "  <use xlink:href=\"#glyph2-7\" x=\"247.576172\" y=\"34.21875\"/>\n",
       "  <use xlink:href=\"#glyph2-11\" x=\"251.581055\" y=\"34.21875\"/>\n",
       "  <use xlink:href=\"#glyph2-8\" x=\"261.19043\" y=\"34.21875\"/>\n",
       "  <use xlink:href=\"#glyph2-7\" x=\"269.200195\" y=\"34.21875\"/>\n",
       "  <use xlink:href=\"#glyph2-12\" x=\"273.205078\" y=\"34.21875\"/>\n",
       "  <use xlink:href=\"#glyph2-9\" x=\"282.006836\" y=\"34.21875\"/>\n",
       "  <use xlink:href=\"#glyph2-13\" x=\"286.011719\" y=\"34.21875\"/>\n",
       "  <use xlink:href=\"#glyph2-5\" x=\"298.818359\" y=\"34.21875\"/>\n",
       "  <use xlink:href=\"#glyph2-7\" x=\"306.828125\" y=\"34.21875\"/>\n",
       "  <use xlink:href=\"#glyph2-14\" x=\"310.833008\" y=\"34.21875\"/>\n",
       "  <use xlink:href=\"#glyph2-15\" x=\"315.629883\" y=\"34.21875\"/>\n",
       "  <use xlink:href=\"#glyph2-13\" x=\"323.639648\" y=\"34.21875\"/>\n",
       "  <use xlink:href=\"#glyph2-16\" x=\"336.446289\" y=\"34.21875\"/>\n",
       "  <use xlink:href=\"#glyph2-17\" x=\"345.248047\" y=\"34.21875\"/>\n",
       "  <use xlink:href=\"#glyph2-8\" x=\"349.25293\" y=\"34.21875\"/>\n",
       "  <use xlink:href=\"#glyph2-18\" x=\"357.262695\" y=\"34.21875\"/>\n",
       "</g>\n",
       "<g style=\"fill:rgb(0%,0%,0%);fill-opacity:1;\">\n",
       "  <use xlink:href=\"#glyph0-7\" x=\"234.398438\" y=\"485.057617\"/>\n",
       "  <use xlink:href=\"#glyph0-8\" x=\"242.402344\" y=\"485.057617\"/>\n",
       "  <use xlink:href=\"#glyph0-9\" x=\"249.074219\" y=\"485.057617\"/>\n",
       "  <use xlink:href=\"#glyph0-10\" x=\"255.074219\" y=\"485.057617\"/>\n",
       "  <use xlink:href=\"#glyph0-11\" x=\"261.074219\" y=\"485.057617\"/>\n",
       "  <use xlink:href=\"#glyph0-12\" x=\"267.746094\" y=\"485.057617\"/>\n",
       "  <use xlink:href=\"#glyph0-13\" x=\"271.082031\" y=\"485.057617\"/>\n",
       "  <use xlink:href=\"#glyph0-14\" x=\"274.417969\" y=\"485.057617\"/>\n",
       "  <use xlink:href=\"#glyph0-15\" x=\"282.421875\" y=\"485.057617\"/>\n",
       "  <use xlink:href=\"#glyph0-16\" x=\"285.085938\" y=\"485.057617\"/>\n",
       "  <use xlink:href=\"#glyph0-11\" x=\"291.085938\" y=\"485.057617\"/>\n",
       "</g>\n",
       "<g style=\"fill:rgb(0%,0%,0%);fill-opacity:1;\">\n",
       "  <use xlink:href=\"#glyph1-7\" x=\"12.737305\" y=\"258.300781\"/>\n",
       "  <use xlink:href=\"#glyph1-8\" x=\"12.737305\" y=\"250.96875\"/>\n",
       "  <use xlink:href=\"#glyph1-9\" x=\"12.737305\" y=\"248.304688\"/>\n",
       "  <use xlink:href=\"#glyph1-10\" x=\"12.737305\" y=\"238.308594\"/>\n",
       "</g>\n",
       "<g clip-path=\"url(#clip1)\" clip-rule=\"nonzero\">\n",
       "<path style=\"fill:none;stroke-width:0.75;stroke-linecap:round;stroke-linejoin:round;stroke:rgb(0%,0%,0%);stroke-opacity:1;stroke-miterlimit:10;\" d=\"M 59.039062 430.996094 L 473.761719 59.015625 \"/>\n",
       "</g>\n",
       "<g clip-path=\"url(#clip2)\" clip-rule=\"nonzero\">\n",
       "<path style=\"fill:none;stroke-width:0.75;stroke-linecap:round;stroke-linejoin:round;stroke:rgb(0%,80.392157%,0%);stroke-opacity:1;stroke-miterlimit:10;\" d=\"M 59.039062 434.035156 L 473.761719 64.898438 \"/>\n",
       "</g>\n",
       "<g clip-path=\"url(#clip3)\" clip-rule=\"nonzero\">\n",
       "<path style=\"fill:none;stroke-width:0.75;stroke-linecap:round;stroke-linejoin:round;stroke:rgb(0%,80.392157%,0%);stroke-opacity:1;stroke-miterlimit:10;\" d=\"M 59.039062 427.957031 L 473.761719 53.132812 \"/>\n",
       "</g>\n",
       "</g>\n",
       "</svg>\n"
      ],
      "text/plain": [
       "Plot with title “Packet size Vs Time (1mb/s)”"
      ]
     },
     "metadata": {
      "image/svg+xml": {
       "isolated": true
      }
     },
     "output_type": "display_data"
    },
    {
     "data": {
      "image/png": "[encoded data removed]",
      "image/svg+xml": [
       "<?xml version=\"1.0\" encoding=\"UTF-8\"?>\n",
       "<svg xmlns=\"http://www.w3.org/2000/svg\" xmlns:xlink=\"http://www.w3.org/1999/xlink\" width=\"504pt\" height=\"504pt\" viewBox=\"0 0 504 504\" version=\"1.1\">\n",
       "<defs>\n",
       "<g>\n",
       "<symbol overflow=\"visible\" id=\"glyph0-0\">\n",
       "<path style=\"stroke:none;\" d=\"\"/>\n",
       "</symbol>\n",
       "<symbol overflow=\"visible\" id=\"glyph0-1\">\n",
       "<path style=\"stroke:none;\" d=\"M 6.234375 -2.046875 L 6.234375 -2.984375 L 4.984375 -2.984375 L 4.984375 -8.515625 L 4.203125 -8.515625 L 0.34375 -3.15625 L 0.34375 -2.046875 L 3.921875 -2.046875 L 3.921875 0 L 4.984375 0 L 4.984375 -2.046875 Z M 3.921875 -2.984375 L 1.265625 -2.984375 L 3.921875 -6.703125 Z \"/>\n",
       "</symbol>\n",
       "<symbol overflow=\"visible\" id=\"glyph0-2\">\n",
       "<path style=\"stroke:none;\" d=\"M 6.078125 -4.09375 C 6.078125 -7.046875 5.140625 -8.515625 3.296875 -8.515625 C 1.46875 -8.515625 0.515625 -7.015625 0.515625 -4.15625 C 0.515625 -1.296875 1.46875 0.1875 3.296875 0.1875 C 5.09375 0.1875 6.078125 -1.296875 6.078125 -4.09375 Z M 5 -4.1875 C 5 -1.78125 4.453125 -0.703125 3.28125 -0.703125 C 2.15625 -0.703125 1.59375 -1.828125 1.59375 -4.15625 C 1.59375 -6.484375 2.15625 -7.578125 3.296875 -7.578125 C 4.4375 -7.578125 5 -6.46875 5 -4.1875 Z \"/>\n",
       "</symbol>\n",
       "<symbol overflow=\"visible\" id=\"glyph0-3\">\n",
       "<path style=\"stroke:none;\" d=\"M 6.15625 -2.640625 C 6.15625 -4.21875 5.078125 -5.296875 3.546875 -5.296875 C 2.71875 -5.296875 2.046875 -4.96875 1.59375 -4.34375 C 1.609375 -6.421875 2.28125 -7.578125 3.484375 -7.578125 C 4.234375 -7.578125 4.75 -7.109375 4.921875 -6.28125 L 5.96875 -6.28125 C 5.765625 -7.6875 4.859375 -8.515625 3.5625 -8.515625 C 1.578125 -8.515625 0.515625 -6.84375 0.515625 -3.875 C 0.515625 -1.21875 1.421875 0.1875 3.375 0.1875 C 4.984375 0.1875 6.15625 -0.96875 6.15625 -2.640625 Z M 5.078125 -2.5625 C 5.078125 -1.484375 4.359375 -0.75 3.390625 -0.75 C 2.40625 -0.75 1.65625 -1.53125 1.65625 -2.609375 C 1.65625 -3.671875 2.375 -4.359375 3.421875 -4.359375 C 4.4375 -4.359375 5.078125 -3.703125 5.078125 -2.5625 Z \"/>\n",
       "</symbol>\n",
       "<symbol overflow=\"visible\" id=\"glyph0-4\">\n",
       "<path style=\"stroke:none;\" d=\"M 6.15625 -2.40625 C 6.15625 -3.34375 5.671875 -4.015625 4.6875 -4.46875 C 5.5625 -5 5.859375 -5.4375 5.859375 -6.234375 C 5.859375 -7.578125 4.8125 -8.515625 3.296875 -8.515625 C 1.796875 -8.515625 0.75 -7.578125 0.75 -6.234375 C 0.75 -5.453125 1.03125 -5.015625 1.890625 -4.46875 C 0.921875 -4.015625 0.4375 -3.34375 0.4375 -2.40625 C 0.4375 -0.859375 1.625 0.1875 3.296875 0.1875 C 4.984375 0.1875 6.15625 -0.859375 6.15625 -2.40625 Z M 4.78125 -6.21875 C 4.78125 -5.421875 4.1875 -4.890625 3.296875 -4.890625 C 2.40625 -4.890625 1.828125 -5.421875 1.828125 -6.234375 C 1.828125 -7.046875 2.40625 -7.578125 3.296875 -7.578125 C 4.203125 -7.578125 4.78125 -7.046875 4.78125 -6.21875 Z M 5.078125 -2.390625 C 5.078125 -1.375 4.359375 -0.75 3.28125 -0.75 C 2.25 -0.75 1.53125 -1.390625 1.53125 -2.390625 C 1.53125 -3.390625 2.25 -4.015625 3.296875 -4.015625 C 4.359375 -4.015625 5.078125 -3.390625 5.078125 -2.390625 Z \"/>\n",
       "</symbol>\n",
       "<symbol overflow=\"visible\" id=\"glyph0-5\">\n",
       "<path style=\"stroke:none;\" d=\"M 4.15625 0 L 4.15625 -8.515625 L 3.46875 -8.515625 C 3.09375 -7.203125 2.859375 -7.015625 1.21875 -6.8125 L 1.21875 -6.0625 L 3.109375 -6.0625 L 3.109375 0 Z \"/>\n",
       "</symbol>\n",
       "<symbol overflow=\"visible\" id=\"glyph0-6\">\n",
       "<path style=\"stroke:none;\" d=\"M 6.125 -6.015625 C 6.125 -7.453125 5.015625 -8.515625 3.40625 -8.515625 C 1.671875 -8.515625 0.65625 -7.625 0.59375 -5.5625 L 1.65625 -5.5625 C 1.734375 -6.984375 2.328125 -7.578125 3.375 -7.578125 C 4.328125 -7.578125 5.046875 -6.90625 5.046875 -5.984375 C 5.046875 -5.3125 4.65625 -4.734375 3.90625 -4.3125 L 2.796875 -3.6875 C 1.015625 -2.671875 0.5 -1.875 0.40625 0 L 6.078125 0 L 6.078125 -1.046875 L 1.59375 -1.046875 C 1.703125 -1.734375 2.09375 -2.1875 3.125 -2.796875 L 4.328125 -3.4375 C 5.515625 -4.078125 6.125 -4.96875 6.125 -6.015625 Z \"/>\n",
       "</symbol>\n",
       "<symbol overflow=\"visible\" id=\"glyph0-7\">\n",
       "<path style=\"stroke:none;\" d=\"M 7.40625 -6.1875 C 7.40625 -7.828125 6.4375 -8.75 4.703125 -8.75 L 1.09375 -8.75 L 1.09375 0 L 2.203125 0 L 2.203125 -3.703125 L 4.953125 -3.703125 C 6.390625 -3.703125 7.40625 -4.734375 7.40625 -6.1875 Z M 6.234375 -6.234375 C 6.234375 -5.265625 5.609375 -4.6875 4.53125 -4.6875 L 2.203125 -4.6875 L 2.203125 -7.765625 L 4.53125 -7.765625 C 5.609375 -7.765625 6.234375 -7.1875 6.234375 -6.234375 Z \"/>\n",
       "</symbol>\n",
       "<symbol overflow=\"visible\" id=\"glyph0-8\">\n",
       "<path style=\"stroke:none;\" d=\"M 6.421875 -0.03125 L 6.421875 -0.78125 C 6.3125 -0.75 6.265625 -0.75 6.203125 -0.75 C 5.859375 -0.75 5.65625 -0.9375 5.65625 -1.25 L 5.65625 -4.75 C 5.65625 -5.875 4.84375 -6.46875 3.296875 -6.46875 C 1.78125 -6.46875 0.84375 -5.875 0.78125 -4.421875 L 1.78125 -4.421875 C 1.875 -5.203125 2.328125 -5.546875 3.265625 -5.546875 C 4.15625 -5.546875 4.671875 -5.203125 4.671875 -4.609375 L 4.671875 -4.34375 C 4.671875 -3.921875 4.421875 -3.75 3.625 -3.640625 C 2.203125 -3.46875 1.984375 -3.421875 1.609375 -3.265625 C 0.875 -2.96875 0.5 -2.40625 0.5 -1.625 C 0.5 -0.484375 1.296875 0.1875 2.5625 0.1875 C 3.375 0.1875 4.15625 -0.15625 4.703125 -0.75 C 4.8125 -0.265625 5.25 0.078125 5.734375 0.078125 C 5.9375 0.078125 6.09375 0.0625 6.421875 -0.03125 Z M 4.671875 -2.171875 C 4.671875 -1.265625 3.75 -0.703125 2.78125 -0.703125 C 2 -0.703125 1.546875 -0.96875 1.546875 -1.65625 C 1.546875 -2.3125 1.984375 -2.609375 3.0625 -2.765625 C 4.109375 -2.90625 4.328125 -2.953125 4.671875 -3.109375 Z \"/>\n",
       "</symbol>\n",
       "<symbol overflow=\"visible\" id=\"glyph0-9\">\n",
       "<path style=\"stroke:none;\" d=\"M 5.71875 -2.15625 L 4.71875 -2.15625 C 4.546875 -1.15625 4.03125 -0.75 3.1875 -0.75 C 2.078125 -0.75 1.421875 -1.59375 1.421875 -3.078125 C 1.421875 -4.65625 2.0625 -5.546875 3.15625 -5.546875 C 4 -5.546875 4.53125 -5.046875 4.640625 -4.171875 L 5.65625 -4.171875 C 5.53125 -5.71875 4.578125 -6.46875 3.171875 -6.46875 C 1.46875 -6.46875 0.375 -5.171875 0.375 -3.078125 C 0.375 -1.0625 1.453125 0.1875 3.15625 0.1875 C 4.65625 0.1875 5.609375 -0.71875 5.71875 -2.15625 Z \"/>\n",
       "</symbol>\n",
       "<symbol overflow=\"visible\" id=\"glyph0-10\">\n",
       "<path style=\"stroke:none;\" d=\"M 6.03125 0 L 3.453125 -4.109375 L 5.640625 -6.28125 L 4.359375 -6.28125 L 1.6875 -3.625 L 1.6875 -8.75 L 0.703125 -8.75 L 0.703125 0 L 1.6875 0 L 1.6875 -2.453125 L 2.65625 -3.40625 L 4.78125 0 Z \"/>\n",
       "</symbol>\n",
       "<symbol overflow=\"visible\" id=\"glyph0-11\">\n",
       "<path style=\"stroke:none;\" d=\"M 6.15625 -2.859375 C 6.15625 -3.765625 6.078125 -4.34375 5.90625 -4.8125 C 5.5 -5.84375 4.53125 -6.46875 3.359375 -6.46875 C 1.609375 -6.46875 0.484375 -5.171875 0.484375 -3.109375 C 0.484375 -1.046875 1.578125 0.1875 3.34375 0.1875 C 4.78125 0.1875 5.765625 -0.640625 6.03125 -1.90625 L 5.015625 -1.90625 C 4.734375 -1.078125 4.171875 -0.75 3.375 -0.75 C 2.328125 -0.75 1.546875 -1.421875 1.53125 -2.859375 Z M 5.09375 -3.75 C 5.09375 -3.75 5.09375 -3.703125 5.078125 -3.671875 L 1.546875 -3.671875 C 1.625 -4.78125 2.34375 -5.546875 3.34375 -5.546875 C 4.328125 -5.546875 5.09375 -4.734375 5.09375 -3.75 Z \"/>\n",
       "</symbol>\n",
       "<symbol overflow=\"visible\" id=\"glyph0-12\">\n",
       "<path style=\"stroke:none;\" d=\"M 3.046875 0 L 3.046875 -0.84375 C 2.921875 -0.796875 2.765625 -0.796875 2.5625 -0.796875 C 2.140625 -0.796875 2.015625 -0.90625 2.015625 -1.359375 L 2.015625 -5.46875 L 3.046875 -5.46875 L 3.046875 -6.28125 L 2.015625 -6.28125 L 2.015625 -8.015625 L 1.015625 -8.015625 L 1.015625 -6.28125 L 0.171875 -6.28125 L 0.171875 -5.46875 L 1.015625 -5.46875 L 1.015625 -0.90625 C 1.015625 -0.28125 1.453125 0.078125 2.234375 0.078125 C 2.46875 0.078125 2.71875 0.0625 3.046875 0 Z \"/>\n",
       "</symbol>\n",
       "<symbol overflow=\"visible\" id=\"glyph0-13\">\n",
       "<path style=\"stroke:none;\" d=\"\"/>\n",
       "</symbol>\n",
       "<symbol overflow=\"visible\" id=\"glyph0-14\">\n",
       "<path style=\"stroke:none;\" d=\"M 7.453125 -2.40625 C 7.453125 -3.484375 6.78125 -4.265625 5.59375 -4.59375 L 3.390625 -5.1875 C 2.34375 -5.453125 1.953125 -5.8125 1.953125 -6.484375 C 1.953125 -7.375 2.734375 -8.03125 3.90625 -8.03125 C 5.296875 -8.03125 6.09375 -7.390625 6.09375 -6.25 L 7.15625 -6.25 C 7.15625 -7.96875 5.96875 -8.96875 3.953125 -8.96875 C 2.03125 -8.96875 0.84375 -7.90625 0.84375 -6.328125 C 0.84375 -5.25 1.40625 -4.578125 2.5625 -4.28125 L 4.734375 -3.703125 C 5.828125 -3.421875 6.34375 -2.96875 6.34375 -2.296875 C 6.34375 -1.328125 5.609375 -0.765625 4.109375 -0.765625 C 2.453125 -0.765625 1.625 -1.59375 1.625 -2.84375 L 0.578125 -2.84375 C 0.578125 -0.78125 1.96875 0.21875 4.03125 0.21875 C 6.25 0.21875 7.453125 -0.84375 7.453125 -2.40625 Z \"/>\n",
       "</symbol>\n",
       "<symbol overflow=\"visible\" id=\"glyph0-15\">\n",
       "<path style=\"stroke:none;\" d=\"M 1.84375 0 L 1.84375 -6.28125 L 0.84375 -6.28125 L 0.84375 0 Z M 1.96875 -7.234375 L 1.96875 -8.484375 L 0.71875 -8.484375 L 0.71875 -7.234375 Z \"/>\n",
       "</symbol>\n",
       "<symbol overflow=\"visible\" id=\"glyph0-16\">\n",
       "<path style=\"stroke:none;\" d=\"M 5.484375 0 L 5.484375 -0.875 L 1.578125 -0.875 L 5.3125 -5.40625 L 5.3125 -6.28125 L 0.625 -6.28125 L 0.625 -5.40625 L 4.125 -5.40625 L 0.375 -0.90625 L 0.375 0 Z \"/>\n",
       "</symbol>\n",
       "<symbol overflow=\"visible\" id=\"glyph1-0\">\n",
       "<path style=\"stroke:none;\" d=\"\"/>\n",
       "</symbol>\n",
       "<symbol overflow=\"visible\" id=\"glyph1-1\">\n",
       "<path style=\"stroke:none;\" d=\"M 0 -4.15625 L -8.515625 -4.15625 L -8.515625 -3.46875 C -7.203125 -3.09375 -7.015625 -2.859375 -6.8125 -1.21875 L -6.0625 -1.21875 L -6.0625 -3.109375 L 0 -3.109375 Z \"/>\n",
       "</symbol>\n",
       "<symbol overflow=\"visible\" id=\"glyph1-2\">\n",
       "<path style=\"stroke:none;\" d=\"M 0 -2.296875 L -1.25 -2.296875 L -1.25 -1.046875 L 0 -1.046875 Z \"/>\n",
       "</symbol>\n",
       "<symbol overflow=\"visible\" id=\"glyph1-3\">\n",
       "<path style=\"stroke:none;\" d=\"M -2.046875 -6.234375 L -2.984375 -6.234375 L -2.984375 -4.984375 L -8.515625 -4.984375 L -8.515625 -4.203125 L -3.15625 -0.34375 L -2.046875 -0.34375 L -2.046875 -3.921875 L 0 -3.921875 L 0 -4.984375 L -2.046875 -4.984375 Z M -2.984375 -3.921875 L -2.984375 -1.265625 L -6.703125 -3.921875 Z \"/>\n",
       "</symbol>\n",
       "<symbol overflow=\"visible\" id=\"glyph1-4\">\n",
       "<path style=\"stroke:none;\" d=\"M -2.640625 -6.15625 C -4.21875 -6.15625 -5.296875 -5.078125 -5.296875 -3.546875 C -5.296875 -2.71875 -4.96875 -2.046875 -4.34375 -1.59375 C -6.421875 -1.609375 -7.578125 -2.28125 -7.578125 -3.484375 C -7.578125 -4.234375 -7.109375 -4.75 -6.28125 -4.921875 L -6.28125 -5.96875 C -7.6875 -5.765625 -8.515625 -4.859375 -8.515625 -3.5625 C -8.515625 -1.578125 -6.84375 -0.515625 -3.875 -0.515625 C -1.21875 -0.515625 0.1875 -1.421875 0.1875 -3.375 C 0.1875 -4.984375 -0.96875 -6.15625 -2.640625 -6.15625 Z M -2.5625 -5.078125 C -1.484375 -5.078125 -0.75 -4.359375 -0.75 -3.390625 C -0.75 -2.40625 -1.53125 -1.65625 -2.609375 -1.65625 C -3.671875 -1.65625 -4.359375 -2.375 -4.359375 -3.421875 C -4.359375 -4.4375 -3.703125 -5.078125 -2.5625 -5.078125 Z \"/>\n",
       "</symbol>\n",
       "<symbol overflow=\"visible\" id=\"glyph1-5\">\n",
       "<path style=\"stroke:none;\" d=\"M -2.40625 -6.15625 C -3.34375 -6.15625 -4.015625 -5.671875 -4.46875 -4.6875 C -5 -5.5625 -5.4375 -5.859375 -6.234375 -5.859375 C -7.578125 -5.859375 -8.515625 -4.8125 -8.515625 -3.296875 C -8.515625 -1.796875 -7.578125 -0.75 -6.234375 -0.75 C -5.453125 -0.75 -5.015625 -1.03125 -4.46875 -1.890625 C -4.015625 -0.921875 -3.34375 -0.4375 -2.40625 -0.4375 C -0.859375 -0.4375 0.1875 -1.625 0.1875 -3.296875 C 0.1875 -4.984375 -0.859375 -6.15625 -2.40625 -6.15625 Z M -6.21875 -4.78125 C -5.421875 -4.78125 -4.890625 -4.1875 -4.890625 -3.296875 C -4.890625 -2.40625 -5.421875 -1.828125 -6.234375 -1.828125 C -7.046875 -1.828125 -7.578125 -2.40625 -7.578125 -3.296875 C -7.578125 -4.203125 -7.046875 -4.78125 -6.21875 -4.78125 Z M -2.390625 -5.078125 C -1.375 -5.078125 -0.75 -4.359375 -0.75 -3.28125 C -0.75 -2.25 -1.390625 -1.53125 -2.390625 -1.53125 C -3.390625 -1.53125 -4.015625 -2.25 -4.015625 -3.296875 C -4.015625 -4.359375 -3.390625 -5.078125 -2.390625 -5.078125 Z \"/>\n",
       "</symbol>\n",
       "<symbol overflow=\"visible\" id=\"glyph1-6\">\n",
       "<path style=\"stroke:none;\" d=\"M -6.015625 -6.125 C -7.453125 -6.125 -8.515625 -5.015625 -8.515625 -3.40625 C -8.515625 -1.671875 -7.625 -0.65625 -5.5625 -0.59375 L -5.5625 -1.65625 C -6.984375 -1.734375 -7.578125 -2.328125 -7.578125 -3.375 C -7.578125 -4.328125 -6.90625 -5.046875 -5.984375 -5.046875 C -5.3125 -5.046875 -4.734375 -4.65625 -4.3125 -3.90625 L -3.6875 -2.796875 C -2.671875 -1.015625 -1.875 -0.5 0 -0.40625 L 0 -6.078125 L -1.046875 -6.078125 L -1.046875 -1.59375 C -1.734375 -1.703125 -2.1875 -2.09375 -2.796875 -3.125 L -3.4375 -4.328125 C -4.078125 -5.515625 -4.96875 -6.125 -6.015625 -6.125 Z \"/>\n",
       "</symbol>\n",
       "<symbol overflow=\"visible\" id=\"glyph1-7\">\n",
       "<path style=\"stroke:none;\" d=\"M -4.09375 -6.078125 C -7.046875 -6.078125 -8.515625 -5.140625 -8.515625 -3.296875 C -8.515625 -1.46875 -7.015625 -0.515625 -4.15625 -0.515625 C -1.296875 -0.515625 0.1875 -1.46875 0.1875 -3.296875 C 0.1875 -5.09375 -1.296875 -6.078125 -4.09375 -6.078125 Z M -4.1875 -5 C -1.78125 -5 -0.703125 -4.453125 -0.703125 -3.28125 C -0.703125 -2.15625 -1.828125 -1.59375 -4.15625 -1.59375 C -6.484375 -1.59375 -7.578125 -2.15625 -7.578125 -3.296875 C -7.578125 -4.4375 -6.46875 -5 -4.1875 -5 Z \"/>\n",
       "</symbol>\n",
       "<symbol overflow=\"visible\" id=\"glyph1-8\">\n",
       "<path style=\"stroke:none;\" d=\"M -7.765625 -7.109375 L -8.75 -7.109375 L -8.75 -0.25 L -7.765625 -0.25 L -7.765625 -3.125 L 0 -3.125 L 0 -4.25 L -7.765625 -4.25 Z \"/>\n",
       "</symbol>\n",
       "<symbol overflow=\"visible\" id=\"glyph1-9\">\n",
       "<path style=\"stroke:none;\" d=\"M 0 -1.84375 L -6.28125 -1.84375 L -6.28125 -0.84375 L 0 -0.84375 Z M -7.234375 -1.96875 L -8.484375 -1.96875 L -8.484375 -0.71875 L -7.234375 -0.71875 Z \"/>\n",
       "</symbol>\n",
       "<symbol overflow=\"visible\" id=\"glyph1-10\">\n",
       "<path style=\"stroke:none;\" d=\"M 0 -9.125 L -4.71875 -9.125 C -5.84375 -9.125 -6.46875 -8.5 -6.46875 -7.3125 C -6.46875 -6.484375 -6.21875 -5.96875 -5.515625 -5.390625 C -6.1875 -5.015625 -6.46875 -4.515625 -6.46875 -3.703125 C -6.46875 -2.859375 -6.15625 -2.296875 -5.40625 -1.765625 L -6.28125 -1.765625 L -6.28125 -0.859375 L 0 -0.859375 L 0 -1.84375 L -3.953125 -1.84375 C -4.859375 -1.84375 -5.59375 -2.515625 -5.59375 -3.328125 C -5.59375 -4.0625 -5.140625 -4.484375 -4.328125 -4.484375 L 0 -4.484375 L 0 -5.484375 L -3.953125 -5.484375 C -4.859375 -5.484375 -5.59375 -6.15625 -5.59375 -6.96875 C -5.59375 -7.703125 -5.125 -8.125 -4.328125 -8.125 L 0 -8.125 Z \"/>\n",
       "</symbol>\n",
       "<symbol overflow=\"visible\" id=\"glyph1-11\">\n",
       "<path style=\"stroke:none;\" d=\"M -2.859375 -6.15625 C -3.765625 -6.15625 -4.34375 -6.078125 -4.8125 -5.90625 C -5.84375 -5.5 -6.46875 -4.53125 -6.46875 -3.359375 C -6.46875 -1.609375 -5.171875 -0.484375 -3.109375 -0.484375 C -1.046875 -0.484375 0.1875 -1.578125 0.1875 -3.34375 C 0.1875 -4.78125 -0.640625 -5.765625 -1.90625 -6.03125 L -1.90625 -5.015625 C -1.078125 -4.734375 -0.75 -4.171875 -0.75 -3.375 C -0.75 -2.328125 -1.421875 -1.546875 -2.859375 -1.53125 Z M -3.75 -5.09375 C -3.75 -5.09375 -3.703125 -5.09375 -3.671875 -5.078125 L -3.671875 -1.546875 C -4.78125 -1.625 -5.546875 -2.34375 -5.546875 -3.34375 C -5.546875 -4.328125 -4.734375 -5.09375 -3.75 -5.09375 Z \"/>\n",
       "</symbol>\n",
       "<symbol overflow=\"visible\" id=\"glyph2-0\">\n",
       "<path style=\"stroke:none;\" d=\"\"/>\n",
       "</symbol>\n",
       "<symbol overflow=\"visible\" id=\"glyph2-1\">\n",
       "<path style=\"stroke:none;\" d=\"M 9.125 -7.25 C 9.125 -9.34375 7.921875 -10.5 5.734375 -10.5 L 1.09375 -10.5 L 1.09375 0 L 3.25 0 L 3.25 -3.75 L 5.953125 -3.75 C 7.875 -3.75 9.125 -5.109375 9.125 -7.25 Z M 6.953125 -7.109375 C 6.953125 -6.046875 6.421875 -5.546875 5.265625 -5.546875 L 3.25 -5.546875 L 3.25 -8.703125 L 5.265625 -8.703125 C 6.421875 -8.703125 6.953125 -8.203125 6.953125 -7.109375 Z \"/>\n",
       "</symbol>\n",
       "<symbol overflow=\"visible\" id=\"glyph2-2\">\n",
       "<path style=\"stroke:none;\" d=\"M 7.546875 0 L 7.546875 -0.25 C 7.1875 -0.578125 7.09375 -0.796875 7.09375 -1.203125 L 7.09375 -5.515625 C 7.09375 -7.109375 6 -7.90625 3.90625 -7.90625 C 1.796875 -7.90625 0.703125 -7.015625 0.578125 -5.21875 L 2.515625 -5.21875 C 2.625 -6.015625 2.953125 -6.28125 3.953125 -6.28125 C 4.71875 -6.28125 5.109375 -6.015625 5.109375 -5.5 C 5.109375 -4.6875 4.515625 -4.765625 3.5 -4.59375 L 2.6875 -4.453125 C 1.15625 -4.171875 0.40625 -3.515625 0.40625 -2.109375 C 0.40625 -0.59375 1.46875 0.125 2.765625 0.125 C 3.625 0.125 4.421875 -0.25 5.125 -0.984375 C 5.125 -0.578125 5.171875 -0.234375 5.359375 0 Z M 5.109375 -3.328125 C 5.109375 -2.15625 4.53125 -1.5 3.515625 -1.5 C 2.84375 -1.5 2.421875 -1.75 2.421875 -2.328125 C 2.421875 -2.921875 2.734375 -3.140625 3.578125 -3.296875 L 4.265625 -3.421875 C 4.796875 -3.53125 4.890625 -3.5625 5.109375 -3.671875 Z \"/>\n",
       "</symbol>\n",
       "<symbol overflow=\"visible\" id=\"glyph2-3\">\n",
       "<path style=\"stroke:none;\" d=\"M 7.515625 -2.6875 L 5.59375 -2.6875 C 5.328125 -1.890625 4.921875 -1.5 4.15625 -1.5 C 3.125 -1.5 2.5 -2.3125 2.5 -3.828125 C 2.5 -5.265625 2.875 -6.28125 4.15625 -6.28125 C 4.96875 -6.28125 5.359375 -5.890625 5.59375 -4.875 L 7.515625 -4.875 C 7.375 -6.765625 6.109375 -7.90625 4.15625 -7.90625 C 1.84375 -7.90625 0.484375 -6.484375 0.484375 -3.828125 C 0.484375 -1.265625 1.828125 0.125 4.140625 0.125 C 6.015625 0.125 7.328125 -1.03125 7.515625 -2.6875 Z \"/>\n",
       "</symbol>\n",
       "<symbol overflow=\"visible\" id=\"glyph2-4\">\n",
       "<path style=\"stroke:none;\" d=\"M 7.890625 0 L 5.0625 -4.84375 L 7.703125 -7.78125 L 5.421875 -7.78125 L 2.859375 -4.75 L 2.859375 -10.5 L 0.84375 -10.5 L 0.84375 0 L 2.859375 0 L 2.859375 -2.546875 L 3.671875 -3.421875 L 5.53125 0 Z \"/>\n",
       "</symbol>\n",
       "<symbol overflow=\"visible\" id=\"glyph2-5\">\n",
       "<path style=\"stroke:none;\" d=\"M 7.5625 -3.59375 C 7.5625 -6.28125 6.203125 -7.90625 3.921875 -7.90625 C 1.6875 -7.90625 0.3125 -6.390625 0.3125 -3.78125 C 0.3125 -1.296875 1.671875 0.125 3.875 0.125 C 5.625 0.125 7.03125 -0.65625 7.484375 -2.1875 L 5.484375 -2.1875 C 5.3125 -1.625 4.6875 -1.40625 3.953125 -1.40625 C 3 -1.40625 2.390625 -1.84375 2.328125 -3.359375 L 7.546875 -3.359375 Z M 5.453125 -4.703125 L 2.359375 -4.703125 C 2.5 -5.78125 3 -6.375 3.890625 -6.375 C 4.75 -6.375 5.359375 -5.8125 5.453125 -4.703125 Z \"/>\n",
       "</symbol>\n",
       "<symbol overflow=\"visible\" id=\"glyph2-6\">\n",
       "<path style=\"stroke:none;\" d=\"M 4.34375 0 L 4.34375 -1.40625 C 4.140625 -1.390625 4.015625 -1.375 3.875 -1.375 C 3.34375 -1.375 3.21875 -1.53125 3.21875 -2.21875 L 3.21875 -6.28125 L 4.34375 -6.28125 L 4.34375 -7.625 L 3.21875 -7.625 L 3.21875 -9.703125 L 1.203125 -9.703125 L 1.203125 -7.625 L 0.203125 -7.625 L 0.203125 -6.28125 L 1.203125 -6.28125 L 1.203125 -1.671875 C 1.203125 -0.453125 1.84375 0.0625 3.171875 0.0625 C 3.609375 0.0625 3.96875 0.015625 4.34375 0 Z \"/>\n",
       "</symbol>\n",
       "<symbol overflow=\"visible\" id=\"glyph2-7\">\n",
       "<path style=\"stroke:none;\" d=\"\"/>\n",
       "</symbol>\n",
       "<symbol overflow=\"visible\" id=\"glyph2-8\">\n",
       "<path style=\"stroke:none;\" d=\"M 7.484375 -2.3125 L 7.484375 -2.40625 C 7.484375 -3.296875 6.984375 -3.96875 5.96875 -4.265625 L 3.421875 -5 C 2.859375 -5.15625 2.703125 -5.28125 2.703125 -5.609375 C 2.703125 -6.03125 3.171875 -6.328125 3.875 -6.328125 C 4.84375 -6.328125 5.3125 -5.984375 5.328125 -5.265625 L 7.28125 -5.265625 C 7.25 -6.921875 5.984375 -7.90625 3.890625 -7.90625 C 1.921875 -7.90625 0.6875 -6.921875 0.6875 -5.3125 C 0.6875 -4.359375 0.953125 -3.84375 2.390625 -3.40625 L 4.796875 -2.65625 C 5.296875 -2.5 5.46875 -2.328125 5.46875 -2.125 C 5.46875 -1.640625 4.90625 -1.453125 3.96875 -1.453125 C 3.046875 -1.453125 2.5625 -1.625 2.390625 -2.46875 L 0.421875 -2.46875 C 0.46875 -0.765625 1.734375 0.125 4.09375 0.125 C 6.28125 0.125 7.484375 -0.734375 7.484375 -2.3125 Z \"/>\n",
       "</symbol>\n",
       "<symbol overflow=\"visible\" id=\"glyph2-9\">\n",
       "<path style=\"stroke:none;\" d=\"M 2.984375 0 L 2.984375 -7.78125 L 0.96875 -7.78125 L 0.96875 0 Z M 3.015625 -8.71875 L 3.015625 -10.734375 L 1 -10.734375 L 1 -8.71875 Z \"/>\n",
       "</symbol>\n",
       "<symbol overflow=\"visible\" id=\"glyph2-10\">\n",
       "<path style=\"stroke:none;\" d=\"M 6.734375 0 L 6.734375 -1.625 L 2.796875 -1.625 L 6.609375 -6.15625 L 6.609375 -7.78125 L 0.5625 -7.78125 L 0.5625 -6.15625 L 4.15625 -6.15625 L 0.296875 -1.625 L 0.296875 0 Z \"/>\n",
       "</symbol>\n",
       "<symbol overflow=\"visible\" id=\"glyph2-11\">\n",
       "<path style=\"stroke:none;\" d=\"M 9.328125 -10.5 L 7.140625 -10.5 L 4.859375 -2.59375 L 2.515625 -10.5 L 0.34375 -10.5 L 3.890625 0 L 5.71875 0 Z \"/>\n",
       "</symbol>\n",
       "<symbol overflow=\"visible\" id=\"glyph2-12\">\n",
       "<path style=\"stroke:none;\" d=\"M 8.609375 -8.703125 L 8.609375 -10.5 L 0.203125 -10.5 L 0.203125 -8.703125 L 3.390625 -8.703125 L 3.390625 0 L 5.546875 0 L 5.546875 -8.703125 Z \"/>\n",
       "</symbol>\n",
       "<symbol overflow=\"visible\" id=\"glyph2-13\">\n",
       "<path style=\"stroke:none;\" d=\"M 11.875 0 L 11.875 -5.5 C 11.875 -7.015625 10.953125 -7.90625 9.390625 -7.90625 C 8.40625 -7.90625 7.71875 -7.5625 7.109375 -6.75 C 6.734375 -7.484375 5.96875 -7.90625 5 -7.90625 C 4.109375 -7.90625 3.53125 -7.609375 2.859375 -6.8125 L 2.859375 -7.78125 L 0.859375 -7.78125 L 0.859375 0 L 2.875 0 L 2.875 -4.671875 C 2.875 -5.625 3.40625 -6.1875 4.265625 -6.1875 C 4.9375 -6.1875 5.359375 -5.8125 5.359375 -5.1875 L 5.359375 0 L 7.375 0 L 7.375 -4.671875 C 7.375 -5.625 7.890625 -6.1875 8.765625 -6.1875 C 9.4375 -6.1875 9.859375 -5.8125 9.859375 -5.1875 L 9.859375 0 Z \"/>\n",
       "</symbol>\n",
       "<symbol overflow=\"visible\" id=\"glyph2-14\">\n",
       "<path style=\"stroke:none;\" d=\"M 4.359375 2.875 C 2.84375 -0.09375 2.34375 -1.703125 2.34375 -3.8125 C 2.34375 -5.921875 2.84375 -7.5625 4.359375 -10.5 L 2.921875 -10.5 C 1.265625 -8.015625 0.578125 -6.015625 0.578125 -3.8125 C 0.578125 -1.59375 1.265625 0.390625 2.921875 2.875 Z \"/>\n",
       "</symbol>\n",
       "<symbol overflow=\"visible\" id=\"glyph2-15\">\n",
       "<path style=\"stroke:none;\" d=\"M 5.453125 0 L 5.453125 -10.21875 L 4.109375 -10.21875 C 3.78125 -9 2.734375 -8.390625 0.984375 -8.390625 L 0.984375 -7.046875 L 3.421875 -7.046875 L 3.421875 0 Z \"/>\n",
       "</symbol>\n",
       "<symbol overflow=\"visible\" id=\"glyph2-16\">\n",
       "<path style=\"stroke:none;\" d=\"M 8.28125 -3.78125 C 8.28125 -6 7.0625 -7.90625 5.015625 -7.90625 C 4.046875 -7.90625 3.359375 -7.546875 2.859375 -6.765625 L 2.859375 -10.5 L 0.84375 -10.5 L 0.84375 0 L 2.859375 0 L 2.859375 -0.890625 C 3.359375 -0.234375 4.03125 0.125 5.015625 0.125 C 6.875 0.125 8.28125 -1.4375 8.28125 -3.78125 Z M 6.265625 -3.875 C 6.265625 -2.46875 5.5625 -1.5625 4.5625 -1.5625 C 3.546875 -1.5625 2.859375 -2.4375 2.859375 -3.921875 C 2.859375 -5.328125 3.5625 -6.21875 4.5625 -6.21875 C 5.5625 -6.21875 6.265625 -5.3125 6.265625 -3.875 Z \"/>\n",
       "</symbol>\n",
       "<symbol overflow=\"visible\" id=\"glyph2-17\">\n",
       "<path style=\"stroke:none;\" d=\"M 4.1875 -10.28125 L 2.796875 -10.28125 L -0.171875 0.203125 L 1.21875 0.203125 Z \"/>\n",
       "</symbol>\n",
       "<symbol overflow=\"visible\" id=\"glyph2-18\">\n",
       "<path style=\"stroke:none;\" d=\"M 4.109375 -3.796875 C 4.109375 -6.015625 3.421875 -8.015625 1.75 -10.5 L 0.3125 -10.5 C 1.84375 -7.53125 2.328125 -5.921875 2.328125 -3.796875 C 2.328125 -1.703125 1.84375 -0.0625 0.3125 2.875 L 1.75 2.875 C 3.421875 0.390625 4.109375 -1.59375 4.109375 -3.796875 Z \"/>\n",
       "</symbol>\n",
       "</g>\n",
       "<clipPath id=\"clip1\">\n",
       "  <path d=\"M 59.039062 68 L 474.757812 68 L 474.757812 416 L 59.039062 416 Z \"/>\n",
       "</clipPath>\n",
       "<clipPath id=\"clip2\">\n",
       "  <path d=\"M 59.039062 82 L 474.757812 82 L 474.757812 423 L 59.039062 423 Z \"/>\n",
       "</clipPath>\n",
       "<clipPath id=\"clip3\">\n",
       "  <path d=\"M 59.039062 59.039062 L 474.757812 59.039062 L 474.757812 408 L 59.039062 408 Z \"/>\n",
       "</clipPath>\n",
       "</defs>\n",
       "<g id=\"surface1394\">\n",
       "<rect x=\"0\" y=\"0\" width=\"504\" height=\"504\" style=\"fill:rgb(100%,100%,100%);fill-opacity:1;stroke:none;\"/>\n",
       "<path style=\"fill:none;stroke-width:0.75;stroke-linecap:round;stroke-linejoin:round;stroke:rgb(0%,0%,0%);stroke-opacity:1;stroke-miterlimit:10;\" d=\"M 77.101562 405.371094 C 77.101562 408.96875 71.699219 408.96875 71.699219 405.371094 C 71.699219 401.769531 77.101562 401.769531 77.101562 405.371094 \"/>\n",
       "<path style=\"fill:none;stroke-width:0.75;stroke-linecap:round;stroke-linejoin:round;stroke:rgb(0%,0%,0%);stroke-opacity:1;stroke-miterlimit:10;\" d=\"M 77.101562 416.800781 C 77.101562 420.398438 71.699219 420.398438 71.699219 416.800781 C 71.699219 413.199219 77.101562 413.199219 77.101562 416.800781 \"/>\n",
       "<path style=\"fill:none;stroke-width:0.75;stroke-linecap:round;stroke-linejoin:round;stroke:rgb(0%,0%,0%);stroke-opacity:1;stroke-miterlimit:10;\" d=\"M 77.101562 405.371094 C 77.101562 408.96875 71.699219 408.96875 71.699219 405.371094 C 71.699219 401.769531 77.101562 401.769531 77.101562 405.371094 \"/>\n",
       "<path style=\"fill:none;stroke-width:0.75;stroke-linecap:round;stroke-linejoin:round;stroke:rgb(0%,0%,0%);stroke-opacity:1;stroke-miterlimit:10;\" d=\"M 77.101562 409.234375 C 77.101562 412.832031 71.699219 412.832031 71.699219 409.234375 C 71.699219 405.632812 77.101562 405.632812 77.101562 409.234375 \"/>\n",
       "<path style=\"fill:none;stroke-width:0.75;stroke-linecap:round;stroke-linejoin:round;stroke:rgb(0%,0%,0%);stroke-opacity:1;stroke-miterlimit:10;\" d=\"M 77.101562 413.042969 C 77.101562 416.644531 71.699219 416.644531 71.699219 413.042969 C 71.699219 409.441406 77.101562 409.441406 77.101562 413.042969 \"/>\n",
       "<path style=\"fill:none;stroke-width:0.75;stroke-linecap:round;stroke-linejoin:round;stroke:rgb(0%,0%,0%);stroke-opacity:1;stroke-miterlimit:10;\" d=\"M 112.007812 381 C 112.007812 384.597656 106.609375 384.597656 106.609375 381 C 106.609375 377.398438 112.007812 377.398438 112.007812 381 \"/>\n",
       "<path style=\"fill:none;stroke-width:0.75;stroke-linecap:round;stroke-linejoin:round;stroke:rgb(0%,0%,0%);stroke-opacity:1;stroke-miterlimit:10;\" d=\"M 112.007812 367.988281 C 112.007812 371.589844 106.609375 371.589844 106.609375 367.988281 C 106.609375 364.386719 112.007812 364.386719 112.007812 367.988281 \"/>\n",
       "<path style=\"fill:none;stroke-width:0.75;stroke-linecap:round;stroke-linejoin:round;stroke:rgb(0%,0%,0%);stroke-opacity:1;stroke-miterlimit:10;\" d=\"M 112.007812 381 C 112.007812 384.597656 106.609375 384.597656 106.609375 381 C 106.609375 377.398438 112.007812 377.398438 112.007812 381 \"/>\n",
       "<path style=\"fill:none;stroke-width:0.75;stroke-linecap:round;stroke-linejoin:round;stroke:rgb(0%,0%,0%);stroke-opacity:1;stroke-miterlimit:10;\" d=\"M 112.007812 372.390625 C 112.007812 375.988281 106.609375 375.988281 106.609375 372.390625 C 106.609375 368.789062 112.007812 368.789062 112.007812 372.390625 \"/>\n",
       "<path style=\"fill:none;stroke-width:0.75;stroke-linecap:round;stroke-linejoin:round;stroke:rgb(0%,0%,0%);stroke-opacity:1;stroke-miterlimit:10;\" d=\"M 112.007812 376.726562 C 112.007812 380.324219 106.609375 380.324219 106.609375 376.726562 C 106.609375 373.125 112.007812 373.125 112.007812 376.726562 \"/>\n",
       "<path style=\"fill:none;stroke-width:0.75;stroke-linecap:round;stroke-linejoin:round;stroke:rgb(0%,0%,0%);stroke-opacity:1;stroke-miterlimit:10;\" d=\"M 146.917969 335.121094 C 146.917969 338.722656 141.519531 338.722656 141.519531 335.121094 C 141.519531 331.523438 146.917969 331.523438 146.917969 335.121094 \"/>\n",
       "<path style=\"fill:none;stroke-width:0.75;stroke-linecap:round;stroke-linejoin:round;stroke:rgb(0%,0%,0%);stroke-opacity:1;stroke-miterlimit:10;\" d=\"M 146.917969 335.121094 C 146.917969 338.722656 141.519531 338.722656 141.519531 335.121094 C 141.519531 331.523438 146.917969 331.523438 146.917969 335.121094 \"/>\n",
       "<path style=\"fill:none;stroke-width:0.75;stroke-linecap:round;stroke-linejoin:round;stroke:rgb(0%,0%,0%);stroke-opacity:1;stroke-miterlimit:10;\" d=\"M 146.917969 351.617188 C 146.917969 355.21875 141.519531 355.21875 141.519531 351.617188 C 141.519531 348.019531 146.917969 348.019531 146.917969 351.617188 \"/>\n",
       "<path style=\"fill:none;stroke-width:0.75;stroke-linecap:round;stroke-linejoin:round;stroke:rgb(0%,0%,0%);stroke-opacity:1;stroke-miterlimit:10;\" d=\"M 146.917969 351.617188 C 146.917969 355.21875 141.519531 355.21875 141.519531 351.617188 C 141.519531 348.019531 146.917969 348.019531 146.917969 351.617188 \"/>\n",
       "<path style=\"fill:none;stroke-width:0.75;stroke-linecap:round;stroke-linejoin:round;stroke:rgb(0%,0%,0%);stroke-opacity:1;stroke-miterlimit:10;\" d=\"M 146.917969 347.578125 C 146.917969 351.175781 141.519531 351.175781 141.519531 347.578125 C 141.519531 343.976562 146.917969 343.976562 146.917969 347.578125 \"/>\n",
       "<path style=\"fill:none;stroke-width:0.75;stroke-linecap:round;stroke-linejoin:round;stroke:rgb(0%,0%,0%);stroke-opacity:1;stroke-miterlimit:10;\" d=\"M 181.828125 310.699219 C 181.828125 314.300781 176.425781 314.300781 176.425781 310.699219 C 176.425781 307.097656 181.828125 307.097656 181.828125 310.699219 \"/>\n",
       "<path style=\"fill:none;stroke-width:0.75;stroke-linecap:round;stroke-linejoin:round;stroke:rgb(0%,0%,0%);stroke-opacity:1;stroke-miterlimit:10;\" d=\"M 181.828125 318.449219 C 181.828125 322.046875 176.425781 322.046875 176.425781 318.449219 C 176.425781 314.847656 181.828125 314.847656 181.828125 318.449219 \"/>\n",
       "<path style=\"fill:none;stroke-width:0.75;stroke-linecap:round;stroke-linejoin:round;stroke:rgb(0%,0%,0%);stroke-opacity:1;stroke-miterlimit:10;\" d=\"M 181.828125 306.753906 C 181.828125 310.355469 176.425781 310.355469 176.425781 306.753906 C 176.425781 303.152344 181.828125 303.152344 181.828125 306.753906 \"/>\n",
       "<path style=\"fill:none;stroke-width:0.75;stroke-linecap:round;stroke-linejoin:round;stroke:rgb(0%,0%,0%);stroke-opacity:1;stroke-miterlimit:10;\" d=\"M 181.828125 310.699219 C 181.828125 314.300781 176.425781 314.300781 176.425781 310.699219 C 176.425781 307.097656 181.828125 307.097656 181.828125 310.699219 \"/>\n",
       "<path style=\"fill:none;stroke-width:0.75;stroke-linecap:round;stroke-linejoin:round;stroke:rgb(0%,0%,0%);stroke-opacity:1;stroke-miterlimit:10;\" d=\"M 181.828125 306.753906 C 181.828125 310.355469 176.425781 310.355469 176.425781 306.753906 C 176.425781 303.152344 181.828125 303.152344 181.828125 306.753906 \"/>\n",
       "<path style=\"fill:none;stroke-width:0.75;stroke-linecap:round;stroke-linejoin:round;stroke:rgb(0%,0%,0%);stroke-opacity:1;stroke-miterlimit:10;\" d=\"M 216.738281 286.636719 C 216.738281 290.234375 211.335938 290.234375 211.335938 286.636719 C 211.335938 283.035156 216.738281 283.035156 216.738281 286.636719 \"/>\n",
       "<path style=\"fill:none;stroke-width:0.75;stroke-linecap:round;stroke-linejoin:round;stroke:rgb(0%,0%,0%);stroke-opacity:1;stroke-miterlimit:10;\" d=\"M 216.738281 282.863281 C 216.738281 286.464844 211.335938 286.464844 211.335938 282.863281 C 211.335938 279.265625 216.738281 279.265625 216.738281 282.863281 \"/>\n",
       "<path style=\"fill:none;stroke-width:0.75;stroke-linecap:round;stroke-linejoin:round;stroke:rgb(0%,0%,0%);stroke-opacity:1;stroke-miterlimit:10;\" d=\"M 216.738281 279.050781 C 216.738281 282.652344 211.335938 282.652344 211.335938 279.050781 C 211.335938 275.449219 216.738281 275.449219 216.738281 279.050781 \"/>\n",
       "<path style=\"fill:none;stroke-width:0.75;stroke-linecap:round;stroke-linejoin:round;stroke:rgb(0%,0%,0%);stroke-opacity:1;stroke-miterlimit:10;\" d=\"M 216.738281 282.863281 C 216.738281 286.464844 211.335938 286.464844 211.335938 282.863281 C 211.335938 279.265625 216.738281 279.265625 216.738281 282.863281 \"/>\n",
       "<path style=\"fill:none;stroke-width:0.75;stroke-linecap:round;stroke-linejoin:round;stroke:rgb(0%,0%,0%);stroke-opacity:1;stroke-miterlimit:10;\" d=\"M 216.738281 282.980469 C 216.738281 286.582031 211.335938 286.582031 211.335938 282.980469 C 211.335938 279.382812 216.738281 279.382812 216.738281 282.980469 \"/>\n",
       "<path style=\"fill:none;stroke-width:0.75;stroke-linecap:round;stroke-linejoin:round;stroke:rgb(0%,0%,0%);stroke-opacity:1;stroke-miterlimit:10;\" d=\"M 251.644531 252.65625 C 251.644531 256.257812 246.246094 256.257812 246.246094 252.65625 C 246.246094 249.054688 251.644531 249.054688 251.644531 252.65625 \"/>\n",
       "<path style=\"fill:none;stroke-width:0.75;stroke-linecap:round;stroke-linejoin:round;stroke:rgb(0%,0%,0%);stroke-opacity:1;stroke-miterlimit:10;\" d=\"M 251.644531 263.730469 C 251.644531 267.332031 246.246094 267.332031 246.246094 263.730469 C 246.246094 260.132812 251.644531 260.132812 251.644531 263.730469 \"/>\n",
       "<path style=\"fill:none;stroke-width:0.75;stroke-linecap:round;stroke-linejoin:round;stroke:rgb(0%,0%,0%);stroke-opacity:1;stroke-miterlimit:10;\" d=\"M 251.644531 256.386719 C 251.644531 259.988281 246.246094 259.988281 246.246094 256.386719 C 246.246094 252.785156 251.644531 252.785156 251.644531 256.386719 \"/>\n",
       "<path style=\"fill:none;stroke-width:0.75;stroke-linecap:round;stroke-linejoin:round;stroke:rgb(0%,0%,0%);stroke-opacity:1;stroke-miterlimit:10;\" d=\"M 251.644531 245.074219 C 251.644531 248.671875 246.246094 248.671875 246.246094 245.074219 C 246.246094 241.472656 251.644531 241.472656 251.644531 245.074219 \"/>\n",
       "<path style=\"fill:none;stroke-width:0.75;stroke-linecap:round;stroke-linejoin:round;stroke:rgb(0%,0%,0%);stroke-opacity:1;stroke-miterlimit:10;\" d=\"M 251.644531 245.074219 C 251.644531 248.671875 246.246094 248.671875 246.246094 245.074219 C 246.246094 241.472656 251.644531 241.472656 251.644531 245.074219 \"/>\n",
       "<path style=\"fill:none;stroke-width:0.75;stroke-linecap:round;stroke-linejoin:round;stroke:rgb(0%,0%,0%);stroke-opacity:1;stroke-miterlimit:10;\" d=\"M 286.554688 221.316406 C 286.554688 224.914062 281.15625 224.914062 281.15625 221.316406 C 281.15625 217.714844 286.554688 217.714844 286.554688 221.316406 \"/>\n",
       "<path style=\"fill:none;stroke-width:0.75;stroke-linecap:round;stroke-linejoin:round;stroke:rgb(0%,0%,0%);stroke-opacity:1;stroke-miterlimit:10;\" d=\"M 286.554688 221.316406 C 286.554688 224.914062 281.15625 224.914062 281.15625 221.316406 C 281.15625 217.714844 286.554688 217.714844 286.554688 221.316406 \"/>\n",
       "<path style=\"fill:none;stroke-width:0.75;stroke-linecap:round;stroke-linejoin:round;stroke:rgb(0%,0%,0%);stroke-opacity:1;stroke-miterlimit:10;\" d=\"M 286.554688 221.316406 C 286.554688 224.914062 281.15625 224.914062 281.15625 221.316406 C 281.15625 217.714844 286.554688 217.714844 286.554688 221.316406 \"/>\n",
       "<path style=\"fill:none;stroke-width:0.75;stroke-linecap:round;stroke-linejoin:round;stroke:rgb(0%,0%,0%);stroke-opacity:1;stroke-miterlimit:10;\" d=\"M 286.554688 225.382812 C 286.554688 228.984375 281.15625 228.984375 281.15625 225.382812 C 281.15625 221.785156 286.554688 221.785156 286.554688 225.382812 \"/>\n",
       "<path style=\"fill:none;stroke-width:0.75;stroke-linecap:round;stroke-linejoin:round;stroke:rgb(0%,0%,0%);stroke-opacity:1;stroke-miterlimit:10;\" d=\"M 286.554688 221.316406 C 286.554688 224.914062 281.15625 224.914062 281.15625 221.316406 C 281.15625 217.714844 286.554688 217.714844 286.554688 221.316406 \"/>\n",
       "<path style=\"fill:none;stroke-width:0.75;stroke-linecap:round;stroke-linejoin:round;stroke:rgb(0%,0%,0%);stroke-opacity:1;stroke-miterlimit:10;\" d=\"M 321.464844 191.667969 C 321.464844 195.265625 316.0625 195.265625 316.0625 191.667969 C 316.0625 188.066406 321.464844 188.066406 321.464844 191.667969 \"/>\n",
       "<path style=\"fill:none;stroke-width:0.75;stroke-linecap:round;stroke-linejoin:round;stroke:rgb(0%,0%,0%);stroke-opacity:1;stroke-miterlimit:10;\" d=\"M 321.464844 195.617188 C 321.464844 199.214844 316.0625 199.214844 316.0625 195.617188 C 316.0625 192.015625 321.464844 192.015625 321.464844 195.617188 \"/>\n",
       "<path style=\"fill:none;stroke-width:0.75;stroke-linecap:round;stroke-linejoin:round;stroke:rgb(0%,0%,0%);stroke-opacity:1;stroke-miterlimit:10;\" d=\"M 321.464844 191.667969 C 321.464844 195.265625 316.0625 195.265625 316.0625 191.667969 C 316.0625 188.066406 321.464844 188.066406 321.464844 191.667969 \"/>\n",
       "<path style=\"fill:none;stroke-width:0.75;stroke-linecap:round;stroke-linejoin:round;stroke:rgb(0%,0%,0%);stroke-opacity:1;stroke-miterlimit:10;\" d=\"M 321.464844 203.691406 C 321.464844 207.289062 316.0625 207.289062 316.0625 203.691406 C 316.0625 200.089844 321.464844 200.089844 321.464844 203.691406 \"/>\n",
       "<path style=\"fill:none;stroke-width:0.75;stroke-linecap:round;stroke-linejoin:round;stroke:rgb(0%,0%,0%);stroke-opacity:1;stroke-miterlimit:10;\" d=\"M 321.464844 199.523438 C 321.464844 203.125 316.0625 203.125 316.0625 199.523438 C 316.0625 195.925781 321.464844 195.925781 321.464844 199.523438 \"/>\n",
       "<path style=\"fill:none;stroke-width:0.75;stroke-linecap:round;stroke-linejoin:round;stroke:rgb(0%,0%,0%);stroke-opacity:1;stroke-miterlimit:10;\" d=\"M 356.371094 160.855469 C 356.371094 164.457031 350.972656 164.457031 350.972656 160.855469 C 350.972656 157.257812 356.371094 157.257812 356.371094 160.855469 \"/>\n",
       "<path style=\"fill:none;stroke-width:0.75;stroke-linecap:round;stroke-linejoin:round;stroke:rgb(0%,0%,0%);stroke-opacity:1;stroke-miterlimit:10;\" d=\"M 356.371094 168.707031 C 356.371094 172.308594 350.972656 172.308594 350.972656 168.707031 C 350.972656 165.109375 356.371094 165.109375 356.371094 168.707031 \"/>\n",
       "<path style=\"fill:none;stroke-width:0.75;stroke-linecap:round;stroke-linejoin:round;stroke:rgb(0%,0%,0%);stroke-opacity:1;stroke-miterlimit:10;\" d=\"M 356.371094 164.800781 C 356.371094 168.402344 350.972656 168.402344 350.972656 164.800781 C 350.972656 161.203125 356.371094 161.203125 356.371094 164.800781 \"/>\n",
       "<path style=\"fill:none;stroke-width:0.75;stroke-linecap:round;stroke-linejoin:round;stroke:rgb(0%,0%,0%);stroke-opacity:1;stroke-miterlimit:10;\" d=\"M 356.371094 164.800781 C 356.371094 168.402344 350.972656 168.402344 350.972656 164.800781 C 350.972656 161.203125 356.371094 161.203125 356.371094 164.800781 \"/>\n",
       "<path style=\"fill:none;stroke-width:0.75;stroke-linecap:round;stroke-linejoin:round;stroke:rgb(0%,0%,0%);stroke-opacity:1;stroke-miterlimit:10;\" d=\"M 356.371094 157.039062 C 356.371094 160.640625 350.972656 160.640625 350.972656 157.039062 C 350.972656 153.4375 356.371094 153.4375 356.371094 157.039062 \"/>\n",
       "<path style=\"fill:none;stroke-width:0.75;stroke-linecap:round;stroke-linejoin:round;stroke:rgb(0%,0%,0%);stroke-opacity:1;stroke-miterlimit:10;\" d=\"M 391.28125 129.613281 C 391.28125 133.210938 385.882812 133.210938 385.882812 129.613281 C 385.882812 126.011719 391.28125 126.011719 391.28125 129.613281 \"/>\n",
       "<path style=\"fill:none;stroke-width:0.75;stroke-linecap:round;stroke-linejoin:round;stroke:rgb(0%,0%,0%);stroke-opacity:1;stroke-miterlimit:10;\" d=\"M 391.28125 133.519531 C 391.28125 137.117188 385.882812 137.117188 385.882812 133.519531 C 385.882812 129.917969 391.28125 129.917969 391.28125 133.519531 \"/>\n",
       "<path style=\"fill:none;stroke-width:0.75;stroke-linecap:round;stroke-linejoin:round;stroke:rgb(0%,0%,0%);stroke-opacity:1;stroke-miterlimit:10;\" d=\"M 391.28125 137.386719 C 391.28125 140.988281 385.882812 140.988281 385.882812 137.386719 C 385.882812 133.789062 391.28125 133.789062 391.28125 137.386719 \"/>\n",
       "<path style=\"fill:none;stroke-width:0.75;stroke-linecap:round;stroke-linejoin:round;stroke:rgb(0%,0%,0%);stroke-opacity:1;stroke-miterlimit:10;\" d=\"M 391.28125 145.019531 C 391.28125 148.621094 385.882812 148.621094 385.882812 145.019531 C 385.882812 141.417969 391.28125 141.417969 391.28125 145.019531 \"/>\n",
       "<path style=\"fill:none;stroke-width:0.75;stroke-linecap:round;stroke-linejoin:round;stroke:rgb(0%,0%,0%);stroke-opacity:1;stroke-miterlimit:10;\" d=\"M 391.28125 148.78125 C 391.28125 152.382812 385.882812 152.382812 385.882812 148.78125 C 385.882812 145.183594 391.28125 145.183594 391.28125 148.78125 \"/>\n",
       "<path style=\"fill:none;stroke-width:0.75;stroke-linecap:round;stroke-linejoin:round;stroke:rgb(0%,0%,0%);stroke-opacity:1;stroke-miterlimit:10;\" d=\"M 426.191406 118.585938 C 426.191406 122.183594 420.789062 122.183594 420.789062 118.585938 C 420.789062 114.984375 426.191406 114.984375 426.191406 118.585938 \"/>\n",
       "<path style=\"fill:none;stroke-width:0.75;stroke-linecap:round;stroke-linejoin:round;stroke:rgb(0%,0%,0%);stroke-opacity:1;stroke-miterlimit:10;\" d=\"M 426.191406 118.585938 C 426.191406 122.183594 420.789062 122.183594 420.789062 118.585938 C 420.789062 114.984375 426.191406 114.984375 426.191406 118.585938 \"/>\n",
       "<path style=\"fill:none;stroke-width:0.75;stroke-linecap:round;stroke-linejoin:round;stroke:rgb(0%,0%,0%);stroke-opacity:1;stroke-miterlimit:10;\" d=\"M 426.191406 118.585938 C 426.191406 122.183594 420.789062 122.183594 420.789062 118.585938 C 420.789062 114.984375 426.191406 114.984375 426.191406 118.585938 \"/>\n",
       "<path style=\"fill:none;stroke-width:0.75;stroke-linecap:round;stroke-linejoin:round;stroke:rgb(0%,0%,0%);stroke-opacity:1;stroke-miterlimit:10;\" d=\"M 426.191406 129.433594 C 426.191406 133.035156 420.789062 133.035156 420.789062 129.433594 C 420.789062 125.832031 426.191406 125.832031 426.191406 129.433594 \"/>\n",
       "<path style=\"fill:none;stroke-width:0.75;stroke-linecap:round;stroke-linejoin:round;stroke:rgb(0%,0%,0%);stroke-opacity:1;stroke-miterlimit:10;\" d=\"M 426.191406 118.585938 C 426.191406 122.183594 420.789062 122.183594 420.789062 118.585938 C 420.789062 114.984375 426.191406 114.984375 426.191406 118.585938 \"/>\n",
       "<path style=\"fill:none;stroke-width:0.75;stroke-linecap:round;stroke-linejoin:round;stroke:rgb(0%,0%,0%);stroke-opacity:1;stroke-miterlimit:10;\" d=\"M 461.101562 96.011719 C 461.101562 99.609375 455.699219 99.609375 455.699219 96.011719 C 455.699219 92.410156 461.101562 92.410156 461.101562 96.011719 \"/>\n",
       "<path style=\"fill:none;stroke-width:0.75;stroke-linecap:round;stroke-linejoin:round;stroke:rgb(0%,0%,0%);stroke-opacity:1;stroke-miterlimit:10;\" d=\"M 461.101562 88.214844 C 461.101562 91.8125 455.699219 91.8125 455.699219 88.214844 C 455.699219 84.613281 461.101562 84.613281 461.101562 88.214844 \"/>\n",
       "<path style=\"fill:none;stroke-width:0.75;stroke-linecap:round;stroke-linejoin:round;stroke:rgb(0%,0%,0%);stroke-opacity:1;stroke-miterlimit:10;\" d=\"M 461.101562 96.011719 C 461.101562 99.609375 455.699219 99.609375 455.699219 96.011719 C 455.699219 92.410156 461.101562 92.410156 461.101562 96.011719 \"/>\n",
       "<path style=\"fill:none;stroke-width:0.75;stroke-linecap:round;stroke-linejoin:round;stroke:rgb(0%,0%,0%);stroke-opacity:1;stroke-miterlimit:10;\" d=\"M 461.101562 72.800781 C 461.101562 76.398438 455.699219 76.398438 455.699219 72.800781 C 455.699219 69.199219 461.101562 69.199219 461.101562 72.800781 \"/>\n",
       "<path style=\"fill:none;stroke-width:0.75;stroke-linecap:round;stroke-linejoin:round;stroke:rgb(0%,0%,0%);stroke-opacity:1;stroke-miterlimit:10;\" d=\"M 461.101562 80.273438 C 461.101562 83.875 455.699219 83.875 455.699219 80.273438 C 455.699219 76.675781 461.101562 76.675781 461.101562 80.273438 \"/>\n",
       "<path style=\"fill:none;stroke-width:0.75;stroke-linecap:round;stroke-linejoin:round;stroke:rgb(0%,0%,0%);stroke-opacity:1;stroke-miterlimit:10;\" d=\"M 91.855469 430.558594 L 440.945312 430.558594 \"/>\n",
       "<path style=\"fill:none;stroke-width:0.75;stroke-linecap:round;stroke-linejoin:round;stroke:rgb(0%,0%,0%);stroke-opacity:1;stroke-miterlimit:10;\" d=\"M 91.855469 430.558594 L 91.855469 437.761719 \"/>\n",
       "<path style=\"fill:none;stroke-width:0.75;stroke-linecap:round;stroke-linejoin:round;stroke:rgb(0%,0%,0%);stroke-opacity:1;stroke-miterlimit:10;\" d=\"M 161.671875 430.558594 L 161.671875 437.761719 \"/>\n",
       "<path style=\"fill:none;stroke-width:0.75;stroke-linecap:round;stroke-linejoin:round;stroke:rgb(0%,0%,0%);stroke-opacity:1;stroke-miterlimit:10;\" d=\"M 231.492188 430.558594 L 231.492188 437.761719 \"/>\n",
       "<path style=\"fill:none;stroke-width:0.75;stroke-linecap:round;stroke-linejoin:round;stroke:rgb(0%,0%,0%);stroke-opacity:1;stroke-miterlimit:10;\" d=\"M 301.308594 430.558594 L 301.308594 437.761719 \"/>\n",
       "<path style=\"fill:none;stroke-width:0.75;stroke-linecap:round;stroke-linejoin:round;stroke:rgb(0%,0%,0%);stroke-opacity:1;stroke-miterlimit:10;\" d=\"M 371.128906 430.558594 L 371.128906 437.761719 \"/>\n",
       "<path style=\"fill:none;stroke-width:0.75;stroke-linecap:round;stroke-linejoin:round;stroke:rgb(0%,0%,0%);stroke-opacity:1;stroke-miterlimit:10;\" d=\"M 440.945312 430.558594 L 440.945312 437.761719 \"/>\n",
       "<g style=\"fill:rgb(0%,0%,0%);fill-opacity:1;\">\n",
       "  <use xlink:href=\"#glyph0-1\" x=\"81.355469\" y=\"456.256836\"/>\n",
       "  <use xlink:href=\"#glyph0-2\" x=\"88.027344\" y=\"456.256836\"/>\n",
       "  <use xlink:href=\"#glyph0-2\" x=\"94.699219\" y=\"456.256836\"/>\n",
       "</g>\n",
       "<g style=\"fill:rgb(0%,0%,0%);fill-opacity:1;\">\n",
       "  <use xlink:href=\"#glyph0-3\" x=\"151.171875\" y=\"456.256836\"/>\n",
       "  <use xlink:href=\"#glyph0-2\" x=\"157.84375\" y=\"456.256836\"/>\n",
       "  <use xlink:href=\"#glyph0-2\" x=\"164.515625\" y=\"456.256836\"/>\n",
       "</g>\n",
       "<g style=\"fill:rgb(0%,0%,0%);fill-opacity:1;\">\n",
       "  <use xlink:href=\"#glyph0-4\" x=\"220.992188\" y=\"456.256836\"/>\n",
       "  <use xlink:href=\"#glyph0-2\" x=\"227.664062\" y=\"456.256836\"/>\n",
       "  <use xlink:href=\"#glyph0-2\" x=\"234.335938\" y=\"456.256836\"/>\n",
       "</g>\n",
       "<g style=\"fill:rgb(0%,0%,0%);fill-opacity:1;\">\n",
       "  <use xlink:href=\"#glyph0-5\" x=\"287.808594\" y=\"456.256836\"/>\n",
       "  <use xlink:href=\"#glyph0-2\" x=\"294.480469\" y=\"456.256836\"/>\n",
       "  <use xlink:href=\"#glyph0-2\" x=\"301.152344\" y=\"456.256836\"/>\n",
       "  <use xlink:href=\"#glyph0-2\" x=\"307.824219\" y=\"456.256836\"/>\n",
       "</g>\n",
       "<g style=\"fill:rgb(0%,0%,0%);fill-opacity:1;\">\n",
       "  <use xlink:href=\"#glyph0-5\" x=\"357.628906\" y=\"456.256836\"/>\n",
       "  <use xlink:href=\"#glyph0-6\" x=\"364.300781\" y=\"456.256836\"/>\n",
       "  <use xlink:href=\"#glyph0-2\" x=\"370.972656\" y=\"456.256836\"/>\n",
       "  <use xlink:href=\"#glyph0-2\" x=\"377.644531\" y=\"456.256836\"/>\n",
       "</g>\n",
       "<g style=\"fill:rgb(0%,0%,0%);fill-opacity:1;\">\n",
       "  <use xlink:href=\"#glyph0-5\" x=\"427.445312\" y=\"456.256836\"/>\n",
       "  <use xlink:href=\"#glyph0-1\" x=\"434.117188\" y=\"456.256836\"/>\n",
       "  <use xlink:href=\"#glyph0-2\" x=\"440.789062\" y=\"456.256836\"/>\n",
       "  <use xlink:href=\"#glyph0-2\" x=\"447.460938\" y=\"456.256836\"/>\n",
       "</g>\n",
       "<path style=\"fill:none;stroke-width:0.75;stroke-linecap:round;stroke-linejoin:round;stroke:rgb(0%,0%,0%);stroke-opacity:1;stroke-miterlimit:10;\" d=\"M 59.039062 419.515625 L 59.039062 111.835938 \"/>\n",
       "<path style=\"fill:none;stroke-width:0.75;stroke-linecap:round;stroke-linejoin:round;stroke:rgb(0%,0%,0%);stroke-opacity:1;stroke-miterlimit:10;\" d=\"M 59.039062 419.515625 L 51.839844 419.515625 \"/>\n",
       "<path style=\"fill:none;stroke-width:0.75;stroke-linecap:round;stroke-linejoin:round;stroke:rgb(0%,0%,0%);stroke-opacity:1;stroke-miterlimit:10;\" d=\"M 59.039062 342.597656 L 51.839844 342.597656 \"/>\n",
       "<path style=\"fill:none;stroke-width:0.75;stroke-linecap:round;stroke-linejoin:round;stroke:rgb(0%,0%,0%);stroke-opacity:1;stroke-miterlimit:10;\" d=\"M 59.039062 265.675781 L 51.839844 265.675781 \"/>\n",
       "<path style=\"fill:none;stroke-width:0.75;stroke-linecap:round;stroke-linejoin:round;stroke:rgb(0%,0%,0%);stroke-opacity:1;stroke-miterlimit:10;\" d=\"M 59.039062 188.753906 L 51.839844 188.753906 \"/>\n",
       "<path style=\"fill:none;stroke-width:0.75;stroke-linecap:round;stroke-linejoin:round;stroke:rgb(0%,0%,0%);stroke-opacity:1;stroke-miterlimit:10;\" d=\"M 59.039062 111.835938 L 51.839844 111.835938 \"/>\n",
       "<g style=\"fill:rgb(0%,0%,0%);fill-opacity:1;\">\n",
       "  <use xlink:href=\"#glyph1-1\" x=\"41.538086\" y=\"428.015625\"/>\n",
       "  <use xlink:href=\"#glyph1-2\" x=\"41.538086\" y=\"421.34375\"/>\n",
       "  <use xlink:href=\"#glyph1-3\" x=\"41.538086\" y=\"418.007812\"/>\n",
       "</g>\n",
       "<g style=\"fill:rgb(0%,0%,0%);fill-opacity:1;\">\n",
       "  <use xlink:href=\"#glyph1-1\" x=\"41.538086\" y=\"351.097656\"/>\n",
       "  <use xlink:href=\"#glyph1-2\" x=\"41.538086\" y=\"344.425781\"/>\n",
       "  <use xlink:href=\"#glyph1-4\" x=\"41.538086\" y=\"341.089844\"/>\n",
       "</g>\n",
       "<g style=\"fill:rgb(0%,0%,0%);fill-opacity:1;\">\n",
       "  <use xlink:href=\"#glyph1-1\" x=\"41.538086\" y=\"274.175781\"/>\n",
       "  <use xlink:href=\"#glyph1-2\" x=\"41.538086\" y=\"267.503906\"/>\n",
       "  <use xlink:href=\"#glyph1-5\" x=\"41.538086\" y=\"264.167969\"/>\n",
       "</g>\n",
       "<g style=\"fill:rgb(0%,0%,0%);fill-opacity:1;\">\n",
       "  <use xlink:href=\"#glyph1-6\" x=\"41.538086\" y=\"197.253906\"/>\n",
       "  <use xlink:href=\"#glyph1-2\" x=\"41.538086\" y=\"190.582031\"/>\n",
       "  <use xlink:href=\"#glyph1-7\" x=\"41.538086\" y=\"187.246094\"/>\n",
       "</g>\n",
       "<g style=\"fill:rgb(0%,0%,0%);fill-opacity:1;\">\n",
       "  <use xlink:href=\"#glyph1-6\" x=\"41.538086\" y=\"120.335938\"/>\n",
       "  <use xlink:href=\"#glyph1-2\" x=\"41.538086\" y=\"113.664062\"/>\n",
       "  <use xlink:href=\"#glyph1-6\" x=\"41.538086\" y=\"110.328125\"/>\n",
       "</g>\n",
       "<path style=\"fill:none;stroke-width:0.75;stroke-linecap:round;stroke-linejoin:round;stroke:rgb(0%,0%,0%);stroke-opacity:1;stroke-miterlimit:10;\" d=\"M 59.039062 430.558594 L 473.761719 430.558594 L 473.761719 59.039062 L 59.039062 59.039062 L 59.039062 430.558594 \"/>\n",
       "<g style=\"fill:rgb(0%,0%,0%);fill-opacity:1;\">\n",
       "  <use xlink:href=\"#glyph2-1\" x=\"165.898438\" y=\"34.21875\"/>\n",
       "  <use xlink:href=\"#glyph2-2\" x=\"175.507812\" y=\"34.21875\"/>\n",
       "  <use xlink:href=\"#glyph2-3\" x=\"183.517578\" y=\"34.21875\"/>\n",
       "  <use xlink:href=\"#glyph2-4\" x=\"191.527344\" y=\"34.21875\"/>\n",
       "  <use xlink:href=\"#glyph2-5\" x=\"199.537109\" y=\"34.21875\"/>\n",
       "  <use xlink:href=\"#glyph2-6\" x=\"207.546875\" y=\"34.21875\"/>\n",
       "  <use xlink:href=\"#glyph2-7\" x=\"212.34375\" y=\"34.21875\"/>\n",
       "  <use xlink:href=\"#glyph2-8\" x=\"216.348633\" y=\"34.21875\"/>\n",
       "  <use xlink:href=\"#glyph2-9\" x=\"224.358398\" y=\"34.21875\"/>\n",
       "  <use xlink:href=\"#glyph2-10\" x=\"228.363281\" y=\"34.21875\"/>\n",
       "  <use xlink:href=\"#glyph2-5\" x=\"235.566406\" y=\"34.21875\"/>\n",
       "  <use xlink:href=\"#glyph2-7\" x=\"243.576172\" y=\"34.21875\"/>\n",
       "  <use xlink:href=\"#glyph2-11\" x=\"247.581055\" y=\"34.21875\"/>\n",
       "  <use xlink:href=\"#glyph2-8\" x=\"257.19043\" y=\"34.21875\"/>\n",
       "  <use xlink:href=\"#glyph2-7\" x=\"265.200195\" y=\"34.21875\"/>\n",
       "  <use xlink:href=\"#glyph2-12\" x=\"269.205078\" y=\"34.21875\"/>\n",
       "  <use xlink:href=\"#glyph2-9\" x=\"278.006836\" y=\"34.21875\"/>\n",
       "  <use xlink:href=\"#glyph2-13\" x=\"282.011719\" y=\"34.21875\"/>\n",
       "  <use xlink:href=\"#glyph2-5\" x=\"294.818359\" y=\"34.21875\"/>\n",
       "  <use xlink:href=\"#glyph2-7\" x=\"302.828125\" y=\"34.21875\"/>\n",
       "  <use xlink:href=\"#glyph2-14\" x=\"306.833008\" y=\"34.21875\"/>\n",
       "  <use xlink:href=\"#glyph2-15\" x=\"311.629883\" y=\"34.21875\"/>\n",
       "  <use xlink:href=\"#glyph2-15\" x=\"319.639648\" y=\"34.21875\"/>\n",
       "  <use xlink:href=\"#glyph2-13\" x=\"327.649414\" y=\"34.21875\"/>\n",
       "  <use xlink:href=\"#glyph2-16\" x=\"340.456055\" y=\"34.21875\"/>\n",
       "  <use xlink:href=\"#glyph2-17\" x=\"349.257812\" y=\"34.21875\"/>\n",
       "  <use xlink:href=\"#glyph2-8\" x=\"353.262695\" y=\"34.21875\"/>\n",
       "  <use xlink:href=\"#glyph2-18\" x=\"361.272461\" y=\"34.21875\"/>\n",
       "</g>\n",
       "<g style=\"fill:rgb(0%,0%,0%);fill-opacity:1;\">\n",
       "  <use xlink:href=\"#glyph0-7\" x=\"234.398438\" y=\"485.057617\"/>\n",
       "  <use xlink:href=\"#glyph0-8\" x=\"242.402344\" y=\"485.057617\"/>\n",
       "  <use xlink:href=\"#glyph0-9\" x=\"249.074219\" y=\"485.057617\"/>\n",
       "  <use xlink:href=\"#glyph0-10\" x=\"255.074219\" y=\"485.057617\"/>\n",
       "  <use xlink:href=\"#glyph0-11\" x=\"261.074219\" y=\"485.057617\"/>\n",
       "  <use xlink:href=\"#glyph0-12\" x=\"267.746094\" y=\"485.057617\"/>\n",
       "  <use xlink:href=\"#glyph0-13\" x=\"271.082031\" y=\"485.057617\"/>\n",
       "  <use xlink:href=\"#glyph0-14\" x=\"274.417969\" y=\"485.057617\"/>\n",
       "  <use xlink:href=\"#glyph0-15\" x=\"282.421875\" y=\"485.057617\"/>\n",
       "  <use xlink:href=\"#glyph0-16\" x=\"285.085938\" y=\"485.057617\"/>\n",
       "  <use xlink:href=\"#glyph0-11\" x=\"291.085938\" y=\"485.057617\"/>\n",
       "</g>\n",
       "<g style=\"fill:rgb(0%,0%,0%);fill-opacity:1;\">\n",
       "  <use xlink:href=\"#glyph1-8\" x=\"12.737305\" y=\"258.300781\"/>\n",
       "  <use xlink:href=\"#glyph1-9\" x=\"12.737305\" y=\"250.96875\"/>\n",
       "  <use xlink:href=\"#glyph1-10\" x=\"12.737305\" y=\"248.304688\"/>\n",
       "  <use xlink:href=\"#glyph1-11\" x=\"12.737305\" y=\"238.308594\"/>\n",
       "</g>\n",
       "<g clip-path=\"url(#clip1)\" clip-rule=\"nonzero\">\n",
       "<path style=\"fill:none;stroke-width:0.75;stroke-linecap:round;stroke-linejoin:round;stroke:rgb(0%,0%,0%);stroke-opacity:1;stroke-miterlimit:10;\" d=\"M 59.039062 414.742188 L 473.761719 69.296875 \"/>\n",
       "</g>\n",
       "<g clip-path=\"url(#clip2)\" clip-rule=\"nonzero\">\n",
       "<path style=\"fill:none;stroke-width:0.75;stroke-linecap:round;stroke-linejoin:round;stroke:rgb(0%,80.392157%,0%);stroke-opacity:1;stroke-miterlimit:10;\" d=\"M 59.039062 421.941406 L 473.761719 83.230469 \"/>\n",
       "</g>\n",
       "<g clip-path=\"url(#clip3)\" clip-rule=\"nonzero\">\n",
       "<path style=\"fill:none;stroke-width:0.75;stroke-linecap:round;stroke-linejoin:round;stroke:rgb(0%,80.392157%,0%);stroke-opacity:1;stroke-miterlimit:10;\" d=\"M 59.039062 407.539062 L 473.761719 55.359375 \"/>\n",
       "</g>\n",
       "</g>\n",
       "</svg>\n"
      ],
      "text/plain": [
       "Plot with title “Packet size Vs Time (11mb/s)”"
      ]
     },
     "metadata": {
      "image/svg+xml": {
       "isolated": true
      }
     },
     "output_type": "display_data"
    },
    {
     "data": {
      "image/png": "[encoded data removed]",
      "image/svg+xml": [
       "<?xml version=\"1.0\" encoding=\"UTF-8\"?>\n",
       "<svg xmlns=\"http://www.w3.org/2000/svg\" xmlns:xlink=\"http://www.w3.org/1999/xlink\" width=\"504pt\" height=\"504pt\" viewBox=\"0 0 504 504\" version=\"1.1\">\n",
       "<defs>\n",
       "<g>\n",
       "<symbol overflow=\"visible\" id=\"glyph0-0\">\n",
       "<path style=\"stroke:none;\" d=\"\"/>\n",
       "</symbol>\n",
       "<symbol overflow=\"visible\" id=\"glyph0-1\">\n",
       "<path style=\"stroke:none;\" d=\"M 6.234375 -2.046875 L 6.234375 -2.984375 L 4.984375 -2.984375 L 4.984375 -8.515625 L 4.203125 -8.515625 L 0.34375 -3.15625 L 0.34375 -2.046875 L 3.921875 -2.046875 L 3.921875 0 L 4.984375 0 L 4.984375 -2.046875 Z M 3.921875 -2.984375 L 1.265625 -2.984375 L 3.921875 -6.703125 Z \"/>\n",
       "</symbol>\n",
       "<symbol overflow=\"visible\" id=\"glyph0-2\">\n",
       "<path style=\"stroke:none;\" d=\"M 6.078125 -4.09375 C 6.078125 -7.046875 5.140625 -8.515625 3.296875 -8.515625 C 1.46875 -8.515625 0.515625 -7.015625 0.515625 -4.15625 C 0.515625 -1.296875 1.46875 0.1875 3.296875 0.1875 C 5.09375 0.1875 6.078125 -1.296875 6.078125 -4.09375 Z M 5 -4.1875 C 5 -1.78125 4.453125 -0.703125 3.28125 -0.703125 C 2.15625 -0.703125 1.59375 -1.828125 1.59375 -4.15625 C 1.59375 -6.484375 2.15625 -7.578125 3.296875 -7.578125 C 4.4375 -7.578125 5 -6.46875 5 -4.1875 Z \"/>\n",
       "</symbol>\n",
       "<symbol overflow=\"visible\" id=\"glyph0-3\">\n",
       "<path style=\"stroke:none;\" d=\"M 6.15625 -2.640625 C 6.15625 -4.21875 5.078125 -5.296875 3.546875 -5.296875 C 2.71875 -5.296875 2.046875 -4.96875 1.59375 -4.34375 C 1.609375 -6.421875 2.28125 -7.578125 3.484375 -7.578125 C 4.234375 -7.578125 4.75 -7.109375 4.921875 -6.28125 L 5.96875 -6.28125 C 5.765625 -7.6875 4.859375 -8.515625 3.5625 -8.515625 C 1.578125 -8.515625 0.515625 -6.84375 0.515625 -3.875 C 0.515625 -1.21875 1.421875 0.1875 3.375 0.1875 C 4.984375 0.1875 6.15625 -0.96875 6.15625 -2.640625 Z M 5.078125 -2.5625 C 5.078125 -1.484375 4.359375 -0.75 3.390625 -0.75 C 2.40625 -0.75 1.65625 -1.53125 1.65625 -2.609375 C 1.65625 -3.671875 2.375 -4.359375 3.421875 -4.359375 C 4.4375 -4.359375 5.078125 -3.703125 5.078125 -2.5625 Z \"/>\n",
       "</symbol>\n",
       "<symbol overflow=\"visible\" id=\"glyph0-4\">\n",
       "<path style=\"stroke:none;\" d=\"M 6.15625 -2.40625 C 6.15625 -3.34375 5.671875 -4.015625 4.6875 -4.46875 C 5.5625 -5 5.859375 -5.4375 5.859375 -6.234375 C 5.859375 -7.578125 4.8125 -8.515625 3.296875 -8.515625 C 1.796875 -8.515625 0.75 -7.578125 0.75 -6.234375 C 0.75 -5.453125 1.03125 -5.015625 1.890625 -4.46875 C 0.921875 -4.015625 0.4375 -3.34375 0.4375 -2.40625 C 0.4375 -0.859375 1.625 0.1875 3.296875 0.1875 C 4.984375 0.1875 6.15625 -0.859375 6.15625 -2.40625 Z M 4.78125 -6.21875 C 4.78125 -5.421875 4.1875 -4.890625 3.296875 -4.890625 C 2.40625 -4.890625 1.828125 -5.421875 1.828125 -6.234375 C 1.828125 -7.046875 2.40625 -7.578125 3.296875 -7.578125 C 4.203125 -7.578125 4.78125 -7.046875 4.78125 -6.21875 Z M 5.078125 -2.390625 C 5.078125 -1.375 4.359375 -0.75 3.28125 -0.75 C 2.25 -0.75 1.53125 -1.390625 1.53125 -2.390625 C 1.53125 -3.390625 2.25 -4.015625 3.296875 -4.015625 C 4.359375 -4.015625 5.078125 -3.390625 5.078125 -2.390625 Z \"/>\n",
       "</symbol>\n",
       "<symbol overflow=\"visible\" id=\"glyph0-5\">\n",
       "<path style=\"stroke:none;\" d=\"M 4.15625 0 L 4.15625 -8.515625 L 3.46875 -8.515625 C 3.09375 -7.203125 2.859375 -7.015625 1.21875 -6.8125 L 1.21875 -6.0625 L 3.109375 -6.0625 L 3.109375 0 Z \"/>\n",
       "</symbol>\n",
       "<symbol overflow=\"visible\" id=\"glyph0-6\">\n",
       "<path style=\"stroke:none;\" d=\"M 6.125 -6.015625 C 6.125 -7.453125 5.015625 -8.515625 3.40625 -8.515625 C 1.671875 -8.515625 0.65625 -7.625 0.59375 -5.5625 L 1.65625 -5.5625 C 1.734375 -6.984375 2.328125 -7.578125 3.375 -7.578125 C 4.328125 -7.578125 5.046875 -6.90625 5.046875 -5.984375 C 5.046875 -5.3125 4.65625 -4.734375 3.90625 -4.3125 L 2.796875 -3.6875 C 1.015625 -2.671875 0.5 -1.875 0.40625 0 L 6.078125 0 L 6.078125 -1.046875 L 1.59375 -1.046875 C 1.703125 -1.734375 2.09375 -2.1875 3.125 -2.796875 L 4.328125 -3.4375 C 5.515625 -4.078125 6.125 -4.96875 6.125 -6.015625 Z \"/>\n",
       "</symbol>\n",
       "<symbol overflow=\"visible\" id=\"glyph0-7\">\n",
       "<path style=\"stroke:none;\" d=\"M 7.40625 -6.1875 C 7.40625 -7.828125 6.4375 -8.75 4.703125 -8.75 L 1.09375 -8.75 L 1.09375 0 L 2.203125 0 L 2.203125 -3.703125 L 4.953125 -3.703125 C 6.390625 -3.703125 7.40625 -4.734375 7.40625 -6.1875 Z M 6.234375 -6.234375 C 6.234375 -5.265625 5.609375 -4.6875 4.53125 -4.6875 L 2.203125 -4.6875 L 2.203125 -7.765625 L 4.53125 -7.765625 C 5.609375 -7.765625 6.234375 -7.1875 6.234375 -6.234375 Z \"/>\n",
       "</symbol>\n",
       "<symbol overflow=\"visible\" id=\"glyph0-8\">\n",
       "<path style=\"stroke:none;\" d=\"M 6.421875 -0.03125 L 6.421875 -0.78125 C 6.3125 -0.75 6.265625 -0.75 6.203125 -0.75 C 5.859375 -0.75 5.65625 -0.9375 5.65625 -1.25 L 5.65625 -4.75 C 5.65625 -5.875 4.84375 -6.46875 3.296875 -6.46875 C 1.78125 -6.46875 0.84375 -5.875 0.78125 -4.421875 L 1.78125 -4.421875 C 1.875 -5.203125 2.328125 -5.546875 3.265625 -5.546875 C 4.15625 -5.546875 4.671875 -5.203125 4.671875 -4.609375 L 4.671875 -4.34375 C 4.671875 -3.921875 4.421875 -3.75 3.625 -3.640625 C 2.203125 -3.46875 1.984375 -3.421875 1.609375 -3.265625 C 0.875 -2.96875 0.5 -2.40625 0.5 -1.625 C 0.5 -0.484375 1.296875 0.1875 2.5625 0.1875 C 3.375 0.1875 4.15625 -0.15625 4.703125 -0.75 C 4.8125 -0.265625 5.25 0.078125 5.734375 0.078125 C 5.9375 0.078125 6.09375 0.0625 6.421875 -0.03125 Z M 4.671875 -2.171875 C 4.671875 -1.265625 3.75 -0.703125 2.78125 -0.703125 C 2 -0.703125 1.546875 -0.96875 1.546875 -1.65625 C 1.546875 -2.3125 1.984375 -2.609375 3.0625 -2.765625 C 4.109375 -2.90625 4.328125 -2.953125 4.671875 -3.109375 Z \"/>\n",
       "</symbol>\n",
       "<symbol overflow=\"visible\" id=\"glyph0-9\">\n",
       "<path style=\"stroke:none;\" d=\"M 5.71875 -2.15625 L 4.71875 -2.15625 C 4.546875 -1.15625 4.03125 -0.75 3.1875 -0.75 C 2.078125 -0.75 1.421875 -1.59375 1.421875 -3.078125 C 1.421875 -4.65625 2.0625 -5.546875 3.15625 -5.546875 C 4 -5.546875 4.53125 -5.046875 4.640625 -4.171875 L 5.65625 -4.171875 C 5.53125 -5.71875 4.578125 -6.46875 3.171875 -6.46875 C 1.46875 -6.46875 0.375 -5.171875 0.375 -3.078125 C 0.375 -1.0625 1.453125 0.1875 3.15625 0.1875 C 4.65625 0.1875 5.609375 -0.71875 5.71875 -2.15625 Z \"/>\n",
       "</symbol>\n",
       "<symbol overflow=\"visible\" id=\"glyph0-10\">\n",
       "<path style=\"stroke:none;\" d=\"M 6.03125 0 L 3.453125 -4.109375 L 5.640625 -6.28125 L 4.359375 -6.28125 L 1.6875 -3.625 L 1.6875 -8.75 L 0.703125 -8.75 L 0.703125 0 L 1.6875 0 L 1.6875 -2.453125 L 2.65625 -3.40625 L 4.78125 0 Z \"/>\n",
       "</symbol>\n",
       "<symbol overflow=\"visible\" id=\"glyph0-11\">\n",
       "<path style=\"stroke:none;\" d=\"M 6.15625 -2.859375 C 6.15625 -3.765625 6.078125 -4.34375 5.90625 -4.8125 C 5.5 -5.84375 4.53125 -6.46875 3.359375 -6.46875 C 1.609375 -6.46875 0.484375 -5.171875 0.484375 -3.109375 C 0.484375 -1.046875 1.578125 0.1875 3.34375 0.1875 C 4.78125 0.1875 5.765625 -0.640625 6.03125 -1.90625 L 5.015625 -1.90625 C 4.734375 -1.078125 4.171875 -0.75 3.375 -0.75 C 2.328125 -0.75 1.546875 -1.421875 1.53125 -2.859375 Z M 5.09375 -3.75 C 5.09375 -3.75 5.09375 -3.703125 5.078125 -3.671875 L 1.546875 -3.671875 C 1.625 -4.78125 2.34375 -5.546875 3.34375 -5.546875 C 4.328125 -5.546875 5.09375 -4.734375 5.09375 -3.75 Z \"/>\n",
       "</symbol>\n",
       "<symbol overflow=\"visible\" id=\"glyph0-12\">\n",
       "<path style=\"stroke:none;\" d=\"M 3.046875 0 L 3.046875 -0.84375 C 2.921875 -0.796875 2.765625 -0.796875 2.5625 -0.796875 C 2.140625 -0.796875 2.015625 -0.90625 2.015625 -1.359375 L 2.015625 -5.46875 L 3.046875 -5.46875 L 3.046875 -6.28125 L 2.015625 -6.28125 L 2.015625 -8.015625 L 1.015625 -8.015625 L 1.015625 -6.28125 L 0.171875 -6.28125 L 0.171875 -5.46875 L 1.015625 -5.46875 L 1.015625 -0.90625 C 1.015625 -0.28125 1.453125 0.078125 2.234375 0.078125 C 2.46875 0.078125 2.71875 0.0625 3.046875 0 Z \"/>\n",
       "</symbol>\n",
       "<symbol overflow=\"visible\" id=\"glyph0-13\">\n",
       "<path style=\"stroke:none;\" d=\"\"/>\n",
       "</symbol>\n",
       "<symbol overflow=\"visible\" id=\"glyph0-14\">\n",
       "<path style=\"stroke:none;\" d=\"M 7.453125 -2.40625 C 7.453125 -3.484375 6.78125 -4.265625 5.59375 -4.59375 L 3.390625 -5.1875 C 2.34375 -5.453125 1.953125 -5.8125 1.953125 -6.484375 C 1.953125 -7.375 2.734375 -8.03125 3.90625 -8.03125 C 5.296875 -8.03125 6.09375 -7.390625 6.09375 -6.25 L 7.15625 -6.25 C 7.15625 -7.96875 5.96875 -8.96875 3.953125 -8.96875 C 2.03125 -8.96875 0.84375 -7.90625 0.84375 -6.328125 C 0.84375 -5.25 1.40625 -4.578125 2.5625 -4.28125 L 4.734375 -3.703125 C 5.828125 -3.421875 6.34375 -2.96875 6.34375 -2.296875 C 6.34375 -1.328125 5.609375 -0.765625 4.109375 -0.765625 C 2.453125 -0.765625 1.625 -1.59375 1.625 -2.84375 L 0.578125 -2.84375 C 0.578125 -0.78125 1.96875 0.21875 4.03125 0.21875 C 6.25 0.21875 7.453125 -0.84375 7.453125 -2.40625 Z \"/>\n",
       "</symbol>\n",
       "<symbol overflow=\"visible\" id=\"glyph0-15\">\n",
       "<path style=\"stroke:none;\" d=\"M 1.84375 0 L 1.84375 -6.28125 L 0.84375 -6.28125 L 0.84375 0 Z M 1.96875 -7.234375 L 1.96875 -8.484375 L 0.71875 -8.484375 L 0.71875 -7.234375 Z \"/>\n",
       "</symbol>\n",
       "<symbol overflow=\"visible\" id=\"glyph0-16\">\n",
       "<path style=\"stroke:none;\" d=\"M 5.484375 0 L 5.484375 -0.875 L 1.578125 -0.875 L 5.3125 -5.40625 L 5.3125 -6.28125 L 0.625 -6.28125 L 0.625 -5.40625 L 4.125 -5.40625 L 0.375 -0.90625 L 0.375 0 Z \"/>\n",
       "</symbol>\n",
       "<symbol overflow=\"visible\" id=\"glyph1-0\">\n",
       "<path style=\"stroke:none;\" d=\"\"/>\n",
       "</symbol>\n",
       "<symbol overflow=\"visible\" id=\"glyph1-1\">\n",
       "<path style=\"stroke:none;\" d=\"M -4.09375 -6.078125 C -7.046875 -6.078125 -8.515625 -5.140625 -8.515625 -3.296875 C -8.515625 -1.46875 -7.015625 -0.515625 -4.15625 -0.515625 C -1.296875 -0.515625 0.1875 -1.46875 0.1875 -3.296875 C 0.1875 -5.09375 -1.296875 -6.078125 -4.09375 -6.078125 Z M -4.1875 -5 C -1.78125 -5 -0.703125 -4.453125 -0.703125 -3.28125 C -0.703125 -2.15625 -1.828125 -1.59375 -4.15625 -1.59375 C -6.484375 -1.59375 -7.578125 -2.15625 -7.578125 -3.296875 C -7.578125 -4.4375 -6.46875 -5 -4.1875 -5 Z \"/>\n",
       "</symbol>\n",
       "<symbol overflow=\"visible\" id=\"glyph1-2\">\n",
       "<path style=\"stroke:none;\" d=\"M 0 -2.296875 L -1.25 -2.296875 L -1.25 -1.046875 L 0 -1.046875 Z \"/>\n",
       "</symbol>\n",
       "<symbol overflow=\"visible\" id=\"glyph1-3\">\n",
       "<path style=\"stroke:none;\" d=\"M -2.46875 -6.078125 C -3.5 -6.078125 -4.109375 -5.65625 -4.453125 -4.625 C -4.765625 -5.421875 -5.3125 -5.8125 -6.171875 -5.8125 C -7.625 -5.8125 -8.515625 -4.84375 -8.515625 -3.234375 C -8.515625 -1.515625 -7.578125 -0.59375 -5.765625 -0.5625 L -5.765625 -1.625 C -7.015625 -1.640625 -7.578125 -2.15625 -7.578125 -3.234375 C -7.578125 -4.171875 -7.03125 -4.734375 -6.125 -4.734375 C -5.21875 -4.734375 -4.84375 -4.34375 -4.84375 -2.65625 L -3.953125 -2.65625 L -3.953125 -3.234375 C -3.953125 -4.390625 -3.40625 -4.984375 -2.453125 -4.984375 C -1.390625 -4.984375 -0.75 -4.328125 -0.75 -3.234375 C -0.75 -2.078125 -1.328125 -1.515625 -2.5625 -1.4375 L -2.5625 -0.390625 C -0.671875 -0.515625 0.1875 -1.453125 0.1875 -3.1875 C 0.1875 -4.9375 -0.859375 -6.078125 -2.46875 -6.078125 Z \"/>\n",
       "</symbol>\n",
       "<symbol overflow=\"visible\" id=\"glyph1-4\">\n",
       "<path style=\"stroke:none;\" d=\"M -2.8125 -6.15625 C -4.5 -6.15625 -5.609375 -5.046875 -5.609375 -3.40625 C -5.609375 -2.8125 -5.453125 -2.328125 -5.09375 -1.84375 L -7.28125 -2.171875 L -7.28125 -5.71875 L -8.328125 -5.71875 L -8.328125 -1.3125 L -3.875 -0.6875 L -3.875 -1.65625 C -4.46875 -2.140625 -4.671875 -2.5625 -4.671875 -3.21875 C -4.671875 -4.359375 -3.9375 -5.078125 -2.671875 -5.078125 C -1.453125 -5.078125 -0.75 -4.375 -0.75 -3.21875 C -0.75 -2.296875 -1.21875 -1.734375 -2.1875 -1.46875 L -2.1875 -0.421875 C -0.484375 -0.765625 0.1875 -1.734375 0.1875 -3.234375 C 0.1875 -4.953125 -1.015625 -6.15625 -2.8125 -6.15625 Z \"/>\n",
       "</symbol>\n",
       "<symbol overflow=\"visible\" id=\"glyph1-5\">\n",
       "<path style=\"stroke:none;\" d=\"M -2.046875 -6.234375 L -2.984375 -6.234375 L -2.984375 -4.984375 L -8.515625 -4.984375 L -8.515625 -4.203125 L -3.15625 -0.34375 L -2.046875 -0.34375 L -2.046875 -3.921875 L 0 -3.921875 L 0 -4.984375 L -2.046875 -4.984375 Z M -2.984375 -3.921875 L -2.984375 -1.265625 L -6.703125 -3.921875 Z \"/>\n",
       "</symbol>\n",
       "<symbol overflow=\"visible\" id=\"glyph1-6\">\n",
       "<path style=\"stroke:none;\" d=\"M -7.765625 -7.109375 L -8.75 -7.109375 L -8.75 -0.25 L -7.765625 -0.25 L -7.765625 -3.125 L 0 -3.125 L 0 -4.25 L -7.765625 -4.25 Z \"/>\n",
       "</symbol>\n",
       "<symbol overflow=\"visible\" id=\"glyph1-7\">\n",
       "<path style=\"stroke:none;\" d=\"M 0 -1.84375 L -6.28125 -1.84375 L -6.28125 -0.84375 L 0 -0.84375 Z M -7.234375 -1.96875 L -8.484375 -1.96875 L -8.484375 -0.71875 L -7.234375 -0.71875 Z \"/>\n",
       "</symbol>\n",
       "<symbol overflow=\"visible\" id=\"glyph1-8\">\n",
       "<path style=\"stroke:none;\" d=\"M 0 -9.125 L -4.71875 -9.125 C -5.84375 -9.125 -6.46875 -8.5 -6.46875 -7.3125 C -6.46875 -6.484375 -6.21875 -5.96875 -5.515625 -5.390625 C -6.1875 -5.015625 -6.46875 -4.515625 -6.46875 -3.703125 C -6.46875 -2.859375 -6.15625 -2.296875 -5.40625 -1.765625 L -6.28125 -1.765625 L -6.28125 -0.859375 L 0 -0.859375 L 0 -1.84375 L -3.953125 -1.84375 C -4.859375 -1.84375 -5.59375 -2.515625 -5.59375 -3.328125 C -5.59375 -4.0625 -5.140625 -4.484375 -4.328125 -4.484375 L 0 -4.484375 L 0 -5.484375 L -3.953125 -5.484375 C -4.859375 -5.484375 -5.59375 -6.15625 -5.59375 -6.96875 C -5.59375 -7.703125 -5.125 -8.125 -4.328125 -8.125 L 0 -8.125 Z \"/>\n",
       "</symbol>\n",
       "<symbol overflow=\"visible\" id=\"glyph1-9\">\n",
       "<path style=\"stroke:none;\" d=\"M -2.859375 -6.15625 C -3.765625 -6.15625 -4.34375 -6.078125 -4.8125 -5.90625 C -5.84375 -5.5 -6.46875 -4.53125 -6.46875 -3.359375 C -6.46875 -1.609375 -5.171875 -0.484375 -3.109375 -0.484375 C -1.046875 -0.484375 0.1875 -1.578125 0.1875 -3.34375 C 0.1875 -4.78125 -0.640625 -5.765625 -1.90625 -6.03125 L -1.90625 -5.015625 C -1.078125 -4.734375 -0.75 -4.171875 -0.75 -3.375 C -0.75 -2.328125 -1.421875 -1.546875 -2.859375 -1.53125 Z M -3.75 -5.09375 C -3.75 -5.09375 -3.703125 -5.09375 -3.671875 -5.078125 L -3.671875 -1.546875 C -4.78125 -1.625 -5.546875 -2.34375 -5.546875 -3.34375 C -5.546875 -4.328125 -4.734375 -5.09375 -3.75 -5.09375 Z \"/>\n",
       "</symbol>\n",
       "<symbol overflow=\"visible\" id=\"glyph2-0\">\n",
       "<path style=\"stroke:none;\" d=\"\"/>\n",
       "</symbol>\n",
       "<symbol overflow=\"visible\" id=\"glyph2-1\">\n",
       "<path style=\"stroke:none;\" d=\"M 9.125 -7.25 C 9.125 -9.34375 7.921875 -10.5 5.734375 -10.5 L 1.09375 -10.5 L 1.09375 0 L 3.25 0 L 3.25 -3.75 L 5.953125 -3.75 C 7.875 -3.75 9.125 -5.109375 9.125 -7.25 Z M 6.953125 -7.109375 C 6.953125 -6.046875 6.421875 -5.546875 5.265625 -5.546875 L 3.25 -5.546875 L 3.25 -8.703125 L 5.265625 -8.703125 C 6.421875 -8.703125 6.953125 -8.203125 6.953125 -7.109375 Z \"/>\n",
       "</symbol>\n",
       "<symbol overflow=\"visible\" id=\"glyph2-2\">\n",
       "<path style=\"stroke:none;\" d=\"M 7.546875 0 L 7.546875 -0.25 C 7.1875 -0.578125 7.09375 -0.796875 7.09375 -1.203125 L 7.09375 -5.515625 C 7.09375 -7.109375 6 -7.90625 3.90625 -7.90625 C 1.796875 -7.90625 0.703125 -7.015625 0.578125 -5.21875 L 2.515625 -5.21875 C 2.625 -6.015625 2.953125 -6.28125 3.953125 -6.28125 C 4.71875 -6.28125 5.109375 -6.015625 5.109375 -5.5 C 5.109375 -4.6875 4.515625 -4.765625 3.5 -4.59375 L 2.6875 -4.453125 C 1.15625 -4.171875 0.40625 -3.515625 0.40625 -2.109375 C 0.40625 -0.59375 1.46875 0.125 2.765625 0.125 C 3.625 0.125 4.421875 -0.25 5.125 -0.984375 C 5.125 -0.578125 5.171875 -0.234375 5.359375 0 Z M 5.109375 -3.328125 C 5.109375 -2.15625 4.53125 -1.5 3.515625 -1.5 C 2.84375 -1.5 2.421875 -1.75 2.421875 -2.328125 C 2.421875 -2.921875 2.734375 -3.140625 3.578125 -3.296875 L 4.265625 -3.421875 C 4.796875 -3.53125 4.890625 -3.5625 5.109375 -3.671875 Z \"/>\n",
       "</symbol>\n",
       "<symbol overflow=\"visible\" id=\"glyph2-3\">\n",
       "<path style=\"stroke:none;\" d=\"M 7.515625 -2.6875 L 5.59375 -2.6875 C 5.328125 -1.890625 4.921875 -1.5 4.15625 -1.5 C 3.125 -1.5 2.5 -2.3125 2.5 -3.828125 C 2.5 -5.265625 2.875 -6.28125 4.15625 -6.28125 C 4.96875 -6.28125 5.359375 -5.890625 5.59375 -4.875 L 7.515625 -4.875 C 7.375 -6.765625 6.109375 -7.90625 4.15625 -7.90625 C 1.84375 -7.90625 0.484375 -6.484375 0.484375 -3.828125 C 0.484375 -1.265625 1.828125 0.125 4.140625 0.125 C 6.015625 0.125 7.328125 -1.03125 7.515625 -2.6875 Z \"/>\n",
       "</symbol>\n",
       "<symbol overflow=\"visible\" id=\"glyph2-4\">\n",
       "<path style=\"stroke:none;\" d=\"M 7.890625 0 L 5.0625 -4.84375 L 7.703125 -7.78125 L 5.421875 -7.78125 L 2.859375 -4.75 L 2.859375 -10.5 L 0.84375 -10.5 L 0.84375 0 L 2.859375 0 L 2.859375 -2.546875 L 3.671875 -3.421875 L 5.53125 0 Z \"/>\n",
       "</symbol>\n",
       "<symbol overflow=\"visible\" id=\"glyph2-5\">\n",
       "<path style=\"stroke:none;\" d=\"M 7.5625 -3.59375 C 7.5625 -6.28125 6.203125 -7.90625 3.921875 -7.90625 C 1.6875 -7.90625 0.3125 -6.390625 0.3125 -3.78125 C 0.3125 -1.296875 1.671875 0.125 3.875 0.125 C 5.625 0.125 7.03125 -0.65625 7.484375 -2.1875 L 5.484375 -2.1875 C 5.3125 -1.625 4.6875 -1.40625 3.953125 -1.40625 C 3 -1.40625 2.390625 -1.84375 2.328125 -3.359375 L 7.546875 -3.359375 Z M 5.453125 -4.703125 L 2.359375 -4.703125 C 2.5 -5.78125 3 -6.375 3.890625 -6.375 C 4.75 -6.375 5.359375 -5.8125 5.453125 -4.703125 Z \"/>\n",
       "</symbol>\n",
       "<symbol overflow=\"visible\" id=\"glyph2-6\">\n",
       "<path style=\"stroke:none;\" d=\"M 4.34375 0 L 4.34375 -1.40625 C 4.140625 -1.390625 4.015625 -1.375 3.875 -1.375 C 3.34375 -1.375 3.21875 -1.53125 3.21875 -2.21875 L 3.21875 -6.28125 L 4.34375 -6.28125 L 4.34375 -7.625 L 3.21875 -7.625 L 3.21875 -9.703125 L 1.203125 -9.703125 L 1.203125 -7.625 L 0.203125 -7.625 L 0.203125 -6.28125 L 1.203125 -6.28125 L 1.203125 -1.671875 C 1.203125 -0.453125 1.84375 0.0625 3.171875 0.0625 C 3.609375 0.0625 3.96875 0.015625 4.34375 0 Z \"/>\n",
       "</symbol>\n",
       "<symbol overflow=\"visible\" id=\"glyph2-7\">\n",
       "<path style=\"stroke:none;\" d=\"\"/>\n",
       "</symbol>\n",
       "<symbol overflow=\"visible\" id=\"glyph2-8\">\n",
       "<path style=\"stroke:none;\" d=\"M 7.484375 -2.3125 L 7.484375 -2.40625 C 7.484375 -3.296875 6.984375 -3.96875 5.96875 -4.265625 L 3.421875 -5 C 2.859375 -5.15625 2.703125 -5.28125 2.703125 -5.609375 C 2.703125 -6.03125 3.171875 -6.328125 3.875 -6.328125 C 4.84375 -6.328125 5.3125 -5.984375 5.328125 -5.265625 L 7.28125 -5.265625 C 7.25 -6.921875 5.984375 -7.90625 3.890625 -7.90625 C 1.921875 -7.90625 0.6875 -6.921875 0.6875 -5.3125 C 0.6875 -4.359375 0.953125 -3.84375 2.390625 -3.40625 L 4.796875 -2.65625 C 5.296875 -2.5 5.46875 -2.328125 5.46875 -2.125 C 5.46875 -1.640625 4.90625 -1.453125 3.96875 -1.453125 C 3.046875 -1.453125 2.5625 -1.625 2.390625 -2.46875 L 0.421875 -2.46875 C 0.46875 -0.765625 1.734375 0.125 4.09375 0.125 C 6.28125 0.125 7.484375 -0.734375 7.484375 -2.3125 Z \"/>\n",
       "</symbol>\n",
       "<symbol overflow=\"visible\" id=\"glyph2-9\">\n",
       "<path style=\"stroke:none;\" d=\"M 2.984375 0 L 2.984375 -7.78125 L 0.96875 -7.78125 L 0.96875 0 Z M 3.015625 -8.71875 L 3.015625 -10.734375 L 1 -10.734375 L 1 -8.71875 Z \"/>\n",
       "</symbol>\n",
       "<symbol overflow=\"visible\" id=\"glyph2-10\">\n",
       "<path style=\"stroke:none;\" d=\"M 6.734375 0 L 6.734375 -1.625 L 2.796875 -1.625 L 6.609375 -6.15625 L 6.609375 -7.78125 L 0.5625 -7.78125 L 0.5625 -6.15625 L 4.15625 -6.15625 L 0.296875 -1.625 L 0.296875 0 Z \"/>\n",
       "</symbol>\n",
       "<symbol overflow=\"visible\" id=\"glyph2-11\">\n",
       "<path style=\"stroke:none;\" d=\"M 9.328125 -10.5 L 7.140625 -10.5 L 4.859375 -2.59375 L 2.515625 -10.5 L 0.34375 -10.5 L 3.890625 0 L 5.71875 0 Z \"/>\n",
       "</symbol>\n",
       "<symbol overflow=\"visible\" id=\"glyph2-12\">\n",
       "<path style=\"stroke:none;\" d=\"M 8.609375 -8.703125 L 8.609375 -10.5 L 0.203125 -10.5 L 0.203125 -8.703125 L 3.390625 -8.703125 L 3.390625 0 L 5.546875 0 L 5.546875 -8.703125 Z \"/>\n",
       "</symbol>\n",
       "<symbol overflow=\"visible\" id=\"glyph2-13\">\n",
       "<path style=\"stroke:none;\" d=\"M 11.875 0 L 11.875 -5.5 C 11.875 -7.015625 10.953125 -7.90625 9.390625 -7.90625 C 8.40625 -7.90625 7.71875 -7.5625 7.109375 -6.75 C 6.734375 -7.484375 5.96875 -7.90625 5 -7.90625 C 4.109375 -7.90625 3.53125 -7.609375 2.859375 -6.8125 L 2.859375 -7.78125 L 0.859375 -7.78125 L 0.859375 0 L 2.875 0 L 2.875 -4.671875 C 2.875 -5.625 3.40625 -6.1875 4.265625 -6.1875 C 4.9375 -6.1875 5.359375 -5.8125 5.359375 -5.1875 L 5.359375 0 L 7.375 0 L 7.375 -4.671875 C 7.375 -5.625 7.890625 -6.1875 8.765625 -6.1875 C 9.4375 -6.1875 9.859375 -5.8125 9.859375 -5.1875 L 9.859375 0 Z \"/>\n",
       "</symbol>\n",
       "<symbol overflow=\"visible\" id=\"glyph2-14\">\n",
       "<path style=\"stroke:none;\" d=\"M 4.359375 2.875 C 2.84375 -0.09375 2.34375 -1.703125 2.34375 -3.8125 C 2.34375 -5.921875 2.84375 -7.5625 4.359375 -10.5 L 2.921875 -10.5 C 1.265625 -8.015625 0.578125 -6.015625 0.578125 -3.8125 C 0.578125 -1.59375 1.265625 0.390625 2.921875 2.875 Z \"/>\n",
       "</symbol>\n",
       "<symbol overflow=\"visible\" id=\"glyph2-15\">\n",
       "<path style=\"stroke:none;\" d=\"M 7.453125 -3.46875 C 7.453125 -5.5625 6.15625 -6.90625 4.265625 -6.90625 C 3.59375 -6.90625 3.078125 -6.734375 2.5 -6.28125 L 2.828125 -8.40625 L 7.046875 -8.40625 L 7.046875 -10.21875 L 1.578125 -10.21875 L 0.671875 -4.53125 L 2.5 -4.53125 C 2.703125 -5.03125 3.171875 -5.296875 3.78125 -5.296875 C 4.8125 -5.296875 5.4375 -4.671875 5.4375 -3.421875 C 5.4375 -2.234375 4.796875 -1.59375 3.78125 -1.59375 C 2.90625 -1.59375 2.375 -2.046875 2.375 -2.859375 L 0.390625 -2.859375 C 0.390625 -1.078125 1.765625 0.125 3.765625 0.125 C 5.953125 0.125 7.453125 -1.265625 7.453125 -3.46875 Z \"/>\n",
       "</symbol>\n",
       "<symbol overflow=\"visible\" id=\"glyph2-16\">\n",
       "<path style=\"stroke:none;\" d=\"M 7.515625 -2.265625 L 7.515625 -3.9375 L 6.453125 -3.9375 L 6.453125 -10.21875 L 4.078125 -10.21875 L 0.34375 -3.96875 L 0.34375 -2.265625 L 4.4375 -2.265625 L 4.4375 0 L 6.453125 0 L 6.453125 -2.265625 Z M 4.4375 -3.9375 L 1.765625 -3.9375 L 4.4375 -8.296875 Z \"/>\n",
       "</symbol>\n",
       "<symbol overflow=\"visible\" id=\"glyph2-17\">\n",
       "<path style=\"stroke:none;\" d=\"M 8.28125 -3.78125 C 8.28125 -6 7.0625 -7.90625 5.015625 -7.90625 C 4.046875 -7.90625 3.359375 -7.546875 2.859375 -6.765625 L 2.859375 -10.5 L 0.84375 -10.5 L 0.84375 0 L 2.859375 0 L 2.859375 -0.890625 C 3.359375 -0.234375 4.03125 0.125 5.015625 0.125 C 6.875 0.125 8.28125 -1.4375 8.28125 -3.78125 Z M 6.265625 -3.875 C 6.265625 -2.46875 5.5625 -1.5625 4.5625 -1.5625 C 3.546875 -1.5625 2.859375 -2.4375 2.859375 -3.921875 C 2.859375 -5.328125 3.5625 -6.21875 4.5625 -6.21875 C 5.5625 -6.21875 6.265625 -5.3125 6.265625 -3.875 Z \"/>\n",
       "</symbol>\n",
       "<symbol overflow=\"visible\" id=\"glyph2-18\">\n",
       "<path style=\"stroke:none;\" d=\"M 4.1875 -10.28125 L 2.796875 -10.28125 L -0.171875 0.203125 L 1.21875 0.203125 Z \"/>\n",
       "</symbol>\n",
       "<symbol overflow=\"visible\" id=\"glyph2-19\">\n",
       "<path style=\"stroke:none;\" d=\"M 4.109375 -3.796875 C 4.109375 -6.015625 3.421875 -8.015625 1.75 -10.5 L 0.3125 -10.5 C 1.84375 -7.53125 2.328125 -5.921875 2.328125 -3.796875 C 2.328125 -1.703125 1.84375 -0.0625 0.3125 2.875 L 1.75 2.875 C 3.421875 0.390625 4.109375 -1.59375 4.109375 -3.796875 Z \"/>\n",
       "</symbol>\n",
       "</g>\n",
       "<clipPath id=\"clip1\">\n",
       "  <path d=\"M 59.039062 68 L 474.757812 68 L 474.757812 427 L 59.039062 427 Z \"/>\n",
       "</clipPath>\n",
       "<clipPath id=\"clip2\">\n",
       "  <path d=\"M 59.039062 82 L 474.757812 82 L 474.757812 431.558594 L 59.039062 431.558594 Z \"/>\n",
       "</clipPath>\n",
       "<clipPath id=\"clip3\">\n",
       "  <path d=\"M 59.039062 59.039062 L 474.757812 59.039062 L 474.757812 420 L 59.039062 420 Z \"/>\n",
       "</clipPath>\n",
       "</defs>\n",
       "<g id=\"surface1413\">\n",
       "<rect x=\"0\" y=\"0\" width=\"504\" height=\"504\" style=\"fill:rgb(100%,100%,100%);fill-opacity:1;stroke:none;\"/>\n",
       "<path style=\"fill:none;stroke-width:0.75;stroke-linecap:round;stroke-linejoin:round;stroke:rgb(0%,0%,0%);stroke-opacity:1;stroke-miterlimit:10;\" d=\"M 77.101562 414.210938 C 77.101562 417.808594 71.699219 417.808594 71.699219 414.210938 C 71.699219 410.609375 77.101562 410.609375 77.101562 414.210938 \"/>\n",
       "<path style=\"fill:none;stroke-width:0.75;stroke-linecap:round;stroke-linejoin:round;stroke:rgb(0%,0%,0%);stroke-opacity:1;stroke-miterlimit:10;\" d=\"M 77.101562 415.742188 C 77.101562 419.339844 71.699219 419.339844 71.699219 415.742188 C 71.699219 412.140625 77.101562 412.140625 77.101562 415.742188 \"/>\n",
       "<path style=\"fill:none;stroke-width:0.75;stroke-linecap:round;stroke-linejoin:round;stroke:rgb(0%,0%,0%);stroke-opacity:1;stroke-miterlimit:10;\" d=\"M 77.101562 416.800781 C 77.101562 420.398438 71.699219 420.398438 71.699219 416.800781 C 71.699219 413.199219 77.101562 413.199219 77.101562 416.800781 \"/>\n",
       "<path style=\"fill:none;stroke-width:0.75;stroke-linecap:round;stroke-linejoin:round;stroke:rgb(0%,0%,0%);stroke-opacity:1;stroke-miterlimit:10;\" d=\"M 77.101562 413.609375 C 77.101562 417.207031 71.699219 417.207031 71.699219 413.609375 C 71.699219 410.007812 77.101562 410.007812 77.101562 413.609375 \"/>\n",
       "<path style=\"fill:none;stroke-width:0.75;stroke-linecap:round;stroke-linejoin:round;stroke:rgb(0%,0%,0%);stroke-opacity:1;stroke-miterlimit:10;\" d=\"M 112.007812 379.464844 C 112.007812 383.066406 106.609375 383.066406 106.609375 379.464844 C 106.609375 375.867188 112.007812 375.867188 112.007812 379.464844 \"/>\n",
       "<path style=\"fill:none;stroke-width:0.75;stroke-linecap:round;stroke-linejoin:round;stroke:rgb(0%,0%,0%);stroke-opacity:1;stroke-miterlimit:10;\" d=\"M 112.007812 381.066406 C 112.007812 384.664062 106.609375 384.664062 106.609375 381.066406 C 106.609375 377.464844 112.007812 377.464844 112.007812 381.066406 \"/>\n",
       "<path style=\"fill:none;stroke-width:0.75;stroke-linecap:round;stroke-linejoin:round;stroke:rgb(0%,0%,0%);stroke-opacity:1;stroke-miterlimit:10;\" d=\"M 112.007812 377.257812 C 112.007812 380.855469 106.609375 380.855469 106.609375 377.257812 C 106.609375 373.65625 112.007812 373.65625 112.007812 377.257812 \"/>\n",
       "<path style=\"fill:none;stroke-width:0.75;stroke-linecap:round;stroke-linejoin:round;stroke:rgb(0%,0%,0%);stroke-opacity:1;stroke-miterlimit:10;\" d=\"M 112.007812 381.472656 C 112.007812 385.070312 106.609375 385.070312 106.609375 381.472656 C 106.609375 377.871094 112.007812 377.871094 112.007812 381.472656 \"/>\n",
       "<path style=\"fill:none;stroke-width:0.75;stroke-linecap:round;stroke-linejoin:round;stroke:rgb(0%,0%,0%);stroke-opacity:1;stroke-miterlimit:10;\" d=\"M 146.917969 355.925781 C 146.917969 359.527344 141.519531 359.527344 141.519531 355.925781 C 141.519531 352.328125 146.917969 352.328125 146.917969 355.925781 \"/>\n",
       "<path style=\"fill:none;stroke-width:0.75;stroke-linecap:round;stroke-linejoin:round;stroke:rgb(0%,0%,0%);stroke-opacity:1;stroke-miterlimit:10;\" d=\"M 146.917969 340.613281 C 146.917969 344.214844 141.519531 344.214844 141.519531 340.613281 C 141.519531 337.015625 146.917969 337.015625 146.917969 340.613281 \"/>\n",
       "<path style=\"fill:none;stroke-width:0.75;stroke-linecap:round;stroke-linejoin:round;stroke:rgb(0%,0%,0%);stroke-opacity:1;stroke-miterlimit:10;\" d=\"M 146.917969 347.429688 C 146.917969 351.027344 141.519531 351.027344 141.519531 347.429688 C 141.519531 343.828125 146.917969 343.828125 146.917969 347.429688 \"/>\n",
       "<path style=\"fill:none;stroke-width:0.75;stroke-linecap:round;stroke-linejoin:round;stroke:rgb(0%,0%,0%);stroke-opacity:1;stroke-miterlimit:10;\" d=\"M 146.917969 343.074219 C 146.917969 346.675781 141.519531 346.675781 141.519531 343.074219 C 141.519531 339.476562 146.917969 339.476562 146.917969 343.074219 \"/>\n",
       "<path style=\"fill:none;stroke-width:0.75;stroke-linecap:round;stroke-linejoin:round;stroke:rgb(0%,0%,0%);stroke-opacity:1;stroke-miterlimit:10;\" d=\"M 181.828125 315.140625 C 181.828125 318.742188 176.425781 318.742188 176.425781 315.140625 C 176.425781 311.539062 181.828125 311.539062 181.828125 315.140625 \"/>\n",
       "<path style=\"fill:none;stroke-width:0.75;stroke-linecap:round;stroke-linejoin:round;stroke:rgb(0%,0%,0%);stroke-opacity:1;stroke-miterlimit:10;\" d=\"M 181.828125 308.175781 C 181.828125 311.777344 176.425781 311.777344 176.425781 308.175781 C 176.425781 304.578125 181.828125 304.578125 181.828125 308.175781 \"/>\n",
       "<path style=\"fill:none;stroke-width:0.75;stroke-linecap:round;stroke-linejoin:round;stroke:rgb(0%,0%,0%);stroke-opacity:1;stroke-miterlimit:10;\" d=\"M 181.828125 313.828125 C 181.828125 317.429688 176.425781 317.429688 176.425781 313.828125 C 176.425781 310.226562 181.828125 310.226562 181.828125 313.828125 \"/>\n",
       "<path style=\"fill:none;stroke-width:0.75;stroke-linecap:round;stroke-linejoin:round;stroke:rgb(0%,0%,0%);stroke-opacity:1;stroke-miterlimit:10;\" d=\"M 181.828125 319.339844 C 181.828125 322.9375 176.425781 322.9375 176.425781 319.339844 C 176.425781 315.738281 181.828125 315.738281 181.828125 319.339844 \"/>\n",
       "<path style=\"fill:none;stroke-width:0.75;stroke-linecap:round;stroke-linejoin:round;stroke:rgb(0%,0%,0%);stroke-opacity:1;stroke-miterlimit:10;\" d=\"M 216.738281 299.996094 C 216.738281 303.597656 211.335938 303.597656 211.335938 299.996094 C 211.335938 296.394531 216.738281 296.394531 216.738281 299.996094 \"/>\n",
       "<path style=\"fill:none;stroke-width:0.75;stroke-linecap:round;stroke-linejoin:round;stroke:rgb(0%,0%,0%);stroke-opacity:1;stroke-miterlimit:10;\" d=\"M 216.738281 307.421875 C 216.738281 311.019531 211.335938 311.019531 211.335938 307.421875 C 211.335938 303.820312 216.738281 303.820312 216.738281 307.421875 \"/>\n",
       "<path style=\"fill:none;stroke-width:0.75;stroke-linecap:round;stroke-linejoin:round;stroke:rgb(0%,0%,0%);stroke-opacity:1;stroke-miterlimit:10;\" d=\"M 216.738281 300.550781 C 216.738281 304.148438 211.335938 304.148438 211.335938 300.550781 C 211.335938 296.949219 216.738281 296.949219 216.738281 300.550781 \"/>\n",
       "<path style=\"fill:none;stroke-width:0.75;stroke-linecap:round;stroke-linejoin:round;stroke:rgb(0%,0%,0%);stroke-opacity:1;stroke-miterlimit:10;\" d=\"M 216.738281 300.285156 C 216.738281 303.882812 211.335938 303.882812 211.335938 300.285156 C 211.335938 296.683594 216.738281 296.683594 216.738281 300.285156 \"/>\n",
       "<path style=\"fill:none;stroke-width:0.75;stroke-linecap:round;stroke-linejoin:round;stroke:rgb(0%,0%,0%);stroke-opacity:1;stroke-miterlimit:10;\" d=\"M 251.644531 277.511719 C 251.644531 281.113281 246.246094 281.113281 246.246094 277.511719 C 246.246094 273.914062 251.644531 273.914062 251.644531 277.511719 \"/>\n",
       "<path style=\"fill:none;stroke-width:0.75;stroke-linecap:round;stroke-linejoin:round;stroke:rgb(0%,0%,0%);stroke-opacity:1;stroke-miterlimit:10;\" d=\"M 251.644531 271.410156 C 251.644531 275.011719 246.246094 275.011719 246.246094 271.410156 C 246.246094 267.8125 251.644531 267.8125 251.644531 271.410156 \"/>\n",
       "<path style=\"fill:none;stroke-width:0.75;stroke-linecap:round;stroke-linejoin:round;stroke:rgb(0%,0%,0%);stroke-opacity:1;stroke-miterlimit:10;\" d=\"M 251.644531 268.476562 C 251.644531 272.078125 246.246094 272.078125 246.246094 268.476562 C 246.246094 264.875 251.644531 264.875 251.644531 268.476562 \"/>\n",
       "<path style=\"fill:none;stroke-width:0.75;stroke-linecap:round;stroke-linejoin:round;stroke:rgb(0%,0%,0%);stroke-opacity:1;stroke-miterlimit:10;\" d=\"M 251.644531 279.285156 C 251.644531 282.886719 246.246094 282.886719 246.246094 279.285156 C 246.246094 275.6875 251.644531 275.6875 251.644531 279.285156 \"/>\n",
       "<path style=\"fill:none;stroke-width:0.75;stroke-linecap:round;stroke-linejoin:round;stroke:rgb(0%,0%,0%);stroke-opacity:1;stroke-miterlimit:10;\" d=\"M 286.554688 239.105469 C 286.554688 242.707031 281.15625 242.707031 281.15625 239.105469 C 281.15625 235.507812 286.554688 235.507812 286.554688 239.105469 \"/>\n",
       "<path style=\"fill:none;stroke-width:0.75;stroke-linecap:round;stroke-linejoin:round;stroke:rgb(0%,0%,0%);stroke-opacity:1;stroke-miterlimit:10;\" d=\"M 286.554688 235.375 C 286.554688 238.976562 281.15625 238.976562 281.15625 235.375 C 281.15625 231.777344 286.554688 231.777344 286.554688 235.375 \"/>\n",
       "<path style=\"fill:none;stroke-width:0.75;stroke-linecap:round;stroke-linejoin:round;stroke:rgb(0%,0%,0%);stroke-opacity:1;stroke-miterlimit:10;\" d=\"M 286.554688 233.65625 C 286.554688 237.257812 281.15625 237.257812 281.15625 233.65625 C 281.15625 230.058594 286.554688 230.058594 286.554688 233.65625 \"/>\n",
       "<path style=\"fill:none;stroke-width:0.75;stroke-linecap:round;stroke-linejoin:round;stroke:rgb(0%,0%,0%);stroke-opacity:1;stroke-miterlimit:10;\" d=\"M 286.554688 230.113281 C 286.554688 233.714844 281.15625 233.714844 281.15625 230.113281 C 281.15625 226.515625 286.554688 226.515625 286.554688 230.113281 \"/>\n",
       "<path style=\"fill:none;stroke-width:0.75;stroke-linecap:round;stroke-linejoin:round;stroke:rgb(0%,0%,0%);stroke-opacity:1;stroke-miterlimit:10;\" d=\"M 321.464844 196.367188 C 321.464844 199.96875 316.0625 199.96875 316.0625 196.367188 C 316.0625 192.769531 321.464844 192.769531 321.464844 196.367188 \"/>\n",
       "<path style=\"fill:none;stroke-width:0.75;stroke-linecap:round;stroke-linejoin:round;stroke:rgb(0%,0%,0%);stroke-opacity:1;stroke-miterlimit:10;\" d=\"M 321.464844 204.589844 C 321.464844 208.1875 316.0625 208.1875 316.0625 204.589844 C 316.0625 200.988281 321.464844 200.988281 321.464844 204.589844 \"/>\n",
       "<path style=\"fill:none;stroke-width:0.75;stroke-linecap:round;stroke-linejoin:round;stroke:rgb(0%,0%,0%);stroke-opacity:1;stroke-miterlimit:10;\" d=\"M 321.464844 201.925781 C 321.464844 205.527344 316.0625 205.527344 316.0625 201.925781 C 316.0625 198.328125 321.464844 198.328125 321.464844 201.925781 \"/>\n",
       "<path style=\"fill:none;stroke-width:0.75;stroke-linecap:round;stroke-linejoin:round;stroke:rgb(0%,0%,0%);stroke-opacity:1;stroke-miterlimit:10;\" d=\"M 321.464844 195.652344 C 321.464844 199.253906 316.0625 199.253906 316.0625 195.652344 C 316.0625 192.050781 321.464844 192.050781 321.464844 195.652344 \"/>\n",
       "<path style=\"fill:none;stroke-width:0.75;stroke-linecap:round;stroke-linejoin:round;stroke:rgb(0%,0%,0%);stroke-opacity:1;stroke-miterlimit:10;\" d=\"M 356.371094 166.125 C 356.371094 169.722656 350.972656 169.722656 350.972656 166.125 C 350.972656 162.523438 356.371094 162.523438 356.371094 166.125 \"/>\n",
       "<path style=\"fill:none;stroke-width:0.75;stroke-linecap:round;stroke-linejoin:round;stroke:rgb(0%,0%,0%);stroke-opacity:1;stroke-miterlimit:10;\" d=\"M 356.371094 171.566406 C 356.371094 175.164062 350.972656 175.164062 350.972656 171.566406 C 350.972656 167.964844 356.371094 167.964844 356.371094 171.566406 \"/>\n",
       "<path style=\"fill:none;stroke-width:0.75;stroke-linecap:round;stroke-linejoin:round;stroke:rgb(0%,0%,0%);stroke-opacity:1;stroke-miterlimit:10;\" d=\"M 356.371094 172.390625 C 356.371094 175.992188 350.972656 175.992188 350.972656 172.390625 C 350.972656 168.792969 356.371094 168.792969 356.371094 172.390625 \"/>\n",
       "<path style=\"fill:none;stroke-width:0.75;stroke-linecap:round;stroke-linejoin:round;stroke:rgb(0%,0%,0%);stroke-opacity:1;stroke-miterlimit:10;\" d=\"M 356.371094 180.957031 C 356.371094 184.554688 350.972656 184.554688 350.972656 180.957031 C 350.972656 177.355469 356.371094 177.355469 356.371094 180.957031 \"/>\n",
       "<path style=\"fill:none;stroke-width:0.75;stroke-linecap:round;stroke-linejoin:round;stroke:rgb(0%,0%,0%);stroke-opacity:1;stroke-miterlimit:10;\" d=\"M 391.28125 148.289062 C 391.28125 151.890625 385.882812 151.890625 385.882812 148.289062 C 385.882812 144.691406 391.28125 144.691406 391.28125 148.289062 \"/>\n",
       "<path style=\"fill:none;stroke-width:0.75;stroke-linecap:round;stroke-linejoin:round;stroke:rgb(0%,0%,0%);stroke-opacity:1;stroke-miterlimit:10;\" d=\"M 391.28125 140.5625 C 391.28125 144.160156 385.882812 144.160156 385.882812 140.5625 C 385.882812 136.960938 391.28125 136.960938 391.28125 140.5625 \"/>\n",
       "<path style=\"fill:none;stroke-width:0.75;stroke-linecap:round;stroke-linejoin:round;stroke:rgb(0%,0%,0%);stroke-opacity:1;stroke-miterlimit:10;\" d=\"M 391.28125 139.011719 C 391.28125 142.613281 385.882812 142.613281 385.882812 139.011719 C 385.882812 135.414062 391.28125 135.414062 391.28125 139.011719 \"/>\n",
       "<path style=\"fill:none;stroke-width:0.75;stroke-linecap:round;stroke-linejoin:round;stroke:rgb(0%,0%,0%);stroke-opacity:1;stroke-miterlimit:10;\" d=\"M 391.28125 140.390625 C 391.28125 143.988281 385.882812 143.988281 385.882812 140.390625 C 385.882812 136.789062 391.28125 136.789062 391.28125 140.390625 \"/>\n",
       "<path style=\"fill:none;stroke-width:0.75;stroke-linecap:round;stroke-linejoin:round;stroke:rgb(0%,0%,0%);stroke-opacity:1;stroke-miterlimit:10;\" d=\"M 426.191406 106.832031 C 426.191406 110.433594 420.789062 110.433594 420.789062 106.832031 C 420.789062 103.234375 426.191406 103.234375 426.191406 106.832031 \"/>\n",
       "<path style=\"fill:none;stroke-width:0.75;stroke-linecap:round;stroke-linejoin:round;stroke:rgb(0%,0%,0%);stroke-opacity:1;stroke-miterlimit:10;\" d=\"M 426.191406 111.175781 C 426.191406 114.773438 420.789062 114.773438 420.789062 111.175781 C 420.789062 107.574219 426.191406 107.574219 426.191406 111.175781 \"/>\n",
       "<path style=\"fill:none;stroke-width:0.75;stroke-linecap:round;stroke-linejoin:round;stroke:rgb(0%,0%,0%);stroke-opacity:1;stroke-miterlimit:10;\" d=\"M 426.191406 114.921875 C 426.191406 118.523438 420.789062 118.523438 420.789062 114.921875 C 420.789062 111.324219 426.191406 111.324219 426.191406 114.921875 \"/>\n",
       "<path style=\"fill:none;stroke-width:0.75;stroke-linecap:round;stroke-linejoin:round;stroke:rgb(0%,0%,0%);stroke-opacity:1;stroke-miterlimit:10;\" d=\"M 426.191406 111.726562 C 426.191406 115.328125 420.789062 115.328125 420.789062 111.726562 C 420.789062 108.128906 426.191406 108.128906 426.191406 111.726562 \"/>\n",
       "<path style=\"fill:none;stroke-width:0.75;stroke-linecap:round;stroke-linejoin:round;stroke:rgb(0%,0%,0%);stroke-opacity:1;stroke-miterlimit:10;\" d=\"M 461.101562 78.574219 C 461.101562 82.175781 455.699219 82.175781 455.699219 78.574219 C 455.699219 74.976562 461.101562 74.976562 461.101562 78.574219 \"/>\n",
       "<path style=\"fill:none;stroke-width:0.75;stroke-linecap:round;stroke-linejoin:round;stroke:rgb(0%,0%,0%);stroke-opacity:1;stroke-miterlimit:10;\" d=\"M 461.101562 81.632812 C 461.101562 85.234375 455.699219 85.234375 455.699219 81.632812 C 455.699219 78.03125 461.101562 78.03125 461.101562 81.632812 \"/>\n",
       "<path style=\"fill:none;stroke-width:0.75;stroke-linecap:round;stroke-linejoin:round;stroke:rgb(0%,0%,0%);stroke-opacity:1;stroke-miterlimit:10;\" d=\"M 461.101562 79.210938 C 461.101562 82.8125 455.699219 82.8125 455.699219 79.210938 C 455.699219 75.613281 461.101562 75.613281 461.101562 79.210938 \"/>\n",
       "<path style=\"fill:none;stroke-width:0.75;stroke-linecap:round;stroke-linejoin:round;stroke:rgb(0%,0%,0%);stroke-opacity:1;stroke-miterlimit:10;\" d=\"M 461.101562 72.800781 C 461.101562 76.398438 455.699219 76.398438 455.699219 72.800781 C 455.699219 69.199219 461.101562 69.199219 461.101562 72.800781 \"/>\n",
       "<path style=\"fill:none;stroke-width:0.75;stroke-linecap:round;stroke-linejoin:round;stroke:rgb(0%,0%,0%);stroke-opacity:1;stroke-miterlimit:10;\" d=\"M 91.855469 430.558594 L 440.945312 430.558594 \"/>\n",
       "<path style=\"fill:none;stroke-width:0.75;stroke-linecap:round;stroke-linejoin:round;stroke:rgb(0%,0%,0%);stroke-opacity:1;stroke-miterlimit:10;\" d=\"M 91.855469 430.558594 L 91.855469 437.761719 \"/>\n",
       "<path style=\"fill:none;stroke-width:0.75;stroke-linecap:round;stroke-linejoin:round;stroke:rgb(0%,0%,0%);stroke-opacity:1;stroke-miterlimit:10;\" d=\"M 161.671875 430.558594 L 161.671875 437.761719 \"/>\n",
       "<path style=\"fill:none;stroke-width:0.75;stroke-linecap:round;stroke-linejoin:round;stroke:rgb(0%,0%,0%);stroke-opacity:1;stroke-miterlimit:10;\" d=\"M 231.492188 430.558594 L 231.492188 437.761719 \"/>\n",
       "<path style=\"fill:none;stroke-width:0.75;stroke-linecap:round;stroke-linejoin:round;stroke:rgb(0%,0%,0%);stroke-opacity:1;stroke-miterlimit:10;\" d=\"M 301.308594 430.558594 L 301.308594 437.761719 \"/>\n",
       "<path style=\"fill:none;stroke-width:0.75;stroke-linecap:round;stroke-linejoin:round;stroke:rgb(0%,0%,0%);stroke-opacity:1;stroke-miterlimit:10;\" d=\"M 371.128906 430.558594 L 371.128906 437.761719 \"/>\n",
       "<path style=\"fill:none;stroke-width:0.75;stroke-linecap:round;stroke-linejoin:round;stroke:rgb(0%,0%,0%);stroke-opacity:1;stroke-miterlimit:10;\" d=\"M 440.945312 430.558594 L 440.945312 437.761719 \"/>\n",
       "<g style=\"fill:rgb(0%,0%,0%);fill-opacity:1;\">\n",
       "  <use xlink:href=\"#glyph0-1\" x=\"81.355469\" y=\"456.256836\"/>\n",
       "  <use xlink:href=\"#glyph0-2\" x=\"88.027344\" y=\"456.256836\"/>\n",
       "  <use xlink:href=\"#glyph0-2\" x=\"94.699219\" y=\"456.256836\"/>\n",
       "</g>\n",
       "<g style=\"fill:rgb(0%,0%,0%);fill-opacity:1;\">\n",
       "  <use xlink:href=\"#glyph0-3\" x=\"151.171875\" y=\"456.256836\"/>\n",
       "  <use xlink:href=\"#glyph0-2\" x=\"157.84375\" y=\"456.256836\"/>\n",
       "  <use xlink:href=\"#glyph0-2\" x=\"164.515625\" y=\"456.256836\"/>\n",
       "</g>\n",
       "<g style=\"fill:rgb(0%,0%,0%);fill-opacity:1;\">\n",
       "  <use xlink:href=\"#glyph0-4\" x=\"220.992188\" y=\"456.256836\"/>\n",
       "  <use xlink:href=\"#glyph0-2\" x=\"227.664062\" y=\"456.256836\"/>\n",
       "  <use xlink:href=\"#glyph0-2\" x=\"234.335938\" y=\"456.256836\"/>\n",
       "</g>\n",
       "<g style=\"fill:rgb(0%,0%,0%);fill-opacity:1;\">\n",
       "  <use xlink:href=\"#glyph0-5\" x=\"287.808594\" y=\"456.256836\"/>\n",
       "  <use xlink:href=\"#glyph0-2\" x=\"294.480469\" y=\"456.256836\"/>\n",
       "  <use xlink:href=\"#glyph0-2\" x=\"301.152344\" y=\"456.256836\"/>\n",
       "  <use xlink:href=\"#glyph0-2\" x=\"307.824219\" y=\"456.256836\"/>\n",
       "</g>\n",
       "<g style=\"fill:rgb(0%,0%,0%);fill-opacity:1;\">\n",
       "  <use xlink:href=\"#glyph0-5\" x=\"357.628906\" y=\"456.256836\"/>\n",
       "  <use xlink:href=\"#glyph0-6\" x=\"364.300781\" y=\"456.256836\"/>\n",
       "  <use xlink:href=\"#glyph0-2\" x=\"370.972656\" y=\"456.256836\"/>\n",
       "  <use xlink:href=\"#glyph0-2\" x=\"377.644531\" y=\"456.256836\"/>\n",
       "</g>\n",
       "<g style=\"fill:rgb(0%,0%,0%);fill-opacity:1;\">\n",
       "  <use xlink:href=\"#glyph0-5\" x=\"427.445312\" y=\"456.256836\"/>\n",
       "  <use xlink:href=\"#glyph0-1\" x=\"434.117188\" y=\"456.256836\"/>\n",
       "  <use xlink:href=\"#glyph0-2\" x=\"440.789062\" y=\"456.256836\"/>\n",
       "  <use xlink:href=\"#glyph0-2\" x=\"447.460938\" y=\"456.256836\"/>\n",
       "</g>\n",
       "<path style=\"fill:none;stroke-width:0.75;stroke-linecap:round;stroke-linejoin:round;stroke:rgb(0%,0%,0%);stroke-opacity:1;stroke-miterlimit:10;\" d=\"M 59.039062 378.53125 L 59.039062 93.273438 \"/>\n",
       "<path style=\"fill:none;stroke-width:0.75;stroke-linecap:round;stroke-linejoin:round;stroke:rgb(0%,0%,0%);stroke-opacity:1;stroke-miterlimit:10;\" d=\"M 59.039062 378.53125 L 51.839844 378.53125 \"/>\n",
       "<path style=\"fill:none;stroke-width:0.75;stroke-linecap:round;stroke-linejoin:round;stroke:rgb(0%,0%,0%);stroke-opacity:1;stroke-miterlimit:10;\" d=\"M 59.039062 283.445312 L 51.839844 283.445312 \"/>\n",
       "<path style=\"fill:none;stroke-width:0.75;stroke-linecap:round;stroke-linejoin:round;stroke:rgb(0%,0%,0%);stroke-opacity:1;stroke-miterlimit:10;\" d=\"M 59.039062 188.359375 L 51.839844 188.359375 \"/>\n",
       "<path style=\"fill:none;stroke-width:0.75;stroke-linecap:round;stroke-linejoin:round;stroke:rgb(0%,0%,0%);stroke-opacity:1;stroke-miterlimit:10;\" d=\"M 59.039062 93.273438 L 51.839844 93.273438 \"/>\n",
       "<g style=\"fill:rgb(0%,0%,0%);fill-opacity:1;\">\n",
       "  <use xlink:href=\"#glyph1-1\" x=\"41.538086\" y=\"390.53125\"/>\n",
       "  <use xlink:href=\"#glyph1-2\" x=\"41.538086\" y=\"383.859375\"/>\n",
       "  <use xlink:href=\"#glyph1-3\" x=\"41.538086\" y=\"380.523438\"/>\n",
       "  <use xlink:href=\"#glyph1-1\" x=\"41.538086\" y=\"373.851562\"/>\n",
       "</g>\n",
       "<g style=\"fill:rgb(0%,0%,0%);fill-opacity:1;\">\n",
       "  <use xlink:href=\"#glyph1-1\" x=\"41.538086\" y=\"295.445312\"/>\n",
       "  <use xlink:href=\"#glyph1-2\" x=\"41.538086\" y=\"288.773438\"/>\n",
       "  <use xlink:href=\"#glyph1-3\" x=\"41.538086\" y=\"285.4375\"/>\n",
       "  <use xlink:href=\"#glyph1-4\" x=\"41.538086\" y=\"278.765625\"/>\n",
       "</g>\n",
       "<g style=\"fill:rgb(0%,0%,0%);fill-opacity:1;\">\n",
       "  <use xlink:href=\"#glyph1-1\" x=\"41.538086\" y=\"200.359375\"/>\n",
       "  <use xlink:href=\"#glyph1-2\" x=\"41.538086\" y=\"193.6875\"/>\n",
       "  <use xlink:href=\"#glyph1-5\" x=\"41.538086\" y=\"190.351562\"/>\n",
       "  <use xlink:href=\"#glyph1-1\" x=\"41.538086\" y=\"183.679688\"/>\n",
       "</g>\n",
       "<g style=\"fill:rgb(0%,0%,0%);fill-opacity:1;\">\n",
       "  <use xlink:href=\"#glyph1-1\" x=\"41.538086\" y=\"105.273438\"/>\n",
       "  <use xlink:href=\"#glyph1-2\" x=\"41.538086\" y=\"98.601562\"/>\n",
       "  <use xlink:href=\"#glyph1-5\" x=\"41.538086\" y=\"95.265625\"/>\n",
       "  <use xlink:href=\"#glyph1-4\" x=\"41.538086\" y=\"88.59375\"/>\n",
       "</g>\n",
       "<path style=\"fill:none;stroke-width:0.75;stroke-linecap:round;stroke-linejoin:round;stroke:rgb(0%,0%,0%);stroke-opacity:1;stroke-miterlimit:10;\" d=\"M 59.039062 430.558594 L 473.761719 430.558594 L 473.761719 59.039062 L 59.039062 59.039062 L 59.039062 430.558594 \"/>\n",
       "<g style=\"fill:rgb(0%,0%,0%);fill-opacity:1;\">\n",
       "  <use xlink:href=\"#glyph2-1\" x=\"165.898438\" y=\"34.21875\"/>\n",
       "  <use xlink:href=\"#glyph2-2\" x=\"175.507812\" y=\"34.21875\"/>\n",
       "  <use xlink:href=\"#glyph2-3\" x=\"183.517578\" y=\"34.21875\"/>\n",
       "  <use xlink:href=\"#glyph2-4\" x=\"191.527344\" y=\"34.21875\"/>\n",
       "  <use xlink:href=\"#glyph2-5\" x=\"199.537109\" y=\"34.21875\"/>\n",
       "  <use xlink:href=\"#glyph2-6\" x=\"207.546875\" y=\"34.21875\"/>\n",
       "  <use xlink:href=\"#glyph2-7\" x=\"212.34375\" y=\"34.21875\"/>\n",
       "  <use xlink:href=\"#glyph2-8\" x=\"216.348633\" y=\"34.21875\"/>\n",
       "  <use xlink:href=\"#glyph2-9\" x=\"224.358398\" y=\"34.21875\"/>\n",
       "  <use xlink:href=\"#glyph2-10\" x=\"228.363281\" y=\"34.21875\"/>\n",
       "  <use xlink:href=\"#glyph2-5\" x=\"235.566406\" y=\"34.21875\"/>\n",
       "  <use xlink:href=\"#glyph2-7\" x=\"243.576172\" y=\"34.21875\"/>\n",
       "  <use xlink:href=\"#glyph2-11\" x=\"247.581055\" y=\"34.21875\"/>\n",
       "  <use xlink:href=\"#glyph2-8\" x=\"257.19043\" y=\"34.21875\"/>\n",
       "  <use xlink:href=\"#glyph2-7\" x=\"265.200195\" y=\"34.21875\"/>\n",
       "  <use xlink:href=\"#glyph2-12\" x=\"269.205078\" y=\"34.21875\"/>\n",
       "  <use xlink:href=\"#glyph2-9\" x=\"278.006836\" y=\"34.21875\"/>\n",
       "  <use xlink:href=\"#glyph2-13\" x=\"282.011719\" y=\"34.21875\"/>\n",
       "  <use xlink:href=\"#glyph2-5\" x=\"294.818359\" y=\"34.21875\"/>\n",
       "  <use xlink:href=\"#glyph2-7\" x=\"302.828125\" y=\"34.21875\"/>\n",
       "  <use xlink:href=\"#glyph2-14\" x=\"306.833008\" y=\"34.21875\"/>\n",
       "  <use xlink:href=\"#glyph2-15\" x=\"311.629883\" y=\"34.21875\"/>\n",
       "  <use xlink:href=\"#glyph2-16\" x=\"319.639648\" y=\"34.21875\"/>\n",
       "  <use xlink:href=\"#glyph2-13\" x=\"327.649414\" y=\"34.21875\"/>\n",
       "  <use xlink:href=\"#glyph2-17\" x=\"340.456055\" y=\"34.21875\"/>\n",
       "  <use xlink:href=\"#glyph2-18\" x=\"349.257812\" y=\"34.21875\"/>\n",
       "  <use xlink:href=\"#glyph2-8\" x=\"353.262695\" y=\"34.21875\"/>\n",
       "  <use xlink:href=\"#glyph2-19\" x=\"361.272461\" y=\"34.21875\"/>\n",
       "</g>\n",
       "<g style=\"fill:rgb(0%,0%,0%);fill-opacity:1;\">\n",
       "  <use xlink:href=\"#glyph0-7\" x=\"234.398438\" y=\"485.057617\"/>\n",
       "  <use xlink:href=\"#glyph0-8\" x=\"242.402344\" y=\"485.057617\"/>\n",
       "  <use xlink:href=\"#glyph0-9\" x=\"249.074219\" y=\"485.057617\"/>\n",
       "  <use xlink:href=\"#glyph0-10\" x=\"255.074219\" y=\"485.057617\"/>\n",
       "  <use xlink:href=\"#glyph0-11\" x=\"261.074219\" y=\"485.057617\"/>\n",
       "  <use xlink:href=\"#glyph0-12\" x=\"267.746094\" y=\"485.057617\"/>\n",
       "  <use xlink:href=\"#glyph0-13\" x=\"271.082031\" y=\"485.057617\"/>\n",
       "  <use xlink:href=\"#glyph0-14\" x=\"274.417969\" y=\"485.057617\"/>\n",
       "  <use xlink:href=\"#glyph0-15\" x=\"282.421875\" y=\"485.057617\"/>\n",
       "  <use xlink:href=\"#glyph0-16\" x=\"285.085938\" y=\"485.057617\"/>\n",
       "  <use xlink:href=\"#glyph0-11\" x=\"291.085938\" y=\"485.057617\"/>\n",
       "</g>\n",
       "<g style=\"fill:rgb(0%,0%,0%);fill-opacity:1;\">\n",
       "  <use xlink:href=\"#glyph1-6\" x=\"12.737305\" y=\"258.300781\"/>\n",
       "  <use xlink:href=\"#glyph1-7\" x=\"12.737305\" y=\"250.96875\"/>\n",
       "  <use xlink:href=\"#glyph1-8\" x=\"12.737305\" y=\"248.304688\"/>\n",
       "  <use xlink:href=\"#glyph1-9\" x=\"12.737305\" y=\"238.308594\"/>\n",
       "</g>\n",
       "<g clip-path=\"url(#clip1)\" clip-rule=\"nonzero\">\n",
       "<path style=\"fill:none;stroke-width:0.75;stroke-linecap:round;stroke-linejoin:round;stroke:rgb(0%,0%,0%);stroke-opacity:1;stroke-miterlimit:10;\" d=\"M 59.039062 426.382812 L 473.761719 68.660156 \"/>\n",
       "</g>\n",
       "<g clip-path=\"url(#clip2)\" clip-rule=\"nonzero\">\n",
       "<path style=\"fill:none;stroke-width:0.75;stroke-linecap:round;stroke-linejoin:round;stroke:rgb(0%,80.392157%,0%);stroke-opacity:1;stroke-miterlimit:10;\" d=\"M 59.039062 433.742188 L 473.761719 82.90625 \"/>\n",
       "</g>\n",
       "<g clip-path=\"url(#clip3)\" clip-rule=\"nonzero\">\n",
       "<path style=\"fill:none;stroke-width:0.75;stroke-linecap:round;stroke-linejoin:round;stroke:rgb(0%,80.392157%,0%);stroke-opacity:1;stroke-miterlimit:10;\" d=\"M 59.039062 419.023438 L 473.761719 54.417969 \"/>\n",
       "</g>\n",
       "</g>\n",
       "</svg>\n"
      ],
      "text/plain": [
       "Plot with title “Packet size Vs Time (54mb/s)”"
      ]
     },
     "metadata": {
      "image/svg+xml": {
       "isolated": true
      }
     },
     "output_type": "display_data"
    }
   ],
   "source": [
    "plot(x1,y1, main = \"Packet size Vs Time (1mb/s)\", xlab = \"Packet Size\", ylab = \"Time\")\n",
    "abline(lm(y1~x1))\n",
    "conf1 = confint(lm(y1~x1))\n",
    "abline(conf1[1],conf1[2],col = 3)\n",
    "abline(conf1[3],conf1[4],col = 3)\n",
    "\n",
    "plot(x11,y11, main = \"Packet size Vs Time (11mb/s)\", xlab = \"Packet Size\", ylab = \"Time\")\n",
    "abline(lm(y11~x11))\n",
    "conf11 = confint(lm(y11~x11))\n",
    "abline(conf11[1],conf11[2],col = 3)\n",
    "abline(conf11[3],conf11[4],col = 3)\n",
    " \n",
    "plot(x54,y54, main = \"Packet size Vs Time (54mb/s)\", xlab = \"Packet Size\", ylab = \"Time\")\n",
    "abline(lm(y54~x54))\n",
    "conf54 = confint(lm(y54~x54))\n",
    "abline(conf54[1],conf54[2],col = 3)\n",
    "abline(conf54[3],conf54[4],col = 3)"
   ]
  },
  {
   "cell_type": "code",
   "execution_count": 123,
   "metadata": {
    "collapsed": false
   },
   "outputs": [
    {
     "data": {
      "text/plain": [
       "\n",
       "Call:\n",
       "lm(formula = y1 ~ x1)\n",
       "\n",
       "Coefficients:\n",
       "(Intercept)           x1  \n",
       "   1.492115     0.007361  \n"
      ]
     },
     "execution_count": 123,
     "metadata": {},
     "output_type": "execute_result"
    },
    {
     "data": {
      "text/plain": [
       "\n",
       "Call:\n",
       "lm(formula = y11 ~ x11)\n",
       "\n",
       "Coefficients:\n",
       "(Intercept)          x11  \n",
       "  1.1810648    0.0007561  \n"
      ]
     },
     "execution_count": 123,
     "metadata": {},
     "output_type": "execute_result"
    },
    {
     "data": {
      "text/html": [
       "<table>\n",
       "<thead><tr><th></th><th scope=col>2.5 %</th><th scope=col>97.5 %</th></tr></thead>\n",
       "<tbody>\n",
       "\t<tr><th scope=row>(Intercept)</th><td>1.437881</td><td>1.546349</td></tr>\n",
       "\t<tr><th scope=row>x1</th><td>0.007304786</td><td>0.007417312</td></tr>\n",
       "</tbody>\n",
       "</table>\n"
      ],
      "text/latex": [
       "\\begin{tabular}{r|ll}\n",
       "  & 2.5 % & 97.5 %\\\\\n",
       "\\hline\n",
       "\t(Intercept) & 1.437881 & 1.546349\\\\\n",
       "\tx1 & 0.007304786 & 0.007417312\\\\\n",
       "\\end{tabular}\n"
      ],
      "text/markdown": [
       "1. 1.43788086000813\n",
       "2. 0.00730478597465865\n",
       "3. 1.54634851854664\n",
       "4. 0.00741731212324345\n",
       "\n",
       "\n"
      ],
      "text/plain": [
       "                  2.5 %      97.5 %\n",
       "(Intercept) 1.437880860 1.546348519\n",
       "x1          0.007304786 0.007417312"
      ]
     },
     "execution_count": 123,
     "metadata": {},
     "output_type": "execute_result"
    },
    {
     "data": {
      "text/html": [
       "<table>\n",
       "<thead><tr><th></th><th scope=col>2.5 %</th><th scope=col>97.5 %</th></tr></thead>\n",
       "<tbody>\n",
       "\t<tr><th scope=row>(Intercept)</th><td>1.166855</td><td>1.195275</td></tr>\n",
       "\t<tr><th scope=row>x11</th><td>0.0007413121</td><td>0.0007707959</td></tr>\n",
       "</tbody>\n",
       "</table>\n"
      ],
      "text/latex": [
       "\\begin{tabular}{r|ll}\n",
       "  & 2.5 % & 97.5 %\\\\\n",
       "\\hline\n",
       "\t(Intercept) & 1.166855 & 1.195275\\\\\n",
       "\tx11 & 0.0007413121 & 0.0007707959\\\\\n",
       "\\end{tabular}\n"
      ],
      "text/markdown": [
       "1. 1.16685465250519\n",
       "2. 0.000741312149688241\n",
       "3. 1.19527498898665\n",
       "4. 0.000770795878283786\n",
       "\n",
       "\n"
      ],
      "text/plain": [
       "                   2.5 %       97.5 %\n",
       "(Intercept) 1.1668546525 1.1952749890\n",
       "x11         0.0007413121 0.0007707959"
      ]
     },
     "execution_count": 123,
     "metadata": {},
     "output_type": "execute_result"
    }
   ],
   "source": [
    "lm1 = lm(y1~x1)\n",
    "lm11 = lm(y11~x11)\n",
    "lm1 \n",
    "lm11\n",
    "confint(lm1)\n",
    "confint(lm11)\n",
    "#We see that the time/byte for the 11mb/s is roughly an order of 10 lower than the 1mb/s.\n",
    "#However the overhead/packet is roughly the same, with the 11mb/s a tad smaller\n",
    "#At our 95% confidence interval, we see that the 11mb is roughly 10 times faster, not quite 11, but close"
   ]
  },
  {
   "cell_type": "code",
   "execution_count": 124,
   "metadata": {
    "collapsed": false
   },
   "outputs": [
    {
     "data": {
      "text/html": [
       "<strong>1:</strong> 1.78655665123542"
      ],
      "text/latex": [
       "\\textbf{1:} 1.78655665123542"
      ],
      "text/markdown": [
       "**1:** 1.78655665123542"
      ],
      "text/plain": [
       "       1 \n",
       "1.786557 "
      ]
     },
     "execution_count": 124,
     "metadata": {},
     "output_type": "execute_result"
    },
    {
     "data": {
      "text/html": [
       "<strong>1:</strong> 1.21130698130536"
      ],
      "text/latex": [
       "\\textbf{1:} 1.21130698130536"
      ],
      "text/markdown": [
       "**1:** 1.21130698130536"
      ],
      "text/plain": [
       "       1 \n",
       "1.211307 "
      ]
     },
     "execution_count": 124,
     "metadata": {},
     "output_type": "execute_result"
    },
    {
     "data": {
      "text/html": [
       "<strong>1:</strong> 0.232720390871212"
      ],
      "text/latex": [
       "\\textbf{1:} 0.232720390871212"
      ],
      "text/markdown": [
       "**1:** 0.232720390871212"
      ],
      "text/plain": [
       "        1 \n",
       "0.2327204 "
      ]
     },
     "execution_count": 124,
     "metadata": {},
     "output_type": "execute_result"
    },
    {
     "data": {
      "text/html": [
       "<strong>1:</strong> 1.47489998721063"
      ],
      "text/latex": [
       "\\textbf{1:} 1.47489998721063"
      ],
      "text/markdown": [
       "**1:** 1.47489998721063"
      ],
      "text/plain": [
       "     1 \n",
       "1.4749 "
      ]
     },
     "execution_count": 124,
     "metadata": {},
     "output_type": "execute_result"
    }
   ],
   "source": [
    "lm54 = lm(y54~x54)\n",
    "predict1 = predict(lm1, data.frame(x1 = c(40)))\n",
    "predict11 = predict(lm11, data.frame(x11 = c(40)))\n",
    "predict54 = predict(lm54, data.frame(x54 = c(40)))\n",
    "predict1\n",
    "predict11\n",
    "predict54\n",
    "predict1/predict11\n",
    "#Larry isn't necessarily wrong here. these predictions show that 11mb/s is not 11 times faster than 1mb/s.\n",
    "#for every 1 byte on 1mb/s, about 1.4 on 11mb/s"
   ]
  },
  {
   "cell_type": "code",
   "execution_count": 78,
   "metadata": {
    "collapsed": false
   },
   "outputs": [
    {
     "data": {
      "text/html": [
       "<strong>1:</strong> 7.01290147599067"
      ],
      "text/latex": [
       "\\textbf{1:} 7.01290147599067"
      ],
      "text/markdown": [
       "**1:** 7.01290147599067"
      ],
      "text/plain": [
       "       1 \n",
       "7.012901 "
      ]
     },
     "execution_count": 78,
     "metadata": {},
     "output_type": "execute_result"
    },
    {
     "data": {
      "text/html": [
       "<strong>1:</strong> 1.74810533123543"
      ],
      "text/latex": [
       "\\textbf{1:} 1.74810533123543"
      ],
      "text/markdown": [
       "**1:** 1.74810533123543"
      ],
      "text/plain": [
       "       1 \n",
       "1.748105 "
      ]
     },
     "execution_count": 78,
     "metadata": {},
     "output_type": "execute_result"
    },
    {
     "data": {
      "text/html": [
       "<strong>1:</strong> 0.345139588257576"
      ],
      "text/latex": [
       "\\textbf{1:} 0.345139588257576"
      ],
      "text/markdown": [
       "**1:** 0.345139588257576"
      ],
      "text/plain": [
       "        1 \n",
       "0.3451396 "
      ]
     },
     "execution_count": 78,
     "metadata": {},
     "output_type": "execute_result"
    },
    {
     "data": {
      "text/html": [
       "<strong>1:</strong> 12.533688262704"
      ],
      "text/latex": [
       "\\textbf{1:} 12.533688262704"
      ],
      "text/markdown": [
       "**1:** 12.533688262704"
      ],
      "text/plain": [
       "       1 \n",
       "12.53369 "
      ]
     },
     "execution_count": 78,
     "metadata": {},
     "output_type": "execute_result"
    },
    {
     "data": {
      "text/html": [
       "<strong>1:</strong> 2.31514584172494"
      ],
      "text/latex": [
       "\\textbf{1:} 2.31514584172494"
      ],
      "text/markdown": [
       "**1:** 2.31514584172494"
      ],
      "text/plain": [
       "       1 \n",
       "2.315146 "
      ]
     },
     "execution_count": 78,
     "metadata": {},
     "output_type": "execute_result"
    },
    {
     "data": {
      "text/html": [
       "<strong>1:</strong> 0.46389226155303"
      ],
      "text/latex": [
       "\\textbf{1:} 0.46389226155303"
      ],
      "text/markdown": [
       "**1:** 0.46389226155303"
      ],
      "text/plain": [
       "        1 \n",
       "0.4638923 "
      ]
     },
     "execution_count": 78,
     "metadata": {},
     "output_type": "execute_result"
    }
   ],
   "source": [
    "predict1mid = predict(lm1, data.frame(x1 = c(750)))\n",
    "predict11mid = predict(lm11, data.frame(x11 = c(750)))\n",
    "predict54mid = predict(lm54, data.frame(x54 = c(750)))\n",
    "predict1mid\n",
    "predict11mid\n",
    "predict54mid\n",
    "\n",
    "predict1large = predict(lm1, data.frame(x1 = c(1500)))\n",
    "predict11large = predict(lm11, data.frame(x11 = c(1500)))\n",
    "predict54large = predict(lm54, data.frame(x54 = c(1500)))\n",
    "predict1large\n",
    "predict11large\n",
    "predict54large\n",
    "\n",
    "#we see that as our packet size grows Larry's case begins to fall apart. \n",
    "#When comparing the time on the 40byte and the 1500byte, we see that 1mb/s has gotten a full 11 seconds slower,\n",
    "#while on the 11mb/s it has only gotten 1 second slower. That indicates that Larry's case\n",
    "#is obviously not a good one"
   ]
  },
  {
   "cell_type": "code",
   "execution_count": 125,
   "metadata": {
    "collapsed": false
   },
   "outputs": [
    {
     "data": {
      "text/plain": [
       "\n",
       "Call:\n",
       "lm(formula = y54 ~ x54)\n",
       "\n",
       "Coefficients:\n",
       "(Intercept)          x54  \n",
       "  0.2263869    0.0001583  \n"
      ]
     },
     "execution_count": 125,
     "metadata": {},
     "output_type": "execute_result"
    },
    {
     "data": {
      "text/plain": [
       "\n",
       "Call:\n",
       "lm(formula = y54 ~ x54)\n",
       "\n",
       "Residuals:\n",
       "       Min         1Q     Median         3Q        Max \n",
       "-0.0087862 -0.0016716  0.0002906  0.0020847  0.0076894 \n",
       "\n",
       "Coefficients:\n",
       "             Estimate Std. Error t value Pr(>|t|)    \n",
       "(Intercept) 2.264e-01  1.459e-03   155.1   <2e-16 ***\n",
       "x54         1.583e-04  1.514e-06   104.6   <2e-16 ***\n",
       "---\n",
       "Signif. codes:  0 ‘***’ 0.001 ‘**’ 0.01 ‘*’ 0.05 ‘.’ 0.1 ‘ ’ 1\n",
       "\n",
       "Residual standard error: 0.003621 on 46 degrees of freedom\n",
       "Multiple R-squared:  0.9958,\tAdjusted R-squared:  0.9957 \n",
       "F-statistic: 1.094e+04 on 1 and 46 DF,  p-value: < 2.2e-16\n"
      ]
     },
     "execution_count": 125,
     "metadata": {},
     "output_type": "execute_result"
    }
   ],
   "source": [
    "lm54\n",
    "summary(lm54)"
   ]
  },
  {
   "cell_type": "code",
   "execution_count": 126,
   "metadata": {
    "collapsed": false,
    "scrolled": true
   },
   "outputs": [
    {
     "data": {
      "image/png": "[encoded data removed]",
      "image/svg+xml": [
       "<?xml version=\"1.0\" encoding=\"UTF-8\"?>\n",
       "<svg xmlns=\"http://www.w3.org/2000/svg\" xmlns:xlink=\"http://www.w3.org/1999/xlink\" width=\"504pt\" height=\"504pt\" viewBox=\"0 0 504 504\" version=\"1.1\">\n",
       "<defs>\n",
       "<g>\n",
       "<symbol overflow=\"visible\" id=\"glyph0-0\">\n",
       "<path style=\"stroke:none;\" d=\"\"/>\n",
       "</symbol>\n",
       "<symbol overflow=\"visible\" id=\"glyph0-1\">\n",
       "<path style=\"stroke:none;\" d=\"M 5.046875 -3.390625 C 5.046875 -5.84375 4.265625 -7.0625 2.734375 -7.0625 C 1.21875 -7.0625 0.421875 -5.828125 0.421875 -3.453125 C 0.421875 -1.078125 1.21875 0.15625 2.734375 0.15625 C 4.234375 0.15625 5.046875 -1.078125 5.046875 -3.390625 Z M 4.15625 -3.46875 C 4.15625 -1.46875 3.6875 -0.578125 2.71875 -0.578125 C 1.796875 -0.578125 1.328125 -1.515625 1.328125 -3.4375 C 1.328125 -5.375 1.796875 -6.28125 2.734375 -6.28125 C 3.6875 -6.28125 4.15625 -5.359375 4.15625 -3.46875 Z \"/>\n",
       "</symbol>\n",
       "<symbol overflow=\"visible\" id=\"glyph0-2\">\n",
       "<path style=\"stroke:none;\" d=\"M 1.90625 0 L 1.90625 -1.03125 L 0.859375 -1.03125 L 0.859375 0 Z \"/>\n",
       "</symbol>\n",
       "<symbol overflow=\"visible\" id=\"glyph0-3\">\n",
       "<path style=\"stroke:none;\" d=\"M 5.03125 -2.046875 C 5.03125 -2.90625 4.6875 -3.40625 3.84375 -3.6875 C 4.5 -3.953125 4.828125 -4.40625 4.828125 -5.109375 C 4.828125 -6.328125 4.015625 -7.0625 2.671875 -7.0625 C 1.25 -7.0625 0.5 -6.28125 0.46875 -4.78125 L 1.34375 -4.78125 C 1.359375 -5.828125 1.796875 -6.296875 2.6875 -6.296875 C 3.46875 -6.296875 3.9375 -5.828125 3.9375 -5.09375 C 3.9375 -4.328125 3.609375 -4.015625 2.203125 -4.015625 L 2.203125 -3.28125 L 2.671875 -3.28125 C 3.640625 -3.28125 4.140625 -2.828125 4.140625 -2.046875 C 4.140625 -1.15625 3.59375 -0.625 2.671875 -0.625 C 1.71875 -0.625 1.25 -1.109375 1.1875 -2.125 L 0.3125 -2.125 C 0.421875 -0.5625 1.203125 0.15625 2.640625 0.15625 C 4.09375 0.15625 5.03125 -0.71875 5.03125 -2.046875 Z \"/>\n",
       "</symbol>\n",
       "<symbol overflow=\"visible\" id=\"glyph0-4\">\n",
       "<path style=\"stroke:none;\" d=\"M 5.109375 -2.34375 C 5.109375 -3.734375 4.1875 -4.640625 2.828125 -4.640625 C 2.328125 -4.640625 1.9375 -4.515625 1.515625 -4.21875 L 1.796875 -6.046875 L 4.734375 -6.046875 L 4.734375 -6.90625 L 1.09375 -6.90625 L 0.5625 -3.21875 L 1.375 -3.21875 C 1.78125 -3.703125 2.125 -3.875 2.671875 -3.875 C 3.609375 -3.875 4.203125 -3.265625 4.203125 -2.21875 C 4.203125 -1.203125 3.625 -0.625 2.671875 -0.625 C 1.90625 -0.625 1.4375 -1.015625 1.21875 -1.8125 L 0.34375 -1.8125 C 0.640625 -0.40625 1.4375 0.15625 2.6875 0.15625 C 4.109375 0.15625 5.109375 -0.84375 5.109375 -2.34375 Z \"/>\n",
       "</symbol>\n",
       "<symbol overflow=\"visible\" id=\"glyph0-5\">\n",
       "<path style=\"stroke:none;\" d=\"M 5.171875 -1.6875 L 5.171875 -2.484375 L 4.125 -2.484375 L 4.125 -7.0625 L 3.484375 -7.0625 L 0.28125 -2.625 L 0.28125 -1.6875 L 3.25 -1.6875 L 3.25 0 L 4.125 0 L 4.125 -1.6875 Z M 3.25 -2.484375 L 1.046875 -2.484375 L 3.25 -5.5625 Z \"/>\n",
       "</symbol>\n",
       "<symbol overflow=\"visible\" id=\"glyph0-6\">\n",
       "<path style=\"stroke:none;\" d=\"M 5.765625 -6.4375 L 5.765625 -7.25 L 0.890625 -7.25 L 0.890625 0 L 1.828125 0 L 1.828125 -3.296875 L 5.28125 -3.296875 L 5.28125 -4.125 L 1.828125 -4.125 L 1.828125 -6.4375 Z \"/>\n",
       "</symbol>\n",
       "<symbol overflow=\"visible\" id=\"glyph0-7\">\n",
       "<path style=\"stroke:none;\" d=\"M 1.515625 0 L 1.515625 -5.21875 L 0.703125 -5.21875 L 0.703125 0 Z M 1.625 -6 L 1.625 -7.03125 L 0.59375 -7.03125 L 0.59375 -6 Z \"/>\n",
       "</symbol>\n",
       "<symbol overflow=\"visible\" id=\"glyph0-8\">\n",
       "<path style=\"stroke:none;\" d=\"M 2.53125 0 L 2.53125 -0.703125 C 2.421875 -0.671875 2.296875 -0.65625 2.125 -0.65625 C 1.765625 -0.65625 1.671875 -0.75 1.671875 -1.125 L 1.671875 -4.53125 L 2.53125 -4.53125 L 2.53125 -5.21875 L 1.671875 -5.21875 L 1.671875 -6.65625 L 0.84375 -6.65625 L 0.84375 -5.21875 L 0.140625 -5.21875 L 0.140625 -4.53125 L 0.84375 -4.53125 L 0.84375 -0.75 C 0.84375 -0.234375 1.203125 0.0625 1.84375 0.0625 C 2.046875 0.0625 2.25 0.046875 2.53125 0 Z \"/>\n",
       "</symbol>\n",
       "<symbol overflow=\"visible\" id=\"glyph0-9\">\n",
       "<path style=\"stroke:none;\" d=\"M 5.109375 -2.375 C 5.109375 -3.125 5.046875 -3.609375 4.890625 -3.984375 C 4.5625 -4.84375 3.765625 -5.359375 2.78125 -5.359375 C 1.328125 -5.359375 0.390625 -4.296875 0.390625 -2.578125 C 0.390625 -0.859375 1.296875 0.15625 2.765625 0.15625 C 3.96875 0.15625 4.78125 -0.53125 5 -1.578125 L 4.15625 -1.578125 C 3.9375 -0.890625 3.46875 -0.609375 2.796875 -0.609375 C 1.9375 -0.609375 1.28125 -1.171875 1.265625 -2.375 Z M 4.21875 -3.109375 C 4.21875 -3.109375 4.21875 -3.0625 4.203125 -3.046875 L 1.28125 -3.046875 C 1.359375 -3.96875 1.9375 -4.59375 2.78125 -4.59375 C 3.59375 -4.59375 4.21875 -3.921875 4.21875 -3.109375 Z \"/>\n",
       "</symbol>\n",
       "<symbol overflow=\"visible\" id=\"glyph0-10\">\n",
       "<path style=\"stroke:none;\" d=\"M 4.921875 0 L 4.921875 -7.25 L 4.09375 -7.25 L 4.09375 -4.5625 C 3.75 -5.09375 3.1875 -5.359375 2.5 -5.359375 C 1.140625 -5.359375 0.265625 -4.3125 0.265625 -2.65625 C 0.265625 -0.890625 1.125 0.15625 2.53125 0.15625 C 3.25 0.15625 3.75 -0.125 4.1875 -0.765625 L 4.1875 0 Z M 4.09375 -2.59375 C 4.09375 -1.390625 3.515625 -0.625 2.640625 -0.625 C 1.734375 -0.625 1.125 -1.390625 1.125 -2.609375 C 1.125 -3.828125 1.734375 -4.59375 2.640625 -4.59375 C 3.53125 -4.59375 4.09375 -3.796875 4.09375 -2.59375 Z \"/>\n",
       "</symbol>\n",
       "<symbol overflow=\"visible\" id=\"glyph0-11\">\n",
       "<path style=\"stroke:none;\" d=\"\"/>\n",
       "</symbol>\n",
       "<symbol overflow=\"visible\" id=\"glyph0-12\">\n",
       "<path style=\"stroke:none;\" d=\"M 4.84375 -5.21875 L 3.90625 -5.21875 L 2.421875 -0.984375 L 1.03125 -5.21875 L 0.09375 -5.21875 L 1.9375 0 L 2.84375 0 Z \"/>\n",
       "</symbol>\n",
       "<symbol overflow=\"visible\" id=\"glyph0-13\">\n",
       "<path style=\"stroke:none;\" d=\"M 5.328125 -0.015625 L 5.328125 -0.640625 C 5.234375 -0.625 5.203125 -0.625 5.140625 -0.625 C 4.859375 -0.625 4.703125 -0.78125 4.703125 -1.03125 L 4.703125 -3.9375 C 4.703125 -4.859375 4.015625 -5.359375 2.734375 -5.359375 C 1.46875 -5.359375 0.703125 -4.875 0.640625 -3.671875 L 1.484375 -3.671875 C 1.546875 -4.3125 1.9375 -4.59375 2.703125 -4.59375 C 3.453125 -4.59375 3.875 -4.3125 3.875 -3.828125 L 3.875 -3.609375 C 3.875 -3.25 3.65625 -3.109375 3 -3.03125 C 1.828125 -2.875 1.65625 -2.84375 1.328125 -2.703125 C 0.734375 -2.453125 0.421875 -1.984375 0.421875 -1.359375 C 0.421875 -0.40625 1.078125 0.15625 2.125 0.15625 C 2.796875 0.15625 3.4375 -0.125 3.90625 -0.609375 C 3.984375 -0.21875 4.34375 0.0625 4.75 0.0625 C 4.921875 0.0625 5.0625 0.046875 5.328125 -0.015625 Z M 3.875 -1.796875 C 3.875 -1.0625 3.109375 -0.578125 2.3125 -0.578125 C 1.65625 -0.578125 1.28125 -0.8125 1.28125 -1.375 C 1.28125 -1.921875 1.65625 -2.15625 2.53125 -2.296875 C 3.40625 -2.40625 3.59375 -2.453125 3.875 -2.578125 Z \"/>\n",
       "</symbol>\n",
       "<symbol overflow=\"visible\" id=\"glyph0-14\">\n",
       "<path style=\"stroke:none;\" d=\"M 1.5 0 L 1.5 -7.25 L 0.671875 -7.25 L 0.671875 0 Z \"/>\n",
       "</symbol>\n",
       "<symbol overflow=\"visible\" id=\"glyph0-15\">\n",
       "<path style=\"stroke:none;\" d=\"M 4.796875 0 L 4.796875 -5.21875 L 3.96875 -5.21875 L 3.96875 -2.34375 C 3.96875 -1.28125 3.40625 -0.578125 2.546875 -0.578125 C 1.890625 -0.578125 1.46875 -0.96875 1.46875 -1.609375 L 1.46875 -5.21875 L 0.640625 -5.21875 L 0.640625 -1.28125 C 0.640625 -0.40625 1.296875 0.15625 2.3125 0.15625 C 3.078125 0.15625 3.5625 -0.125 4.046875 -0.8125 L 4.046875 0 Z \"/>\n",
       "</symbol>\n",
       "<symbol overflow=\"visible\" id=\"glyph0-16\">\n",
       "<path style=\"stroke:none;\" d=\"M 4.5625 -1.46875 C 4.5625 -2.234375 4.125 -2.625 3.09375 -2.875 L 2.296875 -3.0625 C 1.625 -3.21875 1.328125 -3.4375 1.328125 -3.8125 C 1.328125 -4.296875 1.765625 -4.59375 2.4375 -4.59375 C 3.109375 -4.59375 3.46875 -4.3125 3.484375 -3.765625 L 4.359375 -3.765625 C 4.34375 -4.78125 3.671875 -5.359375 2.46875 -5.359375 C 1.25 -5.359375 0.46875 -4.734375 0.46875 -3.765625 C 0.46875 -2.953125 0.890625 -2.5625 2.125 -2.265625 L 2.890625 -2.078125 C 3.46875 -1.9375 3.703125 -1.765625 3.703125 -1.390625 C 3.703125 -0.90625 3.21875 -0.609375 2.484375 -0.609375 C 1.734375 -0.609375 1.328125 -0.796875 1.21875 -1.59375 L 0.34375 -1.59375 C 0.375 -0.390625 1.0625 0.15625 2.421875 0.15625 C 3.734375 0.15625 4.5625 -0.453125 4.5625 -1.46875 Z \"/>\n",
       "</symbol>\n",
       "<symbol overflow=\"visible\" id=\"glyph0-17\">\n",
       "<path style=\"stroke:none;\" d=\"M 2.828125 -2.390625 L 2.828125 -3.109375 L 0.453125 -3.109375 L 0.453125 -2.390625 Z \"/>\n",
       "</symbol>\n",
       "<symbol overflow=\"visible\" id=\"glyph0-18\">\n",
       "<path style=\"stroke:none;\" d=\"M 5.09375 -4.984375 C 5.09375 -6.1875 4.15625 -7.0625 2.828125 -7.0625 C 1.390625 -7.0625 0.546875 -6.3125 0.5 -4.609375 L 1.375 -4.609375 C 1.4375 -5.796875 1.9375 -6.296875 2.796875 -6.296875 C 3.59375 -6.296875 4.1875 -5.71875 4.1875 -4.96875 C 4.1875 -4.40625 3.859375 -3.9375 3.234375 -3.578125 L 2.3125 -3.0625 C 0.84375 -2.21875 0.421875 -1.546875 0.34375 0 L 5.03125 0 L 5.03125 -0.859375 L 1.328125 -0.859375 C 1.40625 -1.4375 1.734375 -1.8125 2.59375 -2.3125 L 3.59375 -2.859375 C 4.578125 -3.390625 5.09375 -4.125 5.09375 -4.984375 Z \"/>\n",
       "</symbol>\n",
       "<symbol overflow=\"visible\" id=\"glyph0-19\">\n",
       "<path style=\"stroke:none;\" d=\"M 3.453125 0 L 3.453125 -7.0625 L 2.875 -7.0625 C 2.5625 -5.96875 2.375 -5.828125 1.015625 -5.65625 L 1.015625 -5.03125 L 2.578125 -5.03125 L 2.578125 0 Z \"/>\n",
       "</symbol>\n",
       "<symbol overflow=\"visible\" id=\"glyph0-20\">\n",
       "<path style=\"stroke:none;\" d=\"M 5.90625 -6.4375 L 5.90625 -7.25 L 0.203125 -7.25 L 0.203125 -6.4375 L 2.59375 -6.4375 L 2.59375 0 L 3.515625 0 L 3.515625 -6.4375 Z \"/>\n",
       "</symbol>\n",
       "<symbol overflow=\"visible\" id=\"glyph0-21\">\n",
       "<path style=\"stroke:none;\" d=\"M 4.84375 0 L 4.84375 -3.9375 C 4.84375 -4.8125 4.203125 -5.359375 3.1875 -5.359375 C 2.453125 -5.359375 2.015625 -5.140625 1.515625 -4.5 L 1.515625 -7.25 L 0.703125 -7.25 L 0.703125 0 L 1.515625 0 L 1.515625 -2.875 C 1.515625 -3.9375 2.078125 -4.640625 2.9375 -4.640625 C 3.515625 -4.640625 4.015625 -4.296875 4.015625 -3.609375 L 4.015625 0 Z \"/>\n",
       "</symbol>\n",
       "<symbol overflow=\"visible\" id=\"glyph0-22\">\n",
       "<path style=\"stroke:none;\" d=\"M 5.078125 -2.5625 C 5.078125 -4.375 4.203125 -5.359375 2.703125 -5.359375 C 1.25 -5.359375 0.359375 -4.359375 0.359375 -2.609375 C 0.359375 -0.859375 1.234375 0.15625 2.71875 0.15625 C 4.1875 0.15625 5.078125 -0.859375 5.078125 -2.5625 Z M 4.203125 -2.578125 C 4.203125 -1.359375 3.640625 -0.609375 2.71875 -0.609375 C 1.796875 -0.609375 1.21875 -1.34375 1.21875 -2.609375 C 1.21875 -3.859375 1.796875 -4.59375 2.71875 -4.59375 C 3.65625 -4.59375 4.203125 -3.875 4.203125 -2.578125 Z \"/>\n",
       "</symbol>\n",
       "<symbol overflow=\"visible\" id=\"glyph0-23\">\n",
       "<path style=\"stroke:none;\" d=\"M 3.1875 -4.484375 L 3.1875 -5.328125 C 3.0625 -5.359375 2.984375 -5.359375 2.875 -5.359375 C 2.34375 -5.359375 1.9375 -5.046875 1.453125 -4.265625 L 1.453125 -5.21875 L 0.703125 -5.21875 L 0.703125 0 L 1.515625 0 L 1.515625 -2.703125 C 1.515625 -3.875 1.90625 -4.46875 3.1875 -4.484375 Z \"/>\n",
       "</symbol>\n",
       "<symbol overflow=\"visible\" id=\"glyph0-24\">\n",
       "<path style=\"stroke:none;\" d=\"M 4.75 -1.796875 L 3.90625 -1.796875 C 3.765625 -0.953125 3.34375 -0.609375 2.640625 -0.609375 C 1.71875 -0.609375 1.171875 -1.328125 1.171875 -2.5625 C 1.171875 -3.859375 1.71875 -4.59375 2.625 -4.59375 C 3.3125 -4.59375 3.75 -4.1875 3.859375 -3.46875 L 4.6875 -3.46875 C 4.59375 -4.734375 3.796875 -5.359375 2.625 -5.359375 C 1.21875 -5.359375 0.3125 -4.296875 0.3125 -2.5625 C 0.3125 -0.875 1.203125 0.15625 2.625 0.15625 C 3.859375 0.15625 4.640625 -0.59375 4.75 -1.796875 Z \"/>\n",
       "</symbol>\n",
       "<symbol overflow=\"visible\" id=\"glyph0-25\">\n",
       "<path style=\"stroke:none;\" d=\"M 7.390625 -3.59375 C 7.390625 -5.84375 5.96875 -7.4375 3.875 -7.4375 C 1.796875 -7.4375 0.375 -5.84375 0.375 -3.578125 C 0.375 -1.296875 1.796875 0.171875 3.875 0.171875 C 4.59375 0.171875 5.203125 0.015625 5.78125 -0.328125 L 6.828125 0.53125 L 7.296875 -0.046875 L 6.359375 -0.8125 C 7.046875 -1.5625 7.390625 -2.453125 7.390625 -3.59375 Z M 6.453125 -3.578125 C 6.453125 -2.640625 6.203125 -1.96875 5.671875 -1.359375 L 4.78125 -2.09375 L 4.328125 -1.53125 L 5.0625 -0.921875 C 4.640625 -0.71875 4.3125 -0.640625 3.875 -0.640625 C 2.328125 -0.640625 1.296875 -1.78125 1.296875 -3.578125 C 1.296875 -5.359375 2.34375 -6.625 3.875 -6.625 C 5.421875 -6.625 6.453125 -5.359375 6.453125 -3.578125 Z \"/>\n",
       "</symbol>\n",
       "<symbol overflow=\"visible\" id=\"glyph0-26\">\n",
       "<path style=\"stroke:none;\" d=\"M 4.84375 0 L 4.84375 -3.9375 C 4.84375 -4.8125 4.203125 -5.359375 3.1875 -5.359375 C 2.421875 -5.359375 1.921875 -5.0625 1.46875 -4.34375 L 1.46875 -5.21875 L 0.703125 -5.21875 L 0.703125 0 L 1.515625 0 L 1.515625 -2.875 C 1.515625 -3.9375 2.09375 -4.640625 2.953125 -4.640625 C 3.609375 -4.640625 4.015625 -4.234375 4.015625 -3.609375 L 4.015625 0 Z \"/>\n",
       "</symbol>\n",
       "<symbol overflow=\"visible\" id=\"glyph0-27\">\n",
       "<path style=\"stroke:none;\" d=\"M 5.109375 -2.1875 C 5.109375 -3.5 4.203125 -4.390625 2.953125 -4.390625 C 2.25 -4.390625 1.703125 -4.125 1.328125 -3.609375 C 1.328125 -5.328125 1.890625 -6.28125 2.890625 -6.28125 C 3.515625 -6.28125 3.9375 -5.890625 4.078125 -5.21875 L 4.953125 -5.21875 C 4.78125 -6.375 4.03125 -7.0625 2.953125 -7.0625 C 1.3125 -7.0625 0.421875 -5.671875 0.421875 -3.21875 C 0.421875 -1.015625 1.1875 0.15625 2.796875 0.15625 C 4.140625 0.15625 5.109375 -0.8125 5.109375 -2.1875 Z M 4.203125 -2.125 C 4.203125 -1.234375 3.609375 -0.625 2.8125 -0.625 C 1.984375 -0.625 1.375 -1.265625 1.375 -2.171875 C 1.375 -3.046875 1.96875 -3.609375 2.84375 -3.609375 C 3.6875 -3.609375 4.203125 -3.0625 4.203125 -2.125 Z \"/>\n",
       "</symbol>\n",
       "<symbol overflow=\"visible\" id=\"glyph0-28\">\n",
       "<path style=\"stroke:none;\" d=\"M 5.3125 0 L 5.3125 -0.8125 L 1.71875 -0.8125 L 1.71875 -7.25 L 0.796875 -7.25 L 0.796875 0 Z \"/>\n",
       "</symbol>\n",
       "<symbol overflow=\"visible\" id=\"glyph0-29\">\n",
       "<path style=\"stroke:none;\" d=\"M 4.859375 -0.859375 L 4.859375 -5.21875 L 4.09375 -5.21875 L 4.09375 -4.453125 C 3.6875 -5.078125 3.171875 -5.359375 2.515625 -5.359375 C 1.1875 -5.359375 0.28125 -4.25 0.28125 -2.5625 C 0.28125 -0.921875 1.21875 0.15625 2.4375 0.15625 C 3.09375 0.15625 3.546875 -0.125 4.09375 -0.78125 L 4.09375 -0.4375 C 4.09375 0.953125 3.53125 1.46875 2.5625 1.46875 C 1.90625 1.46875 1.40625 1.234375 1.296875 0.59375 L 0.453125 0.59375 C 0.546875 1.578125 1.3125 2.171875 2.53125 2.171875 C 4.171875 2.171875 4.859375 1.4375 4.859375 -0.859375 Z M 4.015625 -2.578125 C 4.015625 -1.328125 3.484375 -0.609375 2.609375 -0.609375 C 1.703125 -0.609375 1.15625 -1.34375 1.15625 -2.609375 C 1.15625 -3.859375 1.71875 -4.59375 2.59375 -4.59375 C 3.5 -4.59375 4.015625 -3.84375 4.015625 -2.578125 Z \"/>\n",
       "</symbol>\n",
       "<symbol overflow=\"visible\" id=\"glyph0-30\">\n",
       "<path style=\"stroke:none;\" d=\"M 6.734375 -2.640625 L 5.78125 -2.640625 C 5.5625 -1.28125 4.984375 -0.640625 3.765625 -0.640625 C 2.3125 -0.640625 1.40625 -1.734375 1.40625 -3.546875 C 1.40625 -5.421875 2.28125 -6.625 3.6875 -6.625 C 4.8125 -6.625 5.421875 -6.109375 5.640625 -5 L 6.59375 -5 C 6.296875 -6.59375 5.390625 -7.4375 3.796875 -7.4375 C 1.59375 -7.4375 0.484375 -5.65625 0.484375 -3.546875 C 0.484375 -1.421875 1.625 0.171875 3.75 0.171875 C 5.53125 0.171875 6.515625 -0.75 6.734375 -2.640625 Z \"/>\n",
       "</symbol>\n",
       "<symbol overflow=\"visible\" id=\"glyph0-31\">\n",
       "<path style=\"stroke:none;\" d=\"M 5 0 L 2.859375 -3.40625 L 4.671875 -5.21875 L 3.609375 -5.21875 L 1.40625 -3 L 1.40625 -7.25 L 0.578125 -7.25 L 0.578125 0 L 1.40625 0 L 1.40625 -2.03125 L 2.203125 -2.828125 L 3.96875 0 Z \"/>\n",
       "</symbol>\n",
       "<symbol overflow=\"visible\" id=\"glyph0-32\">\n",
       "<path style=\"stroke:none;\" d=\"M 1.40625 -5.953125 L 1.40625 -7.0625 L 0.484375 -7.0625 L 0.484375 -5.953125 L 0.75 -4.625 L 1.140625 -4.625 Z \"/>\n",
       "</symbol>\n",
       "<symbol overflow=\"visible\" id=\"glyph1-0\">\n",
       "<path style=\"stroke:none;\" d=\"\"/>\n",
       "</symbol>\n",
       "<symbol overflow=\"visible\" id=\"glyph1-1\">\n",
       "<path style=\"stroke:none;\" d=\"M -2.390625 -2.828125 L -3.109375 -2.828125 L -3.109375 -0.453125 L -2.390625 -0.453125 Z \"/>\n",
       "</symbol>\n",
       "<symbol overflow=\"visible\" id=\"glyph1-2\">\n",
       "<path style=\"stroke:none;\" d=\"M -3.390625 -5.046875 C -5.84375 -5.046875 -7.0625 -4.265625 -7.0625 -2.734375 C -7.0625 -1.21875 -5.828125 -0.421875 -3.453125 -0.421875 C -1.078125 -0.421875 0.15625 -1.21875 0.15625 -2.734375 C 0.15625 -4.234375 -1.078125 -5.046875 -3.390625 -5.046875 Z M -3.46875 -4.15625 C -1.46875 -4.15625 -0.578125 -3.6875 -0.578125 -2.71875 C -0.578125 -1.796875 -1.515625 -1.328125 -3.4375 -1.328125 C -5.375 -1.328125 -6.28125 -1.796875 -6.28125 -2.734375 C -6.28125 -3.6875 -5.359375 -4.15625 -3.46875 -4.15625 Z \"/>\n",
       "</symbol>\n",
       "<symbol overflow=\"visible\" id=\"glyph1-3\">\n",
       "<path style=\"stroke:none;\" d=\"M 0 -1.90625 L -1.03125 -1.90625 L -1.03125 -0.859375 L 0 -0.859375 Z \"/>\n",
       "</symbol>\n",
       "<symbol overflow=\"visible\" id=\"glyph1-4\">\n",
       "<path style=\"stroke:none;\" d=\"M 0 -3.453125 L -7.0625 -3.453125 L -7.0625 -2.875 C -5.96875 -2.5625 -5.828125 -2.375 -5.65625 -1.015625 L -5.03125 -1.015625 L -5.03125 -2.578125 L 0 -2.578125 Z \"/>\n",
       "</symbol>\n",
       "<symbol overflow=\"visible\" id=\"glyph1-5\">\n",
       "<path style=\"stroke:none;\" d=\"M -2.34375 -5.109375 C -3.734375 -5.109375 -4.640625 -4.1875 -4.640625 -2.828125 C -4.640625 -2.328125 -4.515625 -1.9375 -4.21875 -1.515625 L -6.046875 -1.796875 L -6.046875 -4.734375 L -6.90625 -4.734375 L -6.90625 -1.09375 L -3.21875 -0.5625 L -3.21875 -1.375 C -3.703125 -1.78125 -3.875 -2.125 -3.875 -2.671875 C -3.875 -3.609375 -3.265625 -4.203125 -2.21875 -4.203125 C -1.203125 -4.203125 -0.625 -3.625 -0.625 -2.671875 C -0.625 -1.90625 -1.015625 -1.4375 -1.8125 -1.21875 L -1.8125 -0.34375 C -0.40625 -0.640625 0.15625 -1.4375 0.15625 -2.6875 C 0.15625 -4.109375 -0.84375 -5.109375 -2.34375 -5.109375 Z \"/>\n",
       "</symbol>\n",
       "<symbol overflow=\"visible\" id=\"glyph1-6\">\n",
       "<path style=\"stroke:none;\" d=\"M 0 -6.765625 L -0.234375 -6.765625 C -0.46875 -6.40625 -0.734375 -6.328125 -1.6875 -6.3125 C -2.890625 -6.296875 -3.25 -6.125 -3.578125 -5.328125 C -3.984375 -6.15625 -4.484375 -6.484375 -5.3125 -6.484375 C -6.5625 -6.484375 -7.25 -5.6875 -7.25 -4.265625 L -7.25 -0.921875 L 0 -0.921875 L 0 -1.84375 L -3.125 -1.84375 L -3.125 -4.234375 C -3.125 -5.0625 -2.734375 -5.4375 -1.828125 -5.4375 L -1.1875 -5.421875 C -0.734375 -5.421875 -0.296875 -5.5 0 -5.640625 Z M -5.1875 -5.515625 C -4.328125 -5.515625 -3.9375 -5.078125 -3.9375 -4.09375 L -3.9375 -1.84375 L -6.4375 -1.84375 L -6.4375 -4.09375 C -6.4375 -5.125 -6 -5.515625 -5.1875 -5.515625 Z \"/>\n",
       "</symbol>\n",
       "<symbol overflow=\"visible\" id=\"glyph1-7\">\n",
       "<path style=\"stroke:none;\" d=\"M -2.375 -5.109375 C -3.125 -5.109375 -3.609375 -5.046875 -3.984375 -4.890625 C -4.84375 -4.5625 -5.359375 -3.765625 -5.359375 -2.78125 C -5.359375 -1.328125 -4.296875 -0.390625 -2.578125 -0.390625 C -0.859375 -0.390625 0.15625 -1.296875 0.15625 -2.765625 C 0.15625 -3.96875 -0.53125 -4.78125 -1.578125 -5 L -1.578125 -4.15625 C -0.890625 -3.9375 -0.609375 -3.46875 -0.609375 -2.796875 C -0.609375 -1.9375 -1.171875 -1.28125 -2.375 -1.265625 Z M -3.109375 -4.21875 C -3.109375 -4.21875 -3.0625 -4.21875 -3.046875 -4.203125 L -3.046875 -1.28125 C -3.96875 -1.359375 -4.59375 -1.9375 -4.59375 -2.78125 C -4.59375 -3.59375 -3.921875 -4.21875 -3.109375 -4.21875 Z \"/>\n",
       "</symbol>\n",
       "<symbol overflow=\"visible\" id=\"glyph1-8\">\n",
       "<path style=\"stroke:none;\" d=\"M -1.46875 -4.5625 C -2.234375 -4.5625 -2.625 -4.125 -2.875 -3.09375 L -3.0625 -2.296875 C -3.21875 -1.625 -3.4375 -1.328125 -3.8125 -1.328125 C -4.296875 -1.328125 -4.59375 -1.765625 -4.59375 -2.4375 C -4.59375 -3.109375 -4.3125 -3.46875 -3.765625 -3.484375 L -3.765625 -4.359375 C -4.78125 -4.34375 -5.359375 -3.671875 -5.359375 -2.46875 C -5.359375 -1.25 -4.734375 -0.46875 -3.765625 -0.46875 C -2.953125 -0.46875 -2.5625 -0.890625 -2.265625 -2.125 L -2.078125 -2.890625 C -1.9375 -3.46875 -1.765625 -3.703125 -1.390625 -3.703125 C -0.90625 -3.703125 -0.609375 -3.21875 -0.609375 -2.484375 C -0.609375 -1.734375 -0.796875 -1.328125 -1.59375 -1.21875 L -1.59375 -0.34375 C -0.390625 -0.375 0.15625 -1.0625 0.15625 -2.421875 C 0.15625 -3.734375 -0.453125 -4.5625 -1.46875 -4.5625 Z \"/>\n",
       "</symbol>\n",
       "<symbol overflow=\"visible\" id=\"glyph1-9\">\n",
       "<path style=\"stroke:none;\" d=\"M 0 -1.515625 L -5.21875 -1.515625 L -5.21875 -0.703125 L 0 -0.703125 Z M -6 -1.625 L -7.03125 -1.625 L -7.03125 -0.59375 L -6 -0.59375 Z \"/>\n",
       "</symbol>\n",
       "<symbol overflow=\"visible\" id=\"glyph1-10\">\n",
       "<path style=\"stroke:none;\" d=\"M 0 -4.921875 L -7.25 -4.921875 L -7.25 -4.09375 L -4.5625 -4.09375 C -5.09375 -3.75 -5.359375 -3.1875 -5.359375 -2.5 C -5.359375 -1.140625 -4.3125 -0.265625 -2.65625 -0.265625 C -0.890625 -0.265625 0.15625 -1.125 0.15625 -2.53125 C 0.15625 -3.25 -0.125 -3.75 -0.765625 -4.1875 L 0 -4.1875 Z M -2.59375 -4.09375 C -1.390625 -4.09375 -0.625 -3.515625 -0.625 -2.640625 C -0.625 -1.734375 -1.390625 -1.125 -2.609375 -1.125 C -3.828125 -1.125 -4.59375 -1.734375 -4.59375 -2.640625 C -4.59375 -3.53125 -3.796875 -4.09375 -2.59375 -4.09375 Z \"/>\n",
       "</symbol>\n",
       "<symbol overflow=\"visible\" id=\"glyph1-11\">\n",
       "<path style=\"stroke:none;\" d=\"M 0 -4.796875 L -5.21875 -4.796875 L -5.21875 -3.96875 L -2.34375 -3.96875 C -1.28125 -3.96875 -0.578125 -3.40625 -0.578125 -2.546875 C -0.578125 -1.890625 -0.96875 -1.46875 -1.609375 -1.46875 L -5.21875 -1.46875 L -5.21875 -0.640625 L -1.28125 -0.640625 C -0.40625 -0.640625 0.15625 -1.296875 0.15625 -2.3125 C 0.15625 -3.078125 -0.125 -3.5625 -0.8125 -4.046875 L 0 -4.046875 Z \"/>\n",
       "</symbol>\n",
       "<symbol overflow=\"visible\" id=\"glyph1-12\">\n",
       "<path style=\"stroke:none;\" d=\"M -0.015625 -5.328125 L -0.640625 -5.328125 C -0.625 -5.234375 -0.625 -5.203125 -0.625 -5.140625 C -0.625 -4.859375 -0.78125 -4.703125 -1.03125 -4.703125 L -3.9375 -4.703125 C -4.859375 -4.703125 -5.359375 -4.015625 -5.359375 -2.734375 C -5.359375 -1.46875 -4.875 -0.703125 -3.671875 -0.640625 L -3.671875 -1.484375 C -4.3125 -1.546875 -4.59375 -1.9375 -4.59375 -2.703125 C -4.59375 -3.453125 -4.3125 -3.875 -3.828125 -3.875 L -3.609375 -3.875 C -3.25 -3.875 -3.109375 -3.65625 -3.03125 -3 C -2.875 -1.828125 -2.84375 -1.65625 -2.703125 -1.328125 C -2.453125 -0.734375 -1.984375 -0.421875 -1.359375 -0.421875 C -0.40625 -0.421875 0.15625 -1.078125 0.15625 -2.125 C 0.15625 -2.796875 -0.125 -3.4375 -0.609375 -3.90625 C -0.21875 -3.984375 0.0625 -4.34375 0.0625 -4.75 C 0.0625 -4.921875 0.046875 -5.0625 -0.015625 -5.328125 Z M -1.796875 -3.875 C -1.0625 -3.875 -0.578125 -3.109375 -0.578125 -2.3125 C -0.578125 -1.65625 -0.8125 -1.28125 -1.375 -1.28125 C -1.921875 -1.28125 -2.15625 -1.65625 -2.296875 -2.53125 C -2.40625 -3.40625 -2.453125 -3.59375 -2.578125 -3.875 Z \"/>\n",
       "</symbol>\n",
       "<symbol overflow=\"visible\" id=\"glyph1-13\">\n",
       "<path style=\"stroke:none;\" d=\"M 0 -1.5 L -7.25 -1.5 L -7.25 -0.671875 L 0 -0.671875 Z \"/>\n",
       "</symbol>\n",
       "<symbol overflow=\"visible\" id=\"glyph1-14\">\n",
       "<path style=\"stroke:none;\" d=\"M -4.984375 -5.09375 C -6.1875 -5.09375 -7.0625 -4.15625 -7.0625 -2.828125 C -7.0625 -1.390625 -6.3125 -0.546875 -4.609375 -0.5 L -4.609375 -1.375 C -5.796875 -1.4375 -6.296875 -1.9375 -6.296875 -2.796875 C -6.296875 -3.59375 -5.71875 -4.1875 -4.96875 -4.1875 C -4.40625 -4.1875 -3.9375 -3.859375 -3.578125 -3.234375 L -3.0625 -2.3125 C -2.21875 -0.84375 -1.546875 -0.421875 0 -0.34375 L 0 -5.03125 L -0.859375 -5.03125 L -0.859375 -1.328125 C -1.4375 -1.40625 -1.8125 -1.734375 -2.3125 -2.59375 L -2.859375 -3.59375 C -3.390625 -4.578125 -4.125 -5.09375 -4.984375 -5.09375 Z \"/>\n",
       "</symbol>\n",
       "<symbol overflow=\"visible\" id=\"glyph1-15\">\n",
       "<path style=\"stroke:none;\" d=\"M -1.984375 -6.1875 C -2.890625 -6.1875 -3.546875 -5.625 -3.8125 -4.640625 L -4.296875 -2.8125 C -4.53125 -1.9375 -4.8125 -1.625 -5.375 -1.625 C -6.109375 -1.625 -6.65625 -2.265625 -6.65625 -3.25 C -6.65625 -4.40625 -6.125 -5.0625 -5.1875 -5.0625 L -5.1875 -5.9375 C -6.609375 -5.9375 -7.4375 -4.953125 -7.4375 -3.28125 C -7.4375 -1.6875 -6.5625 -0.703125 -5.25 -0.703125 C -4.359375 -0.703125 -3.796875 -1.171875 -3.546875 -2.125 L -3.078125 -3.921875 C -2.84375 -4.84375 -2.46875 -5.25 -1.90625 -5.25 C -1.109375 -5.25 -0.640625 -4.65625 -0.640625 -3.40625 C -0.640625 -2.03125 -1.328125 -1.359375 -2.359375 -1.359375 L -2.359375 -0.484375 C -0.640625 -0.484375 0.171875 -1.625 0.171875 -3.34375 C 0.171875 -5.1875 -0.703125 -6.1875 -1.984375 -6.1875 Z \"/>\n",
       "</symbol>\n",
       "<symbol overflow=\"visible\" id=\"glyph1-16\">\n",
       "<path style=\"stroke:none;\" d=\"M 0 -2.53125 L -0.703125 -2.53125 C -0.671875 -2.421875 -0.65625 -2.296875 -0.65625 -2.125 C -0.65625 -1.765625 -0.75 -1.671875 -1.125 -1.671875 L -4.53125 -1.671875 L -4.53125 -2.53125 L -5.21875 -2.53125 L -5.21875 -1.671875 L -6.65625 -1.671875 L -6.65625 -0.84375 L -5.21875 -0.84375 L -5.21875 -0.140625 L -4.53125 -0.140625 L -4.53125 -0.84375 L -0.75 -0.84375 C -0.234375 -0.84375 0.0625 -1.203125 0.0625 -1.84375 C 0.0625 -2.046875 0.046875 -2.25 0 -2.53125 Z \"/>\n",
       "</symbol>\n",
       "<symbol overflow=\"visible\" id=\"glyph1-17\">\n",
       "<path style=\"stroke:none;\" d=\"M 0 -4.84375 L -3.9375 -4.84375 C -4.8125 -4.84375 -5.359375 -4.203125 -5.359375 -3.1875 C -5.359375 -2.421875 -5.0625 -1.921875 -4.34375 -1.46875 L -5.21875 -1.46875 L -5.21875 -0.703125 L 0 -0.703125 L 0 -1.515625 L -2.875 -1.515625 C -3.9375 -1.515625 -4.640625 -2.09375 -4.640625 -2.953125 C -4.640625 -3.609375 -4.234375 -4.015625 -3.609375 -4.015625 L 0 -4.015625 Z \"/>\n",
       "</symbol>\n",
       "<symbol overflow=\"visible\" id=\"glyph1-18\">\n",
       "<path style=\"stroke:none;\" d=\"M -4.484375 -3.1875 L -5.328125 -3.1875 C -5.359375 -3.0625 -5.359375 -2.984375 -5.359375 -2.875 C -5.359375 -2.34375 -5.046875 -1.9375 -4.265625 -1.453125 L -5.21875 -1.453125 L -5.21875 -0.703125 L 0 -0.703125 L 0 -1.515625 L -2.703125 -1.515625 C -3.875 -1.515625 -4.46875 -1.90625 -4.484375 -3.1875 Z \"/>\n",
       "</symbol>\n",
       "<symbol overflow=\"visible\" id=\"glyph1-19\">\n",
       "<path style=\"stroke:none;\" d=\"M 0 -4.546875 L -0.734375 -4.546875 L -0.734375 -1.3125 L -4.484375 -4.40625 L -5.21875 -4.40625 L -5.21875 -0.515625 L -4.484375 -0.515625 L -4.484375 -3.421875 L -0.75 -0.3125 L 0 -0.3125 Z \"/>\n",
       "</symbol>\n",
       "<symbol overflow=\"visible\" id=\"glyph1-20\">\n",
       "<path style=\"stroke:none;\" d=\"\"/>\n",
       "</symbol>\n",
       "<symbol overflow=\"visible\" id=\"glyph1-21\">\n",
       "<path style=\"stroke:none;\" d=\"M -2.046875 -5.03125 C -2.90625 -5.03125 -3.40625 -4.6875 -3.6875 -3.84375 C -3.953125 -4.5 -4.40625 -4.828125 -5.109375 -4.828125 C -6.328125 -4.828125 -7.0625 -4.015625 -7.0625 -2.671875 C -7.0625 -1.25 -6.28125 -0.5 -4.78125 -0.46875 L -4.78125 -1.34375 C -5.828125 -1.359375 -6.296875 -1.796875 -6.296875 -2.6875 C -6.296875 -3.46875 -5.828125 -3.9375 -5.09375 -3.9375 C -4.328125 -3.9375 -4.015625 -3.609375 -4.015625 -2.203125 L -3.28125 -2.203125 L -3.28125 -2.671875 C -3.28125 -3.640625 -2.828125 -4.140625 -2.046875 -4.140625 C -1.15625 -4.140625 -0.625 -3.59375 -0.625 -2.671875 C -0.625 -1.71875 -1.109375 -1.25 -2.125 -1.1875 L -2.125 -0.3125 C -0.5625 -0.421875 0.15625 -1.203125 0.15625 -2.640625 C 0.15625 -4.09375 -0.71875 -5.03125 -2.046875 -5.03125 Z \"/>\n",
       "</symbol>\n",
       "<symbol overflow=\"visible\" id=\"glyph2-0\">\n",
       "<path style=\"stroke:none;\" d=\"\"/>\n",
       "</symbol>\n",
       "<symbol overflow=\"visible\" id=\"glyph2-1\">\n",
       "<path style=\"stroke:none;\" d=\"M 8.140625 0 L 8.140625 -0.28125 C 7.734375 -0.5625 7.625 -0.875 7.625 -2.046875 C 7.59375 -3.484375 7.375 -3.90625 6.4375 -4.3125 C 7.421875 -4.796875 7.8125 -5.40625 7.8125 -6.40625 C 7.8125 -7.921875 6.859375 -8.75 5.140625 -8.75 L 1.109375 -8.75 L 1.109375 0 L 2.234375 0 L 2.234375 -3.765625 L 5.109375 -3.765625 C 6.09375 -3.765625 6.5625 -3.28125 6.546875 -2.203125 L 6.546875 -1.421875 C 6.53125 -0.890625 6.640625 -0.359375 6.796875 0 Z M 6.640625 -6.25 C 6.640625 -5.21875 6.125 -4.75 4.9375 -4.75 L 2.234375 -4.75 L 2.234375 -7.765625 L 4.9375 -7.765625 C 6.1875 -7.765625 6.640625 -7.234375 6.640625 -6.25 Z \"/>\n",
       "</symbol>\n",
       "<symbol overflow=\"visible\" id=\"glyph2-2\">\n",
       "<path style=\"stroke:none;\" d=\"M 6.15625 -2.859375 C 6.15625 -3.765625 6.078125 -4.34375 5.90625 -4.8125 C 5.5 -5.84375 4.53125 -6.46875 3.359375 -6.46875 C 1.609375 -6.46875 0.484375 -5.171875 0.484375 -3.109375 C 0.484375 -1.046875 1.578125 0.1875 3.34375 0.1875 C 4.78125 0.1875 5.765625 -0.640625 6.03125 -1.90625 L 5.015625 -1.90625 C 4.734375 -1.078125 4.171875 -0.75 3.375 -0.75 C 2.328125 -0.75 1.546875 -1.421875 1.53125 -2.859375 Z M 5.09375 -3.75 C 5.09375 -3.75 5.09375 -3.703125 5.078125 -3.671875 L 1.546875 -3.671875 C 1.625 -4.78125 2.34375 -5.546875 3.34375 -5.546875 C 4.328125 -5.546875 5.09375 -4.734375 5.09375 -3.75 Z \"/>\n",
       "</symbol>\n",
       "<symbol overflow=\"visible\" id=\"glyph2-3\">\n",
       "<path style=\"stroke:none;\" d=\"M 5.515625 -1.765625 C 5.515625 -2.703125 4.984375 -3.171875 3.734375 -3.46875 L 2.765625 -3.703125 C 1.953125 -3.890625 1.609375 -4.15625 1.609375 -4.59375 C 1.609375 -5.171875 2.125 -5.546875 2.9375 -5.546875 C 3.75 -5.546875 4.171875 -5.203125 4.203125 -4.53125 L 5.25 -4.53125 C 5.25 -5.765625 4.421875 -6.46875 2.96875 -6.46875 C 1.515625 -6.46875 0.5625 -5.71875 0.5625 -4.546875 C 0.5625 -3.5625 1.0625 -3.09375 2.5625 -2.734375 L 3.484375 -2.515625 C 4.1875 -2.34375 4.46875 -2.140625 4.46875 -1.6875 C 4.46875 -1.09375 3.875 -0.75 3 -0.75 C 2.09375 -0.75 1.59375 -0.953125 1.46875 -1.921875 L 0.40625 -1.921875 C 0.453125 -0.46875 1.265625 0.1875 2.921875 0.1875 C 4.5 0.1875 5.515625 -0.546875 5.515625 -1.765625 Z \"/>\n",
       "</symbol>\n",
       "<symbol overflow=\"visible\" id=\"glyph2-4\">\n",
       "<path style=\"stroke:none;\" d=\"M 1.84375 0 L 1.84375 -6.28125 L 0.84375 -6.28125 L 0.84375 0 Z M 1.96875 -7.234375 L 1.96875 -8.484375 L 0.71875 -8.484375 L 0.71875 -7.234375 Z \"/>\n",
       "</symbol>\n",
       "<symbol overflow=\"visible\" id=\"glyph2-5\">\n",
       "<path style=\"stroke:none;\" d=\"M 5.9375 0 L 5.9375 -8.75 L 4.9375 -8.75 L 4.9375 -5.5 C 4.53125 -6.125 3.859375 -6.46875 3.015625 -6.46875 C 1.375 -6.46875 0.3125 -5.203125 0.3125 -3.203125 C 0.3125 -1.078125 1.359375 0.1875 3.046875 0.1875 C 3.90625 0.1875 4.515625 -0.140625 5.046875 -0.921875 L 5.046875 0 Z M 4.9375 -3.125 C 4.9375 -1.671875 4.25 -0.75 3.1875 -0.75 C 2.09375 -0.75 1.359375 -1.6875 1.359375 -3.140625 C 1.359375 -4.609375 2.09375 -5.53125 3.1875 -5.53125 C 4.265625 -5.53125 4.9375 -4.578125 4.9375 -3.125 Z \"/>\n",
       "</symbol>\n",
       "<symbol overflow=\"visible\" id=\"glyph2-6\">\n",
       "<path style=\"stroke:none;\" d=\"M 5.78125 0 L 5.78125 -6.28125 L 4.78125 -6.28125 L 4.78125 -2.8125 C 4.78125 -1.53125 4.109375 -0.703125 3.078125 -0.703125 C 2.28125 -0.703125 1.78125 -1.171875 1.78125 -1.9375 L 1.78125 -6.28125 L 0.78125 -6.28125 L 0.78125 -1.53125 C 0.78125 -0.484375 1.5625 0.1875 2.78125 0.1875 C 3.703125 0.1875 4.296875 -0.140625 4.890625 -0.96875 L 4.890625 0 Z \"/>\n",
       "</symbol>\n",
       "<symbol overflow=\"visible\" id=\"glyph2-7\">\n",
       "<path style=\"stroke:none;\" d=\"M 6.421875 -0.03125 L 6.421875 -0.78125 C 6.3125 -0.75 6.265625 -0.75 6.203125 -0.75 C 5.859375 -0.75 5.65625 -0.9375 5.65625 -1.25 L 5.65625 -4.75 C 5.65625 -5.875 4.84375 -6.46875 3.296875 -6.46875 C 1.78125 -6.46875 0.84375 -5.875 0.78125 -4.421875 L 1.78125 -4.421875 C 1.875 -5.203125 2.328125 -5.546875 3.265625 -5.546875 C 4.15625 -5.546875 4.671875 -5.203125 4.671875 -4.609375 L 4.671875 -4.34375 C 4.671875 -3.921875 4.421875 -3.75 3.625 -3.640625 C 2.203125 -3.46875 1.984375 -3.421875 1.609375 -3.265625 C 0.875 -2.96875 0.5 -2.40625 0.5 -1.625 C 0.5 -0.484375 1.296875 0.1875 2.5625 0.1875 C 3.375 0.1875 4.15625 -0.15625 4.703125 -0.75 C 4.8125 -0.265625 5.25 0.078125 5.734375 0.078125 C 5.9375 0.078125 6.09375 0.0625 6.421875 -0.03125 Z M 4.671875 -2.171875 C 4.671875 -1.265625 3.75 -0.703125 2.78125 -0.703125 C 2 -0.703125 1.546875 -0.96875 1.546875 -1.65625 C 1.546875 -2.3125 1.984375 -2.609375 3.0625 -2.765625 C 4.109375 -2.90625 4.328125 -2.953125 4.671875 -3.109375 Z \"/>\n",
       "</symbol>\n",
       "<symbol overflow=\"visible\" id=\"glyph2-8\">\n",
       "<path style=\"stroke:none;\" d=\"M 1.8125 0 L 1.8125 -8.75 L 0.8125 -8.75 L 0.8125 0 Z \"/>\n",
       "</symbol>\n",
       "<symbol overflow=\"visible\" id=\"glyph2-9\">\n",
       "<path style=\"stroke:none;\" d=\"\"/>\n",
       "</symbol>\n",
       "<symbol overflow=\"visible\" id=\"glyph2-10\">\n",
       "<path style=\"stroke:none;\" d=\"M 5.828125 -6.28125 L 4.703125 -6.28125 L 2.921875 -1.1875 L 1.25 -6.28125 L 0.125 -6.28125 L 2.328125 0 L 3.421875 0 Z \"/>\n",
       "</symbol>\n",
       "<symbol overflow=\"visible\" id=\"glyph2-11\">\n",
       "<path style=\"stroke:none;\" d=\"M 6.953125 -7.765625 L 6.953125 -8.75 L 1.078125 -8.75 L 1.078125 0 L 2.203125 0 L 2.203125 -3.984375 L 6.375 -3.984375 L 6.375 -4.96875 L 2.203125 -4.96875 L 2.203125 -7.765625 Z \"/>\n",
       "</symbol>\n",
       "<symbol overflow=\"visible\" id=\"glyph2-12\">\n",
       "<path style=\"stroke:none;\" d=\"M 3.046875 0 L 3.046875 -0.84375 C 2.921875 -0.796875 2.765625 -0.796875 2.5625 -0.796875 C 2.140625 -0.796875 2.015625 -0.90625 2.015625 -1.359375 L 2.015625 -5.46875 L 3.046875 -5.46875 L 3.046875 -6.28125 L 2.015625 -6.28125 L 2.015625 -8.015625 L 1.015625 -8.015625 L 1.015625 -6.28125 L 0.171875 -6.28125 L 0.171875 -5.46875 L 1.015625 -5.46875 L 1.015625 -0.90625 C 1.015625 -0.28125 1.453125 0.078125 2.234375 0.078125 C 2.46875 0.078125 2.71875 0.0625 3.046875 0 Z \"/>\n",
       "</symbol>\n",
       "<symbol overflow=\"visible\" id=\"glyph2-13\">\n",
       "<path style=\"stroke:none;\" d=\"M 7.75 0 L 7.75 -8.75 L 6.703125 -8.75 L 6.703125 -1.59375 L 2.125 -8.75 L 0.90625 -8.75 L 0.90625 0 L 1.96875 0 L 1.96875 -7.09375 L 6.484375 0 Z \"/>\n",
       "</symbol>\n",
       "<symbol overflow=\"visible\" id=\"glyph2-14\">\n",
       "<path style=\"stroke:none;\" d=\"M 6.125 -3.09375 C 6.125 -5.265625 5.078125 -6.46875 3.265625 -6.46875 C 1.5 -6.46875 0.4375 -5.25 0.4375 -3.140625 C 0.4375 -1.03125 1.484375 0.1875 3.28125 0.1875 C 5.046875 0.1875 6.125 -1.03125 6.125 -3.09375 Z M 5.078125 -3.109375 C 5.078125 -1.625 4.375 -0.75 3.28125 -0.75 C 2.15625 -0.75 1.46875 -1.625 1.46875 -3.140625 C 1.46875 -4.65625 2.15625 -5.546875 3.28125 -5.546875 C 4.40625 -5.546875 5.078125 -4.671875 5.078125 -3.109375 Z \"/>\n",
       "</symbol>\n",
       "<symbol overflow=\"visible\" id=\"glyph2-15\">\n",
       "<path style=\"stroke:none;\" d=\"M 3.859375 -5.40625 L 3.859375 -6.4375 C 3.6875 -6.453125 3.59375 -6.46875 3.46875 -6.46875 C 2.8125 -6.46875 2.328125 -6.078125 1.75 -5.140625 L 1.75 -6.28125 L 0.84375 -6.28125 L 0.84375 0 L 1.84375 0 L 1.84375 -3.265625 C 1.84375 -4.6875 2.296875 -5.390625 3.859375 -5.40625 Z \"/>\n",
       "</symbol>\n",
       "<symbol overflow=\"visible\" id=\"glyph2-16\">\n",
       "<path style=\"stroke:none;\" d=\"M 9.125 0 L 9.125 -4.71875 C 9.125 -5.84375 8.5 -6.46875 7.3125 -6.46875 C 6.484375 -6.46875 5.96875 -6.21875 5.390625 -5.515625 C 5.015625 -6.1875 4.515625 -6.46875 3.703125 -6.46875 C 2.859375 -6.46875 2.296875 -6.15625 1.765625 -5.40625 L 1.765625 -6.28125 L 0.859375 -6.28125 L 0.859375 0 L 1.84375 0 L 1.84375 -3.953125 C 1.84375 -4.859375 2.515625 -5.59375 3.328125 -5.59375 C 4.0625 -5.59375 4.484375 -5.140625 4.484375 -4.328125 L 4.484375 0 L 5.484375 0 L 5.484375 -3.953125 C 5.484375 -4.859375 6.15625 -5.59375 6.96875 -5.59375 C 7.703125 -5.59375 8.125 -5.125 8.125 -4.328125 L 8.125 0 Z \"/>\n",
       "</symbol>\n",
       "<symbol overflow=\"visible\" id=\"glyph2-17\">\n",
       "<path style=\"stroke:none;\" d=\"M 8.90625 -4.328125 C 8.90625 -7.046875 7.203125 -8.96875 4.6875 -8.96875 C 2.15625 -8.96875 0.453125 -7.046875 0.453125 -4.3125 C 0.453125 -1.578125 2.15625 0.21875 4.6875 0.21875 C 5.546875 0.21875 6.265625 0.03125 6.96875 -0.390625 L 8.234375 0.640625 L 8.796875 -0.046875 L 7.671875 -0.96875 C 8.5 -1.890625 8.90625 -2.953125 8.90625 -4.328125 Z M 7.78125 -4.3125 C 7.78125 -3.1875 7.484375 -2.375 6.84375 -1.640625 L 5.765625 -2.515625 L 5.21875 -1.84375 L 6.109375 -1.109375 C 5.59375 -0.859375 5.203125 -0.765625 4.671875 -0.765625 C 2.8125 -0.765625 1.578125 -2.140625 1.578125 -4.3125 C 1.578125 -6.46875 2.8125 -7.984375 4.6875 -7.984375 C 6.546875 -7.984375 7.78125 -6.46875 7.78125 -4.3125 Z \"/>\n",
       "</symbol>\n",
       "<symbol overflow=\"visible\" id=\"glyph2-18\">\n",
       "<path style=\"stroke:none;\" d=\"M 3.40625 -2.875 L 3.40625 -3.75 L 0.546875 -3.75 L 0.546875 -2.875 Z \"/>\n",
       "</symbol>\n",
       "<symbol overflow=\"visible\" id=\"glyph2-19\">\n",
       "<path style=\"stroke:none;\" d=\"M 7.453125 -2.40625 C 7.453125 -3.484375 6.78125 -4.265625 5.59375 -4.59375 L 3.390625 -5.1875 C 2.34375 -5.453125 1.953125 -5.8125 1.953125 -6.484375 C 1.953125 -7.375 2.734375 -8.03125 3.90625 -8.03125 C 5.296875 -8.03125 6.09375 -7.390625 6.09375 -6.25 L 7.15625 -6.25 C 7.15625 -7.96875 5.96875 -8.96875 3.953125 -8.96875 C 2.03125 -8.96875 0.84375 -7.90625 0.84375 -6.328125 C 0.84375 -5.25 1.40625 -4.578125 2.5625 -4.28125 L 4.734375 -3.703125 C 5.828125 -3.421875 6.34375 -2.96875 6.34375 -2.296875 C 6.34375 -1.328125 5.609375 -0.765625 4.109375 -0.765625 C 2.453125 -0.765625 1.625 -1.59375 1.625 -2.84375 L 0.578125 -2.84375 C 0.578125 -0.78125 1.96875 0.21875 4.03125 0.21875 C 6.25 0.21875 7.453125 -0.84375 7.453125 -2.40625 Z \"/>\n",
       "</symbol>\n",
       "<symbol overflow=\"visible\" id=\"glyph2-20\">\n",
       "<path style=\"stroke:none;\" d=\"M 5.71875 -2.15625 L 4.71875 -2.15625 C 4.546875 -1.15625 4.03125 -0.75 3.1875 -0.75 C 2.078125 -0.75 1.421875 -1.59375 1.421875 -3.078125 C 1.421875 -4.65625 2.0625 -5.546875 3.15625 -5.546875 C 4 -5.546875 4.53125 -5.046875 4.640625 -4.171875 L 5.65625 -4.171875 C 5.53125 -5.71875 4.578125 -6.46875 3.171875 -6.46875 C 1.46875 -6.46875 0.375 -5.171875 0.375 -3.078125 C 0.375 -1.0625 1.453125 0.1875 3.15625 0.1875 C 4.65625 0.1875 5.609375 -0.71875 5.71875 -2.15625 Z \"/>\n",
       "</symbol>\n",
       "<symbol overflow=\"visible\" id=\"glyph2-21\">\n",
       "<path style=\"stroke:none;\" d=\"M 6.390625 0 L 6.390625 -0.984375 L 2.078125 -0.984375 L 2.078125 -8.75 L 0.953125 -8.75 L 0.953125 0 Z \"/>\n",
       "</symbol>\n",
       "<symbol overflow=\"visible\" id=\"glyph2-22\">\n",
       "<path style=\"stroke:none;\" d=\"M 5.84375 0 L 5.84375 -4.75 C 5.84375 -5.796875 5.0625 -6.46875 3.859375 -6.46875 C 2.921875 -6.46875 2.3125 -6.109375 1.765625 -5.234375 L 1.765625 -6.28125 L 0.84375 -6.28125 L 0.84375 0 L 1.84375 0 L 1.84375 -3.46875 C 1.84375 -4.75 2.53125 -5.59375 3.546875 -5.59375 C 4.34375 -5.59375 4.84375 -5.109375 4.84375 -4.359375 L 4.84375 0 Z \"/>\n",
       "</symbol>\n",
       "<symbol overflow=\"visible\" id=\"glyph2-23\">\n",
       "<path style=\"stroke:none;\" d=\"M 5.875 -1.03125 L 5.875 -6.28125 L 4.9375 -6.28125 L 4.9375 -5.375 C 4.4375 -6.125 3.828125 -6.46875 3.03125 -6.46875 C 1.421875 -6.46875 0.34375 -5.125 0.34375 -3.078125 C 0.34375 -1.109375 1.46875 0.1875 2.9375 0.1875 C 3.734375 0.1875 4.28125 -0.15625 4.9375 -0.953125 L 4.9375 -0.53125 C 4.9375 1.140625 4.265625 1.78125 3.09375 1.78125 C 2.296875 1.78125 1.6875 1.484375 1.578125 0.71875 L 0.546875 0.71875 C 0.65625 1.90625 1.578125 2.609375 3.0625 2.609375 C 5.03125 2.609375 5.875 1.734375 5.875 -1.03125 Z M 4.84375 -3.109375 C 4.84375 -1.609375 4.203125 -0.75 3.140625 -0.75 C 2.046875 -0.75 1.390625 -1.625 1.390625 -3.140625 C 1.390625 -4.65625 2.0625 -5.546875 3.125 -5.546875 C 4.21875 -5.546875 4.84375 -4.625 4.84375 -3.109375 Z \"/>\n",
       "</symbol>\n",
       "<symbol overflow=\"visible\" id=\"glyph3-0\">\n",
       "<path style=\"stroke:none;\" d=\"\"/>\n",
       "</symbol>\n",
       "<symbol overflow=\"visible\" id=\"glyph3-1\">\n",
       "<path style=\"stroke:none;\" d=\"M 3.8125 -3.734375 C 3.8125 -4.640625 3.125 -5.296875 2.125 -5.296875 C 1.03125 -5.296875 0.40625 -4.75 0.375 -3.453125 L 1.03125 -3.453125 C 1.078125 -4.34375 1.453125 -4.71875 2.09375 -4.71875 C 2.703125 -4.71875 3.140625 -4.296875 3.140625 -3.734375 C 3.140625 -3.3125 2.890625 -2.953125 2.421875 -2.6875 L 1.734375 -2.296875 C 0.640625 -1.671875 0.3125 -1.171875 0.25 0 L 3.78125 0 L 3.78125 -0.65625 L 1 -0.65625 C 1.0625 -1.078125 1.296875 -1.359375 1.953125 -1.734375 L 2.703125 -2.140625 C 3.4375 -2.546875 3.8125 -3.09375 3.8125 -3.734375 Z \"/>\n",
       "</symbol>\n",
       "<symbol overflow=\"visible\" id=\"glyph3-2\">\n",
       "<path style=\"stroke:none;\" d=\"M 3.890625 -1.265625 L 3.890625 -1.859375 L 3.09375 -1.859375 L 3.09375 -5.296875 L 2.609375 -5.296875 L 0.203125 -1.96875 L 0.203125 -1.265625 L 2.4375 -1.265625 L 2.4375 0 L 3.09375 0 L 3.09375 -1.265625 Z M 2.4375 -1.859375 L 0.78125 -1.859375 L 2.4375 -4.171875 Z \"/>\n",
       "</symbol>\n",
       "<symbol overflow=\"visible\" id=\"glyph3-3\">\n",
       "<path style=\"stroke:none;\" d=\"M 2.59375 0 L 2.59375 -5.296875 L 2.15625 -5.296875 C 1.921875 -4.484375 1.78125 -4.375 0.765625 -4.25 L 0.765625 -3.765625 L 1.9375 -3.765625 L 1.9375 0 Z \"/>\n",
       "</symbol>\n",
       "<symbol overflow=\"visible\" id=\"glyph3-4\">\n",
       "<path style=\"stroke:none;\" d=\"M 3.828125 -1.5 C 3.828125 -2.078125 3.53125 -2.5 2.921875 -2.78125 C 3.46875 -3.109375 3.640625 -3.390625 3.640625 -3.890625 C 3.640625 -4.71875 3 -5.296875 2.046875 -5.296875 C 1.125 -5.296875 0.46875 -4.71875 0.46875 -3.890625 C 0.46875 -3.390625 0.640625 -3.125 1.1875 -2.78125 C 0.578125 -2.5 0.28125 -2.078125 0.28125 -1.5 C 0.28125 -0.53125 1.015625 0.109375 2.046875 0.109375 C 3.09375 0.109375 3.828125 -0.53125 3.828125 -1.5 Z M 2.96875 -3.875 C 2.96875 -3.375 2.609375 -3.046875 2.046875 -3.046875 C 1.5 -3.046875 1.140625 -3.375 1.140625 -3.875 C 1.140625 -4.390625 1.5 -4.71875 2.046875 -4.71875 C 2.609375 -4.71875 2.96875 -4.390625 2.96875 -3.875 Z M 3.15625 -1.484375 C 3.15625 -0.859375 2.71875 -0.46875 2.03125 -0.46875 C 1.390625 -0.46875 0.953125 -0.859375 0.953125 -1.484375 C 0.953125 -2.109375 1.390625 -2.5 2.046875 -2.5 C 2.71875 -2.5 3.15625 -2.109375 3.15625 -1.484375 Z \"/>\n",
       "</symbol>\n",
       "<symbol overflow=\"visible\" id=\"glyph3-5\">\n",
       "<path style=\"stroke:none;\" d=\"M 3.78125 -2.546875 C 3.78125 -4.390625 3.203125 -5.296875 2.046875 -5.296875 C 0.90625 -5.296875 0.328125 -4.375 0.328125 -2.59375 C 0.328125 -0.8125 0.921875 0.109375 2.046875 0.109375 C 3.171875 0.109375 3.78125 -0.8125 3.78125 -2.546875 Z M 3.109375 -2.609375 C 3.109375 -1.109375 2.765625 -0.4375 2.03125 -0.4375 C 1.34375 -0.4375 1 -1.140625 1 -2.578125 C 1 -4.03125 1.34375 -4.71875 2.046875 -4.71875 C 2.765625 -4.71875 3.109375 -4.03125 3.109375 -2.609375 Z \"/>\n",
       "</symbol>\n",
       "</g>\n",
       "<clipPath id=\"clip1\">\n",
       "  <path d=\"M 49.003906 115 L 227.902344 115 L 227.902344 117 L 49.003906 117 Z \"/>\n",
       "</clipPath>\n",
       "<clipPath id=\"clip2\">\n",
       "  <path d=\"M 301.003906 66 L 479.902344 66 L 479.902344 172 L 301.003906 172 Z \"/>\n",
       "</clipPath>\n",
       "<clipPath id=\"clip3\">\n",
       "  <path d=\"M 301.003906 368 L 479.902344 368 L 479.902344 369 L 301.003906 369 Z \"/>\n",
       "</clipPath>\n",
       "<clipPath id=\"clip4\">\n",
       "  <path d=\"M 307 301.003906 L 308 301.003906 L 308 444 L 307 444 Z \"/>\n",
       "</clipPath>\n",
       "</defs>\n",
       "<g id=\"surface1499\">\n",
       "<rect x=\"0\" y=\"0\" width=\"504\" height=\"504\" style=\"fill:rgb(100%,100%,100%);fill-opacity:1;stroke:none;\"/>\n",
       "<path style=\"fill:none;stroke-width:0.75;stroke-linecap:round;stroke-linejoin:round;stroke:rgb(0%,0%,0%);stroke-opacity:1;stroke-miterlimit:10;\" d=\"M 72.800781 191.042969 L 214.660156 191.042969 \"/>\n",
       "<path style=\"fill:none;stroke-width:0.75;stroke-linecap:round;stroke-linejoin:round;stroke:rgb(0%,0%,0%);stroke-opacity:1;stroke-miterlimit:10;\" d=\"M 72.800781 191.042969 L 72.800781 197.019531 \"/>\n",
       "<path style=\"fill:none;stroke-width:0.75;stroke-linecap:round;stroke-linejoin:round;stroke:rgb(0%,0%,0%);stroke-opacity:1;stroke-miterlimit:10;\" d=\"M 120.085938 191.042969 L 120.085938 197.019531 \"/>\n",
       "<path style=\"fill:none;stroke-width:0.75;stroke-linecap:round;stroke-linejoin:round;stroke:rgb(0%,0%,0%);stroke-opacity:1;stroke-miterlimit:10;\" d=\"M 167.375 191.042969 L 167.375 197.019531 \"/>\n",
       "<path style=\"fill:none;stroke-width:0.75;stroke-linecap:round;stroke-linejoin:round;stroke:rgb(0%,0%,0%);stroke-opacity:1;stroke-miterlimit:10;\" d=\"M 214.660156 191.042969 L 214.660156 197.019531 \"/>\n",
       "<g style=\"fill:rgb(0%,0%,0%);fill-opacity:1;\">\n",
       "  <use xlink:href=\"#glyph0-1\" x=\"62.800781\" y=\"211.992188\"/>\n",
       "  <use xlink:href=\"#glyph0-2\" x=\"68.334961\" y=\"211.992188\"/>\n",
       "  <use xlink:href=\"#glyph0-3\" x=\"71.101562\" y=\"211.992188\"/>\n",
       "  <use xlink:href=\"#glyph0-1\" x=\"76.635742\" y=\"211.992188\"/>\n",
       "</g>\n",
       "<g style=\"fill:rgb(0%,0%,0%);fill-opacity:1;\">\n",
       "  <use xlink:href=\"#glyph0-1\" x=\"110.085938\" y=\"211.992188\"/>\n",
       "  <use xlink:href=\"#glyph0-2\" x=\"115.620117\" y=\"211.992188\"/>\n",
       "  <use xlink:href=\"#glyph0-3\" x=\"118.386719\" y=\"211.992188\"/>\n",
       "  <use xlink:href=\"#glyph0-4\" x=\"123.920898\" y=\"211.992188\"/>\n",
       "</g>\n",
       "<g style=\"fill:rgb(0%,0%,0%);fill-opacity:1;\">\n",
       "  <use xlink:href=\"#glyph0-1\" x=\"157.375\" y=\"211.992188\"/>\n",
       "  <use xlink:href=\"#glyph0-2\" x=\"162.90918\" y=\"211.992188\"/>\n",
       "  <use xlink:href=\"#glyph0-5\" x=\"165.675781\" y=\"211.992188\"/>\n",
       "  <use xlink:href=\"#glyph0-1\" x=\"171.209961\" y=\"211.992188\"/>\n",
       "</g>\n",
       "<g style=\"fill:rgb(0%,0%,0%);fill-opacity:1;\">\n",
       "  <use xlink:href=\"#glyph0-1\" x=\"204.660156\" y=\"211.992188\"/>\n",
       "  <use xlink:href=\"#glyph0-2\" x=\"210.194336\" y=\"211.992188\"/>\n",
       "  <use xlink:href=\"#glyph0-5\" x=\"212.960938\" y=\"211.992188\"/>\n",
       "  <use xlink:href=\"#glyph0-4\" x=\"218.495117\" y=\"211.992188\"/>\n",
       "</g>\n",
       "<path style=\"fill:none;stroke-width:0.75;stroke-linecap:round;stroke-linejoin:round;stroke:rgb(0%,0%,0%);stroke-opacity:1;stroke-miterlimit:10;\" d=\"M 49.003906 185.066406 L 49.003906 81.84375 \"/>\n",
       "<path style=\"fill:none;stroke-width:0.75;stroke-linecap:round;stroke-linejoin:round;stroke:rgb(0%,0%,0%);stroke-opacity:1;stroke-miterlimit:10;\" d=\"M 49.003906 185.066406 L 43.027344 185.066406 \"/>\n",
       "<path style=\"fill:none;stroke-width:0.75;stroke-linecap:round;stroke-linejoin:round;stroke:rgb(0%,0%,0%);stroke-opacity:1;stroke-miterlimit:10;\" d=\"M 49.003906 150.660156 L 43.027344 150.660156 \"/>\n",
       "<path style=\"fill:none;stroke-width:0.75;stroke-linecap:round;stroke-linejoin:round;stroke:rgb(0%,0%,0%);stroke-opacity:1;stroke-miterlimit:10;\" d=\"M 49.003906 116.25 L 43.027344 116.25 \"/>\n",
       "<path style=\"fill:none;stroke-width:0.75;stroke-linecap:round;stroke-linejoin:round;stroke:rgb(0%,0%,0%);stroke-opacity:1;stroke-miterlimit:10;\" d=\"M 49.003906 81.84375 L 43.027344 81.84375 \"/>\n",
       "<g style=\"fill:rgb(0%,0%,0%);fill-opacity:1;\">\n",
       "  <use xlink:href=\"#glyph1-1\" x=\"34.09375\" y=\"199.566406\"/>\n",
       "  <use xlink:href=\"#glyph1-2\" x=\"34.09375\" y=\"196.251953\"/>\n",
       "  <use xlink:href=\"#glyph1-3\" x=\"34.09375\" y=\"190.717773\"/>\n",
       "  <use xlink:href=\"#glyph1-2\" x=\"34.09375\" y=\"187.951172\"/>\n",
       "  <use xlink:href=\"#glyph1-4\" x=\"34.09375\" y=\"182.416992\"/>\n",
       "  <use xlink:href=\"#glyph1-2\" x=\"34.09375\" y=\"176.882812\"/>\n",
       "</g>\n",
       "<g style=\"fill:rgb(0%,0%,0%);fill-opacity:1;\">\n",
       "  <use xlink:href=\"#glyph1-2\" x=\"34.09375\" y=\"128.75\"/>\n",
       "  <use xlink:href=\"#glyph1-3\" x=\"34.09375\" y=\"123.21582\"/>\n",
       "  <use xlink:href=\"#glyph1-2\" x=\"34.09375\" y=\"120.449219\"/>\n",
       "  <use xlink:href=\"#glyph1-2\" x=\"34.09375\" y=\"114.915039\"/>\n",
       "  <use xlink:href=\"#glyph1-2\" x=\"34.09375\" y=\"109.380859\"/>\n",
       "</g>\n",
       "<g style=\"fill:rgb(0%,0%,0%);fill-opacity:1;\">\n",
       "  <use xlink:href=\"#glyph1-2\" x=\"34.09375\" y=\"94.34375\"/>\n",
       "  <use xlink:href=\"#glyph1-3\" x=\"34.09375\" y=\"88.80957\"/>\n",
       "  <use xlink:href=\"#glyph1-2\" x=\"34.09375\" y=\"86.042969\"/>\n",
       "  <use xlink:href=\"#glyph1-2\" x=\"34.09375\" y=\"80.508789\"/>\n",
       "  <use xlink:href=\"#glyph1-5\" x=\"34.09375\" y=\"74.974609\"/>\n",
       "</g>\n",
       "<path style=\"fill:none;stroke-width:0.75;stroke-linecap:round;stroke-linejoin:round;stroke:rgb(0%,0%,0%);stroke-opacity:1;stroke-miterlimit:10;\" d=\"M 49.003906 191.042969 L 226.902344 191.042969 L 226.902344 49.003906 L 49.003906 49.003906 L 49.003906 191.042969 \"/>\n",
       "<g style=\"fill:rgb(0%,0%,0%);fill-opacity:1;\">\n",
       "  <use xlink:href=\"#glyph0-6\" x=\"109.453125\" y=\"235.894531\"/>\n",
       "  <use xlink:href=\"#glyph0-7\" x=\"115.53418\" y=\"235.894531\"/>\n",
       "  <use xlink:href=\"#glyph0-8\" x=\"117.744141\" y=\"235.894531\"/>\n",
       "  <use xlink:href=\"#glyph0-8\" x=\"120.510742\" y=\"235.894531\"/>\n",
       "  <use xlink:href=\"#glyph0-9\" x=\"123.277344\" y=\"235.894531\"/>\n",
       "  <use xlink:href=\"#glyph0-10\" x=\"128.811523\" y=\"235.894531\"/>\n",
       "  <use xlink:href=\"#glyph0-11\" x=\"134.345703\" y=\"235.894531\"/>\n",
       "  <use xlink:href=\"#glyph0-12\" x=\"137.112305\" y=\"235.894531\"/>\n",
       "  <use xlink:href=\"#glyph0-13\" x=\"142.088867\" y=\"235.894531\"/>\n",
       "  <use xlink:href=\"#glyph0-14\" x=\"147.623047\" y=\"235.894531\"/>\n",
       "  <use xlink:href=\"#glyph0-15\" x=\"149.833008\" y=\"235.894531\"/>\n",
       "  <use xlink:href=\"#glyph0-9\" x=\"155.367188\" y=\"235.894531\"/>\n",
       "  <use xlink:href=\"#glyph0-16\" x=\"160.901367\" y=\"235.894531\"/>\n",
       "</g>\n",
       "<g style=\"fill:rgb(0%,0%,0%);fill-opacity:1;\">\n",
       "  <use xlink:href=\"#glyph1-6\" x=\"10.191406\" y=\"142.023438\"/>\n",
       "  <use xlink:href=\"#glyph1-7\" x=\"10.191406\" y=\"134.836914\"/>\n",
       "  <use xlink:href=\"#glyph1-8\" x=\"10.191406\" y=\"129.302734\"/>\n",
       "  <use xlink:href=\"#glyph1-9\" x=\"10.191406\" y=\"124.326172\"/>\n",
       "  <use xlink:href=\"#glyph1-10\" x=\"10.191406\" y=\"122.116211\"/>\n",
       "  <use xlink:href=\"#glyph1-11\" x=\"10.191406\" y=\"116.582031\"/>\n",
       "  <use xlink:href=\"#glyph1-12\" x=\"10.191406\" y=\"111.047852\"/>\n",
       "  <use xlink:href=\"#glyph1-13\" x=\"10.191406\" y=\"105.513672\"/>\n",
       "  <use xlink:href=\"#glyph1-8\" x=\"10.191406\" y=\"103.303711\"/>\n",
       "</g>\n",
       "<path style=\"fill:none;stroke-width:0.75;stroke-linecap:round;stroke-linejoin:round;stroke:rgb(0%,0%,0%);stroke-opacity:1;stroke-miterlimit:10;\" d=\"M 57.832031 120.148438 C 57.832031 123.136719 53.351562 123.136719 53.351562 120.148438 C 53.351562 117.160156 57.832031 117.160156 57.832031 120.148438 \"/>\n",
       "<path style=\"fill:none;stroke-width:0.75;stroke-linecap:round;stroke-linejoin:round;stroke:rgb(0%,0%,0%);stroke-opacity:1;stroke-miterlimit:10;\" d=\"M 57.832031 125.683594 C 57.832031 128.671875 53.351562 128.671875 53.351562 125.683594 C 53.351562 122.695312 57.832031 122.695312 57.832031 125.683594 \"/>\n",
       "<path style=\"fill:none;stroke-width:0.75;stroke-linecap:round;stroke-linejoin:round;stroke:rgb(0%,0%,0%);stroke-opacity:1;stroke-miterlimit:10;\" d=\"M 57.832031 129.515625 C 57.832031 132.503906 53.351562 132.503906 53.351562 129.515625 C 53.351562 126.53125 57.832031 126.53125 57.832031 129.515625 \"/>\n",
       "<path style=\"fill:none;stroke-width:0.75;stroke-linecap:round;stroke-linejoin:round;stroke:rgb(0%,0%,0%);stroke-opacity:1;stroke-miterlimit:10;\" d=\"M 57.832031 117.96875 C 57.832031 120.957031 53.351562 120.957031 53.351562 117.96875 C 53.351562 114.980469 57.832031 114.980469 57.832031 117.96875 \"/>\n",
       "<path style=\"fill:none;stroke-width:0.75;stroke-linecap:round;stroke-linejoin:round;stroke:rgb(0%,0%,0%);stroke-opacity:1;stroke-miterlimit:10;\" d=\"M 72.808594 103.378906 C 72.808594 106.367188 68.324219 106.367188 68.324219 103.378906 C 68.324219 100.390625 72.808594 100.390625 72.808594 103.378906 \"/>\n",
       "<path style=\"fill:none;stroke-width:0.75;stroke-linecap:round;stroke-linejoin:round;stroke:rgb(0%,0%,0%);stroke-opacity:1;stroke-miterlimit:10;\" d=\"M 72.808594 109.167969 C 72.808594 112.15625 68.324219 112.15625 68.324219 109.167969 C 68.324219 106.179688 72.808594 106.179688 72.808594 109.167969 \"/>\n",
       "<path style=\"fill:none;stroke-width:0.75;stroke-linecap:round;stroke-linejoin:round;stroke:rgb(0%,0%,0%);stroke-opacity:1;stroke-miterlimit:10;\" d=\"M 72.808594 95.386719 C 72.808594 98.375 68.324219 98.375 68.324219 95.386719 C 68.324219 92.398438 72.808594 92.398438 72.808594 95.386719 \"/>\n",
       "<path style=\"fill:none;stroke-width:0.75;stroke-linecap:round;stroke-linejoin:round;stroke:rgb(0%,0%,0%);stroke-opacity:1;stroke-miterlimit:10;\" d=\"M 72.808594 110.636719 C 72.808594 113.625 68.324219 113.625 68.324219 110.636719 C 68.324219 107.648438 72.808594 107.648438 72.808594 110.636719 \"/>\n",
       "<path style=\"fill:none;stroke-width:0.75;stroke-linecap:round;stroke-linejoin:round;stroke:rgb(0%,0%,0%);stroke-opacity:1;stroke-miterlimit:10;\" d=\"M 87.78125 127.164062 C 87.78125 130.152344 83.300781 130.152344 83.300781 127.164062 C 83.300781 124.179688 87.78125 124.179688 87.78125 127.164062 \"/>\n",
       "<path style=\"fill:none;stroke-width:0.75;stroke-linecap:round;stroke-linejoin:round;stroke:rgb(0%,0%,0%);stroke-opacity:1;stroke-miterlimit:10;\" d=\"M 87.78125 71.75 C 87.78125 74.738281 83.300781 74.738281 83.300781 71.75 C 83.300781 68.761719 87.78125 68.761719 87.78125 71.75 \"/>\n",
       "<path style=\"fill:none;stroke-width:0.75;stroke-linecap:round;stroke-linejoin:round;stroke:rgb(0%,0%,0%);stroke-opacity:1;stroke-miterlimit:10;\" d=\"M 87.78125 96.40625 C 87.78125 99.394531 83.300781 99.394531 83.300781 96.40625 C 83.300781 93.417969 87.78125 93.417969 87.78125 96.40625 \"/>\n",
       "<path style=\"fill:none;stroke-width:0.75;stroke-linecap:round;stroke-linejoin:round;stroke:rgb(0%,0%,0%);stroke-opacity:1;stroke-miterlimit:10;\" d=\"M 87.78125 80.660156 C 87.78125 83.648438 83.300781 83.648438 83.300781 80.660156 C 83.300781 77.671875 87.78125 77.671875 87.78125 80.660156 \"/>\n",
       "<path style=\"fill:none;stroke-width:0.75;stroke-linecap:round;stroke-linejoin:round;stroke:rgb(0%,0%,0%);stroke-opacity:1;stroke-miterlimit:10;\" d=\"M 102.757812 88.535156 C 102.757812 91.523438 98.273438 91.523438 98.273438 88.535156 C 98.273438 85.546875 102.757812 85.546875 102.757812 88.535156 \"/>\n",
       "<path style=\"fill:none;stroke-width:0.75;stroke-linecap:round;stroke-linejoin:round;stroke:rgb(0%,0%,0%);stroke-opacity:1;stroke-miterlimit:10;\" d=\"M 102.757812 63.335938 C 102.757812 66.324219 98.273438 66.324219 98.273438 63.335938 C 98.273438 60.347656 102.757812 60.347656 102.757812 63.335938 \"/>\n",
       "<path style=\"fill:none;stroke-width:0.75;stroke-linecap:round;stroke-linejoin:round;stroke:rgb(0%,0%,0%);stroke-opacity:1;stroke-miterlimit:10;\" d=\"M 102.757812 83.785156 C 102.757812 86.773438 98.273438 86.773438 98.273438 83.785156 C 98.273438 80.796875 102.757812 80.796875 102.757812 83.785156 \"/>\n",
       "<path style=\"fill:none;stroke-width:0.75;stroke-linecap:round;stroke-linejoin:round;stroke:rgb(0%,0%,0%);stroke-opacity:1;stroke-miterlimit:10;\" d=\"M 102.757812 103.726562 C 102.757812 106.714844 98.273438 106.714844 98.273438 103.726562 C 98.273438 100.738281 102.757812 100.738281 102.757812 103.726562 \"/>\n",
       "<path style=\"fill:none;stroke-width:0.75;stroke-linecap:round;stroke-linejoin:round;stroke:rgb(0%,0%,0%);stroke-opacity:1;stroke-miterlimit:10;\" d=\"M 117.730469 142.695312 C 117.730469 145.683594 113.25 145.683594 113.25 142.695312 C 113.25 139.707031 117.730469 139.707031 117.730469 142.695312 \"/>\n",
       "<path style=\"fill:none;stroke-width:0.75;stroke-linecap:round;stroke-linejoin:round;stroke:rgb(0%,0%,0%);stroke-opacity:1;stroke-miterlimit:10;\" d=\"M 117.730469 169.558594 C 117.730469 172.546875 113.25 172.546875 113.25 169.558594 C 113.25 166.570312 117.730469 166.570312 117.730469 169.558594 \"/>\n",
       "<path style=\"fill:none;stroke-width:0.75;stroke-linecap:round;stroke-linejoin:round;stroke:rgb(0%,0%,0%);stroke-opacity:1;stroke-miterlimit:10;\" d=\"M 117.730469 144.695312 C 117.730469 147.683594 113.25 147.683594 113.25 144.695312 C 113.25 141.707031 117.730469 141.707031 117.730469 144.695312 \"/>\n",
       "<path style=\"fill:none;stroke-width:0.75;stroke-linecap:round;stroke-linejoin:round;stroke:rgb(0%,0%,0%);stroke-opacity:1;stroke-miterlimit:10;\" d=\"M 117.730469 143.734375 C 117.730469 146.722656 113.25 146.722656 113.25 143.734375 C 113.25 140.746094 117.730469 140.746094 117.730469 143.734375 \"/>\n",
       "<path style=\"fill:none;stroke-width:0.75;stroke-linecap:round;stroke-linejoin:round;stroke:rgb(0%,0%,0%);stroke-opacity:1;stroke-miterlimit:10;\" d=\"M 132.707031 170.296875 C 132.707031 173.28125 128.222656 173.28125 128.222656 170.296875 C 128.222656 167.308594 132.707031 167.308594 132.707031 170.296875 \"/>\n",
       "<path style=\"fill:none;stroke-width:0.75;stroke-linecap:round;stroke-linejoin:round;stroke:rgb(0%,0%,0%);stroke-opacity:1;stroke-miterlimit:10;\" d=\"M 132.707031 148.214844 C 132.707031 151.203125 128.222656 151.203125 128.222656 148.214844 C 128.222656 145.226562 132.707031 145.226562 132.707031 148.214844 \"/>\n",
       "<path style=\"fill:none;stroke-width:0.75;stroke-linecap:round;stroke-linejoin:round;stroke:rgb(0%,0%,0%);stroke-opacity:1;stroke-miterlimit:10;\" d=\"M 132.707031 137.597656 C 132.707031 140.585938 128.222656 140.585938 128.222656 137.597656 C 128.222656 134.609375 132.707031 134.609375 132.707031 137.597656 \"/>\n",
       "<path style=\"fill:none;stroke-width:0.75;stroke-linecap:round;stroke-linejoin:round;stroke:rgb(0%,0%,0%);stroke-opacity:1;stroke-miterlimit:10;\" d=\"M 132.707031 176.714844 C 132.707031 179.703125 128.222656 179.703125 128.222656 176.714844 C 128.222656 173.726562 132.707031 173.726562 132.707031 176.714844 \"/>\n",
       "<path style=\"fill:none;stroke-width:0.75;stroke-linecap:round;stroke-linejoin:round;stroke:rgb(0%,0%,0%);stroke-opacity:1;stroke-miterlimit:10;\" d=\"M 147.679688 140.277344 C 147.679688 143.265625 143.199219 143.265625 143.199219 140.277344 C 143.199219 137.289062 147.679688 137.289062 147.679688 140.277344 \"/>\n",
       "<path style=\"fill:none;stroke-width:0.75;stroke-linecap:round;stroke-linejoin:round;stroke:rgb(0%,0%,0%);stroke-opacity:1;stroke-miterlimit:10;\" d=\"M 147.679688 126.78125 C 147.679688 129.769531 143.199219 129.769531 143.199219 126.78125 C 143.199219 123.792969 147.679688 123.792969 147.679688 126.78125 \"/>\n",
       "<path style=\"fill:none;stroke-width:0.75;stroke-linecap:round;stroke-linejoin:round;stroke:rgb(0%,0%,0%);stroke-opacity:1;stroke-miterlimit:10;\" d=\"M 147.679688 120.5625 C 147.679688 123.550781 143.199219 123.550781 143.199219 120.5625 C 143.199219 117.574219 147.679688 117.574219 147.679688 120.5625 \"/>\n",
       "<path style=\"fill:none;stroke-width:0.75;stroke-linecap:round;stroke-linejoin:round;stroke:rgb(0%,0%,0%);stroke-opacity:1;stroke-miterlimit:10;\" d=\"M 147.679688 107.742188 C 147.679688 110.730469 143.199219 110.730469 143.199219 107.742188 C 143.199219 104.753906 147.679688 104.753906 147.679688 107.742188 \"/>\n",
       "<path style=\"fill:none;stroke-width:0.75;stroke-linecap:round;stroke-linejoin:round;stroke:rgb(0%,0%,0%);stroke-opacity:1;stroke-miterlimit:10;\" d=\"M 162.65625 94.585938 C 162.65625 97.574219 158.171875 97.574219 158.171875 94.585938 C 158.171875 91.597656 162.65625 91.597656 162.65625 94.585938 \"/>\n",
       "<path style=\"fill:none;stroke-width:0.75;stroke-linecap:round;stroke-linejoin:round;stroke:rgb(0%,0%,0%);stroke-opacity:1;stroke-miterlimit:10;\" d=\"M 162.65625 124.332031 C 162.65625 127.320312 158.171875 127.320312 158.171875 124.332031 C 158.171875 121.347656 162.65625 121.347656 162.65625 124.332031 \"/>\n",
       "<path style=\"fill:none;stroke-width:0.75;stroke-linecap:round;stroke-linejoin:round;stroke:rgb(0%,0%,0%);stroke-opacity:1;stroke-miterlimit:10;\" d=\"M 162.65625 114.703125 C 162.65625 117.691406 158.171875 117.691406 158.171875 114.703125 C 158.171875 111.714844 162.65625 111.714844 162.65625 114.703125 \"/>\n",
       "<path style=\"fill:none;stroke-width:0.75;stroke-linecap:round;stroke-linejoin:round;stroke:rgb(0%,0%,0%);stroke-opacity:1;stroke-miterlimit:10;\" d=\"M 162.65625 91.996094 C 162.65625 94.984375 158.171875 94.984375 158.171875 91.996094 C 158.171875 89.007812 162.65625 89.007812 162.65625 91.996094 \"/>\n",
       "<path style=\"fill:none;stroke-width:0.75;stroke-linecap:round;stroke-linejoin:round;stroke:rgb(0%,0%,0%);stroke-opacity:1;stroke-miterlimit:10;\" d=\"M 177.628906 94.105469 C 177.628906 97.09375 173.148438 97.09375 173.148438 94.105469 C 173.148438 91.117188 177.628906 91.117188 177.628906 94.105469 \"/>\n",
       "<path style=\"fill:none;stroke-width:0.75;stroke-linecap:round;stroke-linejoin:round;stroke:rgb(0%,0%,0%);stroke-opacity:1;stroke-miterlimit:10;\" d=\"M 177.628906 113.796875 C 177.628906 116.785156 173.148438 116.785156 173.148438 113.796875 C 173.148438 110.808594 177.628906 110.808594 177.628906 113.796875 \"/>\n",
       "<path style=\"fill:none;stroke-width:0.75;stroke-linecap:round;stroke-linejoin:round;stroke:rgb(0%,0%,0%);stroke-opacity:1;stroke-miterlimit:10;\" d=\"M 177.628906 116.785156 C 177.628906 119.773438 173.148438 119.773438 173.148438 116.785156 C 173.148438 113.796875 177.628906 113.796875 177.628906 116.785156 \"/>\n",
       "<path style=\"fill:none;stroke-width:0.75;stroke-linecap:round;stroke-linejoin:round;stroke:rgb(0%,0%,0%);stroke-opacity:1;stroke-miterlimit:10;\" d=\"M 177.628906 147.773438 C 177.628906 150.761719 173.148438 150.761719 173.148438 147.773438 C 173.148438 144.785156 177.628906 144.785156 177.628906 147.773438 \"/>\n",
       "<path style=\"fill:none;stroke-width:0.75;stroke-linecap:round;stroke-linejoin:round;stroke:rgb(0%,0%,0%);stroke-opacity:1;stroke-miterlimit:10;\" d=\"M 192.605469 138.53125 C 192.605469 141.519531 188.121094 141.519531 188.121094 138.53125 C 188.121094 135.542969 192.605469 135.542969 192.605469 138.53125 \"/>\n",
       "<path style=\"fill:none;stroke-width:0.75;stroke-linecap:round;stroke-linejoin:round;stroke:rgb(0%,0%,0%);stroke-opacity:1;stroke-miterlimit:10;\" d=\"M 192.605469 110.566406 C 192.605469 113.554688 188.121094 113.554688 188.121094 110.566406 C 188.121094 107.578125 192.605469 107.578125 192.605469 110.566406 \"/>\n",
       "<path style=\"fill:none;stroke-width:0.75;stroke-linecap:round;stroke-linejoin:round;stroke:rgb(0%,0%,0%);stroke-opacity:1;stroke-miterlimit:10;\" d=\"M 192.605469 104.960938 C 192.605469 107.945312 188.121094 107.945312 188.121094 104.960938 C 188.121094 101.972656 192.605469 101.972656 192.605469 104.960938 \"/>\n",
       "<path style=\"fill:none;stroke-width:0.75;stroke-linecap:round;stroke-linejoin:round;stroke:rgb(0%,0%,0%);stroke-opacity:1;stroke-miterlimit:10;\" d=\"M 192.605469 109.945312 C 192.605469 112.933594 188.121094 112.933594 188.121094 109.945312 C 188.121094 106.957031 192.605469 106.957031 192.605469 109.945312 \"/>\n",
       "<path style=\"fill:none;stroke-width:0.75;stroke-linecap:round;stroke-linejoin:round;stroke:rgb(0%,0%,0%);stroke-opacity:1;stroke-miterlimit:10;\" d=\"M 207.578125 97.476562 C 207.578125 100.464844 203.097656 100.464844 203.097656 97.476562 C 203.097656 94.488281 207.578125 94.488281 207.578125 97.476562 \"/>\n",
       "<path style=\"fill:none;stroke-width:0.75;stroke-linecap:round;stroke-linejoin:round;stroke:rgb(0%,0%,0%);stroke-opacity:1;stroke-miterlimit:10;\" d=\"M 207.578125 113.1875 C 207.578125 116.175781 203.097656 116.175781 203.097656 113.1875 C 203.097656 110.199219 207.578125 110.199219 207.578125 113.1875 \"/>\n",
       "<path style=\"fill:none;stroke-width:0.75;stroke-linecap:round;stroke-linejoin:round;stroke:rgb(0%,0%,0%);stroke-opacity:1;stroke-miterlimit:10;\" d=\"M 207.578125 126.75 C 207.578125 129.738281 203.097656 129.738281 203.097656 126.75 C 203.097656 123.765625 207.578125 123.765625 207.578125 126.75 \"/>\n",
       "<path style=\"fill:none;stroke-width:0.75;stroke-linecap:round;stroke-linejoin:round;stroke:rgb(0%,0%,0%);stroke-opacity:1;stroke-miterlimit:10;\" d=\"M 207.578125 115.1875 C 207.578125 118.175781 203.097656 118.175781 203.097656 115.1875 C 203.097656 112.203125 207.578125 112.203125 207.578125 115.1875 \"/>\n",
       "<path style=\"fill:none;stroke-width:0.75;stroke-linecap:round;stroke-linejoin:round;stroke:rgb(0%,0%,0%);stroke-opacity:1;stroke-miterlimit:10;\" d=\"M 222.554688 104.183594 C 222.554688 107.171875 218.070312 107.171875 218.070312 104.183594 C 218.070312 101.195312 222.554688 101.195312 222.554688 104.183594 \"/>\n",
       "<path style=\"fill:none;stroke-width:0.75;stroke-linecap:round;stroke-linejoin:round;stroke:rgb(0%,0%,0%);stroke-opacity:1;stroke-miterlimit:10;\" d=\"M 222.554688 115.246094 C 222.554688 118.234375 218.070312 118.234375 218.070312 115.246094 C 218.070312 112.257812 222.554688 112.257812 222.554688 115.246094 \"/>\n",
       "<path style=\"fill:none;stroke-width:0.75;stroke-linecap:round;stroke-linejoin:round;stroke:rgb(0%,0%,0%);stroke-opacity:1;stroke-miterlimit:10;\" d=\"M 222.554688 106.488281 C 222.554688 109.476562 218.070312 109.476562 218.070312 106.488281 C 218.070312 103.5 222.554688 103.5 222.554688 106.488281 \"/>\n",
       "<path style=\"fill:none;stroke-width:0.75;stroke-linecap:round;stroke-linejoin:round;stroke:rgb(0%,0%,0%);stroke-opacity:1;stroke-miterlimit:10;\" d=\"M 222.554688 83.285156 C 222.554688 86.273438 218.070312 86.273438 218.070312 83.285156 C 218.070312 80.296875 222.554688 80.296875 222.554688 83.285156 \"/>\n",
       "<path style=\"fill:none;stroke-width:0.75;stroke-linecap:round;stroke-linejoin:round;stroke:rgb(100%,0%,0%);stroke-opacity:1;stroke-miterlimit:10;\" d=\"M 55.59375 107.074219 L 70.566406 109.753906 L 85.542969 113.726562 L 100.515625 117.9375 L 115.488281 122.019531 L 130.464844 125.730469 L 145.4375 126.710938 L 160.414062 121.921875 L 175.386719 115.875 L 190.363281 112.441406 L 205.335938 109.351562 L 220.3125 106.386719 \"/>\n",
       "<g style=\"fill:rgb(0%,0%,0%);fill-opacity:1;\">\n",
       "  <use xlink:href=\"#glyph2-1\" x=\"86.953125\" y=\"43.401367\"/>\n",
       "  <use xlink:href=\"#glyph2-2\" x=\"95.617188\" y=\"43.401367\"/>\n",
       "  <use xlink:href=\"#glyph2-3\" x=\"102.289062\" y=\"43.401367\"/>\n",
       "  <use xlink:href=\"#glyph2-4\" x=\"108.289062\" y=\"43.401367\"/>\n",
       "  <use xlink:href=\"#glyph2-5\" x=\"110.953125\" y=\"43.401367\"/>\n",
       "  <use xlink:href=\"#glyph2-6\" x=\"117.625\" y=\"43.401367\"/>\n",
       "  <use xlink:href=\"#glyph2-7\" x=\"124.296875\" y=\"43.401367\"/>\n",
       "  <use xlink:href=\"#glyph2-8\" x=\"130.96875\" y=\"43.401367\"/>\n",
       "  <use xlink:href=\"#glyph2-3\" x=\"133.632812\" y=\"43.401367\"/>\n",
       "  <use xlink:href=\"#glyph2-9\" x=\"139.632812\" y=\"43.401367\"/>\n",
       "  <use xlink:href=\"#glyph2-10\" x=\"142.96875\" y=\"43.401367\"/>\n",
       "  <use xlink:href=\"#glyph2-3\" x=\"148.96875\" y=\"43.401367\"/>\n",
       "  <use xlink:href=\"#glyph2-9\" x=\"154.96875\" y=\"43.401367\"/>\n",
       "  <use xlink:href=\"#glyph2-11\" x=\"158.304688\" y=\"43.401367\"/>\n",
       "  <use xlink:href=\"#glyph2-4\" x=\"165.636719\" y=\"43.401367\"/>\n",
       "  <use xlink:href=\"#glyph2-12\" x=\"168.300781\" y=\"43.401367\"/>\n",
       "  <use xlink:href=\"#glyph2-12\" x=\"171.636719\" y=\"43.401367\"/>\n",
       "  <use xlink:href=\"#glyph2-2\" x=\"174.972656\" y=\"43.401367\"/>\n",
       "  <use xlink:href=\"#glyph2-5\" x=\"181.644531\" y=\"43.401367\"/>\n",
       "</g>\n",
       "<g style=\"fill:rgb(0%,0%,0%);fill-opacity:1;\">\n",
       "  <use xlink:href=\"#glyph3-1\" x=\"118.476562\" y=\"180.679688\"/>\n",
       "  <use xlink:href=\"#glyph3-2\" x=\"122.628906\" y=\"180.679688\"/>\n",
       "</g>\n",
       "<g style=\"fill:rgb(0%,0%,0%);fill-opacity:1;\">\n",
       "  <use xlink:href=\"#glyph3-1\" x=\"118.476562\" y=\"174.261719\"/>\n",
       "  <use xlink:href=\"#glyph3-3\" x=\"122.628906\" y=\"174.261719\"/>\n",
       "</g>\n",
       "<g style=\"fill:rgb(0%,0%,0%);fill-opacity:1;\">\n",
       "  <use xlink:href=\"#glyph3-3\" x=\"118.476562\" y=\"173.523438\"/>\n",
       "  <use xlink:href=\"#glyph3-4\" x=\"122.628906\" y=\"173.523438\"/>\n",
       "</g>\n",
       "<g clip-path=\"url(#clip1)\" clip-rule=\"nonzero\">\n",
       "<path style=\"fill:none;stroke-width:0.75;stroke-linecap:round;stroke-linejoin:round;stroke:rgb(74.509804%,74.509804%,74.509804%);stroke-opacity:1;stroke-dasharray:0.75,2.25;stroke-miterlimit:10;\" d=\"M 49.003906 116.25 L 226.902344 116.25 \"/>\n",
       "</g>\n",
       "<path style=\"fill:none;stroke-width:0.75;stroke-linecap:round;stroke-linejoin:round;stroke:rgb(0%,0%,0%);stroke-opacity:1;stroke-miterlimit:10;\" d=\"M 381.8125 125.015625 C 381.8125 128.003906 377.328125 128.003906 377.328125 125.015625 C 377.328125 122.027344 381.8125 122.027344 381.8125 125.015625 \"/>\n",
       "<path style=\"fill:none;stroke-width:0.75;stroke-linecap:round;stroke-linejoin:round;stroke:rgb(0%,0%,0%);stroke-opacity:1;stroke-miterlimit:10;\" d=\"M 375.816406 131.140625 C 375.816406 134.128906 371.332031 134.128906 371.332031 131.140625 C 371.332031 128.152344 375.816406 128.152344 375.816406 131.140625 \"/>\n",
       "<path style=\"fill:none;stroke-width:0.75;stroke-linecap:round;stroke-linejoin:round;stroke:rgb(0%,0%,0%);stroke-opacity:1;stroke-miterlimit:10;\" d=\"M 366.972656 135.382812 C 366.972656 138.371094 362.492188 138.371094 362.492188 135.382812 C 362.492188 132.394531 366.972656 132.394531 366.972656 135.382812 \"/>\n",
       "<path style=\"fill:none;stroke-width:0.75;stroke-linecap:round;stroke-linejoin:round;stroke:rgb(0%,0%,0%);stroke-opacity:1;stroke-miterlimit:10;\" d=\"M 383.738281 122.605469 C 383.738281 125.589844 379.257812 125.589844 379.257812 122.605469 C 379.257812 119.617188 383.738281 119.617188 383.738281 122.605469 \"/>\n",
       "<path style=\"fill:none;stroke-width:0.75;stroke-linecap:round;stroke-linejoin:round;stroke:rgb(0%,0%,0%);stroke-opacity:1;stroke-miterlimit:10;\" d=\"M 415.074219 106.597656 C 415.074219 109.585938 410.59375 109.585938 410.59375 106.597656 C 410.59375 103.609375 415.074219 103.609375 415.074219 106.597656 \"/>\n",
       "<path style=\"fill:none;stroke-width:0.75;stroke-linecap:round;stroke-linejoin:round;stroke:rgb(0%,0%,0%);stroke-opacity:1;stroke-miterlimit:10;\" d=\"M 402.574219 112.9375 C 402.574219 115.925781 398.09375 115.925781 398.09375 112.9375 C 398.09375 109.949219 402.574219 109.949219 402.574219 112.9375 \"/>\n",
       "<path style=\"fill:none;stroke-width:0.75;stroke-linecap:round;stroke-linejoin:round;stroke:rgb(0%,0%,0%);stroke-opacity:1;stroke-miterlimit:10;\" d=\"M 422.453125 97.832031 C 422.453125 100.820312 417.972656 100.820312 417.972656 97.832031 C 417.972656 94.84375 422.453125 94.84375 422.453125 97.832031 \"/>\n",
       "<path style=\"fill:none;stroke-width:0.75;stroke-linecap:round;stroke-linejoin:round;stroke:rgb(0%,0%,0%);stroke-opacity:1;stroke-miterlimit:10;\" d=\"M 396.859375 114.550781 C 396.859375 117.539062 392.378906 117.539062 392.378906 114.550781 C 392.378906 111.566406 396.859375 111.566406 396.859375 114.550781 \"/>\n",
       "<path style=\"fill:none;stroke-width:0.75;stroke-linecap:round;stroke-linejoin:round;stroke:rgb(0%,0%,0%);stroke-opacity:1;stroke-miterlimit:10;\" d=\"M 369.3125 132.582031 C 369.3125 135.570312 364.828125 135.570312 364.828125 132.582031 C 364.828125 129.59375 369.3125 129.59375 369.3125 132.582031 \"/>\n",
       "<path style=\"fill:none;stroke-width:0.75;stroke-linecap:round;stroke-linejoin:round;stroke:rgb(0%,0%,0%);stroke-opacity:1;stroke-miterlimit:10;\" d=\"M 458.578125 72.285156 C 458.578125 75.273438 454.097656 75.273438 454.097656 72.285156 C 454.097656 69.296875 458.578125 69.296875 458.578125 72.285156 \"/>\n",
       "<path style=\"fill:none;stroke-width:0.75;stroke-linecap:round;stroke-linejoin:round;stroke:rgb(0%,0%,0%);stroke-opacity:1;stroke-miterlimit:10;\" d=\"M 419.863281 99.113281 C 419.863281 102.101562 415.382812 102.101562 415.382812 99.113281 C 415.382812 96.125 419.863281 96.125 419.863281 99.113281 \"/>\n",
       "<path style=\"fill:none;stroke-width:0.75;stroke-linecap:round;stroke-linejoin:round;stroke:rgb(0%,0%,0%);stroke-opacity:1;stroke-miterlimit:10;\" d=\"M 450.105469 81.980469 C 450.105469 84.96875 445.621094 84.96875 445.621094 81.980469 C 445.621094 78.992188 450.105469 78.992188 450.105469 81.980469 \"/>\n",
       "<path style=\"fill:none;stroke-width:0.75;stroke-linecap:round;stroke-linejoin:round;stroke:rgb(0%,0%,0%);stroke-opacity:1;stroke-miterlimit:10;\" d=\"M 435.046875 90.710938 C 435.046875 93.699219 430.566406 93.699219 430.566406 90.710938 C 430.566406 87.722656 435.046875 87.722656 435.046875 90.710938 \"/>\n",
       "<path style=\"fill:none;stroke-width:0.75;stroke-linecap:round;stroke-linejoin:round;stroke:rgb(0%,0%,0%);stroke-opacity:1;stroke-miterlimit:10;\" d=\"M 474.554688 63.441406 C 474.554688 66.429688 470.070312 66.429688 470.070312 63.441406 C 470.070312 60.453125 474.554688 60.453125 474.554688 63.441406 \"/>\n",
       "<path style=\"fill:none;stroke-width:0.75;stroke-linecap:round;stroke-linejoin:round;stroke:rgb(0%,0%,0%);stroke-opacity:1;stroke-miterlimit:10;\" d=\"M 439.164062 85.570312 C 439.164062 88.558594 434.683594 88.558594 434.683594 85.570312 C 434.683594 82.582031 439.164062 82.582031 439.164062 85.570312 \"/>\n",
       "<path style=\"fill:none;stroke-width:0.75;stroke-linecap:round;stroke-linejoin:round;stroke:rgb(0%,0%,0%);stroke-opacity:1;stroke-miterlimit:10;\" d=\"M 412.832031 107.152344 C 412.832031 110.140625 408.351562 110.140625 408.351562 107.152344 C 408.351562 104.164062 412.832031 104.164062 412.832031 107.152344 \"/>\n",
       "<path style=\"fill:none;stroke-width:0.75;stroke-linecap:round;stroke-linejoin:round;stroke:rgb(0%,0%,0%);stroke-opacity:1;stroke-miterlimit:10;\" d=\"M 356.199219 149.21875 C 356.199219 152.207031 351.714844 152.207031 351.714844 149.21875 C 351.714844 146.230469 356.199219 146.230469 356.199219 149.21875 \"/>\n",
       "<path style=\"fill:none;stroke-width:0.75;stroke-linecap:round;stroke-linejoin:round;stroke:rgb(0%,0%,0%);stroke-opacity:1;stroke-miterlimit:10;\" d=\"M 334.28125 178.183594 C 334.28125 181.171875 329.800781 181.171875 329.800781 178.183594 C 329.800781 175.195312 334.28125 175.195312 334.28125 178.183594 \"/>\n",
       "<path style=\"fill:none;stroke-width:0.75;stroke-linecap:round;stroke-linejoin:round;stroke:rgb(0%,0%,0%);stroke-opacity:1;stroke-miterlimit:10;\" d=\"M 349.335938 151.375 C 349.335938 154.363281 344.855469 154.363281 344.855469 151.375 C 344.855469 148.386719 349.335938 148.386719 349.335938 151.375 \"/>\n",
       "<path style=\"fill:none;stroke-width:0.75;stroke-linecap:round;stroke-linejoin:round;stroke:rgb(0%,0%,0%);stroke-opacity:1;stroke-miterlimit:10;\" d=\"M 352.949219 150.339844 C 352.949219 153.328125 348.46875 153.328125 348.46875 150.339844 C 348.46875 147.351562 352.949219 147.351562 352.949219 150.339844 \"/>\n",
       "<path style=\"fill:none;stroke-width:0.75;stroke-linecap:round;stroke-linejoin:round;stroke:rgb(0%,0%,0%);stroke-opacity:1;stroke-miterlimit:10;\" d=\"M 325.808594 178.875 C 325.808594 181.863281 321.328125 181.863281 321.328125 178.875 C 321.328125 175.886719 325.808594 175.886719 325.808594 178.875 \"/>\n",
       "<path style=\"fill:none;stroke-width:0.75;stroke-linecap:round;stroke-linejoin:round;stroke:rgb(0%,0%,0%);stroke-opacity:1;stroke-miterlimit:10;\" d=\"M 340.359375 155.109375 C 340.359375 158.097656 335.878906 158.097656 335.878906 155.109375 C 335.878906 152.121094 340.359375 152.121094 340.359375 155.109375 \"/>\n",
       "<path style=\"fill:none;stroke-width:0.75;stroke-linecap:round;stroke-linejoin:round;stroke:rgb(0%,0%,0%);stroke-opacity:1;stroke-miterlimit:10;\" d=\"M 364.523438 143.679688 C 364.523438 146.667969 360.039062 146.667969 360.039062 143.679688 C 360.039062 140.691406 364.523438 140.691406 364.523438 143.679688 \"/>\n",
       "<path style=\"fill:none;stroke-width:0.75;stroke-linecap:round;stroke-linejoin:round;stroke:rgb(0%,0%,0%);stroke-opacity:1;stroke-miterlimit:10;\" d=\"M 309.832031 185.785156 C 309.832031 188.773438 305.351562 188.773438 305.351562 185.785156 C 305.351562 182.796875 309.832031 182.796875 309.832031 185.785156 \"/>\n",
       "<path style=\"fill:none;stroke-width:0.75;stroke-linecap:round;stroke-linejoin:round;stroke:rgb(0%,0%,0%);stroke-opacity:1;stroke-miterlimit:10;\" d=\"M 359.171875 146.566406 C 359.171875 149.554688 354.691406 149.554688 354.691406 146.566406 C 354.691406 143.578125 359.171875 143.578125 359.171875 146.566406 \"/>\n",
       "<path style=\"fill:none;stroke-width:0.75;stroke-linecap:round;stroke-linejoin:round;stroke:rgb(0%,0%,0%);stroke-opacity:1;stroke-miterlimit:10;\" d=\"M 373.71875 132.039062 C 373.71875 135.027344 369.234375 135.027344 369.234375 132.039062 C 369.234375 129.050781 373.71875 129.050781 373.71875 132.039062 \"/>\n",
       "<path style=\"fill:none;stroke-width:0.75;stroke-linecap:round;stroke-linejoin:round;stroke:rgb(0%,0%,0%);stroke-opacity:1;stroke-miterlimit:10;\" d=\"M 379.855469 125.34375 C 379.855469 128.332031 375.371094 128.332031 375.371094 125.34375 C 375.371094 122.359375 379.855469 122.359375 379.855469 125.34375 \"/>\n",
       "<path style=\"fill:none;stroke-width:0.75;stroke-linecap:round;stroke-linejoin:round;stroke:rgb(0%,0%,0%);stroke-opacity:1;stroke-miterlimit:10;\" d=\"M 404.53125 111.546875 C 404.53125 114.535156 400.050781 114.535156 400.050781 111.546875 C 400.050781 108.558594 404.53125 108.558594 404.53125 111.546875 \"/>\n",
       "<path style=\"fill:none;stroke-width:0.75;stroke-linecap:round;stroke-linejoin:round;stroke:rgb(0%,0%,0%);stroke-opacity:1;stroke-miterlimit:10;\" d=\"M 425.214844 97.34375 C 425.214844 100.332031 420.730469 100.332031 420.730469 97.34375 C 420.730469 94.355469 425.214844 94.355469 425.214844 97.34375 \"/>\n",
       "<path style=\"fill:none;stroke-width:0.75;stroke-linecap:round;stroke-linejoin:round;stroke:rgb(0%,0%,0%);stroke-opacity:1;stroke-miterlimit:10;\" d=\"M 377.859375 129.421875 C 377.859375 132.40625 373.375 132.40625 373.375 129.421875 C 373.375 126.433594 377.859375 126.433594 377.859375 129.421875 \"/>\n",
       "<path style=\"fill:none;stroke-width:0.75;stroke-linecap:round;stroke-linejoin:round;stroke:rgb(0%,0%,0%);stroke-opacity:1;stroke-miterlimit:10;\" d=\"M 391.261719 119.035156 C 391.261719 122.023438 386.78125 122.023438 386.78125 119.035156 C 386.78125 116.046875 391.261719 116.046875 391.261719 119.035156 \"/>\n",
       "<path style=\"fill:none;stroke-width:0.75;stroke-linecap:round;stroke-linejoin:round;stroke:rgb(0%,0%,0%);stroke-opacity:1;stroke-miterlimit:10;\" d=\"M 431.4375 94.550781 C 431.4375 97.539062 426.953125 97.539062 426.953125 94.550781 C 426.953125 91.5625 431.4375 91.5625 431.4375 94.550781 \"/>\n",
       "<path style=\"fill:none;stroke-width:0.75;stroke-linecap:round;stroke-linejoin:round;stroke:rgb(0%,0%,0%);stroke-opacity:1;stroke-miterlimit:10;\" d=\"M 428.1875 96.742188 C 428.1875 99.730469 423.707031 99.730469 423.707031 96.742188 C 423.707031 93.753906 428.1875 93.753906 428.1875 96.742188 \"/>\n",
       "<path style=\"fill:none;stroke-width:0.75;stroke-linecap:round;stroke-linejoin:round;stroke:rgb(0%,0%,0%);stroke-opacity:1;stroke-miterlimit:10;\" d=\"M 393.125 118.050781 C 393.125 121.039062 388.640625 121.039062 388.640625 118.050781 C 388.640625 115.0625 393.125 115.0625 393.125 118.050781 \"/>\n",
       "<path style=\"fill:none;stroke-width:0.75;stroke-linecap:round;stroke-linejoin:round;stroke:rgb(0%,0%,0%);stroke-opacity:1;stroke-miterlimit:10;\" d=\"M 385.640625 121.28125 C 385.640625 124.269531 381.160156 124.269531 381.160156 121.28125 C 381.160156 118.292969 385.640625 118.292969 385.640625 121.28125 \"/>\n",
       "<path style=\"fill:none;stroke-width:0.75;stroke-linecap:round;stroke-linejoin:round;stroke:rgb(0%,0%,0%);stroke-opacity:1;stroke-miterlimit:10;\" d=\"M 345.222656 154.816406 C 345.222656 157.804688 340.738281 157.804688 340.738281 154.816406 C 340.738281 151.828125 345.222656 151.828125 345.222656 154.816406 \"/>\n",
       "<path style=\"fill:none;stroke-width:0.75;stroke-linecap:round;stroke-linejoin:round;stroke:rgb(0%,0%,0%);stroke-opacity:1;stroke-miterlimit:10;\" d=\"M 361.933594 144.945312 C 361.933594 147.933594 357.449219 147.933594 357.449219 144.945312 C 357.449219 141.957031 361.933594 141.957031 361.933594 144.945312 \"/>\n",
       "<path style=\"fill:none;stroke-width:0.75;stroke-linecap:round;stroke-linejoin:round;stroke:rgb(0%,0%,0%);stroke-opacity:1;stroke-miterlimit:10;\" d=\"M 398.742188 114.519531 C 398.742188 117.507812 394.261719 117.507812 394.261719 114.519531 C 394.261719 111.53125 398.742188 111.53125 398.742188 114.519531 \"/>\n",
       "<path style=\"fill:none;stroke-width:0.75;stroke-linecap:round;stroke-linejoin:round;stroke:rgb(0%,0%,0%);stroke-opacity:1;stroke-miterlimit:10;\" d=\"M 408.570312 108.417969 C 408.570312 111.40625 404.089844 111.40625 404.089844 108.417969 C 404.089844 105.429688 408.570312 105.429688 408.570312 108.417969 \"/>\n",
       "<path style=\"fill:none;stroke-width:0.75;stroke-linecap:round;stroke-linejoin:round;stroke:rgb(0%,0%,0%);stroke-opacity:1;stroke-miterlimit:10;\" d=\"M 400.648438 113.84375 C 400.648438 116.832031 396.164062 116.832031 396.164062 113.84375 C 396.164062 110.855469 400.648438 110.855469 400.648438 113.84375 \"/>\n",
       "<path style=\"fill:none;stroke-width:0.75;stroke-linecap:round;stroke-linejoin:round;stroke:rgb(0%,0%,0%);stroke-opacity:1;stroke-miterlimit:10;\" d=\"M 417.414062 100.125 C 417.414062 103.113281 412.929688 103.113281 412.929688 100.125 C 412.929688 97.136719 417.414062 97.136719 417.414062 100.125 \"/>\n",
       "<path style=\"fill:none;stroke-width:0.75;stroke-linecap:round;stroke-linejoin:round;stroke:rgb(0%,0%,0%);stroke-opacity:1;stroke-miterlimit:10;\" d=\"M 394.988281 117.347656 C 394.988281 120.332031 390.503906 120.332031 390.503906 117.347656 C 390.503906 114.359375 394.988281 114.359375 394.988281 117.347656 \"/>\n",
       "<path style=\"fill:none;stroke-width:0.75;stroke-linecap:round;stroke-linejoin:round;stroke:rgb(0%,0%,0%);stroke-opacity:1;stroke-miterlimit:10;\" d=\"M 371.554688 132.214844 C 371.554688 135.203125 367.070312 135.203125 367.070312 132.214844 C 367.070312 129.226562 371.554688 129.226562 371.554688 132.214844 \"/>\n",
       "<path style=\"fill:none;stroke-width:0.75;stroke-linecap:round;stroke-linejoin:round;stroke:rgb(0%,0%,0%);stroke-opacity:1;stroke-miterlimit:10;\" d=\"M 389.398438 119.539062 C 389.398438 122.527344 384.917969 122.527344 384.917969 119.539062 C 384.917969 116.554688 389.398438 116.554688 389.398438 119.539062 \"/>\n",
       "<path style=\"fill:none;stroke-width:0.75;stroke-linecap:round;stroke-linejoin:round;stroke:rgb(0%,0%,0%);stroke-opacity:1;stroke-miterlimit:10;\" d=\"M 410.667969 107.355469 C 410.667969 110.34375 406.1875 110.34375 406.1875 107.355469 C 406.1875 104.367188 410.667969 104.367188 410.667969 107.355469 \"/>\n",
       "<path style=\"fill:none;stroke-width:0.75;stroke-linecap:round;stroke-linejoin:round;stroke:rgb(0%,0%,0%);stroke-opacity:1;stroke-miterlimit:10;\" d=\"M 387.527344 119.59375 C 387.527344 122.582031 383.046875 122.582031 383.046875 119.59375 C 383.046875 116.605469 387.527344 116.605469 387.527344 119.59375 \"/>\n",
       "<path style=\"fill:none;stroke-width:0.75;stroke-linecap:round;stroke-linejoin:round;stroke:rgb(0%,0%,0%);stroke-opacity:1;stroke-miterlimit:10;\" d=\"M 406.527344 109.90625 C 406.527344 112.890625 402.046875 112.890625 402.046875 109.90625 C 402.046875 106.917969 406.527344 106.917969 406.527344 109.90625 \"/>\n",
       "<path style=\"fill:none;stroke-width:0.75;stroke-linecap:round;stroke-linejoin:round;stroke:rgb(0%,0%,0%);stroke-opacity:1;stroke-miterlimit:10;\" d=\"M 444.027344 84.230469 C 444.027344 87.21875 439.542969 87.21875 439.542969 84.230469 C 439.542969 81.242188 444.027344 81.242188 444.027344 84.230469 \"/>\n",
       "<path style=\"fill:none;stroke-width:0.75;stroke-linecap:round;stroke-linejoin:round;stroke:rgb(0%,0%,0%);stroke-opacity:1;stroke-miterlimit:10;\" d=\"M 318.675781 191.042969 L 461.230469 191.042969 \"/>\n",
       "<path style=\"fill:none;stroke-width:0.75;stroke-linecap:round;stroke-linejoin:round;stroke:rgb(0%,0%,0%);stroke-opacity:1;stroke-miterlimit:10;\" d=\"M 318.675781 191.042969 L 318.675781 197.019531 \"/>\n",
       "<path style=\"fill:none;stroke-width:0.75;stroke-linecap:round;stroke-linejoin:round;stroke:rgb(0%,0%,0%);stroke-opacity:1;stroke-miterlimit:10;\" d=\"M 354.3125 191.042969 L 354.3125 197.019531 \"/>\n",
       "<path style=\"fill:none;stroke-width:0.75;stroke-linecap:round;stroke-linejoin:round;stroke:rgb(0%,0%,0%);stroke-opacity:1;stroke-miterlimit:10;\" d=\"M 389.953125 191.042969 L 389.953125 197.019531 \"/>\n",
       "<path style=\"fill:none;stroke-width:0.75;stroke-linecap:round;stroke-linejoin:round;stroke:rgb(0%,0%,0%);stroke-opacity:1;stroke-miterlimit:10;\" d=\"M 425.589844 191.042969 L 425.589844 197.019531 \"/>\n",
       "<path style=\"fill:none;stroke-width:0.75;stroke-linecap:round;stroke-linejoin:round;stroke:rgb(0%,0%,0%);stroke-opacity:1;stroke-miterlimit:10;\" d=\"M 461.230469 191.042969 L 461.230469 197.019531 \"/>\n",
       "<g style=\"fill:rgb(0%,0%,0%);fill-opacity:1;\">\n",
       "  <use xlink:href=\"#glyph0-17\" x=\"314.175781\" y=\"211.992188\"/>\n",
       "  <use xlink:href=\"#glyph0-18\" x=\"317.490234\" y=\"211.992188\"/>\n",
       "</g>\n",
       "<g style=\"fill:rgb(0%,0%,0%);fill-opacity:1;\">\n",
       "  <use xlink:href=\"#glyph0-17\" x=\"349.8125\" y=\"211.992188\"/>\n",
       "  <use xlink:href=\"#glyph0-19\" x=\"353.126953\" y=\"211.992188\"/>\n",
       "</g>\n",
       "<g style=\"fill:rgb(0%,0%,0%);fill-opacity:1;\">\n",
       "  <use xlink:href=\"#glyph0-1\" x=\"386.953125\" y=\"211.992188\"/>\n",
       "</g>\n",
       "<g style=\"fill:rgb(0%,0%,0%);fill-opacity:1;\">\n",
       "  <use xlink:href=\"#glyph0-19\" x=\"422.589844\" y=\"211.992188\"/>\n",
       "</g>\n",
       "<g style=\"fill:rgb(0%,0%,0%);fill-opacity:1;\">\n",
       "  <use xlink:href=\"#glyph0-18\" x=\"458.230469\" y=\"211.992188\"/>\n",
       "</g>\n",
       "<path style=\"fill:none;stroke-width:0.75;stroke-linecap:round;stroke-linejoin:round;stroke:rgb(0%,0%,0%);stroke-opacity:1;stroke-miterlimit:10;\" d=\"M 301.003906 173.765625 L 301.003906 67.640625 \"/>\n",
       "<path style=\"fill:none;stroke-width:0.75;stroke-linecap:round;stroke-linejoin:round;stroke:rgb(0%,0%,0%);stroke-opacity:1;stroke-miterlimit:10;\" d=\"M 301.003906 173.765625 L 295.027344 173.765625 \"/>\n",
       "<path style=\"fill:none;stroke-width:0.75;stroke-linecap:round;stroke-linejoin:round;stroke:rgb(0%,0%,0%);stroke-opacity:1;stroke-miterlimit:10;\" d=\"M 301.003906 147.234375 L 295.027344 147.234375 \"/>\n",
       "<path style=\"fill:none;stroke-width:0.75;stroke-linecap:round;stroke-linejoin:round;stroke:rgb(0%,0%,0%);stroke-opacity:1;stroke-miterlimit:10;\" d=\"M 301.003906 120.703125 L 295.027344 120.703125 \"/>\n",
       "<path style=\"fill:none;stroke-width:0.75;stroke-linecap:round;stroke-linejoin:round;stroke:rgb(0%,0%,0%);stroke-opacity:1;stroke-miterlimit:10;\" d=\"M 301.003906 94.171875 L 295.027344 94.171875 \"/>\n",
       "<path style=\"fill:none;stroke-width:0.75;stroke-linecap:round;stroke-linejoin:round;stroke:rgb(0%,0%,0%);stroke-opacity:1;stroke-miterlimit:10;\" d=\"M 301.003906 67.640625 L 295.027344 67.640625 \"/>\n",
       "<g style=\"fill:rgb(0%,0%,0%);fill-opacity:1;\">\n",
       "  <use xlink:href=\"#glyph1-1\" x=\"286.09375\" y=\"178.265625\"/>\n",
       "  <use xlink:href=\"#glyph1-14\" x=\"286.09375\" y=\"174.951172\"/>\n",
       "</g>\n",
       "<g style=\"fill:rgb(0%,0%,0%);fill-opacity:1;\">\n",
       "  <use xlink:href=\"#glyph1-1\" x=\"286.09375\" y=\"151.734375\"/>\n",
       "  <use xlink:href=\"#glyph1-4\" x=\"286.09375\" y=\"148.419922\"/>\n",
       "</g>\n",
       "<g style=\"fill:rgb(0%,0%,0%);fill-opacity:1;\">\n",
       "  <use xlink:href=\"#glyph1-2\" x=\"286.09375\" y=\"123.703125\"/>\n",
       "</g>\n",
       "<g style=\"fill:rgb(0%,0%,0%);fill-opacity:1;\">\n",
       "  <use xlink:href=\"#glyph1-4\" x=\"286.09375\" y=\"97.171875\"/>\n",
       "</g>\n",
       "<g style=\"fill:rgb(0%,0%,0%);fill-opacity:1;\">\n",
       "  <use xlink:href=\"#glyph1-14\" x=\"286.09375\" y=\"70.640625\"/>\n",
       "</g>\n",
       "<path style=\"fill:none;stroke-width:0.75;stroke-linecap:round;stroke-linejoin:round;stroke:rgb(0%,0%,0%);stroke-opacity:1;stroke-miterlimit:10;\" d=\"M 301.003906 191.042969 L 478.902344 191.042969 L 478.902344 49.003906 L 301.003906 49.003906 L 301.003906 191.042969 \"/>\n",
       "<g style=\"fill:rgb(0%,0%,0%);fill-opacity:1;\">\n",
       "  <use xlink:href=\"#glyph0-20\" x=\"342.453125\" y=\"235.894531\"/>\n",
       "  <use xlink:href=\"#glyph0-21\" x=\"348.53418\" y=\"235.894531\"/>\n",
       "  <use xlink:href=\"#glyph0-9\" x=\"354.068359\" y=\"235.894531\"/>\n",
       "  <use xlink:href=\"#glyph0-22\" x=\"359.602539\" y=\"235.894531\"/>\n",
       "  <use xlink:href=\"#glyph0-23\" x=\"365.136719\" y=\"235.894531\"/>\n",
       "  <use xlink:href=\"#glyph0-9\" x=\"368.451172\" y=\"235.894531\"/>\n",
       "  <use xlink:href=\"#glyph0-8\" x=\"373.985352\" y=\"235.894531\"/>\n",
       "  <use xlink:href=\"#glyph0-7\" x=\"376.751953\" y=\"235.894531\"/>\n",
       "  <use xlink:href=\"#glyph0-24\" x=\"378.961914\" y=\"235.894531\"/>\n",
       "  <use xlink:href=\"#glyph0-13\" x=\"383.938477\" y=\"235.894531\"/>\n",
       "  <use xlink:href=\"#glyph0-14\" x=\"389.472656\" y=\"235.894531\"/>\n",
       "  <use xlink:href=\"#glyph0-11\" x=\"391.682617\" y=\"235.894531\"/>\n",
       "  <use xlink:href=\"#glyph0-25\" x=\"394.449219\" y=\"235.894531\"/>\n",
       "  <use xlink:href=\"#glyph0-15\" x=\"402.192383\" y=\"235.894531\"/>\n",
       "  <use xlink:href=\"#glyph0-13\" x=\"407.726562\" y=\"235.894531\"/>\n",
       "  <use xlink:href=\"#glyph0-26\" x=\"413.260742\" y=\"235.894531\"/>\n",
       "  <use xlink:href=\"#glyph0-8\" x=\"418.794922\" y=\"235.894531\"/>\n",
       "  <use xlink:href=\"#glyph0-7\" x=\"421.561523\" y=\"235.894531\"/>\n",
       "  <use xlink:href=\"#glyph0-14\" x=\"423.771484\" y=\"235.894531\"/>\n",
       "  <use xlink:href=\"#glyph0-9\" x=\"425.981445\" y=\"235.894531\"/>\n",
       "  <use xlink:href=\"#glyph0-16\" x=\"431.515625\" y=\"235.894531\"/>\n",
       "</g>\n",
       "<g style=\"fill:rgb(0%,0%,0%);fill-opacity:1;\">\n",
       "  <use xlink:href=\"#glyph1-15\" x=\"262.191406\" y=\"171.023438\"/>\n",
       "  <use xlink:href=\"#glyph1-16\" x=\"262.191406\" y=\"164.384766\"/>\n",
       "  <use xlink:href=\"#glyph1-12\" x=\"262.191406\" y=\"161.618164\"/>\n",
       "  <use xlink:href=\"#glyph1-17\" x=\"262.191406\" y=\"156.083984\"/>\n",
       "  <use xlink:href=\"#glyph1-10\" x=\"262.191406\" y=\"150.549805\"/>\n",
       "  <use xlink:href=\"#glyph1-12\" x=\"262.191406\" y=\"145.015625\"/>\n",
       "  <use xlink:href=\"#glyph1-18\" x=\"262.191406\" y=\"139.481445\"/>\n",
       "  <use xlink:href=\"#glyph1-10\" x=\"262.191406\" y=\"136.166992\"/>\n",
       "  <use xlink:href=\"#glyph1-9\" x=\"262.191406\" y=\"130.632812\"/>\n",
       "  <use xlink:href=\"#glyph1-19\" x=\"262.191406\" y=\"128.422852\"/>\n",
       "  <use xlink:href=\"#glyph1-7\" x=\"262.191406\" y=\"123.446289\"/>\n",
       "  <use xlink:href=\"#glyph1-10\" x=\"262.191406\" y=\"117.912109\"/>\n",
       "  <use xlink:href=\"#glyph1-20\" x=\"262.191406\" y=\"112.37793\"/>\n",
       "  <use xlink:href=\"#glyph1-18\" x=\"262.191406\" y=\"109.611328\"/>\n",
       "  <use xlink:href=\"#glyph1-7\" x=\"262.191406\" y=\"106.296875\"/>\n",
       "  <use xlink:href=\"#glyph1-8\" x=\"262.191406\" y=\"100.762695\"/>\n",
       "  <use xlink:href=\"#glyph1-9\" x=\"262.191406\" y=\"95.786133\"/>\n",
       "  <use xlink:href=\"#glyph1-10\" x=\"262.191406\" y=\"93.576172\"/>\n",
       "  <use xlink:href=\"#glyph1-11\" x=\"262.191406\" y=\"88.041992\"/>\n",
       "  <use xlink:href=\"#glyph1-12\" x=\"262.191406\" y=\"82.507812\"/>\n",
       "  <use xlink:href=\"#glyph1-13\" x=\"262.191406\" y=\"76.973633\"/>\n",
       "  <use xlink:href=\"#glyph1-8\" x=\"262.191406\" y=\"74.763672\"/>\n",
       "</g>\n",
       "<g clip-path=\"url(#clip2)\" clip-rule=\"nonzero\">\n",
       "<path style=\"fill:none;stroke-width:0.75;stroke-linecap:round;stroke-linejoin:round;stroke:rgb(49.803922%,49.803922%,49.803922%);stroke-opacity:1;stroke-dasharray:0.75,2.25;stroke-miterlimit:10;\" d=\"M 301.003906 171.496094 L 478.902344 66.765625 \"/>\n",
       "</g>\n",
       "<g style=\"fill:rgb(0%,0%,0%);fill-opacity:1;\">\n",
       "  <use xlink:href=\"#glyph2-13\" x=\"357.453125\" y=\"43.401367\"/>\n",
       "  <use xlink:href=\"#glyph2-14\" x=\"366.117188\" y=\"43.401367\"/>\n",
       "  <use xlink:href=\"#glyph2-15\" x=\"372.789062\" y=\"43.401367\"/>\n",
       "  <use xlink:href=\"#glyph2-16\" x=\"376.785156\" y=\"43.401367\"/>\n",
       "  <use xlink:href=\"#glyph2-7\" x=\"386.78125\" y=\"43.401367\"/>\n",
       "  <use xlink:href=\"#glyph2-8\" x=\"393.453125\" y=\"43.401367\"/>\n",
       "  <use xlink:href=\"#glyph2-9\" x=\"396.117188\" y=\"43.401367\"/>\n",
       "  <use xlink:href=\"#glyph2-17\" x=\"399.453125\" y=\"43.401367\"/>\n",
       "  <use xlink:href=\"#glyph2-18\" x=\"408.789062\" y=\"43.401367\"/>\n",
       "  <use xlink:href=\"#glyph2-17\" x=\"412.785156\" y=\"43.401367\"/>\n",
       "</g>\n",
       "<g style=\"fill:rgb(0%,0%,0%);fill-opacity:1;\">\n",
       "  <use xlink:href=\"#glyph3-1\" x=\"310.578125\" y=\"187.359375\"/>\n",
       "  <use xlink:href=\"#glyph3-2\" x=\"314.730469\" y=\"187.359375\"/>\n",
       "</g>\n",
       "<g style=\"fill:rgb(0%,0%,0%);fill-opacity:1;\">\n",
       "  <use xlink:href=\"#glyph3-1\" x=\"311.578125\" y=\"180.449219\"/>\n",
       "  <use xlink:href=\"#glyph3-3\" x=\"315.730469\" y=\"180.449219\"/>\n",
       "</g>\n",
       "<g style=\"fill:rgb(0%,0%,0%);fill-opacity:1;\">\n",
       "  <use xlink:href=\"#glyph3-3\" x=\"320.050781\" y=\"179.757812\"/>\n",
       "  <use xlink:href=\"#glyph3-4\" x=\"324.203125\" y=\"179.757812\"/>\n",
       "</g>\n",
       "<path style=\"fill:none;stroke-width:0.75;stroke-linecap:round;stroke-linejoin:round;stroke:rgb(0%,0%,0%);stroke-opacity:1;stroke-miterlimit:10;\" d=\"M 72.800781 443.042969 L 214.660156 443.042969 \"/>\n",
       "<path style=\"fill:none;stroke-width:0.75;stroke-linecap:round;stroke-linejoin:round;stroke:rgb(0%,0%,0%);stroke-opacity:1;stroke-miterlimit:10;\" d=\"M 72.800781 443.042969 L 72.800781 449.019531 \"/>\n",
       "<path style=\"fill:none;stroke-width:0.75;stroke-linecap:round;stroke-linejoin:round;stroke:rgb(0%,0%,0%);stroke-opacity:1;stroke-miterlimit:10;\" d=\"M 120.085938 443.042969 L 120.085938 449.019531 \"/>\n",
       "<path style=\"fill:none;stroke-width:0.75;stroke-linecap:round;stroke-linejoin:round;stroke:rgb(0%,0%,0%);stroke-opacity:1;stroke-miterlimit:10;\" d=\"M 167.375 443.042969 L 167.375 449.019531 \"/>\n",
       "<path style=\"fill:none;stroke-width:0.75;stroke-linecap:round;stroke-linejoin:round;stroke:rgb(0%,0%,0%);stroke-opacity:1;stroke-miterlimit:10;\" d=\"M 214.660156 443.042969 L 214.660156 449.019531 \"/>\n",
       "<g style=\"fill:rgb(0%,0%,0%);fill-opacity:1;\">\n",
       "  <use xlink:href=\"#glyph0-1\" x=\"62.800781\" y=\"463.992188\"/>\n",
       "  <use xlink:href=\"#glyph0-2\" x=\"68.334961\" y=\"463.992188\"/>\n",
       "  <use xlink:href=\"#glyph0-3\" x=\"71.101562\" y=\"463.992188\"/>\n",
       "  <use xlink:href=\"#glyph0-1\" x=\"76.635742\" y=\"463.992188\"/>\n",
       "</g>\n",
       "<g style=\"fill:rgb(0%,0%,0%);fill-opacity:1;\">\n",
       "  <use xlink:href=\"#glyph0-1\" x=\"110.085938\" y=\"463.992188\"/>\n",
       "  <use xlink:href=\"#glyph0-2\" x=\"115.620117\" y=\"463.992188\"/>\n",
       "  <use xlink:href=\"#glyph0-3\" x=\"118.386719\" y=\"463.992188\"/>\n",
       "  <use xlink:href=\"#glyph0-4\" x=\"123.920898\" y=\"463.992188\"/>\n",
       "</g>\n",
       "<g style=\"fill:rgb(0%,0%,0%);fill-opacity:1;\">\n",
       "  <use xlink:href=\"#glyph0-1\" x=\"157.375\" y=\"463.992188\"/>\n",
       "  <use xlink:href=\"#glyph0-2\" x=\"162.90918\" y=\"463.992188\"/>\n",
       "  <use xlink:href=\"#glyph0-5\" x=\"165.675781\" y=\"463.992188\"/>\n",
       "  <use xlink:href=\"#glyph0-1\" x=\"171.209961\" y=\"463.992188\"/>\n",
       "</g>\n",
       "<g style=\"fill:rgb(0%,0%,0%);fill-opacity:1;\">\n",
       "  <use xlink:href=\"#glyph0-1\" x=\"204.660156\" y=\"463.992188\"/>\n",
       "  <use xlink:href=\"#glyph0-2\" x=\"210.194336\" y=\"463.992188\"/>\n",
       "  <use xlink:href=\"#glyph0-5\" x=\"212.960938\" y=\"463.992188\"/>\n",
       "  <use xlink:href=\"#glyph0-4\" x=\"218.495117\" y=\"463.992188\"/>\n",
       "</g>\n",
       "<path style=\"fill:none;stroke-width:0.75;stroke-linecap:round;stroke-linejoin:round;stroke:rgb(0%,0%,0%);stroke-opacity:1;stroke-miterlimit:10;\" d=\"M 49.003906 437.785156 L 49.003906 311.820312 \"/>\n",
       "<path style=\"fill:none;stroke-width:0.75;stroke-linecap:round;stroke-linejoin:round;stroke:rgb(0%,0%,0%);stroke-opacity:1;stroke-miterlimit:10;\" d=\"M 49.003906 437.785156 L 43.027344 437.785156 \"/>\n",
       "<path style=\"fill:none;stroke-width:0.75;stroke-linecap:round;stroke-linejoin:round;stroke:rgb(0%,0%,0%);stroke-opacity:1;stroke-miterlimit:10;\" d=\"M 49.003906 395.796875 L 43.027344 395.796875 \"/>\n",
       "<path style=\"fill:none;stroke-width:0.75;stroke-linecap:round;stroke-linejoin:round;stroke:rgb(0%,0%,0%);stroke-opacity:1;stroke-miterlimit:10;\" d=\"M 49.003906 353.808594 L 43.027344 353.808594 \"/>\n",
       "<path style=\"fill:none;stroke-width:0.75;stroke-linecap:round;stroke-linejoin:round;stroke:rgb(0%,0%,0%);stroke-opacity:1;stroke-miterlimit:10;\" d=\"M 49.003906 311.820312 L 43.027344 311.820312 \"/>\n",
       "<g style=\"fill:rgb(0%,0%,0%);fill-opacity:1;\">\n",
       "  <use xlink:href=\"#glyph1-2\" x=\"34.09375\" y=\"444.785156\"/>\n",
       "  <use xlink:href=\"#glyph1-3\" x=\"34.09375\" y=\"439.250977\"/>\n",
       "  <use xlink:href=\"#glyph1-2\" x=\"34.09375\" y=\"436.484375\"/>\n",
       "</g>\n",
       "<g style=\"fill:rgb(0%,0%,0%);fill-opacity:1;\">\n",
       "  <use xlink:href=\"#glyph1-2\" x=\"34.09375\" y=\"402.796875\"/>\n",
       "  <use xlink:href=\"#glyph1-3\" x=\"34.09375\" y=\"397.262695\"/>\n",
       "  <use xlink:href=\"#glyph1-5\" x=\"34.09375\" y=\"394.496094\"/>\n",
       "</g>\n",
       "<g style=\"fill:rgb(0%,0%,0%);fill-opacity:1;\">\n",
       "  <use xlink:href=\"#glyph1-4\" x=\"34.09375\" y=\"360.808594\"/>\n",
       "  <use xlink:href=\"#glyph1-3\" x=\"34.09375\" y=\"355.274414\"/>\n",
       "  <use xlink:href=\"#glyph1-2\" x=\"34.09375\" y=\"352.507812\"/>\n",
       "</g>\n",
       "<g style=\"fill:rgb(0%,0%,0%);fill-opacity:1;\">\n",
       "  <use xlink:href=\"#glyph1-4\" x=\"34.09375\" y=\"318.820312\"/>\n",
       "  <use xlink:href=\"#glyph1-3\" x=\"34.09375\" y=\"313.286133\"/>\n",
       "  <use xlink:href=\"#glyph1-5\" x=\"34.09375\" y=\"310.519531\"/>\n",
       "</g>\n",
       "<path style=\"fill:none;stroke-width:0.75;stroke-linecap:round;stroke-linejoin:round;stroke:rgb(0%,0%,0%);stroke-opacity:1;stroke-miterlimit:10;\" d=\"M 49.003906 443.042969 L 226.902344 443.042969 L 226.902344 301.003906 L 49.003906 301.003906 L 49.003906 443.042969 \"/>\n",
       "<g style=\"fill:rgb(0%,0%,0%);fill-opacity:1;\">\n",
       "  <use xlink:href=\"#glyph0-6\" x=\"109.453125\" y=\"487.894531\"/>\n",
       "  <use xlink:href=\"#glyph0-7\" x=\"115.53418\" y=\"487.894531\"/>\n",
       "  <use xlink:href=\"#glyph0-8\" x=\"117.744141\" y=\"487.894531\"/>\n",
       "  <use xlink:href=\"#glyph0-8\" x=\"120.510742\" y=\"487.894531\"/>\n",
       "  <use xlink:href=\"#glyph0-9\" x=\"123.277344\" y=\"487.894531\"/>\n",
       "  <use xlink:href=\"#glyph0-10\" x=\"128.811523\" y=\"487.894531\"/>\n",
       "  <use xlink:href=\"#glyph0-11\" x=\"134.345703\" y=\"487.894531\"/>\n",
       "  <use xlink:href=\"#glyph0-12\" x=\"137.112305\" y=\"487.894531\"/>\n",
       "  <use xlink:href=\"#glyph0-13\" x=\"142.088867\" y=\"487.894531\"/>\n",
       "  <use xlink:href=\"#glyph0-14\" x=\"147.623047\" y=\"487.894531\"/>\n",
       "  <use xlink:href=\"#glyph0-15\" x=\"149.833008\" y=\"487.894531\"/>\n",
       "  <use xlink:href=\"#glyph0-9\" x=\"155.367188\" y=\"487.894531\"/>\n",
       "  <use xlink:href=\"#glyph0-16\" x=\"160.901367\" y=\"487.894531\"/>\n",
       "</g>\n",
       "<path style=\"fill:none;stroke-width:0.75;stroke-linecap:round;stroke-linejoin:round;stroke:rgb(0%,0%,0%);stroke-opacity:1;stroke-miterlimit:10;\" d=\"M 6.957031 432.023438 L 6.257812 430.585938 L 10.757812 429.144531 L 0 427.332031 \"/>\n",
       "<path style=\"fill:none;stroke-width:0.75;stroke-linecap:round;stroke-linejoin:round;stroke:rgb(0%,0%,0%);stroke-opacity:1;stroke-miterlimit:10;\" d=\"M 10.757812 425.523438 L 1.757812 425.523438 \"/>\n",
       "<g style=\"fill:rgb(0%,0%,0%);fill-opacity:1;\">\n",
       "  <use xlink:href=\"#glyph1-15\" x=\"9.191406\" y=\"425.023438\"/>\n",
       "</g>\n",
       "<g style=\"fill:rgb(0%,0%,0%);fill-opacity:1;\">\n",
       "  <use xlink:href=\"#glyph1-16\" x=\"9.191406\" y=\"418.023438\"/>\n",
       "</g>\n",
       "<g style=\"fill:rgb(0%,0%,0%);fill-opacity:1;\">\n",
       "  <use xlink:href=\"#glyph1-12\" x=\"9.191406\" y=\"415.023438\"/>\n",
       "</g>\n",
       "<g style=\"fill:rgb(0%,0%,0%);fill-opacity:1;\">\n",
       "  <use xlink:href=\"#glyph1-17\" x=\"9.191406\" y=\"409.023438\"/>\n",
       "</g>\n",
       "<g style=\"fill:rgb(0%,0%,0%);fill-opacity:1;\">\n",
       "  <use xlink:href=\"#glyph1-10\" x=\"9.191406\" y=\"403.023438\"/>\n",
       "</g>\n",
       "<g style=\"fill:rgb(0%,0%,0%);fill-opacity:1;\">\n",
       "  <use xlink:href=\"#glyph1-12\" x=\"9.191406\" y=\"397.023438\"/>\n",
       "</g>\n",
       "<g style=\"fill:rgb(0%,0%,0%);fill-opacity:1;\">\n",
       "  <use xlink:href=\"#glyph1-18\" x=\"9.191406\" y=\"391.023438\"/>\n",
       "</g>\n",
       "<g style=\"fill:rgb(0%,0%,0%);fill-opacity:1;\">\n",
       "  <use xlink:href=\"#glyph1-10\" x=\"9.191406\" y=\"387.023438\"/>\n",
       "</g>\n",
       "<g style=\"fill:rgb(0%,0%,0%);fill-opacity:1;\">\n",
       "  <use xlink:href=\"#glyph1-9\" x=\"9.191406\" y=\"381.023438\"/>\n",
       "</g>\n",
       "<g style=\"fill:rgb(0%,0%,0%);fill-opacity:1;\">\n",
       "  <use xlink:href=\"#glyph1-19\" x=\"9.191406\" y=\"378.023438\"/>\n",
       "</g>\n",
       "<g style=\"fill:rgb(0%,0%,0%);fill-opacity:1;\">\n",
       "  <use xlink:href=\"#glyph1-7\" x=\"9.191406\" y=\"373.023438\"/>\n",
       "</g>\n",
       "<g style=\"fill:rgb(0%,0%,0%);fill-opacity:1;\">\n",
       "  <use xlink:href=\"#glyph1-10\" x=\"9.191406\" y=\"367.023438\"/>\n",
       "</g>\n",
       "<g style=\"fill:rgb(0%,0%,0%);fill-opacity:1;\">\n",
       "  <use xlink:href=\"#glyph1-20\" x=\"9.191406\" y=\"361.023438\"/>\n",
       "</g>\n",
       "<g style=\"fill:rgb(0%,0%,0%);fill-opacity:1;\">\n",
       "  <use xlink:href=\"#glyph1-18\" x=\"9.191406\" y=\"358.023438\"/>\n",
       "</g>\n",
       "<g style=\"fill:rgb(0%,0%,0%);fill-opacity:1;\">\n",
       "  <use xlink:href=\"#glyph1-7\" x=\"9.191406\" y=\"354.023438\"/>\n",
       "</g>\n",
       "<g style=\"fill:rgb(0%,0%,0%);fill-opacity:1;\">\n",
       "  <use xlink:href=\"#glyph1-8\" x=\"9.191406\" y=\"348.023438\"/>\n",
       "</g>\n",
       "<g style=\"fill:rgb(0%,0%,0%);fill-opacity:1;\">\n",
       "  <use xlink:href=\"#glyph1-9\" x=\"9.191406\" y=\"343.023438\"/>\n",
       "</g>\n",
       "<g style=\"fill:rgb(0%,0%,0%);fill-opacity:1;\">\n",
       "  <use xlink:href=\"#glyph1-10\" x=\"9.191406\" y=\"340.023438\"/>\n",
       "</g>\n",
       "<g style=\"fill:rgb(0%,0%,0%);fill-opacity:1;\">\n",
       "  <use xlink:href=\"#glyph1-11\" x=\"9.191406\" y=\"334.023438\"/>\n",
       "</g>\n",
       "<g style=\"fill:rgb(0%,0%,0%);fill-opacity:1;\">\n",
       "  <use xlink:href=\"#glyph1-12\" x=\"9.191406\" y=\"328.023438\"/>\n",
       "</g>\n",
       "<g style=\"fill:rgb(0%,0%,0%);fill-opacity:1;\">\n",
       "  <use xlink:href=\"#glyph1-13\" x=\"9.191406\" y=\"322.023438\"/>\n",
       "</g>\n",
       "<g style=\"fill:rgb(0%,0%,0%);fill-opacity:1;\">\n",
       "  <use xlink:href=\"#glyph1-8\" x=\"9.191406\" y=\"319.023438\"/>\n",
       "</g>\n",
       "<path style=\"fill:none;stroke-width:0.75;stroke-linecap:round;stroke-linejoin:round;stroke:rgb(0%,0%,0%);stroke-opacity:1;stroke-miterlimit:10;\" d=\"M 10.757812 313.523438 L 1.757812 313.523438 \"/>\n",
       "<path style=\"fill:none;stroke-width:0.75;stroke-linecap:round;stroke-linejoin:round;stroke:rgb(0%,0%,0%);stroke-opacity:1;stroke-miterlimit:10;\" d=\"M 57.832031 403.933594 C 57.832031 406.921875 53.351562 406.921875 53.351562 403.933594 C 53.351562 400.945312 57.832031 400.945312 57.832031 403.933594 \"/>\n",
       "<path style=\"fill:none;stroke-width:0.75;stroke-linecap:round;stroke-linejoin:round;stroke:rgb(0%,0%,0%);stroke-opacity:1;stroke-miterlimit:10;\" d=\"M 57.832031 385.117188 C 57.832031 388.105469 53.351562 388.105469 53.351562 385.117188 C 53.351562 382.128906 57.832031 382.128906 57.832031 385.117188 \"/>\n",
       "<path style=\"fill:none;stroke-width:0.75;stroke-linecap:round;stroke-linejoin:round;stroke:rgb(0%,0%,0%);stroke-opacity:1;stroke-miterlimit:10;\" d=\"M 57.832031 375.320312 C 57.832031 378.308594 53.351562 378.308594 53.351562 375.320312 C 53.351562 372.332031 57.832031 372.332031 57.832031 375.320312 \"/>\n",
       "<path style=\"fill:none;stroke-width:0.75;stroke-linecap:round;stroke-linejoin:round;stroke:rgb(0%,0%,0%);stroke-opacity:1;stroke-miterlimit:10;\" d=\"M 57.832031 415.3125 C 57.832031 418.300781 53.351562 418.300781 53.351562 415.3125 C 53.351562 412.324219 57.832031 412.324219 57.832031 415.3125 \"/>\n",
       "<path style=\"fill:none;stroke-width:0.75;stroke-linecap:round;stroke-linejoin:round;stroke:rgb(0%,0%,0%);stroke-opacity:1;stroke-miterlimit:10;\" d=\"M 72.808594 376.550781 C 72.808594 379.539062 68.324219 379.539062 68.324219 376.550781 C 68.324219 373.5625 72.808594 373.5625 72.808594 376.550781 \"/>\n",
       "<path style=\"fill:none;stroke-width:0.75;stroke-linecap:round;stroke-linejoin:round;stroke:rgb(0%,0%,0%);stroke-opacity:1;stroke-miterlimit:10;\" d=\"M 72.808594 392.355469 C 72.808594 395.34375 68.324219 395.34375 68.324219 392.355469 C 68.324219 389.367188 72.808594 389.367188 72.808594 392.355469 \"/>\n",
       "<path style=\"fill:none;stroke-width:0.75;stroke-linecap:round;stroke-linejoin:round;stroke:rgb(0%,0%,0%);stroke-opacity:1;stroke-miterlimit:10;\" d=\"M 72.808594 359.816406 C 72.808594 362.804688 68.324219 362.804688 68.324219 359.816406 C 68.324219 356.832031 72.808594 356.832031 72.808594 359.816406 \"/>\n",
       "<path style=\"fill:none;stroke-width:0.75;stroke-linecap:round;stroke-linejoin:round;stroke:rgb(0%,0%,0%);stroke-opacity:1;stroke-miterlimit:10;\" d=\"M 72.808594 397.351562 C 72.808594 400.335938 68.324219 400.335938 68.324219 397.351562 C 68.324219 394.363281 72.808594 394.363281 72.808594 397.351562 \"/>\n",
       "<path style=\"fill:none;stroke-width:0.75;stroke-linecap:round;stroke-linejoin:round;stroke:rgb(0%,0%,0%);stroke-opacity:1;stroke-miterlimit:10;\" d=\"M 87.78125 381.597656 C 87.78125 384.585938 83.300781 384.585938 83.300781 381.597656 C 83.300781 378.609375 87.78125 378.609375 87.78125 381.597656 \"/>\n",
       "<path style=\"fill:none;stroke-width:0.75;stroke-linecap:round;stroke-linejoin:round;stroke:rgb(0%,0%,0%);stroke-opacity:1;stroke-miterlimit:10;\" d=\"M 87.78125 324.339844 C 87.78125 327.328125 83.300781 327.328125 83.300781 324.339844 C 83.300781 321.355469 87.78125 321.355469 87.78125 324.339844 \"/>\n",
       "<path style=\"fill:none;stroke-width:0.75;stroke-linecap:round;stroke-linejoin:round;stroke:rgb(0%,0%,0%);stroke-opacity:1;stroke-miterlimit:10;\" d=\"M 87.78125 362.03125 C 87.78125 365.019531 83.300781 365.019531 83.300781 362.03125 C 83.300781 359.042969 87.78125 359.042969 87.78125 362.03125 \"/>\n",
       "<path style=\"fill:none;stroke-width:0.75;stroke-linecap:round;stroke-linejoin:round;stroke:rgb(0%,0%,0%);stroke-opacity:1;stroke-miterlimit:10;\" d=\"M 87.78125 336.332031 C 87.78125 339.320312 83.300781 339.320312 83.300781 336.332031 C 83.300781 333.34375 87.78125 333.34375 87.78125 336.332031 \"/>\n",
       "<path style=\"fill:none;stroke-width:0.75;stroke-linecap:round;stroke-linejoin:round;stroke:rgb(0%,0%,0%);stroke-opacity:1;stroke-miterlimit:10;\" d=\"M 102.757812 348.5 C 102.757812 351.488281 98.273438 351.488281 98.273438 348.5 C 98.273438 345.511719 102.757812 345.511719 102.757812 348.5 \"/>\n",
       "<path style=\"fill:none;stroke-width:0.75;stroke-linecap:round;stroke-linejoin:round;stroke:rgb(0%,0%,0%);stroke-opacity:1;stroke-miterlimit:10;\" d=\"M 102.757812 314.414062 C 102.757812 317.402344 98.273438 317.402344 98.273438 314.414062 C 98.273438 311.425781 102.757812 311.425781 102.757812 314.414062 \"/>\n",
       "<path style=\"fill:none;stroke-width:0.75;stroke-linecap:round;stroke-linejoin:round;stroke:rgb(0%,0%,0%);stroke-opacity:1;stroke-miterlimit:10;\" d=\"M 102.757812 341.152344 C 102.757812 344.136719 98.273438 344.136719 98.273438 341.152344 C 98.273438 338.164062 102.757812 338.164062 102.757812 341.152344 \"/>\n",
       "<path style=\"fill:none;stroke-width:0.75;stroke-linecap:round;stroke-linejoin:round;stroke:rgb(0%,0%,0%);stroke-opacity:1;stroke-miterlimit:10;\" d=\"M 102.757812 377.765625 C 102.757812 380.753906 98.273438 380.753906 98.273438 377.765625 C 98.273438 374.777344 102.757812 374.777344 102.757812 377.765625 \"/>\n",
       "<path style=\"fill:none;stroke-width:0.75;stroke-linecap:round;stroke-linejoin:round;stroke:rgb(0%,0%,0%);stroke-opacity:1;stroke-miterlimit:10;\" d=\"M 117.730469 350.726562 C 117.730469 353.714844 113.25 353.714844 113.25 350.726562 C 113.25 347.738281 117.730469 347.738281 117.730469 350.726562 \"/>\n",
       "<path style=\"fill:none;stroke-width:0.75;stroke-linecap:round;stroke-linejoin:round;stroke:rgb(0%,0%,0%);stroke-opacity:1;stroke-miterlimit:10;\" d=\"M 117.730469 314.179688 C 117.730469 317.167969 113.25 317.167969 113.25 314.179688 C 113.25 311.195312 117.730469 311.195312 117.730469 314.179688 \"/>\n",
       "<path style=\"fill:none;stroke-width:0.75;stroke-linecap:round;stroke-linejoin:round;stroke:rgb(0%,0%,0%);stroke-opacity:1;stroke-miterlimit:10;\" d=\"M 117.730469 347.492188 C 117.730469 350.480469 113.25 350.480469 113.25 347.492188 C 113.25 344.503906 117.730469 344.503906 117.730469 347.492188 \"/>\n",
       "<path style=\"fill:none;stroke-width:0.75;stroke-linecap:round;stroke-linejoin:round;stroke:rgb(0%,0%,0%);stroke-opacity:1;stroke-miterlimit:10;\" d=\"M 117.730469 349.03125 C 117.730469 352.019531 113.25 352.019531 113.25 349.03125 C 113.25 346.042969 117.730469 346.042969 117.730469 349.03125 \"/>\n",
       "<path style=\"fill:none;stroke-width:0.75;stroke-linecap:round;stroke-linejoin:round;stroke:rgb(0%,0%,0%);stroke-opacity:1;stroke-miterlimit:10;\" d=\"M 132.707031 313.441406 C 132.707031 316.429688 128.222656 316.429688 128.222656 313.441406 C 128.222656 310.453125 132.707031 310.453125 132.707031 313.441406 \"/>\n",
       "<path style=\"fill:none;stroke-width:0.75;stroke-linecap:round;stroke-linejoin:round;stroke:rgb(0%,0%,0%);stroke-opacity:1;stroke-miterlimit:10;\" d=\"M 132.707031 342.15625 C 132.707031 345.144531 128.222656 345.144531 128.222656 342.15625 C 128.222656 339.167969 132.707031 339.167969 132.707031 342.15625 \"/>\n",
       "<path style=\"fill:none;stroke-width:0.75;stroke-linecap:round;stroke-linejoin:round;stroke:rgb(0%,0%,0%);stroke-opacity:1;stroke-miterlimit:10;\" d=\"M 132.707031 359.636719 C 132.707031 362.625 128.222656 362.625 128.222656 359.636719 C 128.222656 356.652344 132.707031 356.652344 132.707031 359.636719 \"/>\n",
       "<path style=\"fill:none;stroke-width:0.75;stroke-linecap:round;stroke-linejoin:round;stroke:rgb(0%,0%,0%);stroke-opacity:1;stroke-miterlimit:10;\" d=\"M 132.707031 306.265625 C 132.707031 309.253906 128.222656 309.253906 128.222656 306.265625 C 128.222656 303.277344 132.707031 303.277344 132.707031 306.265625 \"/>\n",
       "<path style=\"fill:none;stroke-width:0.75;stroke-linecap:round;stroke-linejoin:round;stroke:rgb(0%,0%,0%);stroke-opacity:1;stroke-miterlimit:10;\" d=\"M 147.679688 354.875 C 147.679688 357.863281 143.199219 357.863281 143.199219 354.875 C 143.199219 351.886719 147.679688 351.886719 147.679688 354.875 \"/>\n",
       "<path style=\"fill:none;stroke-width:0.75;stroke-linecap:round;stroke-linejoin:round;stroke:rgb(0%,0%,0%);stroke-opacity:1;stroke-miterlimit:10;\" d=\"M 147.679688 382.898438 C 147.679688 385.886719 143.199219 385.886719 143.199219 382.898438 C 143.199219 379.910156 147.679688 379.910156 147.679688 382.898438 \"/>\n",
       "<path style=\"fill:none;stroke-width:0.75;stroke-linecap:round;stroke-linejoin:round;stroke:rgb(0%,0%,0%);stroke-opacity:1;stroke-miterlimit:10;\" d=\"M 147.679688 402.660156 C 147.679688 405.648438 143.199219 405.648438 143.199219 402.660156 C 143.199219 399.671875 147.679688 399.671875 147.679688 402.660156 \"/>\n",
       "<path style=\"fill:none;stroke-width:0.75;stroke-linecap:round;stroke-linejoin:round;stroke:rgb(0%,0%,0%);stroke-opacity:1;stroke-miterlimit:10;\" d=\"M 147.679688 388.449219 C 147.679688 391.4375 143.199219 391.4375 143.199219 388.449219 C 143.199219 385.460938 147.679688 385.460938 147.679688 388.449219 \"/>\n",
       "<path style=\"fill:none;stroke-width:0.75;stroke-linecap:round;stroke-linejoin:round;stroke:rgb(0%,0%,0%);stroke-opacity:1;stroke-miterlimit:10;\" d=\"M 162.65625 358.988281 C 162.65625 361.976562 158.171875 361.976562 158.171875 358.988281 C 158.171875 356 162.65625 356 162.65625 358.988281 \"/>\n",
       "<path style=\"fill:none;stroke-width:0.75;stroke-linecap:round;stroke-linejoin:round;stroke:rgb(0%,0%,0%);stroke-opacity:1;stroke-miterlimit:10;\" d=\"M 162.65625 389.652344 C 162.65625 392.640625 158.171875 392.640625 158.171875 389.652344 C 158.171875 386.664062 162.65625 386.664062 162.65625 389.652344 \"/>\n",
       "<path style=\"fill:none;stroke-width:0.75;stroke-linecap:round;stroke-linejoin:round;stroke:rgb(0%,0%,0%);stroke-opacity:1;stroke-miterlimit:10;\" d=\"M 162.65625 416.722656 C 162.65625 419.710938 158.171875 419.710938 158.171875 416.722656 C 158.171875 413.734375 162.65625 413.734375 162.65625 416.722656 \"/>\n",
       "<path style=\"fill:none;stroke-width:0.75;stroke-linecap:round;stroke-linejoin:round;stroke:rgb(0%,0%,0%);stroke-opacity:1;stroke-miterlimit:10;\" d=\"M 162.65625 354.410156 C 162.65625 357.398438 158.171875 357.398438 158.171875 354.410156 C 158.171875 351.421875 162.65625 351.421875 162.65625 354.410156 \"/>\n",
       "<path style=\"fill:none;stroke-width:0.75;stroke-linecap:round;stroke-linejoin:round;stroke:rgb(0%,0%,0%);stroke-opacity:1;stroke-miterlimit:10;\" d=\"M 177.628906 357.976562 C 177.628906 360.964844 173.148438 360.964844 173.148438 357.976562 C 173.148438 354.988281 177.628906 354.988281 177.628906 357.976562 \"/>\n",
       "<path style=\"fill:none;stroke-width:0.75;stroke-linecap:round;stroke-linejoin:round;stroke:rgb(0%,0%,0%);stroke-opacity:1;stroke-miterlimit:10;\" d=\"M 177.628906 411.226562 C 177.628906 414.214844 173.148438 414.214844 173.148438 411.226562 C 173.148438 408.238281 177.628906 408.238281 177.628906 411.226562 \"/>\n",
       "<path style=\"fill:none;stroke-width:0.75;stroke-linecap:round;stroke-linejoin:round;stroke:rgb(0%,0%,0%);stroke-opacity:1;stroke-miterlimit:10;\" d=\"M 177.628906 425.378906 C 177.628906 428.367188 173.148438 428.367188 173.148438 425.378906 C 173.148438 422.390625 177.628906 422.390625 177.628906 425.378906 \"/>\n",
       "<path style=\"fill:none;stroke-width:0.75;stroke-linecap:round;stroke-linejoin:round;stroke:rgb(0%,0%,0%);stroke-opacity:1;stroke-miterlimit:10;\" d=\"M 177.628906 342.5625 C 177.628906 345.550781 173.148438 345.550781 173.148438 342.5625 C 173.148438 339.574219 177.628906 339.574219 177.628906 342.5625 \"/>\n",
       "<path style=\"fill:none;stroke-width:0.75;stroke-linecap:round;stroke-linejoin:round;stroke:rgb(0%,0%,0%);stroke-opacity:1;stroke-miterlimit:10;\" d=\"M 192.605469 357.511719 C 192.605469 360.5 188.121094 360.5 188.121094 357.511719 C 188.121094 354.523438 192.605469 354.523438 192.605469 357.511719 \"/>\n",
       "<path style=\"fill:none;stroke-width:0.75;stroke-linecap:round;stroke-linejoin:round;stroke:rgb(0%,0%,0%);stroke-opacity:1;stroke-miterlimit:10;\" d=\"M 192.605469 397.242188 C 192.605469 400.230469 188.121094 400.230469 188.121094 397.242188 C 188.121094 394.253906 192.605469 394.253906 192.605469 397.242188 \"/>\n",
       "<path style=\"fill:none;stroke-width:0.75;stroke-linecap:round;stroke-linejoin:round;stroke:rgb(0%,0%,0%);stroke-opacity:1;stroke-miterlimit:10;\" d=\"M 192.605469 380.640625 C 192.605469 383.628906 188.121094 383.628906 188.121094 380.640625 C 188.121094 377.652344 192.605469 377.652344 192.605469 380.640625 \"/>\n",
       "<path style=\"fill:none;stroke-width:0.75;stroke-linecap:round;stroke-linejoin:round;stroke:rgb(0%,0%,0%);stroke-opacity:1;stroke-miterlimit:10;\" d=\"M 192.605469 395.082031 C 192.605469 398.070312 188.121094 398.070312 188.121094 395.082031 C 188.121094 392.09375 192.605469 392.09375 192.605469 395.082031 \"/>\n",
       "<path style=\"fill:none;stroke-width:0.75;stroke-linecap:round;stroke-linejoin:round;stroke:rgb(0%,0%,0%);stroke-opacity:1;stroke-miterlimit:10;\" d=\"M 207.578125 363.828125 C 207.578125 366.816406 203.097656 366.816406 203.097656 363.828125 C 203.097656 360.839844 207.578125 360.839844 207.578125 363.828125 \"/>\n",
       "<path style=\"fill:none;stroke-width:0.75;stroke-linecap:round;stroke-linejoin:round;stroke:rgb(0%,0%,0%);stroke-opacity:1;stroke-miterlimit:10;\" d=\"M 207.578125 407.910156 C 207.578125 410.898438 203.097656 410.898438 203.097656 407.910156 C 203.097656 404.921875 207.578125 404.921875 207.578125 407.910156 \"/>\n",
       "<path style=\"fill:none;stroke-width:0.75;stroke-linecap:round;stroke-linejoin:round;stroke:rgb(0%,0%,0%);stroke-opacity:1;stroke-miterlimit:10;\" d=\"M 207.578125 382.472656 C 207.578125 385.460938 203.097656 385.460938 203.097656 382.472656 C 203.097656 379.484375 207.578125 379.484375 207.578125 382.472656 \"/>\n",
       "<path style=\"fill:none;stroke-width:0.75;stroke-linecap:round;stroke-linejoin:round;stroke:rgb(0%,0%,0%);stroke-opacity:1;stroke-miterlimit:10;\" d=\"M 207.578125 420.203125 C 207.578125 423.191406 203.097656 423.191406 203.097656 420.203125 C 203.097656 417.214844 207.578125 417.214844 207.578125 420.203125 \"/>\n",
       "<path style=\"fill:none;stroke-width:0.75;stroke-linecap:round;stroke-linejoin:round;stroke:rgb(0%,0%,0%);stroke-opacity:1;stroke-miterlimit:10;\" d=\"M 222.554688 378.21875 C 222.554688 381.207031 218.070312 381.207031 218.070312 378.21875 C 218.070312 375.230469 222.554688 375.230469 222.554688 378.21875 \"/>\n",
       "<path style=\"fill:none;stroke-width:0.75;stroke-linecap:round;stroke-linejoin:round;stroke:rgb(0%,0%,0%);stroke-opacity:1;stroke-miterlimit:10;\" d=\"M 222.554688 420.613281 C 222.554688 423.601562 218.070312 423.601562 218.070312 420.613281 C 218.070312 417.625 222.554688 417.625 222.554688 420.613281 \"/>\n",
       "<path style=\"fill:none;stroke-width:0.75;stroke-linecap:round;stroke-linejoin:round;stroke:rgb(0%,0%,0%);stroke-opacity:1;stroke-miterlimit:10;\" d=\"M 222.554688 384.207031 C 222.554688 387.195312 218.070312 387.195312 218.070312 384.207031 C 218.070312 381.21875 222.554688 381.21875 222.554688 384.207031 \"/>\n",
       "<path style=\"fill:none;stroke-width:0.75;stroke-linecap:round;stroke-linejoin:round;stroke:rgb(0%,0%,0%);stroke-opacity:1;stroke-miterlimit:10;\" d=\"M 222.554688 339.324219 C 222.554688 342.3125 218.070312 342.3125 218.070312 339.324219 C 218.070312 336.335938 222.554688 336.335938 222.554688 339.324219 \"/>\n",
       "<path style=\"fill:none;stroke-width:0.75;stroke-linecap:round;stroke-linejoin:round;stroke:rgb(100%,0%,0%);stroke-opacity:1;stroke-miterlimit:10;\" d=\"M 55.59375 389.476562 L 70.566406 376.777344 L 85.542969 365.050781 L 100.515625 353.988281 L 115.488281 352.183594 L 130.464844 356.746094 L 145.4375 364.304688 L 160.414062 373.171875 L 175.386719 380.96875 L 190.363281 383.902344 L 205.335938 386.46875 L 220.3125 388.824219 \"/>\n",
       "<g style=\"fill:rgb(0%,0%,0%);fill-opacity:1;\">\n",
       "  <use xlink:href=\"#glyph2-19\" x=\"97.953125\" y=\"295.401367\"/>\n",
       "  <use xlink:href=\"#glyph2-20\" x=\"105.957031\" y=\"295.401367\"/>\n",
       "  <use xlink:href=\"#glyph2-7\" x=\"111.957031\" y=\"295.401367\"/>\n",
       "  <use xlink:href=\"#glyph2-8\" x=\"118.628906\" y=\"295.401367\"/>\n",
       "  <use xlink:href=\"#glyph2-2\" x=\"121.292969\" y=\"295.401367\"/>\n",
       "  <use xlink:href=\"#glyph2-18\" x=\"127.964844\" y=\"295.401367\"/>\n",
       "  <use xlink:href=\"#glyph2-21\" x=\"131.960938\" y=\"295.401367\"/>\n",
       "  <use xlink:href=\"#glyph2-14\" x=\"138.632812\" y=\"295.401367\"/>\n",
       "  <use xlink:href=\"#glyph2-20\" x=\"145.304688\" y=\"295.401367\"/>\n",
       "  <use xlink:href=\"#glyph2-7\" x=\"151.304688\" y=\"295.401367\"/>\n",
       "  <use xlink:href=\"#glyph2-12\" x=\"157.976562\" y=\"295.401367\"/>\n",
       "  <use xlink:href=\"#glyph2-4\" x=\"161.3125\" y=\"295.401367\"/>\n",
       "  <use xlink:href=\"#glyph2-14\" x=\"163.976562\" y=\"295.401367\"/>\n",
       "  <use xlink:href=\"#glyph2-22\" x=\"170.648438\" y=\"295.401367\"/>\n",
       "</g>\n",
       "<g style=\"fill:rgb(0%,0%,0%);fill-opacity:1;\">\n",
       "  <use xlink:href=\"#glyph3-1\" x=\"118.476562\" y=\"307.839844\"/>\n",
       "  <use xlink:href=\"#glyph3-2\" x=\"122.628906\" y=\"307.839844\"/>\n",
       "</g>\n",
       "<g style=\"fill:rgb(0%,0%,0%);fill-opacity:1;\">\n",
       "  <use xlink:href=\"#glyph3-1\" x=\"118.476562\" y=\"315.015625\"/>\n",
       "  <use xlink:href=\"#glyph3-3\" x=\"122.628906\" y=\"315.015625\"/>\n",
       "</g>\n",
       "<g style=\"fill:rgb(0%,0%,0%);fill-opacity:1;\">\n",
       "  <use xlink:href=\"#glyph3-3\" x=\"118.476562\" y=\"315.753906\"/>\n",
       "  <use xlink:href=\"#glyph3-4\" x=\"122.628906\" y=\"315.753906\"/>\n",
       "</g>\n",
       "<path style=\"fill:none;stroke-width:0.75;stroke-linecap:round;stroke-linejoin:round;stroke:rgb(0%,0%,0%);stroke-opacity:1;stroke-miterlimit:10;\" d=\"M 307.59375 443.042969 L 441.660156 443.042969 \"/>\n",
       "<path style=\"fill:none;stroke-width:0.75;stroke-linecap:round;stroke-linejoin:round;stroke:rgb(0%,0%,0%);stroke-opacity:1;stroke-miterlimit:10;\" d=\"M 307.59375 443.042969 L 307.59375 449.019531 \"/>\n",
       "<path style=\"fill:none;stroke-width:0.75;stroke-linecap:round;stroke-linejoin:round;stroke:rgb(0%,0%,0%);stroke-opacity:1;stroke-miterlimit:10;\" d=\"M 352.28125 443.042969 L 352.28125 449.019531 \"/>\n",
       "<path style=\"fill:none;stroke-width:0.75;stroke-linecap:round;stroke-linejoin:round;stroke:rgb(0%,0%,0%);stroke-opacity:1;stroke-miterlimit:10;\" d=\"M 396.96875 443.042969 L 396.96875 449.019531 \"/>\n",
       "<path style=\"fill:none;stroke-width:0.75;stroke-linecap:round;stroke-linejoin:round;stroke:rgb(0%,0%,0%);stroke-opacity:1;stroke-miterlimit:10;\" d=\"M 441.660156 443.042969 L 441.660156 449.019531 \"/>\n",
       "<g style=\"fill:rgb(0%,0%,0%);fill-opacity:1;\">\n",
       "  <use xlink:href=\"#glyph0-1\" x=\"297.59375\" y=\"463.992188\"/>\n",
       "  <use xlink:href=\"#glyph0-2\" x=\"303.12793\" y=\"463.992188\"/>\n",
       "  <use xlink:href=\"#glyph0-1\" x=\"305.894531\" y=\"463.992188\"/>\n",
       "  <use xlink:href=\"#glyph0-1\" x=\"311.428711\" y=\"463.992188\"/>\n",
       "</g>\n",
       "<g style=\"fill:rgb(0%,0%,0%);fill-opacity:1;\">\n",
       "  <use xlink:href=\"#glyph0-1\" x=\"342.28125\" y=\"463.992188\"/>\n",
       "  <use xlink:href=\"#glyph0-2\" x=\"347.81543\" y=\"463.992188\"/>\n",
       "  <use xlink:href=\"#glyph0-1\" x=\"350.582031\" y=\"463.992188\"/>\n",
       "  <use xlink:href=\"#glyph0-18\" x=\"356.116211\" y=\"463.992188\"/>\n",
       "</g>\n",
       "<g style=\"fill:rgb(0%,0%,0%);fill-opacity:1;\">\n",
       "  <use xlink:href=\"#glyph0-1\" x=\"386.96875\" y=\"463.992188\"/>\n",
       "  <use xlink:href=\"#glyph0-2\" x=\"392.50293\" y=\"463.992188\"/>\n",
       "  <use xlink:href=\"#glyph0-1\" x=\"395.269531\" y=\"463.992188\"/>\n",
       "  <use xlink:href=\"#glyph0-5\" x=\"400.803711\" y=\"463.992188\"/>\n",
       "</g>\n",
       "<g style=\"fill:rgb(0%,0%,0%);fill-opacity:1;\">\n",
       "  <use xlink:href=\"#glyph0-1\" x=\"431.660156\" y=\"463.992188\"/>\n",
       "  <use xlink:href=\"#glyph0-2\" x=\"437.194336\" y=\"463.992188\"/>\n",
       "  <use xlink:href=\"#glyph0-1\" x=\"439.960938\" y=\"463.992188\"/>\n",
       "  <use xlink:href=\"#glyph0-27\" x=\"445.495117\" y=\"463.992188\"/>\n",
       "</g>\n",
       "<path style=\"fill:none;stroke-width:0.75;stroke-linecap:round;stroke-linejoin:round;stroke:rgb(0%,0%,0%);stroke-opacity:1;stroke-miterlimit:10;\" d=\"M 301.003906 442.164062 L 301.003906 319.226562 \"/>\n",
       "<path style=\"fill:none;stroke-width:0.75;stroke-linecap:round;stroke-linejoin:round;stroke:rgb(0%,0%,0%);stroke-opacity:1;stroke-miterlimit:10;\" d=\"M 301.003906 442.164062 L 295.027344 442.164062 \"/>\n",
       "<path style=\"fill:none;stroke-width:0.75;stroke-linecap:round;stroke-linejoin:round;stroke:rgb(0%,0%,0%);stroke-opacity:1;stroke-miterlimit:10;\" d=\"M 301.003906 417.578125 L 295.027344 417.578125 \"/>\n",
       "<path style=\"fill:none;stroke-width:0.75;stroke-linecap:round;stroke-linejoin:round;stroke:rgb(0%,0%,0%);stroke-opacity:1;stroke-miterlimit:10;\" d=\"M 301.003906 392.988281 L 295.027344 392.988281 \"/>\n",
       "<path style=\"fill:none;stroke-width:0.75;stroke-linecap:round;stroke-linejoin:round;stroke:rgb(0%,0%,0%);stroke-opacity:1;stroke-miterlimit:10;\" d=\"M 301.003906 368.402344 L 295.027344 368.402344 \"/>\n",
       "<path style=\"fill:none;stroke-width:0.75;stroke-linecap:round;stroke-linejoin:round;stroke:rgb(0%,0%,0%);stroke-opacity:1;stroke-miterlimit:10;\" d=\"M 301.003906 343.816406 L 295.027344 343.816406 \"/>\n",
       "<path style=\"fill:none;stroke-width:0.75;stroke-linecap:round;stroke-linejoin:round;stroke:rgb(0%,0%,0%);stroke-opacity:1;stroke-miterlimit:10;\" d=\"M 301.003906 319.226562 L 295.027344 319.226562 \"/>\n",
       "<g style=\"fill:rgb(0%,0%,0%);fill-opacity:1;\">\n",
       "  <use xlink:href=\"#glyph1-1\" x=\"286.09375\" y=\"446.664062\"/>\n",
       "  <use xlink:href=\"#glyph1-21\" x=\"286.09375\" y=\"443.349609\"/>\n",
       "</g>\n",
       "<g style=\"fill:rgb(0%,0%,0%);fill-opacity:1;\">\n",
       "  <use xlink:href=\"#glyph1-1\" x=\"286.09375\" y=\"422.078125\"/>\n",
       "  <use xlink:href=\"#glyph1-14\" x=\"286.09375\" y=\"418.763672\"/>\n",
       "</g>\n",
       "<g style=\"fill:rgb(0%,0%,0%);fill-opacity:1;\">\n",
       "  <use xlink:href=\"#glyph1-1\" x=\"286.09375\" y=\"397.488281\"/>\n",
       "  <use xlink:href=\"#glyph1-4\" x=\"286.09375\" y=\"394.173828\"/>\n",
       "</g>\n",
       "<g style=\"fill:rgb(0%,0%,0%);fill-opacity:1;\">\n",
       "  <use xlink:href=\"#glyph1-2\" x=\"286.09375\" y=\"371.402344\"/>\n",
       "</g>\n",
       "<g style=\"fill:rgb(0%,0%,0%);fill-opacity:1;\">\n",
       "  <use xlink:href=\"#glyph1-4\" x=\"286.09375\" y=\"346.816406\"/>\n",
       "</g>\n",
       "<g style=\"fill:rgb(0%,0%,0%);fill-opacity:1;\">\n",
       "  <use xlink:href=\"#glyph1-14\" x=\"286.09375\" y=\"322.226562\"/>\n",
       "</g>\n",
       "<path style=\"fill:none;stroke-width:0.75;stroke-linecap:round;stroke-linejoin:round;stroke:rgb(0%,0%,0%);stroke-opacity:1;stroke-miterlimit:10;\" d=\"M 301.003906 443.042969 L 478.902344 443.042969 L 478.902344 301.003906 L 301.003906 301.003906 L 301.003906 443.042969 \"/>\n",
       "<g style=\"fill:rgb(0%,0%,0%);fill-opacity:1;\">\n",
       "  <use xlink:href=\"#glyph0-28\" x=\"368.953125\" y=\"487.894531\"/>\n",
       "  <use xlink:href=\"#glyph0-9\" x=\"374.487305\" y=\"487.894531\"/>\n",
       "  <use xlink:href=\"#glyph0-12\" x=\"380.021484\" y=\"487.894531\"/>\n",
       "  <use xlink:href=\"#glyph0-9\" x=\"384.998047\" y=\"487.894531\"/>\n",
       "  <use xlink:href=\"#glyph0-23\" x=\"390.532227\" y=\"487.894531\"/>\n",
       "  <use xlink:href=\"#glyph0-13\" x=\"393.84668\" y=\"487.894531\"/>\n",
       "  <use xlink:href=\"#glyph0-29\" x=\"399.380859\" y=\"487.894531\"/>\n",
       "  <use xlink:href=\"#glyph0-9\" x=\"404.915039\" y=\"487.894531\"/>\n",
       "</g>\n",
       "<g style=\"fill:rgb(0%,0%,0%);fill-opacity:1;\">\n",
       "  <use xlink:href=\"#glyph1-15\" x=\"262.191406\" y=\"423.023438\"/>\n",
       "  <use xlink:href=\"#glyph1-16\" x=\"262.191406\" y=\"416.384766\"/>\n",
       "  <use xlink:href=\"#glyph1-12\" x=\"262.191406\" y=\"413.618164\"/>\n",
       "  <use xlink:href=\"#glyph1-17\" x=\"262.191406\" y=\"408.083984\"/>\n",
       "  <use xlink:href=\"#glyph1-10\" x=\"262.191406\" y=\"402.549805\"/>\n",
       "  <use xlink:href=\"#glyph1-12\" x=\"262.191406\" y=\"397.015625\"/>\n",
       "  <use xlink:href=\"#glyph1-18\" x=\"262.191406\" y=\"391.481445\"/>\n",
       "  <use xlink:href=\"#glyph1-10\" x=\"262.191406\" y=\"388.166992\"/>\n",
       "  <use xlink:href=\"#glyph1-9\" x=\"262.191406\" y=\"382.632812\"/>\n",
       "  <use xlink:href=\"#glyph1-19\" x=\"262.191406\" y=\"380.422852\"/>\n",
       "  <use xlink:href=\"#glyph1-7\" x=\"262.191406\" y=\"375.446289\"/>\n",
       "  <use xlink:href=\"#glyph1-10\" x=\"262.191406\" y=\"369.912109\"/>\n",
       "  <use xlink:href=\"#glyph1-20\" x=\"262.191406\" y=\"364.37793\"/>\n",
       "  <use xlink:href=\"#glyph1-18\" x=\"262.191406\" y=\"361.611328\"/>\n",
       "  <use xlink:href=\"#glyph1-7\" x=\"262.191406\" y=\"358.296875\"/>\n",
       "  <use xlink:href=\"#glyph1-8\" x=\"262.191406\" y=\"352.762695\"/>\n",
       "  <use xlink:href=\"#glyph1-9\" x=\"262.191406\" y=\"347.786133\"/>\n",
       "  <use xlink:href=\"#glyph1-10\" x=\"262.191406\" y=\"345.576172\"/>\n",
       "  <use xlink:href=\"#glyph1-11\" x=\"262.191406\" y=\"340.041992\"/>\n",
       "  <use xlink:href=\"#glyph1-12\" x=\"262.191406\" y=\"334.507812\"/>\n",
       "  <use xlink:href=\"#glyph1-13\" x=\"262.191406\" y=\"328.973633\"/>\n",
       "  <use xlink:href=\"#glyph1-8\" x=\"262.191406\" y=\"326.763672\"/>\n",
       "</g>\n",
       "<path style=\"fill:none;stroke-width:0.75;stroke-linecap:round;stroke-linejoin:round;stroke:rgb(0%,0%,0%);stroke-opacity:1;stroke-miterlimit:10;\" d=\"M 474.554688 372.398438 C 474.554688 375.386719 470.070312 375.386719 470.070312 372.398438 C 470.070312 369.410156 474.554688 369.410156 474.554688 372.398438 \"/>\n",
       "<path style=\"fill:none;stroke-width:0.75;stroke-linecap:round;stroke-linejoin:round;stroke:rgb(0%,0%,0%);stroke-opacity:1;stroke-miterlimit:10;\" d=\"M 474.554688 378.074219 C 474.554688 381.0625 470.070312 381.0625 470.070312 378.074219 C 470.070312 375.085938 474.554688 375.085938 474.554688 378.074219 \"/>\n",
       "<path style=\"fill:none;stroke-width:0.75;stroke-linecap:round;stroke-linejoin:round;stroke:rgb(0%,0%,0%);stroke-opacity:1;stroke-miterlimit:10;\" d=\"M 474.554688 382.003906 C 474.554688 384.992188 470.070312 384.992188 470.070312 382.003906 C 470.070312 379.019531 474.554688 379.019531 474.554688 382.003906 \"/>\n",
       "<path style=\"fill:none;stroke-width:0.75;stroke-linecap:round;stroke-linejoin:round;stroke:rgb(0%,0%,0%);stroke-opacity:1;stroke-miterlimit:10;\" d=\"M 474.554688 370.164062 C 474.554688 373.152344 470.070312 373.152344 470.070312 370.164062 C 470.070312 367.175781 474.554688 367.175781 474.554688 370.164062 \"/>\n",
       "<path style=\"fill:none;stroke-width:0.75;stroke-linecap:round;stroke-linejoin:round;stroke:rgb(0%,0%,0%);stroke-opacity:1;stroke-miterlimit:10;\" d=\"M 435.488281 355.328125 C 435.488281 358.316406 431.007812 358.316406 431.007812 355.328125 C 431.007812 352.339844 435.488281 352.339844 435.488281 355.328125 \"/>\n",
       "<path style=\"fill:none;stroke-width:0.75;stroke-linecap:round;stroke-linejoin:round;stroke:rgb(0%,0%,0%);stroke-opacity:1;stroke-miterlimit:10;\" d=\"M 435.488281 361.207031 C 435.488281 364.195312 431.007812 364.195312 431.007812 361.207031 C 431.007812 358.21875 435.488281 358.21875 435.488281 361.207031 \"/>\n",
       "<path style=\"fill:none;stroke-width:0.75;stroke-linecap:round;stroke-linejoin:round;stroke:rgb(0%,0%,0%);stroke-opacity:1;stroke-miterlimit:10;\" d=\"M 435.488281 347.207031 C 435.488281 350.195312 431.007812 350.195312 431.007812 347.207031 C 431.007812 344.21875 435.488281 344.21875 435.488281 347.207031 \"/>\n",
       "<path style=\"fill:none;stroke-width:0.75;stroke-linecap:round;stroke-linejoin:round;stroke:rgb(0%,0%,0%);stroke-opacity:1;stroke-miterlimit:10;\" d=\"M 435.488281 362.703125 C 435.488281 365.691406 431.007812 365.691406 431.007812 362.703125 C 431.007812 359.714844 435.488281 359.714844 435.488281 362.703125 \"/>\n",
       "<path style=\"fill:none;stroke-width:0.75;stroke-linecap:round;stroke-linejoin:round;stroke:rgb(0%,0%,0%);stroke-opacity:1;stroke-miterlimit:10;\" d=\"M 404.238281 379.410156 C 404.238281 382.398438 399.753906 382.398438 399.753906 379.410156 C 399.753906 376.421875 404.238281 376.421875 404.238281 379.410156 \"/>\n",
       "<path style=\"fill:none;stroke-width:0.75;stroke-linecap:round;stroke-linejoin:round;stroke:rgb(0%,0%,0%);stroke-opacity:1;stroke-miterlimit:10;\" d=\"M 404.238281 323.53125 C 404.238281 326.519531 399.753906 326.519531 399.753906 323.53125 C 399.753906 320.542969 404.238281 320.542969 404.238281 323.53125 \"/>\n",
       "<path style=\"fill:none;stroke-width:0.75;stroke-linecap:round;stroke-linejoin:round;stroke:rgb(0%,0%,0%);stroke-opacity:1;stroke-miterlimit:10;\" d=\"M 404.238281 348.394531 C 404.238281 351.382812 399.753906 351.382812 399.753906 348.394531 C 399.753906 345.40625 404.238281 345.40625 404.238281 348.394531 \"/>\n",
       "<path style=\"fill:none;stroke-width:0.75;stroke-linecap:round;stroke-linejoin:round;stroke:rgb(0%,0%,0%);stroke-opacity:1;stroke-miterlimit:10;\" d=\"M 404.238281 332.515625 C 404.238281 335.503906 399.753906 335.503906 399.753906 332.515625 C 399.753906 329.527344 404.238281 329.527344 404.238281 332.515625 \"/>\n",
       "<path style=\"fill:none;stroke-width:0.75;stroke-linecap:round;stroke-linejoin:round;stroke:rgb(0%,0%,0%);stroke-opacity:1;stroke-miterlimit:10;\" d=\"M 380.800781 340.605469 C 380.800781 343.59375 376.316406 343.59375 376.316406 340.605469 C 376.316406 337.621094 380.800781 337.621094 380.800781 340.605469 \"/>\n",
       "<path style=\"fill:none;stroke-width:0.75;stroke-linecap:round;stroke-linejoin:round;stroke:rgb(0%,0%,0%);stroke-opacity:1;stroke-miterlimit:10;\" d=\"M 380.800781 315.335938 C 380.800781 318.324219 376.316406 318.324219 376.316406 315.335938 C 376.316406 312.347656 380.800781 312.347656 380.800781 315.335938 \"/>\n",
       "<path style=\"fill:none;stroke-width:0.75;stroke-linecap:round;stroke-linejoin:round;stroke:rgb(0%,0%,0%);stroke-opacity:1;stroke-miterlimit:10;\" d=\"M 380.800781 335.84375 C 380.800781 338.832031 376.316406 338.832031 376.316406 335.84375 C 376.316406 332.855469 380.800781 332.855469 380.800781 335.84375 \"/>\n",
       "<path style=\"fill:none;stroke-width:0.75;stroke-linecap:round;stroke-linejoin:round;stroke:rgb(0%,0%,0%);stroke-opacity:1;stroke-miterlimit:10;\" d=\"M 380.800781 355.84375 C 380.800781 358.832031 376.316406 358.832031 376.316406 355.84375 C 376.316406 352.855469 380.800781 352.855469 380.800781 355.84375 \"/>\n",
       "<path style=\"fill:none;stroke-width:0.75;stroke-linecap:round;stroke-linejoin:round;stroke:rgb(0%,0%,0%);stroke-opacity:1;stroke-miterlimit:10;\" d=\"M 365.171875 394.828125 C 365.171875 397.816406 360.691406 397.816406 360.691406 394.828125 C 360.691406 391.839844 365.171875 391.839844 365.171875 394.828125 \"/>\n",
       "<path style=\"fill:none;stroke-width:0.75;stroke-linecap:round;stroke-linejoin:round;stroke:rgb(0%,0%,0%);stroke-opacity:1;stroke-miterlimit:10;\" d=\"M 365.171875 421.671875 C 365.171875 424.660156 360.691406 424.660156 360.691406 421.671875 C 360.691406 418.683594 365.171875 418.683594 365.171875 421.671875 \"/>\n",
       "<path style=\"fill:none;stroke-width:0.75;stroke-linecap:round;stroke-linejoin:round;stroke:rgb(0%,0%,0%);stroke-opacity:1;stroke-miterlimit:10;\" d=\"M 365.171875 396.828125 C 365.171875 399.816406 360.691406 399.816406 360.691406 396.828125 C 360.691406 393.839844 365.171875 393.839844 365.171875 396.828125 \"/>\n",
       "<path style=\"fill:none;stroke-width:0.75;stroke-linecap:round;stroke-linejoin:round;stroke:rgb(0%,0%,0%);stroke-opacity:1;stroke-miterlimit:10;\" d=\"M 365.171875 395.867188 C 365.171875 398.855469 360.691406 398.855469 360.691406 395.867188 C 360.691406 392.878906 365.171875 392.878906 365.171875 395.867188 \"/>\n",
       "<path style=\"fill:none;stroke-width:0.75;stroke-linecap:round;stroke-linejoin:round;stroke:rgb(0%,0%,0%);stroke-opacity:1;stroke-miterlimit:10;\" d=\"M 357.359375 422.3125 C 357.359375 425.300781 352.878906 425.300781 352.878906 422.3125 C 352.878906 419.324219 357.359375 419.324219 357.359375 422.3125 \"/>\n",
       "<path style=\"fill:none;stroke-width:0.75;stroke-linecap:round;stroke-linejoin:round;stroke:rgb(0%,0%,0%);stroke-opacity:1;stroke-miterlimit:10;\" d=\"M 357.359375 400.285156 C 357.359375 403.273438 352.878906 403.273438 352.878906 400.285156 C 352.878906 397.296875 357.359375 397.296875 357.359375 400.285156 \"/>\n",
       "<path style=\"fill:none;stroke-width:0.75;stroke-linecap:round;stroke-linejoin:round;stroke:rgb(0%,0%,0%);stroke-opacity:1;stroke-miterlimit:10;\" d=\"M 357.359375 389.695312 C 357.359375 392.683594 352.878906 392.683594 352.878906 389.695312 C 352.878906 386.707031 357.359375 386.707031 357.359375 389.695312 \"/>\n",
       "<path style=\"fill:none;stroke-width:0.75;stroke-linecap:round;stroke-linejoin:round;stroke:rgb(0%,0%,0%);stroke-opacity:1;stroke-miterlimit:10;\" d=\"M 357.359375 428.714844 C 357.359375 431.703125 352.878906 431.703125 352.878906 428.714844 C 352.878906 425.726562 357.359375 425.726562 357.359375 428.714844 \"/>\n",
       "<path style=\"fill:none;stroke-width:0.75;stroke-linecap:round;stroke-linejoin:round;stroke:rgb(0%,0%,0%);stroke-opacity:1;stroke-miterlimit:10;\" d=\"M 357.359375 392.371094 C 357.359375 395.359375 352.878906 395.359375 352.878906 392.371094 C 352.878906 389.382812 357.359375 389.382812 357.359375 392.371094 \"/>\n",
       "<path style=\"fill:none;stroke-width:0.75;stroke-linecap:round;stroke-linejoin:round;stroke:rgb(0%,0%,0%);stroke-opacity:1;stroke-miterlimit:10;\" d=\"M 357.359375 378.90625 C 357.359375 381.894531 352.878906 381.894531 352.878906 378.90625 C 352.878906 375.917969 357.359375 375.917969 357.359375 378.90625 \"/>\n",
       "<path style=\"fill:none;stroke-width:0.75;stroke-linecap:round;stroke-linejoin:round;stroke:rgb(0%,0%,0%);stroke-opacity:1;stroke-miterlimit:10;\" d=\"M 357.359375 372.703125 C 357.359375 375.691406 352.878906 375.691406 352.878906 372.703125 C 352.878906 369.714844 357.359375 369.714844 357.359375 372.703125 \"/>\n",
       "<path style=\"fill:none;stroke-width:0.75;stroke-linecap:round;stroke-linejoin:round;stroke:rgb(0%,0%,0%);stroke-opacity:1;stroke-miterlimit:10;\" d=\"M 357.359375 359.917969 C 357.359375 362.90625 352.878906 362.90625 352.878906 359.917969 C 352.878906 356.929688 357.359375 356.929688 357.359375 359.917969 \"/>\n",
       "<path style=\"fill:none;stroke-width:0.75;stroke-linecap:round;stroke-linejoin:round;stroke:rgb(0%,0%,0%);stroke-opacity:1;stroke-miterlimit:10;\" d=\"M 365.171875 346.753906 C 365.171875 349.742188 360.691406 349.742188 360.691406 346.753906 C 360.691406 343.765625 365.171875 343.765625 365.171875 346.753906 \"/>\n",
       "<path style=\"fill:none;stroke-width:0.75;stroke-linecap:round;stroke-linejoin:round;stroke:rgb(0%,0%,0%);stroke-opacity:1;stroke-miterlimit:10;\" d=\"M 365.171875 376.480469 C 365.171875 379.46875 360.691406 379.46875 360.691406 376.480469 C 360.691406 373.492188 365.171875 373.492188 365.171875 376.480469 \"/>\n",
       "<path style=\"fill:none;stroke-width:0.75;stroke-linecap:round;stroke-linejoin:round;stroke:rgb(0%,0%,0%);stroke-opacity:1;stroke-miterlimit:10;\" d=\"M 365.171875 366.855469 C 365.171875 369.84375 360.691406 369.84375 360.691406 366.855469 C 360.691406 363.867188 365.171875 363.867188 365.171875 366.855469 \"/>\n",
       "<path style=\"fill:none;stroke-width:0.75;stroke-linecap:round;stroke-linejoin:round;stroke:rgb(0%,0%,0%);stroke-opacity:1;stroke-miterlimit:10;\" d=\"M 365.171875 344.164062 C 365.171875 347.152344 360.691406 347.152344 360.691406 344.164062 C 360.691406 341.179688 365.171875 341.179688 365.171875 344.164062 \"/>\n",
       "<path style=\"fill:none;stroke-width:0.75;stroke-linecap:round;stroke-linejoin:round;stroke:rgb(0%,0%,0%);stroke-opacity:1;stroke-miterlimit:10;\" d=\"M 380.800781 346.195312 C 380.800781 349.183594 376.316406 349.183594 376.316406 346.195312 C 376.316406 343.207031 380.800781 343.207031 380.800781 346.195312 \"/>\n",
       "<path style=\"fill:none;stroke-width:0.75;stroke-linecap:round;stroke-linejoin:round;stroke:rgb(0%,0%,0%);stroke-opacity:1;stroke-miterlimit:10;\" d=\"M 380.800781 365.941406 C 380.800781 368.929688 376.316406 368.929688 376.316406 365.941406 C 376.316406 362.953125 380.800781 362.953125 380.800781 365.941406 \"/>\n",
       "<path style=\"fill:none;stroke-width:0.75;stroke-linecap:round;stroke-linejoin:round;stroke:rgb(0%,0%,0%);stroke-opacity:1;stroke-miterlimit:10;\" d=\"M 380.800781 368.9375 C 380.800781 371.925781 376.316406 371.925781 376.316406 368.9375 C 376.316406 365.949219 380.800781 365.949219 380.800781 368.9375 \"/>\n",
       "<path style=\"fill:none;stroke-width:0.75;stroke-linecap:round;stroke-linejoin:round;stroke:rgb(0%,0%,0%);stroke-opacity:1;stroke-miterlimit:10;\" d=\"M 380.800781 400.015625 C 380.800781 403.003906 376.316406 403.003906 376.316406 400.015625 C 376.316406 397.027344 380.800781 397.027344 380.800781 400.015625 \"/>\n",
       "<path style=\"fill:none;stroke-width:0.75;stroke-linecap:round;stroke-linejoin:round;stroke:rgb(0%,0%,0%);stroke-opacity:1;stroke-miterlimit:10;\" d=\"M 404.238281 390.867188 C 404.238281 393.855469 399.753906 393.855469 399.753906 390.867188 C 399.753906 387.878906 404.238281 387.878906 404.238281 390.867188 \"/>\n",
       "<path style=\"fill:none;stroke-width:0.75;stroke-linecap:round;stroke-linejoin:round;stroke:rgb(0%,0%,0%);stroke-opacity:1;stroke-miterlimit:10;\" d=\"M 404.238281 362.671875 C 404.238281 365.660156 399.753906 365.660156 399.753906 362.671875 C 399.753906 359.683594 404.238281 359.683594 404.238281 362.671875 \"/>\n",
       "<path style=\"fill:none;stroke-width:0.75;stroke-linecap:round;stroke-linejoin:round;stroke:rgb(0%,0%,0%);stroke-opacity:1;stroke-miterlimit:10;\" d=\"M 404.238281 357.015625 C 404.238281 360.003906 399.753906 360.003906 399.753906 357.015625 C 399.753906 354.027344 404.238281 354.027344 404.238281 357.015625 \"/>\n",
       "<path style=\"fill:none;stroke-width:0.75;stroke-linecap:round;stroke-linejoin:round;stroke:rgb(0%,0%,0%);stroke-opacity:1;stroke-miterlimit:10;\" d=\"M 404.238281 362.042969 C 404.238281 365.03125 399.753906 365.03125 399.753906 362.042969 C 399.753906 359.054688 404.238281 359.054688 404.238281 362.042969 \"/>\n",
       "<path style=\"fill:none;stroke-width:0.75;stroke-linecap:round;stroke-linejoin:round;stroke:rgb(0%,0%,0%);stroke-opacity:1;stroke-miterlimit:10;\" d=\"M 435.488281 349.332031 C 435.488281 352.320312 431.007812 352.320312 431.007812 349.332031 C 431.007812 346.34375 435.488281 346.34375 435.488281 349.332031 \"/>\n",
       "<path style=\"fill:none;stroke-width:0.75;stroke-linecap:round;stroke-linejoin:round;stroke:rgb(0%,0%,0%);stroke-opacity:1;stroke-miterlimit:10;\" d=\"M 435.488281 365.289062 C 435.488281 368.277344 431.007812 368.277344 431.007812 365.289062 C 431.007812 362.300781 435.488281 362.300781 435.488281 365.289062 \"/>\n",
       "<path style=\"fill:none;stroke-width:0.75;stroke-linecap:round;stroke-linejoin:round;stroke:rgb(0%,0%,0%);stroke-opacity:1;stroke-miterlimit:10;\" d=\"M 435.488281 379.070312 C 435.488281 382.058594 431.007812 382.058594 431.007812 379.070312 C 431.007812 376.082031 435.488281 376.082031 435.488281 379.070312 \"/>\n",
       "<path style=\"fill:none;stroke-width:0.75;stroke-linecap:round;stroke-linejoin:round;stroke:rgb(0%,0%,0%);stroke-opacity:1;stroke-miterlimit:10;\" d=\"M 435.488281 367.324219 C 435.488281 370.3125 431.007812 370.3125 431.007812 367.324219 C 431.007812 364.335938 435.488281 364.335938 435.488281 367.324219 \"/>\n",
       "<path style=\"fill:none;stroke-width:0.75;stroke-linecap:round;stroke-linejoin:round;stroke:rgb(0%,0%,0%);stroke-opacity:1;stroke-miterlimit:10;\" d=\"M 474.554688 356.03125 C 474.554688 359.019531 470.070312 359.019531 470.070312 356.03125 C 470.070312 353.042969 474.554688 353.042969 474.554688 356.03125 \"/>\n",
       "<path style=\"fill:none;stroke-width:0.75;stroke-linecap:round;stroke-linejoin:round;stroke:rgb(0%,0%,0%);stroke-opacity:1;stroke-miterlimit:10;\" d=\"M 474.554688 367.375 C 474.554688 370.363281 470.070312 370.363281 470.070312 367.375 C 470.070312 364.386719 474.554688 364.386719 474.554688 367.375 \"/>\n",
       "<path style=\"fill:none;stroke-width:0.75;stroke-linecap:round;stroke-linejoin:round;stroke:rgb(0%,0%,0%);stroke-opacity:1;stroke-miterlimit:10;\" d=\"M 474.554688 358.394531 C 474.554688 361.382812 470.070312 361.382812 470.070312 358.394531 C 470.070312 355.40625 474.554688 355.40625 474.554688 358.394531 \"/>\n",
       "<path style=\"fill:none;stroke-width:0.75;stroke-linecap:round;stroke-linejoin:round;stroke:rgb(0%,0%,0%);stroke-opacity:1;stroke-miterlimit:10;\" d=\"M 474.554688 334.601562 C 474.554688 337.589844 470.070312 337.589844 470.070312 334.601562 C 470.070312 331.613281 474.554688 331.613281 474.554688 334.601562 \"/>\n",
       "<path style=\"fill:none;stroke-width:0.75;stroke-linecap:round;stroke-linejoin:round;stroke:rgb(100%,0%,0%);stroke-opacity:1;stroke-miterlimit:10;\" d=\"M 355.121094 392.839844 L 362.933594 379.226562 L 378.558594 351.46875 L 401.996094 356.5625 L 433.246094 360.894531 L 472.3125 365.792969 \"/>\n",
       "<g clip-path=\"url(#clip3)\" clip-rule=\"nonzero\">\n",
       "<path style=\"fill:none;stroke-width:0.75;stroke-linecap:round;stroke-linejoin:round;stroke:rgb(74.509804%,74.509804%,74.509804%);stroke-opacity:1;stroke-dasharray:0.75,2.25;stroke-miterlimit:10;\" d=\"M 301.003906 368.402344 L 478.902344 368.402344 \"/>\n",
       "</g>\n",
       "<g clip-path=\"url(#clip4)\" clip-rule=\"nonzero\">\n",
       "<path style=\"fill:none;stroke-width:0.75;stroke-linecap:round;stroke-linejoin:round;stroke:rgb(74.509804%,74.509804%,74.509804%);stroke-opacity:1;stroke-dasharray:0.75,2.25;stroke-miterlimit:10;\" d=\"M 307.59375 443.042969 L 307.59375 301.003906 \"/>\n",
       "</g>\n",
       "<path style=\"fill:none;stroke-width:0.75;stroke-linecap:round;stroke-linejoin:round;stroke:rgb(100%,0%,0%);stroke-opacity:1;stroke-dasharray:3,3;stroke-miterlimit:10;\" d=\"M 309.96875 431.09375 L 327.894531 431.09375 \"/>\n",
       "<g style=\"fill:rgb(0%,0%,0%);fill-opacity:1;\">\n",
       "  <use xlink:href=\"#glyph0-30\" x=\"336.859375\" y=\"434.527344\"/>\n",
       "  <use xlink:href=\"#glyph0-22\" x=\"344.045898\" y=\"434.527344\"/>\n",
       "  <use xlink:href=\"#glyph0-22\" x=\"349.580078\" y=\"434.527344\"/>\n",
       "  <use xlink:href=\"#glyph0-31\" x=\"355.114258\" y=\"434.527344\"/>\n",
       "  <use xlink:href=\"#glyph0-32\" x=\"360.09082\" y=\"434.527344\"/>\n",
       "  <use xlink:href=\"#glyph0-16\" x=\"361.992188\" y=\"434.527344\"/>\n",
       "  <use xlink:href=\"#glyph0-11\" x=\"366.96875\" y=\"434.527344\"/>\n",
       "  <use xlink:href=\"#glyph0-10\" x=\"369.735352\" y=\"434.527344\"/>\n",
       "  <use xlink:href=\"#glyph0-7\" x=\"375.269531\" y=\"434.527344\"/>\n",
       "  <use xlink:href=\"#glyph0-16\" x=\"377.479492\" y=\"434.527344\"/>\n",
       "  <use xlink:href=\"#glyph0-8\" x=\"382.456055\" y=\"434.527344\"/>\n",
       "  <use xlink:href=\"#glyph0-13\" x=\"385.222656\" y=\"434.527344\"/>\n",
       "  <use xlink:href=\"#glyph0-26\" x=\"390.756836\" y=\"434.527344\"/>\n",
       "  <use xlink:href=\"#glyph0-24\" x=\"396.291016\" y=\"434.527344\"/>\n",
       "  <use xlink:href=\"#glyph0-9\" x=\"401.267578\" y=\"434.527344\"/>\n",
       "</g>\n",
       "<path style=\"fill:none;stroke-width:0.75;stroke-linecap:round;stroke-linejoin:round;stroke:rgb(0%,0%,0%);stroke-opacity:1;stroke-miterlimit:10;\" d=\"M 478.902344 443.042969 L 478.902344 301.003906 \"/>\n",
       "<g style=\"fill:rgb(0%,0%,0%);fill-opacity:1;\">\n",
       "  <use xlink:href=\"#glyph2-1\" x=\"328.953125\" y=\"295.401367\"/>\n",
       "  <use xlink:href=\"#glyph2-2\" x=\"337.617188\" y=\"295.401367\"/>\n",
       "  <use xlink:href=\"#glyph2-3\" x=\"344.289062\" y=\"295.401367\"/>\n",
       "  <use xlink:href=\"#glyph2-4\" x=\"350.289062\" y=\"295.401367\"/>\n",
       "  <use xlink:href=\"#glyph2-5\" x=\"352.953125\" y=\"295.401367\"/>\n",
       "  <use xlink:href=\"#glyph2-6\" x=\"359.625\" y=\"295.401367\"/>\n",
       "  <use xlink:href=\"#glyph2-7\" x=\"366.296875\" y=\"295.401367\"/>\n",
       "  <use xlink:href=\"#glyph2-8\" x=\"372.96875\" y=\"295.401367\"/>\n",
       "  <use xlink:href=\"#glyph2-3\" x=\"375.632812\" y=\"295.401367\"/>\n",
       "  <use xlink:href=\"#glyph2-9\" x=\"381.632812\" y=\"295.401367\"/>\n",
       "  <use xlink:href=\"#glyph2-10\" x=\"384.96875\" y=\"295.401367\"/>\n",
       "  <use xlink:href=\"#glyph2-3\" x=\"390.96875\" y=\"295.401367\"/>\n",
       "  <use xlink:href=\"#glyph2-9\" x=\"396.96875\" y=\"295.401367\"/>\n",
       "  <use xlink:href=\"#glyph2-21\" x=\"400.304688\" y=\"295.401367\"/>\n",
       "  <use xlink:href=\"#glyph2-2\" x=\"406.976562\" y=\"295.401367\"/>\n",
       "  <use xlink:href=\"#glyph2-10\" x=\"413.648438\" y=\"295.401367\"/>\n",
       "  <use xlink:href=\"#glyph2-2\" x=\"419.648438\" y=\"295.401367\"/>\n",
       "  <use xlink:href=\"#glyph2-15\" x=\"426.320312\" y=\"295.401367\"/>\n",
       "  <use xlink:href=\"#glyph2-7\" x=\"430.316406\" y=\"295.401367\"/>\n",
       "  <use xlink:href=\"#glyph2-23\" x=\"436.988281\" y=\"295.401367\"/>\n",
       "  <use xlink:href=\"#glyph2-2\" x=\"443.660156\" y=\"295.401367\"/>\n",
       "</g>\n",
       "<g style=\"fill:rgb(0%,0%,0%);fill-opacity:1;\">\n",
       "  <use xlink:href=\"#glyph3-3\" x=\"381.546875\" y=\"316.910156\"/>\n",
       "  <use xlink:href=\"#glyph3-2\" x=\"385.699219\" y=\"316.910156\"/>\n",
       "</g>\n",
       "<g style=\"fill:rgb(0%,0%,0%);fill-opacity:1;\">\n",
       "  <use xlink:href=\"#glyph3-2\" x=\"460.324219\" y=\"336.175781\"/>\n",
       "  <use xlink:href=\"#glyph3-4\" x=\"464.476562\" y=\"336.175781\"/>\n",
       "</g>\n",
       "<g style=\"fill:rgb(0%,0%,0%);fill-opacity:1;\">\n",
       "  <use xlink:href=\"#glyph3-3\" x=\"404.984375\" y=\"325.105469\"/>\n",
       "  <use xlink:href=\"#glyph3-5\" x=\"409.136719\" y=\"325.105469\"/>\n",
       "</g>\n",
       "</g>\n",
       "</svg>\n"
      ],
      "text/plain": [
       "Plot with title “”"
      ]
     },
     "metadata": {
      "image/svg+xml": {
       "isolated": true
      }
     },
     "output_type": "display_data"
    }
   ],
   "source": [
    "#So here we see several key things. \n",
    "#Our data is scattered very closely to our linear regression line, indicating a good fit\n",
    "#now lets generate someother important graphs.\n",
    "par(mfrow=c(2,2))\n",
    "plot(lm54)"
   ]
  },
  {
   "cell_type": "code",
   "execution_count": 127,
   "metadata": {
    "collapsed": true
   },
   "outputs": [],
   "source": [
    "#We see a fairly random Fitted Values v Residuals graph, which is what we want in a good fit\n",
    "#If there was a pattern to that graph, it would indicate that the data would be better fitted by a different model\n",
    "#Further, our r-squared value is .9958. \n",
    "#Using these 3 facts, I believe that this model fits our data well for 54mb/s"
   ]
  },
  {
   "cell_type": "code",
   "execution_count": null,
   "metadata": {
    "collapsed": true
   },
   "outputs": [],
   "source": []
  }
 ],
 "metadata": {
  "kernelspec": {
   "display_name": "R",
   "language": "R",
   "name": "ir"
  },
  "language_info": {
   "codemirror_mode": "r",
   "file_extension": ".r",
   "mimetype": "text/x-r-source",
   "name": "R",
   "pygments_lexer": "r",
   "version": "3.2.2"
  }
 },
 "nbformat": 4,
 "nbformat_minor": 0
}
